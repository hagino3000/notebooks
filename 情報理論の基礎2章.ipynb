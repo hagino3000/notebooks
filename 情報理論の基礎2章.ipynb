{
 "metadata": {
  "name": "",
  "signature": "sha256:4902caf36427c0def13d5b6a308a66d386c95dc479a93b6a6dfa09fbfafb1053"
 },
 "nbformat": 3,
 "nbformat_minor": 0,
 "worksheets": [
  {
   "cells": [
    {
     "cell_type": "code",
     "collapsed": false,
     "input": [
      "%matplotlib inline\n",
      "import matplotlib.pyplot as plt\n",
      "from numpy import log2, zeros, linspace"
     ],
     "language": "python",
     "metadata": {},
     "outputs": [],
     "prompt_number": 13
    },
    {
     "cell_type": "markdown",
     "metadata": {},
     "source": [
      "- \u51fa\u73fe\u56de\u6570\u306e\u5927\u304d\u3044\u7269\u3001\u60c5\u5831\u91cf\u306f\u5c0f\u3055\u3044\n",
      "- \u51fa\u73fe\u56de\u6570\u306e\u5c0f\u3055\u3044\u7269\u3001\u60c5\u5831\u91cf\u306f\u5927\u304d\u3044\n",
      "\n",
      "\u3064\u307e\u308a\u6587\u5b57\u306e\u51fa\u73fe\u78ba\u7387\u306e\u9006\u6570\u306e\u5bfe\u6570\u3092\u7b26\u53f7\u9577\u3068\u3059\u308b\u306e\u304c\u52b9\u7387\u304c\u826f\u3044\u3002\n",
      "\u5bfe\u6570\u306e\u5e95\u306f\u306a\u3093\u3067\u3082\u826f\u3044\u304c\u3001\u30b3\u30f3\u30d4\u30e5\u30fc\u30bf\u30fc\u306e\u5834\u5408\u306f0\u30681\u3067\u7b26\u53f7\u304c\u8868\u73fe\u3055\u308c\u308b\u305f\u3081\u5e95\u306f2\u306b\u306a\u308b\u3002"
     ]
    },
    {
     "cell_type": "code",
     "collapsed": false,
     "input": [
      "# sigma(Pi * log2 (1/Pi)\n",
      "0.5 * log2(1/0.5) + 0.3 * log2(1/0.3) + 0.1 * log2(1/0.1) + 0.1 * log2(1/0.1)"
     ],
     "language": "python",
     "metadata": {},
     "outputs": [
      {
       "metadata": {},
       "output_type": "pyout",
       "prompt_number": 14,
       "text": [
        "1.6854752972273346"
       ]
      }
     ],
     "prompt_number": 14
    },
    {
     "cell_type": "code",
     "collapsed": false,
     "input": [
      "0.5 * log2(1/0.5) + 0.25 * log2(1/0.25) + 0.125 * log2(1/0.125) + 0.125 * log2(1/0.125)"
     ],
     "language": "python",
     "metadata": {},
     "outputs": [
      {
       "metadata": {},
       "output_type": "pyout",
       "prompt_number": 5,
       "text": [
        "1.75"
       ]
      }
     ],
     "prompt_number": 5
    },
    {
     "cell_type": "code",
     "collapsed": false,
     "input": [
      "# sigma(Pi * log2 (1/Qi)\n",
      "0.5 * log2(1/0.5) + 0.3 * log2(1/0.25) + 0.1 * log2(1/0.125) + 0.1 * log2(1/0.125)"
     ],
     "language": "python",
     "metadata": {},
     "outputs": [
      {
       "metadata": {},
       "output_type": "pyout",
       "prompt_number": 6,
       "text": [
        "1.7000000000000002"
       ]
      }
     ],
     "prompt_number": 6
    },
    {
     "cell_type": "code",
     "collapsed": false,
     "input": [
      "y = zeros(100)\n",
      "x = linspace(0, 1, 100)\n",
      "y = (x * log2(1/x)) + (1 - x)*log2(1/(1-x))\n",
      "plt.plot(x, y)\n",
      "#y2 = (x * log2(1/0.5)) + (1 - x)*log2(1/(1-0.5))\n",
      "#plot(x, y2)"
     ],
     "language": "python",
     "metadata": {},
     "outputs": [
      {
       "metadata": {},
       "output_type": "pyout",
       "prompt_number": 11,
       "text": [
        "[<matplotlib.lines.Line2D at 0x10b0e7250>]"
       ]
      },
      {
       "metadata": {},
       "output_type": "display_data",
       "png": "[encoded data removed]",
       "text": [
        "<matplotlib.figure.Figure at 0x10afb2f10>"
       ]
      }
     ],
     "prompt_number": 11
    }
   ],
   "metadata": {}
  }
 ]
}