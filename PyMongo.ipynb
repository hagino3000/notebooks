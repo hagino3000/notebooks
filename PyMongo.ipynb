{
 "cells": [
  {
   "cell_type": "code",
   "execution_count": 1,
   "metadata": {
    "collapsed": false
   },
   "outputs": [],
   "source": [
    "import uuid\n",
    "import datetime\n",
    "\n",
    "from pymongo import MongoClient, ASCENDING"
   ]
  },
  {
   "cell_type": "code",
   "execution_count": 2,
   "metadata": {
    "collapsed": false
   },
   "outputs": [
    {
     "data": {
      "text/plain": [
       "1890270"
      ]
     },
     "execution_count": 2,
     "metadata": {},
     "output_type": "execute_result"
    }
   ],
   "source": [
    "client = MongoClient('localhost')\n",
    "db = client['xxxxxxx']\n",
    "db.events.count()"
   ]
  },
  {
   "cell_type": "code",
   "execution_count": 5,
   "metadata": {
    "collapsed": false
   },
   "outputs": [
    {
     "name": "stdout",
     "output_type": "stream",
     "text": [
      "630090\n"
     ]
    }
   ],
   "source": [
    "from bson.code import Code\n",
    "mapper = Code(\"\"\"\n",
    "function() {\n",
    "    if (this.action == \"pv\") {\n",
    "        emit(this.user_id, this.date)\n",
    "    }\n",
    "}\n",
    "\"\"\")\n",
    "\n",
    "reducer = Code(\"\"\"\n",
    "function (key, values) {\n",
    "    var dates = [];\n",
    "    for (var i = 0; i < values.length; i++) {\n",
    "        if (dates.include(values[i])) {\n",
    "            dates.append(values[i])\n",
    "        }\n",
    "    }\n",
    "    return dates.length;\n",
    "}\n",
    "\"\"\")\n",
    "result = db.events.map_reduce(mapper, reducer, \"myresult\")\n",
    "print(result.count())\n",
    "\n",
    "db.drop_collection('myresult')"
   ]
  },
  {
   "cell_type": "code",
   "execution_count": 8,
   "metadata": {
    "collapsed": false
   },
   "outputs": [],
   "source": [
    "db.drop_collection('myresults')"
   ]
  },
  {
   "cell_type": "code",
   "execution_count": 5,
   "metadata": {
    "collapsed": false
   },
   "outputs": [],
   "source": [
    "db.users.create_index([(\"user_id\", ASCENDING)])\n",
    "db.users.create_index([(\"registered\", ASCENDING)])\n",
    "\n",
    "\n",
    "for _ in xrange(5):\n",
    "    user_id = uuid.uuid4()\n",
    "    user = {\n",
    "        \"user_id\": user_id,\n",
    "        \"registered\": datetime.datetime.now(),\n",
    "        \"hoge\": \"fugaaaaaaaaaaaaaaaaaa\",\n",
    "        \"created\": datetime.datetime.now(),\n",
    "        \"last_launched\": datetime.datetime.now(),\n",
    "        \"last_ip\": \"192.168.1.1\",\n",
    "        \"career\": u\"ソフトバンク\",\n",
    "        \"system\": \"7.0.1\",\n",
    "        \"model\": \"iphone6.1\",\n",
    "        \"location\": \"aaaaaaaaaaaaaaaaaaaaaaaaaaaaaa\"\n",
    "    }\n",
    "    print(user_id)\n",
    "    db.users.update({\"user_id\": user['user_id']}, user, True)"
   ]
  },
  {
   "cell_type": "code",
   "execution_count": 12,
   "metadata": {
    "collapsed": false
   },
   "outputs": [
    {
     "data": {
      "text/plain": [
       "UUID('d8e820c8-ae21-436a-ba1f-e50581a4be7e')"
      ]
     },
     "execution_count": 12,
     "metadata": {},
     "output_type": "execute_result"
    }
   ],
   "source": [
    "# uuid to uuid object\n",
    "instance = uuid.UUID('d8e820c8-ae21-436a-ba1f-e50581a4be7e')\n",
    "instance"
   ]
  }
 ],
 "metadata": {
  "kernelspec": {
   "display_name": "Python 2",
   "language": "python",
   "name": "python2"
  },
  "language_info": {
   "codemirror_mode": {
    "name": "ipython",
    "version": 2
   },
   "file_extension": ".py",
   "mimetype": "text/x-python",
   "name": "python",
   "nbconvert_exporter": "python",
   "pygments_lexer": "ipython2",
   "version": "2.7.9"
  }
 },
 "nbformat": 4,
 "nbformat_minor": 0
}
