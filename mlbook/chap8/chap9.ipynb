{
 "cells": [
  {
   "cell_type": "code",
   "execution_count": 2,
   "metadata": {
    "collapsed": false
   },
   "outputs": [],
   "source": [
    "df = pd.read_csv('./SMSSpamCollection', sep='\\t', names=[\"label\", \"message\"])"
   ]
  },
  {
   "cell_type": "code",
   "execution_count": 3,
   "metadata": {
    "collapsed": false
   },
   "outputs": [
    {
     "data": {
      "text/html": [
       "<div>\n",
       "<table border=\"1\" class=\"dataframe\">\n",
       "  <thead>\n",
       "    <tr style=\"text-align: right;\">\n",
       "      <th></th>\n",
       "      <th>label</th>\n",
       "      <th>message</th>\n",
       "    </tr>\n",
       "  </thead>\n",
       "  <tbody>\n",
       "    <tr>\n",
       "      <th>0</th>\n",
       "      <td>ham</td>\n",
       "      <td>Go until jurong point, crazy.. Available only ...</td>\n",
       "    </tr>\n",
       "    <tr>\n",
       "      <th>1</th>\n",
       "      <td>ham</td>\n",
       "      <td>Ok lar... Joking wif u oni...</td>\n",
       "    </tr>\n",
       "    <tr>\n",
       "      <th>2</th>\n",
       "      <td>spam</td>\n",
       "      <td>Free entry in 2 a wkly comp to win FA Cup fina...</td>\n",
       "    </tr>\n",
       "    <tr>\n",
       "      <th>3</th>\n",
       "      <td>ham</td>\n",
       "      <td>U dun say so early hor... U c already then say...</td>\n",
       "    </tr>\n",
       "    <tr>\n",
       "      <th>4</th>\n",
       "      <td>ham</td>\n",
       "      <td>Nah I don't think he goes to usf, he lives aro...</td>\n",
       "    </tr>\n",
       "  </tbody>\n",
       "</table>\n",
       "</div>"
      ],
      "text/plain": [
       "  label                                            message\n",
       "0   ham  Go until jurong point, crazy.. Available only ...\n",
       "1   ham                      Ok lar... Joking wif u oni...\n",
       "2  spam  Free entry in 2 a wkly comp to win FA Cup fina...\n",
       "3   ham  U dun say so early hor... U c already then say...\n",
       "4   ham  Nah I don't think he goes to usf, he lives aro..."
      ]
     },
     "execution_count": 3,
     "metadata": {},
     "output_type": "execute_result"
    }
   ],
   "source": [
    "df.head()"
   ]
  },
  {
   "cell_type": "code",
   "execution_count": 4,
   "metadata": {
    "collapsed": false
   },
   "outputs": [
    {
     "data": {
      "text/html": [
       "<div>\n",
       "<table border=\"1\" class=\"dataframe\">\n",
       "  <thead>\n",
       "    <tr style=\"text-align: right;\">\n",
       "      <th></th>\n",
       "      <th>label</th>\n",
       "      <th>message</th>\n",
       "    </tr>\n",
       "  </thead>\n",
       "  <tbody>\n",
       "    <tr>\n",
       "      <th>count</th>\n",
       "      <td>5572</td>\n",
       "      <td>5572</td>\n",
       "    </tr>\n",
       "    <tr>\n",
       "      <th>unique</th>\n",
       "      <td>2</td>\n",
       "      <td>5169</td>\n",
       "    </tr>\n",
       "    <tr>\n",
       "      <th>top</th>\n",
       "      <td>ham</td>\n",
       "      <td>Sorry, I'll call later</td>\n",
       "    </tr>\n",
       "    <tr>\n",
       "      <th>freq</th>\n",
       "      <td>4825</td>\n",
       "      <td>30</td>\n",
       "    </tr>\n",
       "  </tbody>\n",
       "</table>\n",
       "</div>"
      ],
      "text/plain": [
       "       label                 message\n",
       "count   5572                    5572\n",
       "unique     2                    5169\n",
       "top      ham  Sorry, I'll call later\n",
       "freq    4825                      30"
      ]
     },
     "execution_count": 4,
     "metadata": {},
     "output_type": "execute_result"
    }
   ],
   "source": [
    "df.describe()"
   ]
  },
  {
   "cell_type": "code",
   "execution_count": 5,
   "metadata": {
    "collapsed": true
   },
   "outputs": [],
   "source": [
    "from sklearn.cross_validation import train_test_split"
   ]
  },
  {
   "cell_type": "code",
   "execution_count": 6,
   "metadata": {
    "collapsed": true
   },
   "outputs": [],
   "source": [
    "X_train, X_test, y_train, y_test = train_test_split(list(df['message']), list(df['label']), test_size=0.1, random_state=42)"
   ]
  },
  {
   "cell_type": "code",
   "execution_count": 10,
   "metadata": {
    "collapsed": false
   },
   "outputs": [
    {
     "data": {
      "text/plain": [
       "Pipeline(steps=[('count', CountVectorizer(analyzer='word', binary=False, decode_error='strict',\n",
       "        dtype=<class 'numpy.int64'>, encoding='utf-8', input='content',\n",
       "        lowercase=True, max_df=1.0, max_features=None, min_df=1,\n",
       "        ngram_range=(1, 1), preprocessor=None, stop_words=None,\n",
       "        stri...inear_tf=False, use_idf=True)), ('clf', MultinomialNB(alpha=1.0, class_prior=None, fit_prior=True))])"
      ]
     },
     "execution_count": 10,
     "metadata": {},
     "output_type": "execute_result"
    }
   ],
   "source": [
    "from sklearn.feature_extraction.text import TfidfTransformer, CountVectorizer\n",
    "from sklearn.naive_bayes import MultinomialNB\n",
    "from sklearn.pipeline import Pipeline\n",
    "\n",
    "text_clf =Pipeline([\n",
    "        ('count', CountVectorizer()),\n",
    "        ('tfid', TfidfTransformer()),\n",
    "        ('clf', MultinomialNB())\n",
    "    ])\n",
    "\n",
    "text_clf.fit(X_train, y_train)"
   ]
  },
  {
   "cell_type": "code",
   "execution_count": 16,
   "metadata": {
    "collapsed": true
   },
   "outputs": [],
   "source": [
    "predicted = text_clf.predict(X_test)"
   ]
  },
  {
   "cell_type": "code",
   "execution_count": 18,
   "metadata": {
    "collapsed": false
   },
   "outputs": [
    {
     "name": "stdout",
     "output_type": "stream",
     "text": [
      "             precision    recall  f1-score   support\n",
      "\n",
      "        ham       0.95      1.00      0.98       485\n",
      "       spam       1.00      0.68      0.81        73\n",
      "\n",
      "avg / total       0.96      0.96      0.96       558\n",
      "\n"
     ]
    }
   ],
   "source": [
    "from sklearn import metrics\n",
    "print(metrics.classification_report(y_test, predicted))"
   ]
  },
  {
   "cell_type": "code",
   "execution_count": 19,
   "metadata": {
    "collapsed": false
   },
   "outputs": [
    {
     "data": {
      "text/plain": [
       "array([[485,   0],\n",
       "       [ 23,  50]])"
      ]
     },
     "execution_count": 19,
     "metadata": {},
     "output_type": "execute_result"
    }
   ],
   "source": [
    "metrics.confusion_matrix(y_test, predicted)"
   ]
  },
  {
   "cell_type": "code",
   "execution_count": 20,
   "metadata": {
    "collapsed": true
   },
   "outputs": [],
   "source": [
    "from sklearn.feature_extraction.text import TfidfVectorizer\n",
    "from sklearn.linear_model import SGDClassifier\n",
    "text_clf = Pipeline([\n",
    "        ('tfidf', TfidfVectorizer()),\n",
    "        ('clf', SGDClassifier(loss='hinge', penalty='l2', alpha=1e-3, n_iter=5, random_state=42))\n",
    "    ])"
   ]
  },
  {
   "cell_type": "code",
   "execution_count": 23,
   "metadata": {
    "collapsed": false
   },
   "outputs": [],
   "source": [
    "from sklearn.grid_search import GridSearchCV\n",
    "parameters = [{\n",
    "        'tfidf__use_idf': [True],\n",
    "        'tfidf__min_df': [1, 5, 10],\n",
    "        'tfidf__max_df': [0.4, 1.0],\n",
    "        'clf__alpha': [1e-2, 1e-3],\n",
    "        'clf__loss': ['hinge', 'log']\n",
    "}, {\n",
    "        'tfidf__use_idf': [False],\n",
    "        'clf__alpha': [1e-2, 1e-3],\n",
    "        'clf__loss': ['hinge', 'log']\n",
    "}]\n",
    "gs_clf = GridSearchCV(text_clf, parameters, n_jobs=-1, scoring='f1_micro')\n",
    "gs_clf = gs_clf.fit(X_train, y_train)"
   ]
  },
  {
   "cell_type": "code",
   "execution_count": 24,
   "metadata": {
    "collapsed": false
   },
   "outputs": [
    {
     "name": "stdout",
     "output_type": "stream",
     "text": [
      "0.866 (+/- 0.000) for {'clf__alpha': 0.01, 'tfidf__max_df': 0.4, 'tfidf__min_df': 1, 'clf__loss': 'hinge', 'tfidf__use_idf': True}\n",
      "0.866 (+/- 0.000) for {'clf__alpha': 0.01, 'tfidf__max_df': 0.4, 'tfidf__min_df': 5, 'clf__loss': 'hinge', 'tfidf__use_idf': True}\n",
      "0.866 (+/- 0.000) for {'clf__alpha': 0.01, 'tfidf__max_df': 0.4, 'tfidf__min_df': 10, 'clf__loss': 'hinge', 'tfidf__use_idf': True}\n",
      "0.866 (+/- 0.000) for {'clf__alpha': 0.01, 'tfidf__max_df': 1.0, 'tfidf__min_df': 1, 'clf__loss': 'hinge', 'tfidf__use_idf': True}\n",
      "0.866 (+/- 0.000) for {'clf__alpha': 0.01, 'tfidf__max_df': 1.0, 'tfidf__min_df': 5, 'clf__loss': 'hinge', 'tfidf__use_idf': True}\n",
      "0.866 (+/- 0.000) for {'clf__alpha': 0.01, 'tfidf__max_df': 1.0, 'tfidf__min_df': 10, 'clf__loss': 'hinge', 'tfidf__use_idf': True}\n",
      "0.866 (+/- 0.000) for {'clf__alpha': 0.01, 'tfidf__max_df': 0.4, 'tfidf__min_df': 1, 'clf__loss': 'log', 'tfidf__use_idf': True}\n",
      "0.866 (+/- 0.000) for {'clf__alpha': 0.01, 'tfidf__max_df': 0.4, 'tfidf__min_df': 5, 'clf__loss': 'log', 'tfidf__use_idf': True}\n",
      "0.866 (+/- 0.000) for {'clf__alpha': 0.01, 'tfidf__max_df': 0.4, 'tfidf__min_df': 10, 'clf__loss': 'log', 'tfidf__use_idf': True}\n",
      "0.866 (+/- 0.000) for {'clf__alpha': 0.01, 'tfidf__max_df': 1.0, 'tfidf__min_df': 1, 'clf__loss': 'log', 'tfidf__use_idf': True}\n",
      "0.866 (+/- 0.000) for {'clf__alpha': 0.01, 'tfidf__max_df': 1.0, 'tfidf__min_df': 5, 'clf__loss': 'log', 'tfidf__use_idf': True}\n",
      "0.866 (+/- 0.000) for {'clf__alpha': 0.01, 'tfidf__max_df': 1.0, 'tfidf__min_df': 10, 'clf__loss': 'log', 'tfidf__use_idf': True}\n",
      "0.976 (+/- 0.003) for {'clf__alpha': 0.001, 'tfidf__max_df': 0.4, 'tfidf__min_df': 1, 'clf__loss': 'hinge', 'tfidf__use_idf': True}\n",
      "0.980 (+/- 0.003) for {'clf__alpha': 0.001, 'tfidf__max_df': 0.4, 'tfidf__min_df': 5, 'clf__loss': 'hinge', 'tfidf__use_idf': True}\n",
      "0.978 (+/- 0.003) for {'clf__alpha': 0.001, 'tfidf__max_df': 0.4, 'tfidf__min_df': 10, 'clf__loss': 'hinge', 'tfidf__use_idf': True}\n",
      "0.976 (+/- 0.003) for {'clf__alpha': 0.001, 'tfidf__max_df': 1.0, 'tfidf__min_df': 1, 'clf__loss': 'hinge', 'tfidf__use_idf': True}\n",
      "0.980 (+/- 0.003) for {'clf__alpha': 0.001, 'tfidf__max_df': 1.0, 'tfidf__min_df': 5, 'clf__loss': 'hinge', 'tfidf__use_idf': True}\n",
      "0.978 (+/- 0.003) for {'clf__alpha': 0.001, 'tfidf__max_df': 1.0, 'tfidf__min_df': 10, 'clf__loss': 'hinge', 'tfidf__use_idf': True}\n",
      "0.919 (+/- 0.002) for {'clf__alpha': 0.001, 'tfidf__max_df': 0.4, 'tfidf__min_df': 1, 'clf__loss': 'log', 'tfidf__use_idf': True}\n",
      "0.941 (+/- 0.002) for {'clf__alpha': 0.001, 'tfidf__max_df': 0.4, 'tfidf__min_df': 5, 'clf__loss': 'log', 'tfidf__use_idf': True}\n",
      "0.952 (+/- 0.003) for {'clf__alpha': 0.001, 'tfidf__max_df': 0.4, 'tfidf__min_df': 10, 'clf__loss': 'log', 'tfidf__use_idf': True}\n",
      "0.919 (+/- 0.002) for {'clf__alpha': 0.001, 'tfidf__max_df': 1.0, 'tfidf__min_df': 1, 'clf__loss': 'log', 'tfidf__use_idf': True}\n",
      "0.941 (+/- 0.002) for {'clf__alpha': 0.001, 'tfidf__max_df': 1.0, 'tfidf__min_df': 5, 'clf__loss': 'log', 'tfidf__use_idf': True}\n",
      "0.952 (+/- 0.003) for {'clf__alpha': 0.001, 'tfidf__max_df': 1.0, 'tfidf__min_df': 10, 'clf__loss': 'log', 'tfidf__use_idf': True}\n",
      "0.866 (+/- 0.000) for {'clf__alpha': 0.01, 'tfidf__use_idf': False, 'clf__loss': 'hinge'}\n",
      "0.866 (+/- 0.000) for {'clf__alpha': 0.01, 'tfidf__use_idf': False, 'clf__loss': 'log'}\n",
      "0.975 (+/- 0.003) for {'clf__alpha': 0.001, 'tfidf__use_idf': False, 'clf__loss': 'hinge'}\n",
      "0.941 (+/- 0.004) for {'clf__alpha': 0.001, 'tfidf__use_idf': False, 'clf__loss': 'log'}\n"
     ]
    }
   ],
   "source": [
    "for params, mean_score, all_scores in gs_clf.grid_scores_:\n",
    "    print(\"{:.3f} (+/- {:.3f}) for {}\".format(mean_score, all_scores.std() / 2, params))"
   ]
  },
  {
   "cell_type": "code",
   "execution_count": 25,
   "metadata": {
    "collapsed": true
   },
   "outputs": [],
   "source": [
    "predicted = gs_clf.predict(X_test)"
   ]
  },
  {
   "cell_type": "code",
   "execution_count": 26,
   "metadata": {
    "collapsed": false
   },
   "outputs": [
    {
     "name": "stdout",
     "output_type": "stream",
     "text": [
      "             precision    recall  f1-score   support\n",
      "\n",
      "        ham       0.98      1.00      0.99       485\n",
      "       spam       1.00      0.85      0.92        73\n",
      "\n",
      "avg / total       0.98      0.98      0.98       558\n",
      "\n"
     ]
    }
   ],
   "source": [
    "print(metrics.classification_report(y_test, predicted))"
   ]
  },
  {
   "cell_type": "code",
   "execution_count": 29,
   "metadata": {
    "collapsed": false
   },
   "outputs": [],
   "source": [
    "from sklearn.externals import joblib\n",
    "#joblib.dump(gs_clf.best_estimator_, './model/spam_clf.pkl')"
   ]
  },
  {
   "cell_type": "code",
   "execution_count": 30,
   "metadata": {
    "collapsed": true
   },
   "outputs": [],
   "source": [
    "#clf = joblib.load('./model/spam_clf.pkl')"
   ]
  },
  {
   "cell_type": "code",
   "execution_count": null,
   "metadata": {
    "collapsed": true
   },
   "outputs": [],
   "source": []
  }
 ],
 "metadata": {
  "kernelspec": {
   "display_name": "Python 3",
   "language": "python",
   "name": "python3"
  },
  "language_info": {
   "codemirror_mode": {
    "name": "ipython",
    "version": 3
   },
   "file_extension": ".py",
   "mimetype": "text/x-python",
   "name": "python",
   "nbconvert_exporter": "python",
   "pygments_lexer": "ipython3",
   "version": "3.5.1"
  }
 },
 "nbformat": 4,
 "nbformat_minor": 0
}
