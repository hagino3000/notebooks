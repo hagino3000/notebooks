{
 "metadata": {
  "name": "Point Budget Test with Gaussian"
 },
 "nbformat": 3,
 "nbformat_minor": 0,
 "worksheets": [
  {
   "cells": [
    {
     "cell_type": "code",
     "collapsed": false,
     "input": [
      "from scipy import stats\n",
      "import math"
     ],
     "language": "python",
     "metadata": {},
     "outputs": [],
     "prompt_number": 43
    },
    {
     "cell_type": "code",
     "collapsed": false,
     "input": [
      "def gaussian_random(mu, sigma):\n",
      "    return stats.norm.rvs(mu, sigma)\n",
      "\n",
      "def calc_point(mu, sigma, max_limit):\n",
      "    def calc():\n",
      "        g = gaussian_random(mu, sigma)\n",
      "        g = round(g)\n",
      "        return g\n",
      "    while True:\n",
      "        ret = calc()\n",
      "        if ret >= 0 and ret <= max_limit:\n",
      "            return ret"
     ],
     "language": "python",
     "metadata": {},
     "outputs": [],
     "prompt_number": 7
    },
    {
     "cell_type": "code",
     "collapsed": false,
     "input": [
      "def point_test(mu, sigma, max_limit, count):\n",
      "    ret = []\n",
      "    for i in xrange(0, count):\n",
      "        ret.append(calc_point(mu, sigma, max_limit))\n",
      "    return ret"
     ],
     "language": "python",
     "metadata": {},
     "outputs": [],
     "prompt_number": 74
    },
    {
     "cell_type": "heading",
     "level": 3,
     "metadata": {},
     "source": [
      "\u30dd\u30a4\u30f3\u30c8\u767a\u884c\u30b7\u30df\u30e5\u30ec\u30fc\u30b7\u30e7\u30f3"
     ]
    },
    {
     "cell_type": "code",
     "collapsed": false,
     "input": [
      "# \u62bd\u9078\u56de\u6570\n",
      "TRY_COUNT = 5000\n",
      "# \u6700\u983b\u5024\n",
      "MU = 0\n",
      "# \u6a19\u6e96\u504f\u5dee\n",
      "SIGMA = 2.4\n",
      "# \u4e0a\u9650\u5024\n",
      "LIMIT = 10\n",
      "######################################################\n",
      "points = point_test(MU, SIGMA, LIMIT, TRY_COUNT);\n",
      "wins = len(filter(lambda x: x > 0, points))\n",
      "ret = hist(points, LIMIT * 2, rwidth=1)\n",
      "xlabel('Atari Point')\n",
      "ylabel('Count')\n",
      "point_sum = reduce(lambda x, y: x + y, points)\n",
      "print u\"\u62bd\u9078\u56de\u6570:%i\" % TRY_COUNT\n",
      "print u\"\u3042\u305f\u308a\u56de\u6570: %s, (%s%%)\" % (wins, 100.0*wins/len(points))\n",
      "print u\"\u767a\u884c\u30dd\u30a4\u30f3\u30c8\u6570:%i\" % point_sum\n",
      "print u\"\u30b3\u30b9\u30c8(\u5186):%s\" % (2.5 * point_sum)"
     ],
     "language": "python",
     "metadata": {},
     "outputs": [
      {
       "output_type": "stream",
       "stream": "stdout",
       "text": [
        "\u62bd\u9078\u56de\u6570:5000\n",
        "\u3042\u305f\u308a\u56de\u6570: 3614, (72.28%)\n",
        "\u767a\u884c\u30dd\u30a4\u30f3\u30c8\u6570:8359\n",
        "\u30b3\u30b9\u30c8(\u5186):20897.5\n"
       ]
      },
      {
       "output_type": "display_data",
       "png": "[encoded data removed]"
      }
     ],
     "prompt_number": 8
    },
    {
     "cell_type": "code",
     "collapsed": false,
     "input": [],
     "language": "python",
     "metadata": {},
     "outputs": []
    }
   ],
   "metadata": {}
  }
 ]
}