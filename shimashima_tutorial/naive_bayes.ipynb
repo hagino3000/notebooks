{
 "cells": [
  {
   "cell_type": "code",
   "execution_count": null,
   "metadata": {
    "collapsed": true
   },
   "outputs": [],
   "source": [
    "class NaiveBayes1(object):\n",
    "    \"\"\"\n",
    "    Naive Bayes class (1)\n",
    "    \"\"\"\n",
    "    def __init__(self):\n",
    "        self.pY_ = None # p(Y)\n",
    "        self.pXgY_ = None # p(X | Y)\n",
    "        \n",
    "    def fit(self, X, y):\n",
    "        n_samples = X.shape[0]\n",
    "        n_features = X.shape[1]\n",
    "        n_classes = 2\n",
    "        n_fvalues = 2\n",
    "        \n",
    "        if n_samples != len(y):\n",
    "            raise ValueError('Mismatched nuber of samples.')\n",
    "            \n",
    "        # クラス分布 p(y)を求める\n",
    "        nY = np.zeros(n_classes, dtype=int)\n",
    "        for i in range(n_samples):\n",
    "            nY[y[i]] += 1\n",
    "            \n",
    "        self.pY_ = np.empty(n_classes, dtype=float)\n",
    "        for i in range(n_classes):\n",
    "            self.pY_[i] = nY[i] / n_samples\n",
    "        \n",
    "        # 特徴の分布 p(Xi|Y) を求める\n",
    "        nXY = np.zeros((n_features, n_fvalues, n_classes), dtype=int)\n",
    "        for i in range(n_samples):\n",
    "            for j in range(n_features):\n",
    "                nXY[j, X[i, j], y[i]] += 1\n",
    "                \n",
    "        self.pXgY_ = np.empty((n_features, n_fvalues, n_classes),\n",
    "                      dtype=float)\n",
    "        for j in range(n_features): # 素性ごと\n",
    "            for xi in range(n_fvalues): # 素性の値ごと\n",
    "                for yi in range(n_classes): # クラス毎\n",
    "                    self.pXgY_[j, xi, yi] = nXY[j, xi, yi] / float(nY[yi])\n",
    "    \n",
    "    def predict(self, X):\n",
    "        # 入力、複数件のx\n",
    "        n_samples = X.shape[0]\n",
    "        n_features = X.shape[1]\n",
    "        n_classes = 2\n",
    "        n_fvalues = 2\n",
    "        \n",
    "        y = np.empty(n_samples, dtype=int)\n",
    "        \n",
    "        # 一件ごと事後確率 p(y|X) を求める\n",
    "        for i, xi in enumerate(X):\n",
    "            logpXY = np.log(self.pY_) + np.sum(np.log(self.pXgY_[np.arange(n_features), xi, :]), axis=0)\n",
    "            # predict class\n",
    "            y[i] = np.argmax(logpXY)\n",
    "        return y"
   ]
  },
  {
   "cell_type": "code",
   "execution_count": 3,
   "metadata": {
    "collapsed": false
   },
   "outputs": [],
   "source": [
    "from abc import ABCMeta, abstractmethod\n",
    "\n",
    "class BaseBinaryNaiveBayes(object, metaclass=ABCMeta):\n",
    "    @abstractmethod\n",
    "    def fit(self, X, y):\n",
    "        pass\n",
    "    \n",
    "    def predict(self, X):\n",
    "        # 入力、複数件のx\n",
    "        n_samples = X.shape[0]\n",
    "        n_features = X.shape[1]\n",
    "        n_classes = 2\n",
    "        n_fvalues = 2\n",
    "        \n",
    "        y = np.empty(n_samples, dtype=int)\n",
    "        \n",
    "        # 一件ごと事後確率 p(y|X) を求める\n",
    "        for i, xi in enumerate(X):\n",
    "            logpXY = np.log(self.pY_) + np.sum(np.log(self.pXgY_[np.arange(n_features), xi, :]), axis=0)\n",
    "            # predict class\n",
    "            y[i] = np.argmax(logpXY)\n",
    "        return y"
   ]
  },
  {
   "cell_type": "code",
   "execution_count": 4,
   "metadata": {
    "collapsed": true
   },
   "outputs": [],
   "source": [
    "class NaiveBayes1(BaseBinaryNaiveBayes):\n",
    "    def __init__(self):\n",
    "        super(NaiveBayes1, self).__init__()\n",
    "        \n",
    "    def fit(self, X, y):\n",
    "        # constants\n",
    "        n_samples = X.shape[0]\n",
    "        n_features = X.shape[1]\n",
    "        n_classes = 2\n",
    "        n_fvalues = 2\n",
    "\n",
    "        # check the size of y\n",
    "        if n_samples != len(y):\n",
    "            raise ValueError('Mismatched number of samples.')\n",
    "\n",
    "        # count up n[yi=y]\n",
    "        nY = np.sum(y[:, np.newaxis] == np.arange(n_classes)[np.newaxis, :], axis=0)\n",
    "        # calc pY_\n",
    "        self.pY_ = nY / n_samples\n",
    "\n",
    "        # count up n[x_ij=xj, yi=y]\n",
    "        ary_xi = np.arange(n_fvalues)[np.newaxis, np.newaxis, :, np.newaxis]\n",
    "        ary_yi = np.arange(n_classes)[np.newaxis, np.newaxis, np.newaxis, :]\n",
    "        ary_y = y[:, np.newaxis, np.newaxis, np.newaxis]\n",
    "        ary_X = X[:, :, np.newaxis, np.newaxis]\n",
    "\n",
    "        nXY = np.sum(np.logical_and(ary_X == ary_xi, ary_y == ary_yi), axis=0)\n",
    "\n",
    "        # calc pXgY_\n",
    "        self.pXgY_ = nXY / nY[np.newaxis, np.newaxis, :]"
   ]
  },
  {
   "cell_type": "code",
   "execution_count": 34,
   "metadata": {
    "collapsed": true
   },
   "outputs": [],
   "source": [
    "y = np.array([1,0,1,0,0,0,0,1,0,0,1,0,0,1,1])\n",
    "n_samples = len(y)"
   ]
  },
  {
   "cell_type": "code",
   "execution_count": 22,
   "metadata": {
    "collapsed": false
   },
   "outputs": [],
   "source": [
    "ary_y = y[:, np.newaxis]"
   ]
  },
  {
   "cell_type": "code",
   "execution_count": 23,
   "metadata": {
    "collapsed": false
   },
   "outputs": [
    {
     "data": {
      "text/plain": [
       "array([[1],\n",
       "       [0],\n",
       "       [1],\n",
       "       [0],\n",
       "       [0],\n",
       "       [0],\n",
       "       [0],\n",
       "       [1],\n",
       "       [0],\n",
       "       [0],\n",
       "       [1],\n",
       "       [0],\n",
       "       [0],\n",
       "       [1],\n",
       "       [1]])"
      ]
     },
     "execution_count": 23,
     "metadata": {},
     "output_type": "execute_result"
    }
   ],
   "source": [
    "ary_y"
   ]
  },
  {
   "cell_type": "code",
   "execution_count": 29,
   "metadata": {
    "collapsed": false
   },
   "outputs": [
    {
     "data": {
      "text/plain": [
       "array([[0, 1]])"
      ]
     },
     "execution_count": 29,
     "metadata": {},
     "output_type": "execute_result"
    }
   ],
   "source": [
    "n_classes = 2\n",
    "ary_yi = np.arange(n_classes)[np.newaxis, :]\n",
    "ary_yi"
   ]
  },
  {
   "cell_type": "code",
   "execution_count": 28,
   "metadata": {
    "collapsed": false
   },
   "outputs": [
    {
     "data": {
      "text/plain": [
       "array([[False,  True],\n",
       "       [ True, False],\n",
       "       [False,  True],\n",
       "       [ True, False],\n",
       "       [ True, False],\n",
       "       [ True, False],\n",
       "       [ True, False],\n",
       "       [False,  True],\n",
       "       [ True, False],\n",
       "       [ True, False],\n",
       "       [False,  True],\n",
       "       [ True, False],\n",
       "       [ True, False],\n",
       "       [False,  True],\n",
       "       [False,  True]], dtype=bool)"
      ]
     },
     "execution_count": 28,
     "metadata": {},
     "output_type": "execute_result"
    }
   ],
   "source": [
    "cmp_y = (ary_y == ary_yi)\n",
    "cmp_y"
   ]
  },
  {
   "cell_type": "code",
   "execution_count": 32,
   "metadata": {
    "collapsed": false
   },
   "outputs": [
    {
     "data": {
      "text/plain": [
       "array([9, 6])"
      ]
     },
     "execution_count": 32,
     "metadata": {},
     "output_type": "execute_result"
    }
   ],
   "source": [
    "np.sum(cmp_y, axis=0)"
   ]
  },
  {
   "cell_type": "code",
   "execution_count": 35,
   "metadata": {
    "collapsed": false
   },
   "outputs": [
    {
     "data": {
      "text/plain": [
       "array([ 0.6,  0.4])"
      ]
     },
     "execution_count": 35,
     "metadata": {},
     "output_type": "execute_result"
    }
   ],
   "source": [
    "np.sum(cmp_y, axis=0)/n_samples"
   ]
  },
  {
   "cell_type": "code",
   "execution_count": null,
   "metadata": {
    "collapsed": true
   },
   "outputs": [],
   "source": []
  }
 ],
 "metadata": {
  "kernelspec": {
   "display_name": "Python 3",
   "language": "python",
   "name": "python3"
  },
  "language_info": {
   "codemirror_mode": {
    "name": "ipython",
    "version": 3
   },
   "file_extension": ".py",
   "mimetype": "text/x-python",
   "name": "python",
   "nbconvert_exporter": "python",
   "pygments_lexer": "ipython3",
   "version": "3.5.2"
  }
 },
 "nbformat": 4,
 "nbformat_minor": 0
}
