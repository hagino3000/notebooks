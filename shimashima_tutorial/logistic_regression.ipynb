{
 "cells": [
  {
   "cell_type": "markdown",
   "metadata": {},
   "source": [
    "## シグモイド関数\n",
    "\n",
    "http://www.kamishima.net/mlmpyja/lr/sigmoid.html"
   ]
  },
  {
   "cell_type": "code",
   "execution_count": 11,
   "metadata": {
    "collapsed": false
   },
   "outputs": [
    {
     "data": {
      "text/plain": [
       "array([ 0.5       ,  0.73105858,  0.26894142])"
      ]
     },
     "execution_count": 11,
     "metadata": {},
     "output_type": "execute_result"
    }
   ],
   "source": [
    "@np.vectorize\n",
    "def sigmoid(x):\n",
    "    sigmoid_range = 34.538776394910684\n",
    "    \n",
    "    if x <= -sigmoid_range:\n",
    "        return 1e-15\n",
    "    if x >= sigmoid_range:\n",
    "        return 1.0 - 1e-15\n",
    "    \n",
    "    return 1.0/(1.0 + np.exp(-x))\n",
    "\n",
    "sigmoid([0, 1, -1])"
   ]
  },
  {
   "cell_type": "code",
   "execution_count": 10,
   "metadata": {
    "collapsed": false
   },
   "outputs": [
    {
     "data": {
      "text/plain": [
       "array([ 0.5       ,  0.73105858,  0.26894142])"
      ]
     },
     "execution_count": 10,
     "metadata": {},
     "output_type": "execute_result"
    }
   ],
   "source": [
    "def sigmoid(x):\n",
    "    # restrict domain of sigmoid function within [1e-15, 1 - 1e-15]\n",
    "    sigmoid_range = 34.538776394910684\n",
    "    x = np.clip(x, -sigmoid_range, sigmoid_range)\n",
    "    return 1.0 / (1.0 + np.exp(-x))\n",
    "\n",
    "sigmoid([0, 1, -1])"
   ]
  },
  {
   "cell_type": "code",
   "execution_count": null,
   "metadata": {
    "collapsed": true
   },
   "outputs": [],
   "source": []
  }
 ],
 "metadata": {
  "kernelspec": {
   "display_name": "Python 3",
   "language": "python",
   "name": "python3"
  },
  "language_info": {
   "codemirror_mode": {
    "name": "ipython",
    "version": 3
   },
   "file_extension": ".py",
   "mimetype": "text/x-python",
   "name": "python",
   "nbconvert_exporter": "python",
   "pygments_lexer": "ipython3",
   "version": "3.5.2"
  }
 },
 "nbformat": 4,
 "nbformat_minor": 0
}
