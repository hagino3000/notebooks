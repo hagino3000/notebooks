{
 "cells": [
  {
   "cell_type": "markdown",
   "metadata": {},
   "source": [
    "# CTOからの挑戦状 2014\n",
    "\n",
    "- $m$ クーポンの種類 $i = 1,....m$\n",
    "- $CouponPrice_i$ クーポンの価格\n",
    "- $CouponPosessions_i$ クーポンの手持ち数\n",
    "- $CouponUse_i \\geq 0$ クーポンの利用枚数\n",
    "- $TotalPrice$ 支払い金額\n",
    "\n",
    "制約\n",
    "- $\\sum_i CouponPrice_iCouponUse_i \\leq TotalPrice$\n",
    "- $CouponUse_i \\leq CouponPosessions_i$"
   ]
  },
  {
   "cell_type": "code",
   "execution_count": 1,
   "metadata": {
    "collapsed": true
   },
   "outputs": [],
   "source": [
    "import cvxpy"
   ]
  },
  {
   "cell_type": "code",
   "execution_count": 49,
   "metadata": {
    "collapsed": true
   },
   "outputs": [],
   "source": [
    "m = 3\n",
    "coupon_price = [50, 100, 500]"
   ]
  },
  {
   "cell_type": "code",
   "execution_count": 52,
   "metadata": {
    "collapsed": true
   },
   "outputs": [],
   "source": [
    "def solve(coupon_posessions, total_price):\n",
    "    \"\"\"\n",
    "    金額と手持ちのクーポンから、どのクーポンを何枚使うかを返す\n",
    "    \n",
    "    Params\n",
    "    ------\n",
    "    coupon_posessions: list[int]\n",
    "        クーポン所持数\n",
    "    total_price: int\n",
    "        購入金額\n",
    "        \n",
    "    Returns\n",
    "    -------\n",
    "    coupon_use: list[int]\n",
    "        クーポン毎の使用数\n",
    "    \"\"\"\n",
    "    coupon_use = cvxpy.Variable(m)\n",
    "    coupon_amount = coupon_use.T*coupon_price\n",
    "    \n",
    "    # 少ないクーポンでクーポン使用合計金額を最大化する\n",
    "    subject = coupon_amount - sum(coupon_use)\n",
    "    prob = cvxpy.Problem(cvxpy.Maximize(subject), [\n",
    "               coupon_amount <= total_price,    # 合計額を越えてクーポンは使えない\n",
    "               coupon_use == cvxpy.Int(m),      # クーポン使用数は整数\n",
    "               coupon_use >= 0,                 # クーポン使用数はゼロ以上\n",
    "               coupon_use <= coupon_posessions, # クーポン使用数は手持ちクーポン以下\n",
    "               sum(coupon_use) == cvxpy.Int(1)\n",
    "              ])\n",
    "    prob.solve()\n",
    "    # 0.999999とか出るので近い整数に丸める\n",
    "    return np.rint(coupon_use.value.A.flatten()).astype(int).tolist()"
   ]
  },
  {
   "cell_type": "markdown",
   "metadata": {},
   "source": [
    "## テストケース"
   ]
  },
  {
   "cell_type": "code",
   "execution_count": 51,
   "metadata": {
    "collapsed": false
   },
   "outputs": [],
   "source": [
    "assert(solve([0,0,0], 100) == [0,0,0])\n",
    "assert(solve([2,1,0], 100) == [0,1,0])\n",
    "assert(solve([3,5,1], 470) == [1,4,0])\n",
    "assert(solve([6,5,2], 1230) == [0,2,2])"
   ]
  },
  {
   "cell_type": "code",
   "execution_count": null,
   "metadata": {
    "collapsed": true
   },
   "outputs": [],
   "source": []
  }
 ],
 "metadata": {
  "kernelspec": {
   "display_name": "Python 2",
   "language": "python",
   "name": "python2"
  },
  "language_info": {
   "codemirror_mode": {
    "name": "ipython",
    "version": 2
   },
   "file_extension": ".py",
   "mimetype": "text/x-python",
   "name": "python",
   "nbconvert_exporter": "python",
   "pygments_lexer": "ipython2",
   "version": "2.7.9"
  }
 },
 "nbformat": 4,
 "nbformat_minor": 0
}
