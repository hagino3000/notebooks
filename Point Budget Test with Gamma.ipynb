{
 "metadata": {
  "name": "",
  "signature": "sha256:efadf6fe7a3778e814cac49543fe5d32bd2c59cd310c871191e9ac1fe75f3da3"
 },
 "nbformat": 3,
 "nbformat_minor": 0,
 "worksheets": [
  {
   "cells": [
    {
     "cell_type": "code",
     "collapsed": false,
     "input": [
      "from scipy import stats\n",
      "import matplotlib.pylab as plt\n",
      "import math\n",
      "from random import random"
     ],
     "language": "python",
     "metadata": {},
     "outputs": [],
     "prompt_number": 18
    },
    {
     "cell_type": "code",
     "collapsed": false,
     "input": [
      "def gamma_random(alpha):\n",
      "    \"\"\"\n",
      "    \u30ac\u30f3\u30de\u5206\u5e03\u306b\u306a\u3089\u3046\u4e71\u6570\u3092\u751f\u6210\u3059\u308b\n",
      "    \u53c2\u8003 http://www2.econ.osaka-u.ac.jp/~tanizaki/cv/papers/gamma_j.pdf\n",
      "    \"\"\"\n",
      "    c1 = math.e/(alpha + math.e)\n",
      "    ret = 0.0\n",
      "    while True:\n",
      "        u1 = random()\n",
      "        u2 = random()\n",
      "        if u1 <= c1:\n",
      "            ret = (u1/c1) ** 0.5\n",
      "            if u2 <= math.exp(-1 * ret):\n",
      "                return ret\n",
      "        else:\n",
      "            ret = -1 * math.log((1 - u1)/(c1 * alpha))\n",
      "            if u2 <= ret ** (alpha - 1):\n",
      "                return ret\n",
      "\n",
      "def calc_point(alpha, sigma, norm, max_limit):\n",
      "    def calc():\n",
      "        ret = (gamma_random(alpha))\n",
      "        ret = ret - 0.5\n",
      "        ret = sigma * ret\n",
      "        ret = ret + norm\n",
      "        ret = round(ret)\n",
      "        ret = max(ret, 0) # negative value to zero\n",
      "        return ret\n",
      "    ret = max_limit + 1;\n",
      "    while ret > max_limit: #\u4e0a\u9650\u3092\u8d8a\u3048\u3066\u3044\u305f\u3089\u3084\u308a\u306a\u304a\u3057\n",
      "        ret = calc() \n",
      "        \n",
      "    return ret"
     ],
     "language": "python",
     "metadata": {},
     "outputs": [],
     "prompt_number": 19
    },
    {
     "cell_type": "code",
     "collapsed": false,
     "input": [
      "def gannma_random_test(alpha, count):\n",
      "    ret = []\n",
      "    print(\"Alpha = %s\" % alpha)\n",
      "    for i in xrange(0, count):\n",
      "        ret.append(gamma_random(alpha))\n",
      "    return ret\n",
      "        \n",
      "ret = plt.hist(gannma_random_test(0.99, 2000), 100)"
     ],
     "language": "python",
     "metadata": {},
     "outputs": [
      {
       "output_type": "stream",
       "stream": "stdout",
       "text": [
        "Alpha = 0.99\n"
       ]
      },
      {
       "metadata": {},
       "output_type": "display_data",
       "png": "[encoded data removed]",
       "text": [
        "<matplotlib.figure.Figure at 0x47cb9d0>"
       ]
      }
     ],
     "prompt_number": 20
    },
    {
     "cell_type": "code",
     "collapsed": false,
     "input": [
      "def point_test(alpha, sigma, norm, max_limit, count):\n",
      "    ret = []\n",
      "    for i in xrange(0, count):\n",
      "        ret.append(calc_point(alpha, sigma, norm, max_limit))\n",
      "    return ret"
     ],
     "language": "python",
     "metadata": {},
     "outputs": [],
     "prompt_number": 21
    },
    {
     "cell_type": "heading",
     "level": 3,
     "metadata": {},
     "source": [
      "\u30dd\u30a4\u30f3\u30c8\u767a\u884c\u30b7\u30df\u30e5\u30ec\u30fc\u30b7\u30e7\u30f3"
     ]
    },
    {
     "cell_type": "code",
     "collapsed": false,
     "input": [
      "# \u62bd\u9078\u56de\u6570\n",
      "TRY_COUNT = 5000\n",
      "# \u5206\u5e03\u306e\u304b\u305f\u3061(0 < ALPHA <= 1)\n",
      "ALPHA = 0.99\n",
      "# \u3070\u3089\u3064\u304d\u306e\u5ea6\u5408\u3044\n",
      "SIGMA = 1.4\n",
      "# \u5c71\u306e\u3044\u3061\n",
      "NORM = -0.5\n",
      "# \u4e0a\u9650\u5024\n",
      "LIMIT = 10\n",
      "######################################################\n",
      "points = point_test(ALPHA, SIGMA, NORM, LIMIT, TRY_COUNT);\n",
      "wins = len(filter(lambda x: x > 0, points))\n",
      "ret = plt.hist(points, LIMIT * 2, rwidth=1)\n",
      "plt.ylabel(u'Count')\n",
      "plt.xlabel(u'Atari Point')\n",
      "point_sum = reduce(lambda x, y: x + y, points)\n",
      "print u\"\u62bd\u9078\u56de\u6570:%i\" % TRY_COUNT\n",
      "print u\"\u3042\u305f\u308a\u56de\u6570: %s, (%s%%)\" % (wins, 100.0*wins/len(points))\n",
      "print u\"\u767a\u884c\u30dd\u30a4\u30f3\u30c8\u6570:%i\" % point_sum\n",
      "print u\"\u30b3\u30b9\u30c8(\u5186):%s\" % (2.5 * point_sum)\n",
      "print u\"1\u56de\u3042\u305f\u308a\u30b3\u30b9\u30c8(\u5186):%s\" % (2.5 * point_sum / TRY_COUNT)"
     ],
     "language": "python",
     "metadata": {},
     "outputs": [
      {
       "output_type": "stream",
       "stream": "stdout",
       "text": [
        "\u62bd\u9078\u56de\u6570:5000\n",
        "\u3042\u305f\u308a\u56de\u6570: 1718, (34.36%)\n",
        "\u767a\u884c\u30dd\u30a4\u30f3\u30c8\u6570:3304\n",
        "\u30b3\u30b9\u30c8(\u5186):8260.0\n",
        "1\u56de\u3042\u305f\u308a\u30b3\u30b9\u30c8(\u5186):1.652\n"
       ]
      },
      {
       "metadata": {},
       "output_type": "display_data",
       "png": "[encoded data removed]",
       "text": [
        "<matplotlib.figure.Figure at 0x487d550>"
       ]
      }
     ],
     "prompt_number": 24
    },
    {
     "cell_type": "code",
     "collapsed": false,
     "input": [],
     "language": "python",
     "metadata": {},
     "outputs": []
    }
   ],
   "metadata": {}
  }
 ]
}