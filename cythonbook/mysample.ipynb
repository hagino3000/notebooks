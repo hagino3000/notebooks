{
 "cells": [
  {
   "cell_type": "code",
   "execution_count": 1,
   "metadata": {
    "collapsed": false
   },
   "outputs": [],
   "source": [
    "%load_ext Cython"
   ]
  },
  {
   "cell_type": "code",
   "execution_count": 107,
   "metadata": {
    "collapsed": false
   },
   "outputs": [
    {
     "name": "stdout",
     "output_type": "stream",
     "text": [
      "<built-in function fib>\n",
      "<built-in function fuga>\n",
      "10075.9391352\n",
      "3.54224848179e+20\n",
      "None\n"
     ]
    }
   ],
   "source": [
    "%%cython\n",
    "def fib(long n):\n",
    "    cdef long i\n",
    "    cdef double a=0, b=1\n",
    "    for i in range(n):\n",
    "        a, b = a + b, a\n",
    "    return a\n",
    "\n",
    "import numpy\n",
    "cimport numpy\n",
    "\n",
    "def fuga(long n):\n",
    "    cdef double ret = 0\n",
    "    cdef double init = 100\n",
    "    cdef long i, j\n",
    "    for i in range(n):\n",
    "        ret += init\n",
    "        for j in range(n):\n",
    "            ret += numpy.random.randn()\n",
    "    return ret\n",
    "\n",
    "def caller(long n):\n",
    "    print(fuga(n))\n",
    "    print(fib(n))\n",
    "\n",
    "print(fib)\n",
    "print(fuga)\n",
    "print(caller(100))"
   ]
  },
  {
   "cell_type": "code",
   "execution_count": 108,
   "metadata": {
    "collapsed": false
   },
   "outputs": [
    {
     "name": "stdout",
     "output_type": "stream",
     "text": [
      "CPU times: user 14.9 s, sys: 7.63 ms, total: 14.9 s\n",
      "Wall time: 14.9 s\n"
     ]
    },
    {
     "data": {
      "text/plain": [
       "1003628.353562562"
      ]
     },
     "execution_count": 108,
     "metadata": {},
     "output_type": "execute_result"
    }
   ],
   "source": [
    "time fuga(10000)"
   ]
  },
  {
   "cell_type": "code",
   "execution_count": 83,
   "metadata": {
    "collapsed": false
   },
   "outputs": [
    {
     "name": "stdout",
     "output_type": "stream",
     "text": [
      "CPU times: user 180 µs, sys: 0 ns, total: 180 µs\n",
      "Wall time: 183 µs\n"
     ]
    },
    {
     "data": {
      "text/plain": [
       "inf"
      ]
     },
     "execution_count": 83,
     "metadata": {},
     "output_type": "execute_result"
    }
   ],
   "source": [
    "time fib(200000)"
   ]
  },
  {
   "cell_type": "code",
   "execution_count": 109,
   "metadata": {
    "collapsed": false
   },
   "outputs": [],
   "source": [
    "def pyfib(n):\n",
    "    a=0\n",
    "    b=1\n",
    "    for i in range(n):\n",
    "        a, b = a + b, a\n",
    "    return a\n",
    "\n",
    "def pyfuga(n):\n",
    "    ret = 0\n",
    "    init = 100\n",
    "    for i in range(n):\n",
    "        ret += init\n",
    "        for i in range(n):\n",
    "            ret += numpy.random.randn()\n",
    "    return ret\n"
   ]
  },
  {
   "cell_type": "code",
   "execution_count": 110,
   "metadata": {
    "collapsed": false
   },
   "outputs": [
    {
     "name": "stdout",
     "output_type": "stream",
     "text": [
      "CPU times: user 22.2 s, sys: 27.8 ms, total: 22.2 s\n",
      "Wall time: 22.2 s\n"
     ]
    },
    {
     "data": {
      "text/plain": [
       "996124.3392168635"
      ]
     },
     "execution_count": 110,
     "metadata": {},
     "output_type": "execute_result"
    }
   ],
   "source": [
    "time pyfuga(10000)"
   ]
  },
  {
   "cell_type": "code",
   "execution_count": 111,
   "metadata": {
    "collapsed": false
   },
   "outputs": [],
   "source": [
    "%%cython\n",
    "import numpy as np\n",
    "cdef class Creative(object):\n",
    "    cdef double val\n",
    "    def __init__(self, double initial_value=0):\n",
    "        self.val = initial_value\n",
    "        \n",
    "    cpdef increment(self, long val):\n",
    "        cdef double ran\n",
    "        ran = np.random.randn()\n",
    "        self.val += val * ran\n",
    "        \n",
    "    cpdef double get(self):\n",
    "        return self.val\n",
    "    \n",
    "ins = Creative(100)\n",
    "ins.increment(2000)\n",
    "print(ins.get())"
   ]
  },
  {
   "cell_type": "code",
   "execution_count": 133,
   "metadata": {
    "collapsed": false
   },
   "outputs": [],
   "source": [
    "%%cython_pyximport f\n",
    "def func(long n):\n",
    "    return n * 100"
   ]
  },
  {
   "cell_type": "code",
   "execution_count": 134,
   "metadata": {
    "collapsed": true
   },
   "outputs": [],
   "source": [
    "%%cython_pyximport r\n",
    "def runner(fn, long n):\n",
    "    return fn(n)"
   ]
  },
  {
   "cell_type": "code",
   "execution_count": 136,
   "metadata": {
    "collapsed": false
   },
   "outputs": [
    {
     "name": "stdout",
     "output_type": "stream",
     "text": [
      "10000\n"
     ]
    }
   ],
   "source": [
    "%%cython\n",
    "import f\n",
    "import r\n",
    "print(r.runner(f.func, 100))"
   ]
  }
 ],
 "metadata": {
  "kernelspec": {
   "display_name": "Python 2",
   "language": "python",
   "name": "python2"
  },
  "language_info": {
   "codemirror_mode": {
    "name": "ipython",
    "version": 2
   },
   "file_extension": ".py",
   "mimetype": "text/x-python",
   "name": "python",
   "nbconvert_exporter": "python",
   "pygments_lexer": "ipython2",
   "version": "2.7.9"
  }
 },
 "nbformat": 4,
 "nbformat_minor": 0
}
