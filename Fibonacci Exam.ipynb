{
 "metadata": {
  "name": "",
  "signature": "sha256:93369924dd63b23df293857c93881a40b169da10dad94e82ef2fd547cc7ca6d3"
 },
 "nbformat": 3,
 "nbformat_minor": 0,
 "worksheets": [
  {
   "cells": [
    {
     "cell_type": "markdown",
     "metadata": {},
     "source": [
      "# \u5b9a\u7fa9\n",
      "\n",
      "- f(0) = 0\n",
      "- f(1) = 1\n",
      "- f(n) = f(n-1) + f(n-2)"
     ]
    },
    {
     "cell_type": "markdown",
     "metadata": {},
     "source": [
      "## \u518d\u5e30\u3092\u4f7f\u3046\u3082\u306e\n",
      "\u30ca\u30a4\u30fc\u30d6\u306a\u5b9f\u88c5\u3002\u898b\u305f\u307e\u3093\u307e\u3067\u7406\u89e3\u3057\u3084\u3059\u3044\u3002\u307e\u3042\u8a08\u7b97\u91cf\u304c\u30a2\u30ec\u3060\u3088\u306d\u30fc\u3068\u3044\u3046\u5974"
     ]
    },
    {
     "cell_type": "code",
     "collapsed": false,
     "input": [
      "def fib(n):\n",
      "    if n <= 1:\n",
      "        return n\n",
      "    return fib(n - 1) + fib(n - 2)\n",
      "\n",
      "map(fib, range(15))"
     ],
     "language": "python",
     "metadata": {},
     "outputs": [
      {
       "metadata": {},
       "output_type": "pyout",
       "prompt_number": 46,
       "text": [
        "[0, 1, 1, 2, 3, 5, 8, 13, 21, 34, 55, 89, 144, 233, 377]"
       ]
      }
     ],
     "prompt_number": 46
    },
    {
     "cell_type": "markdown",
     "metadata": {},
     "source": [
      "## for\u30eb\u30fc\u30d7\n",
      "\u8a08\u7b97\u30aa\u30fc\u30c0\u30fc\u304cO(n)\u306b\u306a\u3063\u305f\u3002\u81ea\u5206\u304c\u66f8\u304f\u306a\u3089\u4e0a\u3092\u66f8\u3044\u3066\u304b\u3089\u3001\u8ffd\u8a18\u3067\u3053\u3061\u3089\u3082\u66f8\u304f\u304b\u306a\u3002"
     ]
    },
    {
     "cell_type": "code",
     "collapsed": false,
     "input": [
      "def fib(n):\n",
      "    a, b = 0, 1\n",
      "    for i in xrange(n):\n",
      "        a, b = b, a + b\n",
      "    return a\n",
      "\n",
      "map(fib, range(15))"
     ],
     "language": "python",
     "metadata": {},
     "outputs": [
      {
       "metadata": {},
       "output_type": "pyout",
       "prompt_number": 47,
       "text": [
        "[0, 1, 1, 2, 3, 5, 8, 13, 21, 34, 55, 89, 144, 233, 377]"
       ]
      }
     ],
     "prompt_number": 47
    },
    {
     "cell_type": "markdown",
     "metadata": {},
     "source": [
      "## \u884c\u5217\u3068\u5185\u7a4d\u3092\u4f7f\u3046\n",
      "numpy\u4f7f\u3044\u306f\u3053\u3046\u89e3\u304f\u304b\u3082\u3057\u308c\u306a\u3044\u3002"
     ]
    },
    {
     "cell_type": "code",
     "collapsed": false,
     "input": [
      "from numpy import array\n",
      "\n",
      "def fib(n):\n",
      "    A = array([[0,1],[1,1]])\n",
      "    tmp = array([0,1])\n",
      "    for i in xrange(n):\n",
      "        tmp = tmp.dot(A)\n",
      "    return tmp[0]\n",
      "\n",
      "map(fib, range(15))"
     ],
     "language": "python",
     "metadata": {},
     "outputs": [
      {
       "metadata": {},
       "output_type": "pyout",
       "prompt_number": 48,
       "text": [
        "[0, 1, 1, 2, 3, 5, 8, 13, 21, 34, 55, 89, 144, 233, 377]"
       ]
      }
     ],
     "prompt_number": 48
    },
    {
     "cell_type": "markdown",
     "metadata": {},
     "source": [
      "## \u9010\u6b21\u5e73\u65b9\u3057\u3066O(logN)\u3067\u89e3\u304f\n",
      "SICP\u3067\u3084\u3063\u305f\u5974\u3060!!  \n",
      "\u3060\u304c\u3001\u9762\u63a5\u306e\u5834\u3067\u3053\u306e\u30b3\u30fc\u30c9\u3092\u637b\u308a\u51fa\u305b\u308b\u81ea\u4fe1\u306f\u7121\u3044\u3002"
     ]
    },
    {
     "cell_type": "code",
     "collapsed": false,
     "input": [
      "def fib(n):\n",
      "    a, b = 1, 0\n",
      "    p, q = 0, 1\n",
      "\n",
      "    rest = n\n",
      "    while rest > 0:\n",
      "        if rest % 2 == 0:\n",
      "            p, q = p**2 + q**2, q**2 + 2*p*q\n",
      "            rest /= 2\n",
      "        else:\n",
      "            a, b = b*q + a*q + a*p, a*q + b*p\n",
      "            rest -= 1\n",
      "    return b\n",
      "\n",
      "map(fib, range(15))"
     ],
     "language": "python",
     "metadata": {},
     "outputs": [
      {
       "metadata": {},
       "output_type": "pyout",
       "prompt_number": 49,
       "text": [
        "[0, 1, 1, 2, 3, 5, 8, 13, 21, 34, 55, 89, 144, 233, 377]"
       ]
      }
     ],
     "prompt_number": 49
    },
    {
     "cell_type": "markdown",
     "metadata": {},
     "source": [
      "## \u4e00\u822c\u9805\u3092\u4f7f\u3063\u3066\u89e3\u304f\n",
      "\u4e00\u822c\u9805\u3092\u8a18\u61b6\u3057\u3066\u3044\u308b\u5834\u5408\u306e\u307f\u53ef\u80fd\u3068\u3082\u8a00\u3048\u308b\u3002\u305f\u3060\u3057\u3001\u9762\u63a5\u306e\u5834\u3067\u306e\u30b3\u30fc\u30c7\u30a3\u30f3\u30b0\u30c6\u30b9\u30c8\u306f\u8a18\u61b6\u529b\u3092\u554f\u3046\u3066\u3044\u308b\u8a33\u3067\u306f\u7121\u3044\u306e\u3067\u3001\u7279\u306b\u30b3\u30e1\u30f3\u30c8\u3082\u7121\u304f\u6b21\u306e\u8a71\u984c\u306b\u9032\u3093\u3067\u3057\u307e\u3046\u304b\u3082\u3057\u308c\u306a\u3044\u3002\n",
      "\u8a08\u7b97\u6a5f\u306b\u512a\u3057\u304f\u306a\u3044\u898b\u305f\u76ee\u306e\u901a\u308a\u3001fib(2000)\u3068\u3084\u308b\u3068OverflowError\u306b\u306a\u3063\u3066\u3057\u307e\u3046\u3002"
     ]
    },
    {
     "cell_type": "code",
     "collapsed": false,
     "input": [
      "def fib(n):\n",
      "    return int(1/5**0.5*(((1+5**0.5)/2)**n - ((1-5**0.5)/2)**n))\n",
      "\n",
      "map(fib, range(15))"
     ],
     "language": "python",
     "metadata": {},
     "outputs": [
      {
       "metadata": {},
       "output_type": "pyout",
       "prompt_number": 50,
       "text": [
        "[0, 1, 1, 2, 3, 5, 8, 13, 21, 34, 55, 89, 144, 233, 377]"
       ]
      }
     ],
     "prompt_number": 50
    },
    {
     "cell_type": "markdown",
     "metadata": {},
     "source": [
      "## \u5ba3\u8a00\u7684\u306b\u89e3\u304f\n",
      "\u9762\u63a5\u3067\u7dca\u5f35\u3057\u3066\u982d\u304c\u771f\u3063\u767d\u306b\u306a\u3063\u3066\u3057\u307e\u3063\u305f\u5834\u5408\u306f\u3001\u6570\u5b66\u7684\u306a\u5ba3\u8a00\u3092\u305d\u306e\u307e\u307e\u5229\u7528\u3059\u308c\u3070\u826f\u3044"
     ]
    },
    {
     "cell_type": "code",
     "collapsed": false,
     "input": [
      "import sympy as sym\n",
      "sym.init_printing()\n",
      "from sympy.abc import n"
     ],
     "language": "python",
     "metadata": {},
     "outputs": [],
     "prompt_number": 1
    },
    {
     "cell_type": "code",
     "collapsed": false,
     "input": [
      "# \u95a2\u6570fib\u3092\u5b9a\u7fa9\n",
      "fib = sym.Function('fib(n)')\n",
      "\n",
      "# fib(n) = fib(n-1) + fib(n-2) \u3092\u5909\u5f62\u3057\u3066\n",
      "# fib(n) - fib(n-1) - fib(n-2) = 0 \u306e\u65b9\u7a0b\u5f0f\u3068\u3059\u308b\n",
      "f = fib(n) - fib(n-1) - fib(n-2)\n",
      "\n",
      "# fib(0) -> 0, fib(1) -> 1 \u3067\u3042\u308b\u4e8b\u3092\u5229\u7528\u3057\u3066 fib(n) \u306b\u3064\u3044\u3066\u89e3\u304f\n",
      "fib_term = sym.rsolve(f, fib(n), {fib(0):0, fib(1):1})\n",
      "sym.Eq(fib, fib_term)\n",
      "print(fib_term)"
     ],
     "language": "python",
     "metadata": {},
     "outputs": [
      {
       "output_type": "stream",
       "stream": "stdout",
       "text": [
        "sqrt(5)*(1/2 + sqrt(5)/2)**n/5 - sqrt(5)*(-sqrt(5)/2 + 1/2)**n/5\n"
       ]
      }
     ],
     "prompt_number": 6
    },
    {
     "cell_type": "markdown",
     "metadata": {},
     "source": [
      "\u89e3\u3051\u305f\u3002fib(n)\u306e\u4e00\u822c\u9805\u304c\u5c0e\u51fa\u3067\u304d\u305f\u306e\u3067\u3001\u3042\u3068\u306f\u5b9f\u884c\u3059\u308b\u3060\u3051\u3002"
     ]
    },
    {
     "cell_type": "code",
     "collapsed": false,
     "input": [
      "map((lambda i: int(fib_term.evalf(subs={n:i}))), range(15))"
     ],
     "language": "python",
     "metadata": {},
     "outputs": [
      {
       "metadata": {},
       "output_type": "pyout",
       "prompt_number": 53,
       "text": [
        "[0, 1, 1, 2, 3, 5, 8, 13, 21, 34, 55, 89, 144, 233, 377]"
       ]
      }
     ],
     "prompt_number": 53
    }
   ],
   "metadata": {}
  }
 ]
}