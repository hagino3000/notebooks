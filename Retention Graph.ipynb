{
 "metadata": {
  "name": "",
  "signature": "sha256:6c3a2e9a6bfc6c7f349aa583b8084197ad613928b94790862fc351fd5aa93be4"
 },
 "nbformat": 3,
 "nbformat_minor": 0,
 "worksheets": [
  {
   "cells": [
    {
     "cell_type": "code",
     "collapsed": false,
     "input": [
      "import numpy as np\n",
      "import matplotlib.pyplot as plt"
     ],
     "language": "python",
     "metadata": {
      "run_control": {
       "read_only": false
      }
     },
     "outputs": [],
     "prompt_number": 6
    },
    {
     "cell_type": "code",
     "collapsed": false,
     "input": [
      "# \u305d\u308c\u3063\u307d\u3044\u30c7\u30fc\u30bf\u3092\u4f5c\u308b\u51e6\u7406\n",
      "from datetime import datetime, timedelta\n",
      "import scipy\n",
      "import scipy.stats\n",
      "def create_dummy_data(days):\n",
      "    x = np.linspace(2, 2 + days, days)\n",
      "    y = scipy.stats.norm.pdf(x, loc=0, scale=4) * 4 + 0.15\n",
      "    y = y + np.abs(np.random.randn(len(y)))/25\n",
      "    date = datetime.now().date() - timedelta(days=days)\n",
      "    return {\n",
      "        \"date\": date,\n",
      "        \"values\": list(y)\n",
      "    }\n",
      "vals = map(create_dummy_data, np.arange(1, 30))\n",
      "vals.reverse()"
     ],
     "language": "python",
     "metadata": {
      "run_control": {
       "read_only": false
      }
     },
     "outputs": [],
     "prompt_number": 7
    },
    {
     "cell_type": "code",
     "collapsed": false,
     "input": [
      "from matplotlib import dates\n",
      "\n",
      "# \u8868\u793a\u3059\u308b\u7d4c\u904e\u65e5\u6570\n",
      "max_y = 35\n",
      "\n",
      "# x\u306fdatetime\u304b\u3089number\u306b\u5909\u63db\u3057\u3066\u304a\u304f\n",
      "x = map(lambda v: dates.date2num(v['date']), vals)\n",
      "# y\u306f1(\u7fcc\u65e5)\u304b\u3089\u30b9\u30bf\u30fc\u30c8\n",
      "y = np.arange(1, max_y + 1)\n",
      "# x\u3068y\u306e\u30e1\u30c3\u30b7\u30e5\u3092\u4f5c\u6210\n",
      "Y, X = np.meshgrid(y, x)"
     ],
     "language": "python",
     "metadata": {
      "run_control": {
       "read_only": false
      }
     },
     "outputs": [],
     "prompt_number": 8
    },
    {
     "cell_type": "code",
     "collapsed": false,
     "input": [
      "def expand_z(v):\n",
      "    v = v['values']\n",
      "    v += list(np.zeros(max_y - len(v)))\n",
      "    return v\n",
      "# \u7e26\u6a2a\u3092\u63c3\u3048\u308b\u305f\u3081\u306b\u30bc\u30ed\u57cb\u3081\u914d\u5217\u3092\u8ffd\u52a0\u3059\u308b\n",
      "z = map(expand_z, vals)\n",
      "# numpy\u306e\u884c\u5217\u306b\u5909\u63db\u3059\u308b\n",
      "Z = np.array(z).reshape(len(z), len(z[0]))"
     ],
     "language": "python",
     "metadata": {
      "run_control": {
       "read_only": false
      }
     },
     "outputs": [],
     "prompt_number": 9
    },
    {
     "cell_type": "code",
     "collapsed": false,
     "input": [
      "fig, ax = plt.subplots(nrows=1, ncols=1, figsize=(8, 4))\n",
      "\n",
      "# \u30d7\u30ed\u30c3\u30c8\u306e\u4f5c\u6210\n",
      "# \u30c7\u30fc\u30bf\u306b\u3088\u3063\u3066\u8272\u304c\u5909\u308f\u3063\u3066\u3057\u307e\u3046\u306e\u3092\u56de\u907f\u3059\u308b\u305f\u3081\u3001\u6700\u5927\u5024\u3092\u6307\u5b9a\n",
      "im = ax.pcolor(X, Y, Z, vmax=0.6)\n",
      "\n",
      "# \u30bf\u30a4\u30c8\u30eb\n",
      "ax.set_title(u'Launch Retention')\n",
      "# y\u8ef8\n",
      "ax.set_ylabel(u'Past Days')\n",
      "ax.set_ylim(bottom=1)\n",
      "# x\u8ef8\n",
      "ax.set_xlabel(u'Acquisition Date')\n",
      "ax.set_xlim(x[0], x[-1])\n",
      "# \u30ab\u30e9\u30fc\u30d0\u30fc\n",
      "plt.colorbar(im)\n",
      "\n",
      "# Ticks\n",
      "from matplotlib.ticker import MultipleLocator, FormatStrFormatter\n",
      "minorLocator = MultipleLocator(5)\n",
      "ax.xaxis.set_minor_locator(dates.DayLocator())\n",
      "ax.xaxis.set_minor_formatter(dates.DateFormatter('%d'))\n",
      "ax.xaxis.set_major_locator(dates.MonthLocator())\n",
      "ax.xaxis.set_major_formatter(dates.DateFormatter('%Y %b'))\n",
      "ax.xaxis.set_tick_params(which='major', pad=17)\n",
      "plt.xticks(rotation=0)"
     ],
     "language": "python",
     "metadata": {
      "run_control": {
       "read_only": false
      }
     },
     "outputs": [
      {
       "metadata": {},
       "output_type": "pyout",
       "prompt_number": 15,
       "text": [
        "(array([ 735446.]), <a list of 1 Text xticklabel objects>)"
       ]
      },
      {
       "metadata": {},
       "output_type": "display_data",
       "png": "[encoded data removed]",
       "text": [
        "<matplotlib.figure.Figure at 0x11035d5d0>"
       ]
      }
     ],
     "prompt_number": 15
    },
    {
     "cell_type": "code",
     "collapsed": false,
     "input": [
      "plt.show()"
     ],
     "language": "python",
     "metadata": {
      "run_control": {
       "read_only": false
      }
     },
     "outputs": [],
     "prompt_number": 13
    }
   ],
   "metadata": {}
  }
 ]
}