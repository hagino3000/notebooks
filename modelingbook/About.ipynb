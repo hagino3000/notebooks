{
 "metadata": {
  "name": "",
  "signature": "sha256:0df9fcb37cc1e80d378bd8a142541458d413f59fec5c654e1bc5aa2fb17bcc41"
 },
 "nbformat": 3,
 "nbformat_minor": 0,
 "worksheets": [
  {
   "cells": [
    {
     "cell_type": "markdown",
     "metadata": {},
     "source": [
      "# \u30c7\u30fc\u30bf\u89e3\u6790\u306e\u305f\u3081\u306e\u7d71\u8a08\u30e2\u30c7\u30ea\u30f3\u30b0\u5165\u9580\n",
      "http://hosho.ees.hokudai.ac.jp/~kubo/ce/IwanamiBook.html"
     ]
    },
    {
     "cell_type": "code",
     "collapsed": false,
     "input": [],
     "language": "python",
     "metadata": {},
     "outputs": []
    }
   ],
   "metadata": {}
  }
 ]
}