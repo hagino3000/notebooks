{
 "cells": [
  {
   "cell_type": "code",
   "execution_count": 2,
   "metadata": {
    "collapsed": true
   },
   "outputs": [],
   "source": [
    "from __future__ import print_function, division\n",
    "import pulp\n",
    "import numpy as np"
   ]
  },
  {
   "cell_type": "code",
   "execution_count": 3,
   "metadata": {
    "collapsed": true
   },
   "outputs": [],
   "source": [
    "def LPStandardForm(c, A, b):\n",
    "    m, n = A.shape\n",
    "    \n",
    "    # 最大化モデル\n",
    "    prob = pulp.LpProblem('StandardLpMax', pulp.LpMaximize)\n",
    "    # 変数\n",
    "    x = [pulp.LpVariable('x' + str(j), lowBound=0, cat='Continuous') for j in range(n)]\n",
    "    # 目的関数を追加\n",
    "    prob += pulp.lpDot(c, x)\n",
    "    \n",
    "    # 制約条件を設定\n",
    "    for i in range(m):\n",
    "        prob += pulp.lpDot(A[i],x) <= b[i], 'Ineq'+str(i)\n",
    "    \n",
    "    print(prob)\n",
    "    prob.solve()\n",
    "    \n",
    "    print(pulp.LpStatus[prob.status])\n",
    "    for v in prob.variables():\n",
    "        print(v.name, \"=\", v.varValue)\n",
    "        \n",
    "    print(\"opt.value = \", pulp.value(prob.objective))"
   ]
  },
  {
   "cell_type": "code",
   "execution_count": 4,
   "metadata": {
    "collapsed": false
   },
   "outputs": [
    {
     "name": "stdout",
     "output_type": "stream",
     "text": [
      "StandardLpMax:\n",
      "MAXIMIZE\n",
      "2*x0 + 1*x1 + 0\n",
      "SUBJECT TO\n",
      "Ineq0: x0 + 2 x1 <= 10\n",
      "\n",
      "Ineq1: x0 + x1 <= 6\n",
      "\n",
      "Ineq2: 3 x0 + x1 <= 12\n",
      "\n",
      "VARIABLES\n",
      "x0 Continuous\n",
      "x1 Continuous\n",
      "\n",
      "Optimal\n",
      "x0 = 3.0\n",
      "x1 = 3.0\n",
      "opt.value =  9.0\n"
     ]
    }
   ],
   "source": [
    "c = np.array([2, 1])\n",
    "A = np.array([[1, 2], [1,1], [3,1]])\n",
    "b = np.array([10, 6, 12])\n",
    "\n",
    "LPStandardForm(c, A, b)"
   ]
  },
  {
   "cell_type": "code",
   "execution_count": 9,
   "metadata": {
    "collapsed": false
   },
   "outputs": [
    {
     "name": "stdout",
     "output_type": "stream",
     "text": [
      "StandardLpMax:\n",
      "MAXIMIZE\n",
      "1*x0 + 1*x1 + 0\n",
      "SUBJECT TO\n",
      "Ineq0: x0 - x1 <= -1\n",
      "\n",
      "Ineq1: - x0 + x1 <= -1\n",
      "\n",
      "VARIABLES\n",
      "x0 Continuous\n",
      "x1 Continuous\n",
      "\n",
      "Infeasible\n",
      "x0 = 3.125e+13\n",
      "x1 = 3.125e+13\n",
      "opt.value =  6.25e+13\n"
     ]
    }
   ],
   "source": [
    "# 解けない\n",
    "c = np.array([1,1])\n",
    "A = np.array([[1,-1],[-1,1]])\n",
    "b = np.array([-1, -1])\n",
    "LPStandardForm(c, A, b)"
   ]
  },
  {
   "cell_type": "code",
   "execution_count": 10,
   "metadata": {
    "collapsed": false
   },
   "outputs": [
    {
     "name": "stdout",
     "output_type": "stream",
     "text": [
      "StandardLpMax:\n",
      "MAXIMIZE\n",
      "1*x0 + 1*x1 + 0\n",
      "SUBJECT TO\n",
      "Ineq0: - 2 x0 + x1 <= 2\n",
      "\n",
      "Ineq1: x0 - 2 x1 <= 2\n",
      "\n",
      "VARIABLES\n",
      "x0 Continuous\n",
      "x1 Continuous\n",
      "\n",
      "Unbounded\n",
      "x0 = 0.0\n",
      "x1 = 0.0\n",
      "opt.value =  0.0\n"
     ]
    }
   ],
   "source": [
    "# 最適化が存在しない\n",
    "c = np.array([1,1])\n",
    "A = np.array([[-2,1],[1,-2]])\n",
    "b = np.array([2,2])\n",
    "LPStandardForm(c, A, b)"
   ]
  },
  {
   "cell_type": "code",
   "execution_count": 15,
   "metadata": {
    "collapsed": false
   },
   "outputs": [],
   "source": [
    "# 実行して時間を計測\n",
    "np.random.seed(4126)\n",
    "m = 300\n",
    "n = 200\n",
    "c = 10*np.ones(n)\n",
    "b = 1000*np.ones(m)\n",
    "A = np.random.randint(1000, size=(m, n))\n",
    "#%time LPStandardForm(c, A, b)"
   ]
  },
  {
   "cell_type": "code",
   "execution_count": null,
   "metadata": {
    "collapsed": true
   },
   "outputs": [],
   "source": []
  }
 ],
 "metadata": {
  "kernelspec": {
   "display_name": "Python 2",
   "language": "python",
   "name": "python2"
  },
  "language_info": {
   "codemirror_mode": {
    "name": "ipython",
    "version": 2
   },
   "file_extension": ".py",
   "mimetype": "text/x-python",
   "name": "python",
   "nbconvert_exporter": "python",
   "pygments_lexer": "ipython2",
   "version": "2.7.9"
  }
 },
 "nbformat": 4,
 "nbformat_minor": 0
}
