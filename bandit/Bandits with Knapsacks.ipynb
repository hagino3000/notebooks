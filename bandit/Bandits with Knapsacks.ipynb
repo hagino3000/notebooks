{
 "cells": [
  {
   "cell_type": "markdown",
   "metadata": {},
   "source": [
    "# Bandits with Knapsacks\n",
    "\n",
    "> Bandits with Knapsacks  \n",
    "> 2013  \n",
    "> Ashwinkumar Badanidiyuru, Robert Kleinberg, Aleksandrs Slivkins  \n",
    "> https://arxiv.org/abs/1305.2545\n",
    "\n",
    "K個のアーム  \n",
    "d次元のリソース  \n",
    "腕毎に消費リソースが設定されており、腕を引く度に報酬と消費リソースを観測する  \n",
    "リソースのいずれかが尽きた時点での累積報酬を最大化する"
   ]
  },
  {
   "cell_type": "markdown",
   "metadata": {},
   "source": [
    "$hoge$"
   ]
  },
  {
   "cell_type": "markdown",
   "metadata": {},
   "source": [
    "## Notation\n",
    "$リソース: B \\in \\mathbb{R}^d$  \n",
    "$アーム:a \\in [1....K]$  \n",
    "$報酬: r \\in [0, 1]$  \n",
    "$リソース消費: v \\in [0, 1]^d$\n",
    "\n",
    "### 手続き\n",
    "- Time $t = 1...T$\n",
    "  - アルゴリズムがアーム $a_t \\in [K]$ を選択する\n",
    "  - 報酬 $r_t(a)$ とリソース消費 $v_t(a)$ が生成される\n",
    "  - $r_t(a)$ と $v_t(a)$ をアルゴリズムが観測\n",
    "- $\\sum_{t}v_t(a_t) \\in \\mathbb{R}^d$ がBのいずれかの次元の値を越えていたら停止\n",
    "- $累積報酬 \\sum_{t}r_t(a_t) \\in \\mathbb{R}$を最大化する"
   ]
  },
  {
   "cell_type": "code",
   "execution_count": null,
   "metadata": {
    "collapsed": true
   },
   "outputs": [],
   "source": []
  }
 ],
 "metadata": {
  "kernelspec": {
   "display_name": "Python 3",
   "language": "python",
   "name": "python3"
  },
  "language_info": {
   "codemirror_mode": {
    "name": "ipython",
    "version": 3
   },
   "file_extension": ".py",
   "mimetype": "text/x-python",
   "name": "python",
   "nbconvert_exporter": "python",
   "pygments_lexer": "ipython3",
   "version": "3.6.0"
  }
 },
 "nbformat": 4,
 "nbformat_minor": 2
}
