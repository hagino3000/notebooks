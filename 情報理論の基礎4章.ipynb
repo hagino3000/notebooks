{
 "metadata": {
  "name": ""
 },
 "nbformat": 3,
 "nbformat_minor": 0,
 "worksheets": [
  {
   "cells": [
    {
     "cell_type": "markdown",
     "metadata": {},
     "source": [
      "# 4\u7ae0 \u7b26\u53f7\u5316\u3068\u7a2e\u3005\u306e\u60c5\u5831\u91cf\n",
      "\n",
      "- \u30a8\u30f3\u30c8\u30ed\u30d4\u30fc\n",
      "- KL\u60c5\u5831\u91cf\n",
      "- Fano\u7b26\u53f7\u3001Shannon\u7b26\u53f7\n",
      "- Huffman\u7b26\u53f7"
     ]
    },
    {
     "cell_type": "code",
     "collapsed": false,
     "input": [
      "from sympy import init_printing\n",
      "init_printing()\n",
      "import sympy as sym\n",
      "% matplotlib inline\n",
      "import matplotlib.pyplot as plt"
     ],
     "language": "python",
     "metadata": {},
     "outputs": [],
     "prompt_number": 6
    },
    {
     "cell_type": "markdown",
     "metadata": {},
     "source": [
      "## \u30a8\u30f3\u30c8\u30ed\u30d4\u30fc\n",
      "\n",
      "\u78ba\u7387\u5909\u6570X\u306e\u30a8\u30f3\u30c8\u30ed\u30d4\u30fcH(X)\u306fX\u306e\u78ba\u7387\u5206\u5e03\u3092P(X = i)\u3068\u3057\u3066\u3002"
     ]
    },
    {
     "cell_type": "code",
     "collapsed": false,
     "input": [
      "H, p, i, k = sym.symbols(\"H(x) P_i i k\")\n",
      "sym.Eq(H, sym.Sum(p*sym.log(1/p), (i, 0, k)))"
     ],
     "language": "python",
     "metadata": {},
     "outputs": [
      {
       "latex": [
        "$$H(x) = \\sum_{i=0}^{k} P_{i} \\log{\\left (\\frac{1}{P_{i}} \\right )}$$"
       ],
       "metadata": {},
       "output_type": "pyout",
       "png": "[encoded data removed]",
       "prompt_number": 5,
       "text": [
        "         k             \n",
        "        ____           \n",
        "        \u2572              \n",
        "         \u2572         \u239b1 \u239e\n",
        "          \u2572  P\u1d62\u22c5log\u239c\u2500\u2500\u239f\n",
        "H(x) =    \u2571        \u239dP\u1d62\u23a0\n",
        "         \u2571             \n",
        "        \u2571              \n",
        "        \u203e\u203e\u203e\u203e           \n",
        "       i = 0           "
       ]
      }
     ],
     "prompt_number": 5
    },
    {
     "cell_type": "code",
     "collapsed": false,
     "input": [
      "def calc_entropy(P):\n",
      "    return sum(map(lambda p: 0 if p == 0 else p * log2(1/p), P))"
     ],
     "language": "python",
     "metadata": {},
     "outputs": [],
     "prompt_number": 4
    },
    {
     "cell_type": "code",
     "collapsed": false,
     "input": [
      "# X\u304c\u4e8c\u5024\u306e\u5834\u5408\u3001\u305d\u308c\u305e\u308c\u540c\u3058\u78ba\u7387\u3067\u51fa\u73fe\u3059\u308b\u5834\u5408\u304c\u4e00\u756a\u30a8\u30f3\u30c8\u30ed\u30d4\u30fc\u304c\u5927\u304d\u3044\n",
      "x = linspace(0, 1, 100)\n",
      "p = []\n",
      "for i, xval in  enumerate(x):\n",
      "    p.append([xval, 1.0 - xval])\n",
      "plt.plot(x,map(calc_entropy, p))\n",
      "t = plt.title('binary entropy (Figure 4.1)')"
     ],
     "language": "python",
     "metadata": {},
     "outputs": [
      {
       "metadata": {},
       "output_type": "display_data",
       "png": "[encoded data removed]"
      }
     ],
     "prompt_number": 83
    },
    {
     "cell_type": "heading",
     "level": 4,
     "metadata": {},
     "source": [
      "KL\u60c5\u5831\u91cf (Kullback-Leibler divergence)"
     ]
    },
    {
     "cell_type": "code",
     "collapsed": false,
     "input": [
      "D = sym.Symbol(\"D(P,Q)\")\n",
      "p, q, i, k = sym.symbols(\"P_i Q_i i k\")\n",
      "sym.Eq(D, sym.Sum(p*sym.log(q/p), (i, 0, k)))"
     ],
     "language": "python",
     "metadata": {},
     "outputs": [
      {
       "latex": [
        "$$D(P,Q) = \\sum_{i=0}^{k} P_{i} \\log{\\left (\\frac{Q_{i}}{P_{i}} \\right )}$$"
       ],
       "metadata": {},
       "output_type": "pyout",
       "png": "[encoded data removed]",
       "prompt_number": 59,
       "text": [
        "           k             \n",
        "          ____           \n",
        "          \u2572              \n",
        "           \u2572         \u239bQ\u1d62\u239e\n",
        "            \u2572  P\u1d62\u22c5log\u239c\u2500\u2500\u239f\n",
        "D(P,Q) =    \u2571        \u239dP\u1d62\u23a0\n",
        "           \u2571             \n",
        "          \u2571              \n",
        "          \u203e\u203e\u203e\u203e           \n",
        "         i = 0           "
       ]
      }
     ],
     "prompt_number": 59
    },
    {
     "cell_type": "code",
     "collapsed": false,
     "input": [
      "def calc_KLD(P, Q):\n",
      "    ret = 0\n",
      "    for  p, q  in zip(P, Q):\n",
      "        ret += p * log2(p/q)\n",
      "    return ret"
     ],
     "language": "python",
     "metadata": {},
     "outputs": [],
     "prompt_number": 84
    },
    {
     "cell_type": "code",
     "collapsed": false,
     "input": [
      "# \u5c0f\u6570\u3092\u4e8c\u9032\u6570\u306b\u3057\u3066\u3001\u5c0f\u6570\u70b9\u4ee5\u4e0b\u3092\u6307\u5b9a\u3057\u305f\u6841\u6570\u3067\u304b\u3048\u3059\n",
      "def get_bin_by_float(f_value, bin_len):\n",
      "    bin_len = int(bin_len)\n",
      "    return format(int(math.floor(f_value * (2 ** (bin_len)))), 'b').zfill(bin_len)\n",
      "\n",
      "print(\"(0.5, 4)   -> \" + get_bin_by_float(0.5, 4))\n",
      "print(\"(0.25, 4)  -> \" + get_bin_by_float(0.25, 4.0))\n",
      "print(\"(0.125, 4) -> \" + get_bin_by_float(0.125, 4.0))"
     ],
     "language": "python",
     "metadata": {},
     "outputs": [
      {
       "output_type": "stream",
       "stream": "stdout",
       "text": [
        "(0.5, 4)   -> 1000\n",
        "(0.25, 4)  -> 0100\n",
        "(0.125, 4) -> 0010\n"
       ]
      }
     ],
     "prompt_number": 67
    },
    {
     "cell_type": "code",
     "collapsed": false,
     "input": [
      "def code_len(P):\n",
      "    ret = []\n",
      "    for p in P:\n",
      "        ret.append(ceil(math.log(1/p, 2)))\n",
      "    return ret\n",
      "\n",
      "def calc_Q(code_lens):\n",
      "    ret = []\n",
      "    for l in code_lens:\n",
      "        ret.append(2 ** (-1 * l))\n",
      "    return ret\n",
      "\n",
      "#\u7b26\u53f7\u9577\u306e\u5e73\u5747\u3092\u304b\u3048\u3059\n",
      "def len_ave(P):\n",
      "    return sum(map(lambda x:math.log(1/x), P)) / len(P)\n",
      "\n",
      "#\u5207\u308a\u3042\u3052\u305f\u7b26\u53f7\u9577\u306e\u5e73\u5747\u3092\u304b\u3048\u3059\n",
      "def len_ceil_ave(P):\n",
      "    return sum(map(lambda x:ceil(math.log(1/x)), P)) / len(P)\n",
      "\n",
      "#\u7b26\u53f7\u9577\u306b1\u3092\u8db3\u3057\u305f\u5e73\u5747\u3092\u304b\u3048\u3059\n",
      "def len_plus1_ave(P):\n",
      "    return sum(map(lambda x:math.log(1/x) + 1, P)) / len(P)\n",
      "\n",
      "len_ave([0.5, 0.5])\n",
      "len_plus1_ave([0.5, 0.5])"
     ],
     "language": "python",
     "metadata": {},
     "outputs": [
      {
       "metadata": {},
       "output_type": "pyout",
       "png": "[encoded data removed]",
       "prompt_number": 76,
       "text": [
        "1.6931471805599454"
       ]
      }
     ],
     "prompt_number": 76
    },
    {
     "cell_type": "code",
     "collapsed": false,
     "input": [
      "# Shannon Fano\u7b26\u53f7\n",
      "P = [0.1,0.2,0.3,0.4]\n",
      "#P = [0.5, 0.25, 0.125, 0.125]\n",
      "P.sort()\n",
      "P.reverse()\n",
      "\n",
      "print(\"\u5165\u529b\")\n",
      "print(P)\n",
      "\n",
      "def accum(P):\n",
      "    ret = []\n",
      "    tmp = 0\n",
      "    for p in P:\n",
      "        ret.append(tmp)\n",
      "        tmp += p\n",
      "    return ret\n",
      "\n",
      "F = accum(P)\n",
      "\n",
      "print(\"F\")\n",
      "print(F)\n",
      "\n",
      "code_lens = code_len(P)\n",
      "\n",
      "print(\"\u7b26\u53f7\u9577\")\n",
      "print(code_lens)\n",
      "\n",
      "codes = []\n",
      "for f, l in zip(F, code_lens):\n",
      "    codes.append(get_bin_by_float(f, l))\n",
      "\n",
      "print('\u7b26\u53f7')\n",
      "print(codes)\n",
      "\n",
      "print('KL\u60c5\u5831\u91cf')\n",
      "print(calc_KLD(P, calc_Q(code_lens)))\n"
     ],
     "language": "python",
     "metadata": {},
     "outputs": [
      {
       "output_type": "stream",
       "stream": "stdout",
       "text": [
        "\u5165\u529b\n",
        "[0.4, 0.3, 0.2, 0.1]\n",
        "F\n",
        "[0, 0.4, 0.7, 0.8999999999999999]\n",
        "\u7b26\u53f7\u9577\n",
        "[2.0, 2.0, 3.0, 4.0]\n",
        "\u7b26\u53f7\n",
        "['00', '01', '101', '1110']\n",
        "KL\u60c5\u5831\u91cf\n",
        "0.553560655329\n"
       ]
      }
     ],
     "prompt_number": 88
    }
   ],
   "metadata": {}
  }
 ]
}