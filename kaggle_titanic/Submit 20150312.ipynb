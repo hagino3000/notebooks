{
 "cells": [
  {
   "cell_type": "markdown",
   "metadata": {},
   "source": [
    "## 2015-03-12\n",
    "\n",
    "- GridSearchによるハイパーパラメータ調整処理を追加\n",
    "- sample_weightを追加"
   ]
  },
  {
   "cell_type": "code",
   "execution_count": 1,
   "metadata": {
    "collapsed": false
   },
   "outputs": [],
   "source": [
    "from sklearn.cross_validation import train_test_split, cross_val_score, KFold\n",
    "from sklearn.linear_model import LogisticRegression\n",
    "from sklearn.linear_model import LinearRegression\n",
    "from sklearn.grid_search import GridSearchCV\n",
    "from sklearn.svm import LinearSVC, SVC\n",
    "from sklearn.metrics import accuracy_score, classification_report, confusion_matrix\n",
    "from sklearn.tree import DecisionTreeClassifier\n",
    "from sklearn.ensemble import RandomForestClassifier\n",
    "from sklearn.preprocessing import StandardScaler, MinMaxScaler"
   ]
  },
  {
   "cell_type": "code",
   "execution_count": 2,
   "metadata": {
    "collapsed": true
   },
   "outputs": [],
   "source": [
    "def plot_confusion_matrix(cm):\n",
    "    fig, ax = plt.subplots()\n",
    "    im = ax.imshow(cm, interpolation='nearest', cmap=plt.cm.Blues)\n",
    "    ax.set_title('Confusion Matrix')\n",
    "    fig.colorbar(im)\n",
    "\n",
    "    target_names = ['not survived', 'survived']\n",
    "\n",
    "    tick_marks = np.arange(len(target_names))\n",
    "    ax.set_xticks(tick_marks)\n",
    "    ax.set_xticklabels(target_names, rotation=45)\n",
    "    ax.set_yticks(tick_marks)\n",
    "    ax.set_yticklabels(target_names)\n",
    "    ax.set_ylabel('True label')\n",
    "    ax.set_xlabel('Predicted label')\n",
    "    fig.tight_layout()"
   ]
  },
  {
   "cell_type": "code",
   "execution_count": 3,
   "metadata": {
    "collapsed": true
   },
   "outputs": [],
   "source": [
    "df_train = pd.read_csv('./train.csv')\n",
    "df_test = pd.read_csv('./test.csv')"
   ]
  },
  {
   "cell_type": "code",
   "execution_count": 4,
   "metadata": {
    "collapsed": false
   },
   "outputs": [
    {
     "data": {
      "text/html": [
       "<div style=\"max-height:1000px;max-width:1500px;overflow:auto;\">\n",
       "<table border=\"1\" class=\"dataframe\">\n",
       "  <thead>\n",
       "    <tr style=\"text-align: right;\">\n",
       "      <th></th>\n",
       "      <th>Survived</th>\n",
       "      <th>Pclass</th>\n",
       "      <th>Name</th>\n",
       "      <th>Sex</th>\n",
       "      <th>Age</th>\n",
       "      <th>SibSp</th>\n",
       "      <th>Parch</th>\n",
       "      <th>Ticket</th>\n",
       "      <th>Fare</th>\n",
       "      <th>Cabin</th>\n",
       "      <th>Embarked</th>\n",
       "    </tr>\n",
       "  </thead>\n",
       "  <tbody>\n",
       "    <tr>\n",
       "      <th>0</th>\n",
       "      <td> 0</td>\n",
       "      <td> 3</td>\n",
       "      <td>                           Braund, Mr. Owen Harris</td>\n",
       "      <td>   male</td>\n",
       "      <td> 22</td>\n",
       "      <td> 1</td>\n",
       "      <td> 0</td>\n",
       "      <td> A/5 21171</td>\n",
       "      <td>  7.2500</td>\n",
       "      <td> NaN</td>\n",
       "      <td> S</td>\n",
       "    </tr>\n",
       "    <tr>\n",
       "      <th>1</th>\n",
       "      <td> 1</td>\n",
       "      <td> 1</td>\n",
       "      <td> Cumings, Mrs. John Bradley (Florence Briggs Th...</td>\n",
       "      <td> female</td>\n",
       "      <td> 38</td>\n",
       "      <td> 1</td>\n",
       "      <td> 0</td>\n",
       "      <td>  PC 17599</td>\n",
       "      <td> 71.2833</td>\n",
       "      <td> C85</td>\n",
       "      <td> C</td>\n",
       "    </tr>\n",
       "  </tbody>\n",
       "</table>\n",
       "</div>"
      ],
      "text/plain": [
       "   Survived  Pclass                                               Name  \\\n",
       "0         0       3                            Braund, Mr. Owen Harris   \n",
       "1         1       1  Cumings, Mrs. John Bradley (Florence Briggs Th...   \n",
       "\n",
       "      Sex  Age  SibSp  Parch     Ticket     Fare Cabin Embarked  \n",
       "0    male   22      1      0  A/5 21171   7.2500   NaN        S  \n",
       "1  female   38      1      0   PC 17599  71.2833   C85        C  "
      ]
     },
     "execution_count": 4,
     "metadata": {},
     "output_type": "execute_result"
    }
   ],
   "source": [
    "df_train.drop('PassengerId', axis=1, inplace=True)\n",
    "df_train.head(2)"
   ]
  },
  {
   "cell_type": "code",
   "execution_count": 5,
   "metadata": {
    "collapsed": false
   },
   "outputs": [],
   "source": [
    "def _extract_title(name):\n",
    "    if name.find('Mr.') > 0:\n",
    "        return 'Mr'\n",
    "    elif name.find('Mrs.') > 0:\n",
    "        return 'Mrs'\n",
    "    elif name.find('Master.') > 0:\n",
    "        return 'Master'\n",
    "    elif name.find('Miss.') > 0:\n",
    "        return 'Miss'\n",
    "    else:\n",
    "        return None\n",
    "    \n",
    "def extract_title(df):\n",
    "    df['Title'] = df.Name.apply(lambda n: _extract_title(n))\n",
    "    title_bin = pd.get_dummies(df.Title)\n",
    "    title_bin.rename(columns=lambda x: 'title' + \"_\" + str(x), inplace=True)\n",
    "    df = df.join(title_bin)\n",
    "    return df"
   ]
  },
  {
   "cell_type": "code",
   "execution_count": 6,
   "metadata": {
    "collapsed": true
   },
   "outputs": [],
   "source": [
    "import math"
   ]
  },
  {
   "cell_type": "code",
   "execution_count": 7,
   "metadata": {
    "collapsed": false
   },
   "outputs": [],
   "source": [
    "def _fill_fare(row):\n",
    "    fare = row[0]\n",
    "    sibsp = row[1]\n",
    "    parch = row[2]\n",
    "    pclass = row[3]\n",
    "    family = min(max(1, sibsp + parch), 4)\n",
    "    \n",
    "    if fare is None or fare == 0 or math.isnan(fare):\n",
    "        if pclass == 1:\n",
    "            fare = 86\n",
    "        elif pclass == 2:\n",
    "            fare = 21\n",
    "        else:\n",
    "            fare = 10\n",
    "    else:\n",
    "        pass\n",
    "        #fare = fare/float(family)\n",
    "    return np.log(fare)\n",
    "    \n",
    "    \n",
    "def fill_fare(df):\n",
    "    df['FareFill'] = df[['Fare', 'SibSp', 'Parch', 'Pclass']].apply(_fill_fare, axis=1)\n",
    "    return df"
   ]
  },
  {
   "cell_type": "code",
   "execution_count": 8,
   "metadata": {
    "collapsed": false
   },
   "outputs": [],
   "source": [
    "def fill_age(df):\n",
    "    df['AgeFill'] = df.Age\n",
    "    df.AgeFill[df.Age.isnull() & (df.Sex == 'male') & (df.Pclass == 1)] = 40\n",
    "    df.AgeFill[df.Age.isnull() & (df.Sex == 'male') & (df.Pclass == 2)] = 31\n",
    "    df.AgeFill[df.Age.isnull() & (df.Sex == 'male') & (df.Pclass == 3)] = 26\n",
    "    df.AgeFill[df.Age.isnull() & (df.Title == 'Master')] = 3.5\n",
    "    \n",
    "    df.AgeFill[df.Age.isnull() & (df.Title == 'Mrs') & (df.Pclass == 1)] = 41.5\n",
    "    df.AgeFill[df.Age.isnull() & (df.Title == 'Mrs') & (df.Pclass == 2)] = 32\n",
    "    df.AgeFill[df.Age.isnull() & (df.Title == 'Mrs') & (df.Pclass == 3)] = 31\n",
    "    df.AgeFill[df.Age.isnull() & (df.Title == 'Miss') & (df.Pclass == 1)] = 30\n",
    "    df.AgeFill[df.Age.isnull() & (df.Title == 'Miss') & (df.Pclass == 2)] = 24\n",
    "    df.AgeFill[df.Age.isnull() & (df.Title == 'Miss') & (df.Pclass == 3)] = 18\n",
    "    df.AgeFill[df.AgeFill.isnull() & (df.Sex == 'female')] = 30\n",
    "    return df"
   ]
  },
  {
   "cell_type": "code",
   "execution_count": 9,
   "metadata": {
    "collapsed": false
   },
   "outputs": [],
   "source": [
    "def extract_pclass(df):\n",
    "    pclass_new = pd.get_dummies(df.Pclass)\n",
    "    pclass_new.rename(columns=lambda x: 'pclass' + \"_\" + str(x), inplace=True)\n",
    "    df = df.join(pclass_new)\n",
    "    return df"
   ]
  },
  {
   "cell_type": "code",
   "execution_count": 10,
   "metadata": {
    "collapsed": false
   },
   "outputs": [],
   "source": [
    "def extract_parch(df):\n",
    "    dm = pd.get_dummies(df.Parch.apply(lambda p: min(p, 4)))\n",
    "    dm.rename(columns=lambda x: 'parch' + \"_\" + str(x), inplace=True)\n",
    "    df = df.join(dm)\n",
    "    return df"
   ]
  },
  {
   "cell_type": "code",
   "execution_count": 11,
   "metadata": {
    "collapsed": false
   },
   "outputs": [],
   "source": [
    "def extract_sibsp(df):\n",
    "    dm = pd.get_dummies(df.SibSp.apply(lambda s: min(s, 4)))\n",
    "    dm.rename(columns=lambda x: 'sibsp' + \"_\" + str(x), inplace=True)\n",
    "    df = df.join(dm)\n",
    "    return df"
   ]
  },
  {
   "cell_type": "code",
   "execution_count": 12,
   "metadata": {
    "collapsed": true
   },
   "outputs": [],
   "source": [
    "def convert_sex(df):\n",
    "    df['male'] = df.Sex.apply(lambda s: 0 if s == 'male' else 1)\n",
    "    df['female'] = df.Sex.apply(lambda s: 1 if s == 'male' else 0)\n",
    "    return df"
   ]
  },
  {
   "cell_type": "code",
   "execution_count": 20,
   "metadata": {
    "collapsed": false
   },
   "outputs": [],
   "source": [
    "def extract_feature(df):\n",
    "    df = extract_title(df)\n",
    "    df = fill_age(df)\n",
    "    df = extract_pclass(df)\n",
    "    df = extract_sibsp(df)\n",
    "    df = extract_parch(df)\n",
    "    df = convert_sex(df)\n",
    "    df = fill_fare(df)\n",
    "    cols = df.columns\n",
    "    drop_cols = set(cols).intersection(set(['PassengerId', 'Title', 'Name', 'SibSp', 'Ticket', 'Fare', 'Pclass', 'Survived', 'Parch', 'Sex', 'Age', 'Ticket', 'Cabin', 'Embarked', 'CCabin']))\n",
    "    return df.drop(drop_cols, axis=1)"
   ]
  },
  {
   "cell_type": "code",
   "execution_count": 14,
   "metadata": {
    "collapsed": false
   },
   "outputs": [],
   "source": [
    "def cross_val(X, y, K, random_state=0, clf=None, ):\n",
    "    if clf is None:\n",
    "        clf = get_classifier()\n",
    "    cv = KFold(len(y), K, shuffle=True, random_state=random_state)\n",
    "    scores = cross_val_score(clf, X, y, cv=cv)\n",
    "    #print('Scores:', scores)\n",
    "    print('Mean Score: {0:.3f} (+/-{1:.3f})'.format(scores.mean(), scores.std()*2))\n",
    "    return scores"
   ]
  },
  {
   "cell_type": "code",
   "execution_count": 15,
   "metadata": {
    "collapsed": false
   },
   "outputs": [],
   "source": [
    "X_train = extract_feature(df_train)\n",
    "y_train = df_train.Survived"
   ]
  },
  {
   "cell_type": "code",
   "execution_count": null,
   "metadata": {
    "collapsed": true
   },
   "outputs": [],
   "source": [
    "def grid_search_logi(df):\n",
    "    X_train = extract_feature(df)\n",
    "    y_train = df['Survived']\n",
    "    X_train, X_val, y_train, y_val = train_test_split(X_train, y_train, train_size=0.83, random_state=19)\n",
    "    \n",
    "    test_parameters = [\n",
    "        {'penalty': ['l1'], 'C': [1000], 'gamma': [1e-3, 1e-4]},\n",
    "        {'penalty': ['l2'], 'C': [1, 10, 100, 1000]}\n",
    "    ]\n",
    "    survived_weight = .75\n",
    "    y_weights = np.array([survived_weight if s == 1 else 1 for s in y_train])\n",
    "    clf = GridSearchCV(\n",
    "        SVC(C=1),\n",
    "        test_parameters,\n",
    "        cv=20,\n",
    "        scoring='accuracy',\n",
    "        n_jobs=-1,\n",
    "        fit_params={'sample_weight': y_weights}\n",
    "    )\n",
    "    clf.fit(X_train, y_train)\n",
    "    print clf.best_estimator_\n",
    "    \n",
    "    print\"\\n+ トレーニングデータでCVした時の平均スコア:\\n\"\n",
    "    for params, mean_score, all_scores in clf.grid_scores_:\n",
    "        print \"{:.3f} (+/- {:.3f}) for {}\".format(mean_score, all_scores.std() / 2, params)\n",
    "\n",
    "    print \"\\n+ テストデータでの識別結果:\\n\"\n",
    "    y_true, y_pred = y_val, clf.predict(X_val)\n",
    "    print classification_report(y_true, y_pred)"
   ]
  },
  {
   "cell_type": "code",
   "execution_count": 16,
   "metadata": {
    "collapsed": false
   },
   "outputs": [],
   "source": [
    "def grid_search_svc(df):\n",
    "    X_train = extract_feature(df)\n",
    "    y_train = df['Survived']\n",
    "    X_train, X_val, y_train, y_val = train_test_split(X_train, y_train, train_size=0.83, random_state=19)\n",
    "    \n",
    "    test_parameters = [\n",
    "        {'kernel': ['rbf'],    'C': [1000], 'gamma': [1e-3, 1e-4]},\n",
    "        {'kernel': ['linear'], 'C': [1, 10, 100, 1000]}\n",
    "    ]\n",
    "    survived_weight = .75\n",
    "    y_weights = np.array([survived_weight if s == 1 else 1 for s in y_train])\n",
    "    clf = GridSearchCV(\n",
    "        SVC(C=1),\n",
    "        test_parameters,\n",
    "        cv=20,\n",
    "        scoring='accuracy',\n",
    "        n_jobs=-1,\n",
    "        fit_params={'sample_weight': y_weights}\n",
    "    )\n",
    "    clf.fit(X_train, y_train)\n",
    "    print clf.best_estimator_\n",
    "    \n",
    "    print\"\\n+ トレーニングデータでCVした時の平均スコア:\\n\"\n",
    "    for params, mean_score, all_scores in clf.grid_scores_:\n",
    "        print \"{:.3f} (+/- {:.3f}) for {}\".format(mean_score, all_scores.std() / 2, params)\n",
    "\n",
    "    print \"\\n+ テストデータでの識別結果:\\n\"\n",
    "    y_true, y_pred = y_val, clf.predict(X_val)\n",
    "    print classification_report(y_true, y_pred)"
   ]
  },
  {
   "cell_type": "code",
   "execution_count": 17,
   "metadata": {
    "collapsed": false
   },
   "outputs": [],
   "source": [
    "def grid_search_random_forest(df):\n",
    "    X_train = extract_feature(df)\n",
    "    y_train = df['Survived']\n",
    "    X_train, X_val, y_train, y_val = train_test_split(X_train, y_train, train_size=0.83, random_state=19)\n",
    "\n",
    "    survived_weight = .75\n",
    "    y_weights = np.array([survived_weight if s == 1 else 1 for s in y_train])\n",
    "    sqrtfeat = int(np.sqrt(X_train.shape[1]))\n",
    "    test_parameters = {\n",
    "        'n_estimators': [100, 1000],\n",
    "#        'max_depth': [5, 6, 7, 8],\n",
    "#        'min_samples_leaf': [1, 2, 3],\n",
    "#        'max_features': np.rint(np.linspace(sqrtfeat, sqrtfeat+2, 3)).astype(int),\n",
    "#        'min_samples_split': np.rint(np.linspace(X_train.shape[0]*.01, X_train.shape[0]*.05, 3)).astype(int)\n",
    "    }\n",
    "    \n",
    "    clf = GridSearchCV(\n",
    "        RandomForestClassifier(oob_score=True, n_estimators=10000),\n",
    "        test_parameters,\n",
    "        cv=20,\n",
    "        scoring='accuracy',\n",
    "        n_jobs=-1,\n",
    "        fit_params={'sample_weight': y_weights}\n",
    "    )\n",
    "    clf.fit(X_train, y_train)\n",
    "    print clf.best_estimator_\n",
    "    \n",
    "    print\"\\n+ トレーニングデータでCVした時の平均スコア:\\n\"\n",
    "    for params, mean_score, all_scores in clf.grid_scores_:\n",
    "        print \"{:.3f} (+/- {:.3f}) for {}\".format(mean_score, all_scores.std() / 2, params)\n",
    "\n",
    "    print \"\\n+ テストデータでの識別結果:\\n\"\n",
    "    y_true, y_pred = y_val, clf.predict(X_val)\n",
    "    print classification_report(y_true, y_pred)\n",
    "    return clf"
   ]
  },
  {
   "cell_type": "code",
   "execution_count": 18,
   "metadata": {
    "collapsed": false
   },
   "outputs": [
    {
     "name": "stdout",
     "output_type": "stream",
     "text": [
      "============================================\n",
      "============================================\n"
     ]
    }
   ],
   "source": [
    "#clf = grid_search_random_forest(df_train)\n",
    "print \"============================================\"\n",
    "#grid_search_svc(df_train)\n",
    "print \"============================================\""
   ]
  },
  {
   "cell_type": "code",
   "execution_count": 21,
   "metadata": {
    "collapsed": false
   },
   "outputs": [
    {
     "name": "stdout",
     "output_type": "stream",
     "text": [
      "Logistic Regression\n",
      "Mean Score: 0.816 (+/-0.086)\n",
      "Random Forest\n",
      "Mean Score: 0.815 (+/-0.093)\n",
      "Mean Score: 0.829 (+/-0.070)\n",
      "SVN (grid beast)\n",
      "Mean Score: 0.831 (+/-0.063)\n",
      "SVN (L2)\n",
      "Mean Score: 0.810 (+/-0.115)\n",
      "SVN (L1)\n",
      "Mean Score: 0.822 (+/-0.078)\n",
      "SVN\n",
      "Mean Score: 0.814 (+/-0.092)\n",
      "Decision Tree\n",
      "Mean Score: 0.819 (+/-0.094)\n"
     ]
    },
    {
     "data": {
      "text/plain": [
       "array([ 0.82222222,  0.77777778,  0.77777778,  0.77777778,  0.82222222,\n",
       "        0.82222222,  0.82222222,  0.82222222,  0.84444444,  0.86666667,\n",
       "        0.84444444,  0.75      ,  0.88636364,  0.72727273,  0.77272727,\n",
       "        0.84090909,  0.77272727,  0.88636364,  0.84090909,  0.90909091])"
      ]
     },
     "execution_count": 21,
     "metadata": {},
     "output_type": "execute_result"
    }
   ],
   "source": [
    "print \"Logistic Regression\"\n",
    "cross_val(X_train, y_train, 20, clf=LogisticRegression(penalty='l2', tol=0.01))\n",
    "\n",
    "print \"Random Forest\"\n",
    "cross_val(X_train, y_train, 20, clf=RandomForestClassifier())\n",
    "cross_val(X_train, y_train, 20, clf=RandomForestClassifier(bootstrap=True, compute_importances=None,\n",
    "            criterion='gini', max_depth=8, max_features=6,\n",
    "            max_leaf_nodes=None, min_density=None, min_samples_leaf=2,\n",
    "            min_samples_split=7, n_estimators=100, n_jobs=1,\n",
    "            oob_score=True, random_state=None, verbose=0))\n",
    "\n",
    "print \"SVN (grid beast)\"\n",
    "cross_val(X_train, y_train, 20, clf=SVC(C=1000, cache_size=200, class_weight=None, coef0=0.0, degree=3,\n",
    "  gamma=0.001, kernel='rbf', max_iter=-1, probability=False,\n",
    "  random_state=None, shrinking=True, tol=0.001, verbose=False))\n",
    "print \"SVN (L2)\"\n",
    "cross_val(X_train, y_train, 20, clf=LinearSVC(penalty='l2'))\n",
    "print \"SVN (L1)\"\n",
    "cross_val(X_train, y_train, 20, clf=LinearSVC(penalty='l1', dual=False))\n",
    "print \"SVN\"\n",
    "cross_val(X_train, y_train, 20, clf=SVC())\n",
    "print \"Decision Tree\"\n",
    "cross_val(X_train, y_train, 20, clf=DecisionTreeClassifier(criterion='entropy', max_depth=5, min_samples_leaf=2))"
   ]
  },
  {
   "cell_type": "code",
   "execution_count": 25,
   "metadata": {
    "collapsed": false
   },
   "outputs": [],
   "source": [
    "def calc_classifier(df, clf=None):\n",
    "    X_train = extract_feature(df)\n",
    "    y_train = df['Survived']\n",
    "    X_train, X_val, y_train, y_val = train_test_split(X_train, y_train, train_size=0.90, random_state=13)\n",
    "    print('Num of Training Samples: {}'.format(len(X_train)))\n",
    "    print('Num of Validation Samples: {}'.format(len(X_val)))\n",
    "    survived_weight = .8\n",
    "    y_weights = np.array([survived_weight if s == 1 else 1 for s in y_train])\n",
    "\n",
    "    \n",
    "    if clf is None:\n",
    "        clf = get_classifier()\n",
    "    #clf.fit(X_train, y_train, sample_weight=y_weights)\n",
    "    clf.fit(X_train, y_train)\n",
    "    y_train_pred = clf.predict(X_train)\n",
    "    y_val_pred = clf.predict(X_val)\n",
    "    print('Accuracy on Training Set: {:.3f}'.format(accuracy_score(y_train, y_train_pred)))\n",
    "    print('Accuracy on Validation Set: {:.3f}'.format(accuracy_score(y_val, y_val_pred)))\n",
    "    cm = confusion_matrix(y_val, y_val_pred)\n",
    "    return clf"
   ]
  },
  {
   "cell_type": "code",
   "execution_count": 26,
   "metadata": {
    "collapsed": false
   },
   "outputs": [
    {
     "name": "stdout",
     "output_type": "stream",
     "text": [
      "Num of Training Samples: 801\n",
      "Num of Validation Samples: 90\n",
      "Accuracy on Training Set: 0.820\n",
      "Accuracy on Validation Set: 0.844\n"
     ]
    }
   ],
   "source": [
    "_clf = RandomForestClassifier(bootstrap=True, compute_importances=None,\n",
    "            criterion='gini', max_depth=8, max_features=10,\n",
    "            max_leaf_nodes=None, min_density=None, min_samples_leaf=1,\n",
    "            min_samples_split=7, n_estimators=1000, n_jobs=-1,\n",
    "            oob_score=True, random_state=None, verbose=0)\n",
    "_clf = SVC(C=1000, cache_size=200, class_weight=None, coef0=0.0, degree=3,\n",
    "  gamma=0.001, kernel='rbf', max_iter=-1, probability=False,\n",
    "  random_state=None, shrinking=True, tol=0.001, verbose=False)\n",
    "#_clf = LinearSVC()\n",
    "clf = calc_classifier(df_train, clf=LogisticRegression())"
   ]
  },
  {
   "cell_type": "code",
   "execution_count": 183,
   "metadata": {
    "collapsed": false
   },
   "outputs": [
    {
     "data": {
      "text/html": [
       "<div style=\"max-height:1000px;max-width:1500px;overflow:auto;\">\n",
       "<table border=\"1\" class=\"dataframe\">\n",
       "  <thead>\n",
       "    <tr style=\"text-align: right;\">\n",
       "      <th></th>\n",
       "      <th>title_Master</th>\n",
       "      <th>title_Miss</th>\n",
       "      <th>title_Mr</th>\n",
       "      <th>title_Mrs</th>\n",
       "      <th>AgeFill</th>\n",
       "      <th>pclass_1</th>\n",
       "      <th>pclass_2</th>\n",
       "      <th>pclass_3</th>\n",
       "      <th>male</th>\n",
       "      <th>female</th>\n",
       "      <th>FareFill</th>\n",
       "    </tr>\n",
       "  </thead>\n",
       "  <tbody>\n",
       "    <tr>\n",
       "      <th>0</th>\n",
       "      <td> 0</td>\n",
       "      <td> 0</td>\n",
       "      <td> 1</td>\n",
       "      <td> 0</td>\n",
       "      <td> 22</td>\n",
       "      <td> 0</td>\n",
       "      <td> 0</td>\n",
       "      <td> 1</td>\n",
       "      <td> 0</td>\n",
       "      <td> 1</td>\n",
       "      <td> 1.981001</td>\n",
       "    </tr>\n",
       "    <tr>\n",
       "      <th>1</th>\n",
       "      <td> 0</td>\n",
       "      <td> 0</td>\n",
       "      <td> 0</td>\n",
       "      <td> 1</td>\n",
       "      <td> 38</td>\n",
       "      <td> 1</td>\n",
       "      <td> 0</td>\n",
       "      <td> 0</td>\n",
       "      <td> 1</td>\n",
       "      <td> 0</td>\n",
       "      <td> 4.266662</td>\n",
       "    </tr>\n",
       "    <tr>\n",
       "      <th>2</th>\n",
       "      <td> 0</td>\n",
       "      <td> 1</td>\n",
       "      <td> 0</td>\n",
       "      <td> 0</td>\n",
       "      <td> 26</td>\n",
       "      <td> 0</td>\n",
       "      <td> 0</td>\n",
       "      <td> 1</td>\n",
       "      <td> 1</td>\n",
       "      <td> 0</td>\n",
       "      <td> 2.070022</td>\n",
       "    </tr>\n",
       "    <tr>\n",
       "      <th>3</th>\n",
       "      <td> 0</td>\n",
       "      <td> 0</td>\n",
       "      <td> 0</td>\n",
       "      <td> 1</td>\n",
       "      <td> 35</td>\n",
       "      <td> 1</td>\n",
       "      <td> 0</td>\n",
       "      <td> 0</td>\n",
       "      <td> 1</td>\n",
       "      <td> 0</td>\n",
       "      <td> 3.972177</td>\n",
       "    </tr>\n",
       "    <tr>\n",
       "      <th>4</th>\n",
       "      <td> 0</td>\n",
       "      <td> 0</td>\n",
       "      <td> 1</td>\n",
       "      <td> 0</td>\n",
       "      <td> 35</td>\n",
       "      <td> 0</td>\n",
       "      <td> 0</td>\n",
       "      <td> 1</td>\n",
       "      <td> 0</td>\n",
       "      <td> 1</td>\n",
       "      <td> 2.085672</td>\n",
       "    </tr>\n",
       "  </tbody>\n",
       "</table>\n",
       "</div>"
      ],
      "text/plain": [
       "   title_Master  title_Miss  title_Mr  title_Mrs  AgeFill  pclass_1  pclass_2  \\\n",
       "0             0           0         1          0       22         0         0   \n",
       "1             0           0         0          1       38         1         0   \n",
       "2             0           1         0          0       26         0         0   \n",
       "3             0           0         0          1       35         1         0   \n",
       "4             0           0         1          0       35         0         0   \n",
       "\n",
       "   pclass_3  male  female  FareFill  \n",
       "0         1     0       1  1.981001  \n",
       "1         0     1       0  4.266662  \n",
       "2         1     1       0  2.070022  \n",
       "3         0     1       0  3.972177  \n",
       "4         1     0       1  2.085672  "
      ]
     },
     "execution_count": 183,
     "metadata": {},
     "output_type": "execute_result"
    }
   ],
   "source": [
    "X_train.head()"
   ]
  },
  {
   "cell_type": "code",
   "execution_count": 152,
   "metadata": {
    "collapsed": false
   },
   "outputs": [],
   "source": [
    "Y = extract_feature(df_test)\n",
    "df_test['Survived'] = clf.predict(Y)\n",
    "submit_data = df_test[['PassengerId', 'Survived']]"
   ]
  },
  {
   "cell_type": "code",
   "execution_count": 129,
   "metadata": {
    "collapsed": false
   },
   "outputs": [
    {
     "data": {
      "text/html": [
       "<div style=\"max-height:1000px;max-width:1500px;overflow:auto;\">\n",
       "<table border=\"1\" class=\"dataframe\">\n",
       "  <thead>\n",
       "    <tr style=\"text-align: right;\">\n",
       "      <th></th>\n",
       "      <th>title_Master</th>\n",
       "      <th>title_Miss</th>\n",
       "      <th>title_Mr</th>\n",
       "      <th>title_Mrs</th>\n",
       "      <th>AgeFill</th>\n",
       "      <th>pclass_1</th>\n",
       "      <th>pclass_2</th>\n",
       "      <th>pclass_3</th>\n",
       "      <th>sibsp_0</th>\n",
       "      <th>sibsp_1</th>\n",
       "      <th>...</th>\n",
       "      <th>sibsp_3</th>\n",
       "      <th>sibsp_4</th>\n",
       "      <th>parch_0</th>\n",
       "      <th>parch_1</th>\n",
       "      <th>parch_2</th>\n",
       "      <th>parch_3</th>\n",
       "      <th>parch_4</th>\n",
       "      <th>male</th>\n",
       "      <th>female</th>\n",
       "      <th>FareFill</th>\n",
       "    </tr>\n",
       "  </thead>\n",
       "  <tbody>\n",
       "    <tr>\n",
       "      <th>0</th>\n",
       "      <td> 0</td>\n",
       "      <td> 0</td>\n",
       "      <td> 1</td>\n",
       "      <td> 0</td>\n",
       "      <td> 34.5</td>\n",
       "      <td> 0</td>\n",
       "      <td> 0</td>\n",
       "      <td> 1</td>\n",
       "      <td> 1</td>\n",
       "      <td> 0</td>\n",
       "      <td>...</td>\n",
       "      <td> 0</td>\n",
       "      <td> 0</td>\n",
       "      <td> 1</td>\n",
       "      <td> 0</td>\n",
       "      <td> 0</td>\n",
       "      <td> 0</td>\n",
       "      <td> 0</td>\n",
       "      <td> 0</td>\n",
       "      <td> 1</td>\n",
       "      <td> 2.057860</td>\n",
       "    </tr>\n",
       "    <tr>\n",
       "      <th>1</th>\n",
       "      <td> 0</td>\n",
       "      <td> 0</td>\n",
       "      <td> 0</td>\n",
       "      <td> 1</td>\n",
       "      <td> 47.0</td>\n",
       "      <td> 0</td>\n",
       "      <td> 0</td>\n",
       "      <td> 1</td>\n",
       "      <td> 0</td>\n",
       "      <td> 1</td>\n",
       "      <td>...</td>\n",
       "      <td> 0</td>\n",
       "      <td> 0</td>\n",
       "      <td> 1</td>\n",
       "      <td> 0</td>\n",
       "      <td> 0</td>\n",
       "      <td> 0</td>\n",
       "      <td> 0</td>\n",
       "      <td> 1</td>\n",
       "      <td> 0</td>\n",
       "      <td> 1.945910</td>\n",
       "    </tr>\n",
       "    <tr>\n",
       "      <th>2</th>\n",
       "      <td> 0</td>\n",
       "      <td> 0</td>\n",
       "      <td> 1</td>\n",
       "      <td> 0</td>\n",
       "      <td> 62.0</td>\n",
       "      <td> 0</td>\n",
       "      <td> 1</td>\n",
       "      <td> 0</td>\n",
       "      <td> 1</td>\n",
       "      <td> 0</td>\n",
       "      <td>...</td>\n",
       "      <td> 0</td>\n",
       "      <td> 0</td>\n",
       "      <td> 1</td>\n",
       "      <td> 0</td>\n",
       "      <td> 0</td>\n",
       "      <td> 0</td>\n",
       "      <td> 0</td>\n",
       "      <td> 0</td>\n",
       "      <td> 1</td>\n",
       "      <td> 2.270836</td>\n",
       "    </tr>\n",
       "    <tr>\n",
       "      <th>3</th>\n",
       "      <td> 0</td>\n",
       "      <td> 0</td>\n",
       "      <td> 1</td>\n",
       "      <td> 0</td>\n",
       "      <td> 27.0</td>\n",
       "      <td> 0</td>\n",
       "      <td> 0</td>\n",
       "      <td> 1</td>\n",
       "      <td> 1</td>\n",
       "      <td> 0</td>\n",
       "      <td>...</td>\n",
       "      <td> 0</td>\n",
       "      <td> 0</td>\n",
       "      <td> 1</td>\n",
       "      <td> 0</td>\n",
       "      <td> 0</td>\n",
       "      <td> 0</td>\n",
       "      <td> 0</td>\n",
       "      <td> 0</td>\n",
       "      <td> 1</td>\n",
       "      <td> 2.159003</td>\n",
       "    </tr>\n",
       "    <tr>\n",
       "      <th>4</th>\n",
       "      <td> 0</td>\n",
       "      <td> 0</td>\n",
       "      <td> 0</td>\n",
       "      <td> 1</td>\n",
       "      <td> 22.0</td>\n",
       "      <td> 0</td>\n",
       "      <td> 0</td>\n",
       "      <td> 1</td>\n",
       "      <td> 0</td>\n",
       "      <td> 1</td>\n",
       "      <td>...</td>\n",
       "      <td> 0</td>\n",
       "      <td> 0</td>\n",
       "      <td> 0</td>\n",
       "      <td> 1</td>\n",
       "      <td> 0</td>\n",
       "      <td> 0</td>\n",
       "      <td> 0</td>\n",
       "      <td> 1</td>\n",
       "      <td> 0</td>\n",
       "      <td> 2.508582</td>\n",
       "    </tr>\n",
       "  </tbody>\n",
       "</table>\n",
       "<p>5 rows × 21 columns</p>\n",
       "</div>"
      ],
      "text/plain": [
       "   title_Master  title_Miss  title_Mr  title_Mrs  AgeFill  pclass_1  pclass_2  \\\n",
       "0             0           0         1          0     34.5         0         0   \n",
       "1             0           0         0          1     47.0         0         0   \n",
       "2             0           0         1          0     62.0         0         1   \n",
       "3             0           0         1          0     27.0         0         0   \n",
       "4             0           0         0          1     22.0         0         0   \n",
       "\n",
       "   pclass_3  sibsp_0  sibsp_1   ...     sibsp_3  sibsp_4  parch_0  parch_1  \\\n",
       "0         1        1        0   ...           0        0        1        0   \n",
       "1         1        0        1   ...           0        0        1        0   \n",
       "2         0        1        0   ...           0        0        1        0   \n",
       "3         1        1        0   ...           0        0        1        0   \n",
       "4         1        0        1   ...           0        0        0        1   \n",
       "\n",
       "   parch_2  parch_3  parch_4  male  female  FareFill  \n",
       "0        0        0        0     0       1  2.057860  \n",
       "1        0        0        0     1       0  1.945910  \n",
       "2        0        0        0     0       1  2.270836  \n",
       "3        0        0        0     0       1  2.159003  \n",
       "4        0        0        0     1       0  2.508582  \n",
       "\n",
       "[5 rows x 21 columns]"
      ]
     },
     "execution_count": 129,
     "metadata": {},
     "output_type": "execute_result"
    }
   ],
   "source": [
    "Y.head()"
   ]
  },
  {
   "cell_type": "code",
   "execution_count": 153,
   "metadata": {
    "collapsed": false
   },
   "outputs": [],
   "source": [
    "submit_data.to_csv('./submit_20150312_grid_8.csv', index=False)"
   ]
  },
  {
   "cell_type": "code",
   "execution_count": 37,
   "metadata": {
    "collapsed": true
   },
   "outputs": [],
   "source": [
    "!open ."
   ]
  },
  {
   "cell_type": "code",
   "execution_count": null,
   "metadata": {
    "collapsed": true
   },
   "outputs": [],
   "source": []
  }
 ],
 "metadata": {
  "kernelspec": {
   "display_name": "Python 2",
   "language": "python",
   "name": "python2"
  },
  "language_info": {
   "codemirror_mode": {
    "name": "ipython",
    "version": 2
   },
   "file_extension": ".py",
   "mimetype": "text/x-python",
   "name": "python",
   "nbconvert_exporter": "python",
   "pygments_lexer": "ipython2",
   "version": "2.7.9"
  }
 },
 "nbformat": 4,
 "nbformat_minor": 0
}
