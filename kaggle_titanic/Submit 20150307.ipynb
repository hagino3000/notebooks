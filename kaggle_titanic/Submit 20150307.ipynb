{
 "cells": [
  {
   "cell_type": "code",
   "execution_count": 1,
   "metadata": {
    "collapsed": true
   },
   "outputs": [],
   "source": [
    "from sklearn.cross_validation import train_test_split, cross_val_score, KFold\n",
    "from sklearn.linear_model import LogisticRegression\n",
    "from sklearn.metrics import accuracy_scoreore, classification_report, confusion_matrix\n",
    "from sklearn.tree import DecisionTreeClassifier\n",
    "from sklearn.ensemble import RandomForestClassifier"
   ]
  },
  {
   "cell_type": "code",
   "execution_count": 2,
   "metadata": {
    "collapsed": true
   },
   "outputs": [],
   "source": [
    "def plot_confusion_matrix(cm):\n",
    "    fig, ax = plt.subplots()\n",
    "    im = ax.imshow(cm, interpolation='nearest', cmap=plt.cm.Blues)\n",
    "    ax.set_title('Confusion Matrix')\n",
    "    fig.colorbar(im)\n",
    "\n",
    "    target_names = ['not survived', 'survived']\n",
    "\n",
    "    tick_marks = np.arange(len(target_names))\n",
    "    ax.set_xticks(tick_marks)\n",
    "    ax.set_xticklabels(target_names, rotation=45)\n",
    "    ax.set_yticks(tick_marks)\n",
    "    ax.set_yticklabels(target_names)\n",
    "    ax.set_ylabel('True label')\n",
    "    ax.set_xlabel('Predicted label')\n",
    "    fig.tight_layout()"
   ]
  },
  {
   "cell_type": "code",
   "execution_count": 3,
   "metadata": {
    "collapsed": true
   },
   "outputs": [],
   "source": [
    "df_train = pd.read_csv('./train.csv')\n",
    "df_test = pd.read_csv('./test.csv')"
   ]
  },
  {
   "cell_type": "code",
   "execution_count": 4,
   "metadata": {
    "collapsed": false
   },
   "outputs": [
    {
     "data": {
      "text/html": [
       "<div style=\"max-height:1000px;max-width:1500px;overflow:auto;\">\n",
       "<table border=\"1\" class=\"dataframe\">\n",
       "  <thead>\n",
       "    <tr style=\"text-align: right;\">\n",
       "      <th></th>\n",
       "      <th>Survived</th>\n",
       "      <th>Pclass</th>\n",
       "      <th>Sex</th>\n",
       "      <th>Age</th>\n",
       "      <th>SibSp</th>\n",
       "      <th>Parch</th>\n",
       "      <th>Ticket</th>\n",
       "      <th>Fare</th>\n",
       "      <th>Cabin</th>\n",
       "      <th>Embarked</th>\n",
       "    </tr>\n",
       "  </thead>\n",
       "  <tbody>\n",
       "    <tr>\n",
       "      <th>0</th>\n",
       "      <td> 0</td>\n",
       "      <td> 3</td>\n",
       "      <td>   male</td>\n",
       "      <td> 22</td>\n",
       "      <td> 1</td>\n",
       "      <td> 0</td>\n",
       "      <td> A/5 21171</td>\n",
       "      <td>  7.2500</td>\n",
       "      <td> NaN</td>\n",
       "      <td> S</td>\n",
       "    </tr>\n",
       "    <tr>\n",
       "      <th>1</th>\n",
       "      <td> 1</td>\n",
       "      <td> 1</td>\n",
       "      <td> female</td>\n",
       "      <td> 38</td>\n",
       "      <td> 1</td>\n",
       "      <td> 0</td>\n",
       "      <td>  PC 17599</td>\n",
       "      <td> 71.2833</td>\n",
       "      <td> C85</td>\n",
       "      <td> C</td>\n",
       "    </tr>\n",
       "  </tbody>\n",
       "</table>\n",
       "</div>"
      ],
      "text/plain": [
       "   Survived  Pclass     Sex  Age  SibSp  Parch     Ticket     Fare Cabin  \\\n",
       "0         0       3    male   22      1      0  A/5 21171   7.2500   NaN   \n",
       "1         1       1  female   38      1      0   PC 17599  71.2833   C85   \n",
       "\n",
       "  Embarked  \n",
       "0        S  \n",
       "1        C  "
      ]
     },
     "execution_count": 4,
     "metadata": {},
     "output_type": "execute_result"
    }
   ],
   "source": [
    "df_train.drop('PassengerId', axis=1, inplace=True)\n",
    "df_train.drop('Name', axis=1, inplace=True)\n",
    "df_train.head(2)"
   ]
  },
  {
   "cell_type": "code",
   "execution_count": 5,
   "metadata": {
    "collapsed": false
   },
   "outputs": [],
   "source": [
    "#df_train.groupby([df_train.Pclass, df_train.Sex]).Age.mean()"
   ]
  },
  {
   "cell_type": "code",
   "execution_count": 6,
   "metadata": {
    "collapsed": true
   },
   "outputs": [],
   "source": [
    "def fill_fare(df):\n",
    "    df['Fare'].fillna(0, inplace=True)\n",
    "    df['FareFill'] = df.Fare\n",
    "    df.FareFill[(df.Fare == 0) & (df.Pclass == 1)] = 86\n",
    "    df.FareFill[(df.Fare == 0) & (df.Pclass == 2)] = 21\n",
    "    df.FareFill[(df.Fare == 0) & (df.Pclass == 3)] = 13\n",
    "    df.FareFill = df.FareFill.apply(lambda f:np.log(f))\n",
    "    return df"
   ]
  },
  {
   "cell_type": "code",
   "execution_count": 7,
   "metadata": {
    "collapsed": false
   },
   "outputs": [],
   "source": [
    "def fill_age(df):\n",
    "    df['AgeFill'] = df.Age\n",
    "    df.AgeFill[df.Age.isnull() & (df.Sex == 'male') & (df.Pclass == 1)] = 41\n",
    "    df.AgeFill[df.Age.isnull() & (df.Sex == 'male') & (df.Pclass == 2)] = 30\n",
    "    df.AgeFill[df.Age.isnull() & (df.Sex == 'male') & (df.Pclass == 3)] = 26\n",
    "    df.AgeFill[df.Age.isnull() & (df.Sex == 'female') & (df.Pclass == 1)] = 34\n",
    "    df.AgeFill[df.Age.isnull() & (df.Sex == 'female') & (df.Pclass == 2)] = 28\n",
    "    df.AgeFill[df.Age.isnull() & (df.Sex == 'female') & (df.Pclass == 3)] = 21\n",
    "    return df"
   ]
  },
  {
   "cell_type": "code",
   "execution_count": 8,
   "metadata": {
    "collapsed": true
   },
   "outputs": [],
   "source": [
    "def extract_embarked(df):\n",
    "    df['is_cherbourg'] = 0\n",
    "    df.is_cherbourg = df.Embarked.apply(lambda e: 1 if e == 'C' else 0)\n",
    "    return df"
   ]
  },
  {
   "cell_type": "code",
   "execution_count": 9,
   "metadata": {
    "collapsed": false
   },
   "outputs": [],
   "source": [
    "def extract_pclass(df):\n",
    "    pclass_new = pd.get_dummies(df.Pclass)\n",
    "    pclass_new.rename(columns=lambda x: 'pclass' + \"_\" + str(x), inplace=True)\n",
    "    df = df.join(pclass_new)\n",
    "    return df"
   ]
  },
  {
   "cell_type": "code",
   "execution_count": 17,
   "metadata": {
    "collapsed": true
   },
   "outputs": [],
   "source": [
    "def classfy_cabin(cabin_str):\n",
    "    if cabin_str == 'X':\n",
    "        return 'X'\n",
    "    try:\n",
    "        deck = cabin_str[0]\n",
    "    except:\n",
    "        return 'X'\n",
    "\n",
    "def extract_cabin(df):\n",
    "    df['CCabin'] = df.Cabin\n",
    "    df.CCabin[df.Cabin.isnull()] = 'X'\n",
    "    df['hasCabin'] = df.CCabin.apply(lambda c: 0 if c == 'X' else 1)\n",
    "    return df\n",
    "    #dummies = pd.get_dummies(df.CCabin.apply(lambda c:classfy_cabin(c)))\n",
    "    #dummies.drop('X', axis=1, inplace=True)\n",
    "    #dummies.rename(columns=lambda x: 'cabin' + \"_\" + str(x), inplace=True)\n",
    "    #return df.join(dummies)"
   ]
  },
  {
   "cell_type": "code",
   "execution_count": 18,
   "metadata": {
    "collapsed": true
   },
   "outputs": [],
   "source": [
    "def convert_sex(df):\n",
    "    df['Gender'] = df.Sex.apply(lambda s: 0 if s == 'male' else 1)\n",
    "    return df"
   ]
  },
  {
   "cell_type": "code",
   "execution_count": 19,
   "metadata": {
    "collapsed": false
   },
   "outputs": [],
   "source": [
    "def extract_feature(df):\n",
    "    df = fill_age(df)\n",
    "    #df = extract_embarked(df)\n",
    "    df = extract_pclass(df)\n",
    "    df = convert_sex(df)\n",
    "    df = fill_fare(df)\n",
    "    df = extract_cabin(df)\n",
    "    cols = df.columns\n",
    "    drop_cols = set(cols).intersection(set(['PassengerId', 'Name', 'SibSp', 'Ticket', 'Fare', 'Pclass', 'Survived', 'Parch', 'Sex', 'Age', 'Ticket', 'Cabin', 'Embarked', 'CCabin']))\n",
    "    return df.drop(drop_cols, axis=1)"
   ]
  },
  {
   "cell_type": "code",
   "execution_count": 20,
   "metadata": {
    "collapsed": true
   },
   "outputs": [],
   "source": [
    "def get_classifier():\n",
    "    clf = LogisticRegression(C=100, penalty='l2', tol=0.01)\n",
    "    #clf = RandomForestClassifier()\n",
    "    #clf = DecisionTreeClassifier(criterion='entropy', max_depth=3, min_samples_leaf=2)\n",
    "    return clf"
   ]
  },
  {
   "cell_type": "code",
   "execution_count": 21,
   "metadata": {
    "collapsed": false
   },
   "outputs": [],
   "source": [
    "def calc_classifier(df):\n",
    "    X_train = extract_feature(df)\n",
    "    y_train = df['Survived']\n",
    "    X_train, X_val, y_train, y_val = train_test_split(X_train, y_train, train_size=0.8, random_state=0)\n",
    "    print('Num of Training Samples: {}'.format(len(X_train)))\n",
    "    print('Num of Validation Samples: {}'.format(len(X_val)))\n",
    "    \n",
    "    clf = get_classifier()\n",
    "    clf.fit(X_train, y_train)\n",
    "    y_train_pred = clf.predict(X_train)\n",
    "    y_val_pred = clf.predict(X_val)\n",
    "    print('Accuracy on Training Set: {:.3f}'.format(accuracy_score(y_train, y_train_pred)))\n",
    "    print('Accuracy on Validation Set: {:.3f}'.format(accuracy_score(y_val, y_val_pred)))\n",
    "    cm = confusion_matrix(y_val, y_val_pred)\n",
    "    return clf"
   ]
  },
  {
   "cell_type": "code",
   "execution_count": 22,
   "metadata": {
    "collapsed": false
   },
   "outputs": [],
   "source": [
    "def cross_val(X, y, K, random_state=0, clf=None, ):\n",
    "    if clf is None:\n",
    "        clf = get_classifier()\n",
    "    cv = KFold(len(y), K, shuffle=True, random_state=random_state)\n",
    "    scores = cross_val_score(clf, X, y, cv=cv)\n",
    "    print('Scores:', scores)\n",
    "    print('Mean Score: {0:.3f} (+/-{1:.3f})'.format(scores.mean(), scores.std()*2))\n",
    "    return scores"
   ]
  },
  {
   "cell_type": "code",
   "execution_count": 23,
   "metadata": {
    "collapsed": false
   },
   "outputs": [
    {
     "name": "stdout",
     "output_type": "stream",
     "text": [
      "('Scores:', array([ 0.79888268,  0.78651685,  0.79213483,  0.80898876,  0.75842697]))\n",
      "Mean Score: 0.789 (+/-0.034)\n"
     ]
    },
    {
     "data": {
      "text/plain": [
       "array([ 0.79888268,  0.78651685,  0.79213483,  0.80898876,  0.75842697])"
      ]
     },
     "execution_count": 23,
     "metadata": {},
     "output_type": "execute_result"
    }
   ],
   "source": [
    "X_train = extract_feature(df_train)\n",
    "y_train = df_train.Survived\n",
    "#cross_val(X_train, y_train, 5, clf=LogisticRegression(C=100, penalty='l2', tol=0.01))\n",
    "#cross_val(X_train, y_train, 5, clf=LogisticRegression(C=10, penalty='l2', tol=0.01))\n",
    "#cross_val(X_train, y_train, 5, clf=LogisticRegression(C=1, penalty='l2', tol=0.01))\n",
    "#cross_val(X_train, y_train, 5, clf=LogisticRegression(C=100, penalty='l1', tol=0.01))\n",
    "#cross_val(X_train, y_train, 5, clf=LogisticRegression(C=10, penalty='l1', tol=0.01))\n",
    "cross_val(X_train, y_train, 5, clf=LogisticRegression(C=0.1, penalty='l2', tol=0.01))"
   ]
  },
  {
   "cell_type": "code",
   "execution_count": 24,
   "metadata": {
    "collapsed": false
   },
   "outputs": [
    {
     "name": "stdout",
     "output_type": "stream",
     "text": [
      "Num of Training Samples: 712\n",
      "Num of Validation Samples: 179\n",
      "Accuracy on Training Set: 0.812\n",
      "Accuracy on Validation Set: 0.816\n"
     ]
    }
   ],
   "source": [
    "clf = calc_classifier(df_train)"
   ]
  },
  {
   "cell_type": "code",
   "execution_count": 25,
   "metadata": {
    "collapsed": false
   },
   "outputs": [
    {
     "data": {
      "text/html": [
       "<div style=\"max-height:1000px;max-width:1500px;overflow:auto;\">\n",
       "<table border=\"1\" class=\"dataframe\">\n",
       "  <thead>\n",
       "    <tr style=\"text-align: right;\">\n",
       "      <th></th>\n",
       "      <th>AgeFill</th>\n",
       "      <th>pclass_1</th>\n",
       "      <th>pclass_2</th>\n",
       "      <th>pclass_3</th>\n",
       "      <th>Gender</th>\n",
       "      <th>FareFill</th>\n",
       "      <th>hasCabin</th>\n",
       "    </tr>\n",
       "  </thead>\n",
       "  <tbody>\n",
       "    <tr>\n",
       "      <th>0</th>\n",
       "      <td> 22</td>\n",
       "      <td> 0</td>\n",
       "      <td> 0</td>\n",
       "      <td> 1</td>\n",
       "      <td> 0</td>\n",
       "      <td> 1.981001</td>\n",
       "      <td> 0</td>\n",
       "    </tr>\n",
       "    <tr>\n",
       "      <th>1</th>\n",
       "      <td> 38</td>\n",
       "      <td> 1</td>\n",
       "      <td> 0</td>\n",
       "      <td> 0</td>\n",
       "      <td> 1</td>\n",
       "      <td> 4.266662</td>\n",
       "      <td> 1</td>\n",
       "    </tr>\n",
       "    <tr>\n",
       "      <th>2</th>\n",
       "      <td> 26</td>\n",
       "      <td> 0</td>\n",
       "      <td> 0</td>\n",
       "      <td> 1</td>\n",
       "      <td> 1</td>\n",
       "      <td> 2.070022</td>\n",
       "      <td> 0</td>\n",
       "    </tr>\n",
       "    <tr>\n",
       "      <th>3</th>\n",
       "      <td> 35</td>\n",
       "      <td> 1</td>\n",
       "      <td> 0</td>\n",
       "      <td> 0</td>\n",
       "      <td> 1</td>\n",
       "      <td> 3.972177</td>\n",
       "      <td> 1</td>\n",
       "    </tr>\n",
       "    <tr>\n",
       "      <th>4</th>\n",
       "      <td> 35</td>\n",
       "      <td> 0</td>\n",
       "      <td> 0</td>\n",
       "      <td> 1</td>\n",
       "      <td> 0</td>\n",
       "      <td> 2.085672</td>\n",
       "      <td> 0</td>\n",
       "    </tr>\n",
       "  </tbody>\n",
       "</table>\n",
       "</div>"
      ],
      "text/plain": [
       "   AgeFill  pclass_1  pclass_2  pclass_3  Gender  FareFill  hasCabin\n",
       "0       22         0         0         1       0  1.981001         0\n",
       "1       38         1         0         0       1  4.266662         1\n",
       "2       26         0         0         1       1  2.070022         0\n",
       "3       35         1         0         0       1  3.972177         1\n",
       "4       35         0         0         1       0  2.085672         0"
      ]
     },
     "execution_count": 25,
     "metadata": {},
     "output_type": "execute_result"
    }
   ],
   "source": [
    "X_train.head(5)"
   ]
  },
  {
   "cell_type": "code",
   "execution_count": 103,
   "metadata": {
    "collapsed": false
   },
   "outputs": [
    {
     "name": "stdout",
     "output_type": "stream",
     "text": [
      "Index([u'PassengerId', u'Pclass', u'Name', u'Sex', u'Age', u'SibSp', u'Parch', u'Ticket', u'Fare', u'Cabin', u'Embarked', u'AgeFill', u'pclass_1', u'pclass_2', u'pclass_3', u'Gender', u'FareFill', u'CCabin', u'cabin_A', u'cabin_B', u'cabin_C'], dtype='object')\n",
      "set(['Fare', 'Name', 'Embarked', 'Age', 'Parch', 'Pclass', 'Sex', 'CCabin', 'SibSp', 'PassengerId', 'Ticket', 'Cabin'])\n"
     ]
    }
   ],
   "source": [
    "Y = extract_feature(df_test)\n",
    "df_test['Survived'] = clf.predict(Y)\n",
    "submit_data = df_test[['PassengerId', 'Survived']]"
   ]
  },
  {
   "cell_type": "code",
   "execution_count": 104,
   "metadata": {
    "collapsed": false
   },
   "outputs": [
    {
     "data": {
      "text/html": [
       "<div style=\"max-height:1000px;max-width:1500px;overflow:auto;\">\n",
       "<table border=\"1\" class=\"dataframe\">\n",
       "  <thead>\n",
       "    <tr style=\"text-align: right;\">\n",
       "      <th></th>\n",
       "      <th>AgeFill</th>\n",
       "      <th>pclass_1</th>\n",
       "      <th>pclass_2</th>\n",
       "      <th>pclass_3</th>\n",
       "      <th>Gender</th>\n",
       "      <th>FareFill</th>\n",
       "      <th>cabin_A</th>\n",
       "      <th>cabin_B</th>\n",
       "      <th>cabin_C</th>\n",
       "    </tr>\n",
       "  </thead>\n",
       "  <tbody>\n",
       "    <tr>\n",
       "      <th>0</th>\n",
       "      <td> 34.5</td>\n",
       "      <td> 0</td>\n",
       "      <td> 0</td>\n",
       "      <td> 1</td>\n",
       "      <td> 0</td>\n",
       "      <td> 2.057860</td>\n",
       "      <td> 0</td>\n",
       "      <td> 0</td>\n",
       "      <td> 0</td>\n",
       "    </tr>\n",
       "    <tr>\n",
       "      <th>1</th>\n",
       "      <td> 47.0</td>\n",
       "      <td> 0</td>\n",
       "      <td> 0</td>\n",
       "      <td> 1</td>\n",
       "      <td> 1</td>\n",
       "      <td> 1.945910</td>\n",
       "      <td> 0</td>\n",
       "      <td> 0</td>\n",
       "      <td> 0</td>\n",
       "    </tr>\n",
       "    <tr>\n",
       "      <th>2</th>\n",
       "      <td> 62.0</td>\n",
       "      <td> 0</td>\n",
       "      <td> 1</td>\n",
       "      <td> 0</td>\n",
       "      <td> 0</td>\n",
       "      <td> 2.270836</td>\n",
       "      <td> 0</td>\n",
       "      <td> 0</td>\n",
       "      <td> 0</td>\n",
       "    </tr>\n",
       "    <tr>\n",
       "      <th>3</th>\n",
       "      <td> 27.0</td>\n",
       "      <td> 0</td>\n",
       "      <td> 0</td>\n",
       "      <td> 1</td>\n",
       "      <td> 0</td>\n",
       "      <td> 2.159003</td>\n",
       "      <td> 0</td>\n",
       "      <td> 0</td>\n",
       "      <td> 0</td>\n",
       "    </tr>\n",
       "    <tr>\n",
       "      <th>4</th>\n",
       "      <td> 22.0</td>\n",
       "      <td> 0</td>\n",
       "      <td> 0</td>\n",
       "      <td> 1</td>\n",
       "      <td> 1</td>\n",
       "      <td> 2.508582</td>\n",
       "      <td> 0</td>\n",
       "      <td> 0</td>\n",
       "      <td> 0</td>\n",
       "    </tr>\n",
       "  </tbody>\n",
       "</table>\n",
       "</div>"
      ],
      "text/plain": [
       "   AgeFill  pclass_1  pclass_2  pclass_3  Gender  FareFill  cabin_A  cabin_B  \\\n",
       "0     34.5         0         0         1       0  2.057860        0        0   \n",
       "1     47.0         0         0         1       1  1.945910        0        0   \n",
       "2     62.0         0         1         0       0  2.270836        0        0   \n",
       "3     27.0         0         0         1       0  2.159003        0        0   \n",
       "4     22.0         0         0         1       1  2.508582        0        0   \n",
       "\n",
       "   cabin_C  \n",
       "0        0  \n",
       "1        0  \n",
       "2        0  \n",
       "3        0  \n",
       "4        0  "
      ]
     },
     "execution_count": 104,
     "metadata": {},
     "output_type": "execute_result"
    }
   ],
   "source": [
    "Y.head()"
   ]
  },
  {
   "cell_type": "code",
   "execution_count": 105,
   "metadata": {
    "collapsed": false
   },
   "outputs": [],
   "source": [
    "submit_data.to_csv('./submit_simple_log2_logfare_emb.csv', index=False)"
   ]
  },
  {
   "cell_type": "code",
   "execution_count": null,
   "metadata": {
    "collapsed": true
   },
   "outputs": [],
   "source": []
  },
  {
   "cell_type": "code",
   "execution_count": null,
   "metadata": {
    "collapsed": true
   },
   "outputs": [],
   "source": []
  }
 ],
 "metadata": {
  "kernelspec": {
   "display_name": "Python 2",
   "language": "python",
   "name": "python2"
  },
  "language_info": {
   "codemirror_mode": {
    "name": "ipython",
    "version": 2
   },
   "file_extension": ".py",
   "mimetype": "text/x-python",
   "name": "python",
   "nbconvert_exporter": "python",
   "pygments_lexer": "ipython2",
   "version": "2.7.9"
  }
 },
 "nbformat": 4,
 "nbformat_minor": 0
}
