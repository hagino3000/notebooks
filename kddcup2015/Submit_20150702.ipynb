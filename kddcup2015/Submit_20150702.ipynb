{
 "cells": [
  {
   "cell_type": "markdown",
   "metadata": {},
   "source": [
    "# Add grid search\n",
    "\n",
    "素性\n",
    "\n",
    "- course_id\n",
    "- period (enrollしてからコースの終了までの日数)\n",
    "- access回数\n",
    "- discussion回数\n",
    "- navigate回数\n",
    "- page_close回数"
   ]
  },
  {
   "cell_type": "code",
   "execution_count": 1,
   "metadata": {
    "collapsed": true
   },
   "outputs": [],
   "source": [
    "from datetime import datetime\n",
    "\n",
    "from sklearn.cross_validation import train_test_split, cross_val_score, KFold\n",
    "from sklearn.linear_model import LogisticRegression\n",
    "from sklearn.linear_model import LinearRegression\n",
    "from sklearn.svm import LinearSVC\n",
    "from sklearn.grid_search import GridSearchCV\n",
    "from sklearn.metrics import accuracy_score, classification_report, confusion_matrix\n",
    "from sklearn.tree import DecisionTreeClassifier\n",
    "from sklearn.ensemble import RandomForestClassifier"
   ]
  },
  {
   "cell_type": "code",
   "execution_count": 2,
   "metadata": {
    "collapsed": false
   },
   "outputs": [],
   "source": [
    "courses = pd.read_csv('./data/date.csv', index_col='course_id')\n",
    "courses['to_date'] = courses['to'].apply(lambda d:datetime.strptime(d, '%Y-%m-%d'))\n",
    "courses['from_date'] = courses['from'].apply(lambda d:datetime.strptime(d, '%Y-%m-%d'))"
   ]
  },
  {
   "cell_type": "code",
   "execution_count": 3,
   "metadata": {
    "collapsed": true
   },
   "outputs": [],
   "source": [
    "modules = pd.read_csv('./data/object.csv')"
   ]
  },
  {
   "cell_type": "code",
   "execution_count": 4,
   "metadata": {
    "collapsed": true
   },
   "outputs": [],
   "source": [
    "train_enroll_df = pd.read_csv('./data/train/enrollment_train.csv', index_col='enrollment_id')\n",
    "train_log_df = pd.read_csv('./data/train/log_train.csv')"
   ]
  },
  {
   "cell_type": "code",
   "execution_count": 5,
   "metadata": {
    "collapsed": false
   },
   "outputs": [],
   "source": [
    "#modules.groupby(['course_id', 'category']).category.count()"
   ]
  },
  {
   "cell_type": "code",
   "execution_count": 6,
   "metadata": {
    "collapsed": false
   },
   "outputs": [],
   "source": [
    "train_y = pd.read_csv('./data/train/truth_train.csv', header=None, names=('enrollment_id', 'dropout'), index_col='enrollment_id')"
   ]
  },
  {
   "cell_type": "code",
   "execution_count": 7,
   "metadata": {
    "collapsed": true
   },
   "outputs": [],
   "source": [
    "def extract_features(enroll_df, log_df):\n",
    "    # enroll毎のlogの最初の時刻をenroll日時とする\n",
    "    enroll_date = log_df.groupby('enrollment_id').time.first().apply(lambda d:datetime.strptime(d, '%Y-%m-%dT%H:%M:%S'))\n",
    "    enroll_df['enroll_date'] = enroll_date\n",
    "    \n",
    "    # enrollしてからコースの終了までの期間\n",
    "    tmp = enroll_df.join(courses['to_date'], on='course_id')\n",
    "    enroll_df['period'] = (tmp['to_date'] - tmp['enroll_date']).apply(lambda d:d/np.timedelta64(1, 'D'))\n",
    "    \n",
    "    tmp = log_df.groupby(['enrollment_id', 'event']).event.count()\n",
    "    events = pd.DataFrame(tmp).unstack().event.fillna(0)\n",
    "    \n",
    "    x = enroll_df.join(events)\n",
    "    x = x[['period', 'access', 'discussion', 'navigate', 'page_close', 'problem', 'video', 'wiki']]\n",
    "    d = pd.get_dummies(enroll_df.course_id)\n",
    "    return x.join(d)"
   ]
  },
  {
   "cell_type": "code",
   "execution_count": 8,
   "metadata": {
    "collapsed": false
   },
   "outputs": [],
   "source": [
    "X_train = extract_features(train_enroll_df, train_log_df)\n",
    "y_train = train_y.dropout"
   ]
  },
  {
   "cell_type": "code",
   "execution_count": 9,
   "metadata": {
    "collapsed": true
   },
   "outputs": [],
   "source": [
    "def cross_val(X, y, K, random_state=0, clf=None):\n",
    "    cv = KFold(len(y), K, shuffle=True, random_state=random_state)\n",
    "    scores = cross_val_score(clf, X, y, cv=cv)\n",
    "    print('Scores:', scores)\n",
    "    print('Mean Score: {0:.3f} (+/-{1:.3f})'.format(scores.mean(), scores.std()*2))\n",
    "    return scores"
   ]
  },
  {
   "cell_type": "code",
   "execution_count": 10,
   "metadata": {
    "collapsed": true
   },
   "outputs": [],
   "source": [
    "def grid_search_logi(X_train, y_train):\n",
    "    X_train, X_val, y_train, y_val = train_test_split(X_train, y_train, train_size=0.83, random_state=19)\n",
    "    \n",
    "    test_parameters = [\n",
    "        {'penalty': ['l1', 'l2'], 'C': [1, 0.1, 0.01]},\n",
    "    ]\n",
    "    clf = GridSearchCV(\n",
    "        LogisticRegression(),\n",
    "        test_parameters,\n",
    "        cv=20,\n",
    "        scoring='accuracy',\n",
    "        n_jobs=-1\n",
    "    )\n",
    "    clf.fit(X_train, y_train)\n",
    "    print clf.best_estimator_\n",
    "    \n",
    "    print\"\\n+ トレーニングデータでCVした時の平均スコア:\\n\"\n",
    "    for params, mean_score, all_scores in clf.grid_scores_:\n",
    "        print \"{:.3f} (+/- {:.3f}) for {}\".format(mean_score, all_scores.std() / 2, params)\n",
    "\n",
    "    print \"\\n+ テストデータでの識別結果:\\n\"\n",
    "    y_true, y_pred = y_val, clf.predict(X_val)\n",
    "    print classification_report(y_true, y_pred)\n",
    "    return clf"
   ]
  },
  {
   "cell_type": "code",
   "execution_count": 11,
   "metadata": {
    "collapsed": true
   },
   "outputs": [],
   "source": [
    "def calc_classifier(enroll_df, log_df, y_train, clf=None):\n",
    "    X_train = extract_features(enroll_df, log_df)\n",
    "    X_train, X_val, y_train, y_val = train_test_split(X_train, y_train, train_size=0.9, random_state=19)\n",
    "    print('Num of Training Samples: {}'.format(len(X_train)))\n",
    "    print('Num of Validation Samples: {}'.format(len(X_val)))\n",
    "    \n",
    "    if clf is None:\n",
    "        clf = get_classifier()\n",
    "    clf.fit(X_train, y_train)\n",
    "    y_train_pred = clf.predict(X_train)\n",
    "    y_val_pred = clf.predict(X_val)\n",
    "    print('Accuracy on Training Set: {:.3f}'.format(accuracy_score(y_train, y_train_pred)))\n",
    "    print('Accuracy on Validation Set: {:.3f}'.format(accuracy_score(y_val, y_val_pred)))\n",
    "    cm = confusion_matrix(y_val, y_val_pred)\n",
    "    return clf"
   ]
  },
  {
   "cell_type": "code",
   "execution_count": null,
   "metadata": {
    "collapsed": false
   },
   "outputs": [
    {
     "name": "stdout",
     "output_type": "stream",
     "text": [
      "LogisticRegression(C=1, class_weight=None, dual=False, fit_intercept=True,\n",
      "          intercept_scaling=1, penalty='l1', random_state=None, tol=0.0001)\n",
      "\n",
      "+ トレーニングデータでCVした時の平均スコア:\n",
      "\n",
      "0.855 (+/- 0.002) for {'penalty': 'l1', 'C': 1}\n",
      "0.855 (+/- 0.002) for {'penalty': 'l2', 'C': 1}\n",
      "0.855 (+/- 0.002) for {'penalty': 'l1', 'C': 0.1}\n",
      "0.855 (+/- 0.002) for {'penalty': 'l2', 'C': 0.1}\n",
      "0.853 (+/- 0.002) for {'penalty': 'l1', 'C': 0.01}\n",
      "0.854 (+/- 0.002) for {'penalty': 'l2', 'C': 0.01}\n",
      "\n",
      "+ テストデータでの識別結果:\n",
      "\n",
      "             precision    recall  f1-score   support\n",
      "\n",
      "          0       0.79      0.43      0.56      4310\n",
      "          1       0.86      0.97      0.91     16183\n",
      "\n",
      "avg / total       0.85      0.86      0.84     20493\n",
      "\n"
     ]
    }
   ],
   "source": [
    "clf = grid_search_logi(X_train, y_train)"
   ]
  },
  {
   "cell_type": "code",
   "execution_count": null,
   "metadata": {
    "collapsed": true
   },
   "outputs": [],
   "source": [
    "cross_val(X_train, y_train, 5, clf=clf)"
   ]
  },
  {
   "cell_type": "code",
   "execution_count": null,
   "metadata": {
    "collapsed": false
   },
   "outputs": [],
   "source": [
    "#clf = calc_classifier(train_enroll_df, train_log_df, y_train, clf=LogisticRegression(C=0.5, penalty='l2', tol=0.01))"
   ]
  },
  {
   "cell_type": "code",
   "execution_count": 14,
   "metadata": {
    "collapsed": false
   },
   "outputs": [],
   "source": [
    "test_enroll_df = pd.read_csv('./data/test/enrollment_test.csv', index_col='enrollment_id')\n",
    "test_log_df = pd.read_csv('./data/test/log_test.csv')"
   ]
  },
  {
   "cell_type": "code",
   "execution_count": 15,
   "metadata": {
    "collapsed": false
   },
   "outputs": [],
   "source": [
    "X_test = extract_features(test_enroll_df, test_log_df)"
   ]
  },
  {
   "cell_type": "code",
   "execution_count": 16,
   "metadata": {
    "collapsed": false
   },
   "outputs": [
    {
     "data": {
      "text/html": [
       "<div style=\"max-height:1000px;max-width:1500px;overflow:auto;\">\n",
       "<table border=\"1\" class=\"dataframe\">\n",
       "  <thead>\n",
       "    <tr style=\"text-align: right;\">\n",
       "      <th></th>\n",
       "      <th>period</th>\n",
       "      <th>access</th>\n",
       "      <th>discussion</th>\n",
       "      <th>navigate</th>\n",
       "      <th>page_close</th>\n",
       "      <th>problem</th>\n",
       "      <th>video</th>\n",
       "      <th>wiki</th>\n",
       "      <th>1pvLqtotBsKv7QSOsLicJDQMHx3lui6d</th>\n",
       "      <th>3VkHkmOtom3jM2wCu94xgzzu1d6Dn7or</th>\n",
       "      <th>...</th>\n",
       "      <th>bWdj2GDclj5ofokWjzoa5jAwMkxCykd6</th>\n",
       "      <th>fbPkOYLVPtPgIt0MxizjfFJov3JbHyAi</th>\n",
       "      <th>gvEwgd64UX4t3K7ftZwXiMkFuxFUAqQE</th>\n",
       "      <th>mTmmr5zd8l4wXhwiULwjSmSbi9ktcFmV</th>\n",
       "      <th>nSfGxfEtzw5G72fVbfaowxsV46Pg1xIc</th>\n",
       "      <th>q6A6QG7qMpyNcznyT2XaIxnfNGkZRxXl</th>\n",
       "      <th>shM3Yy9vxHn2aqjSYfQXOcwGo0hWh3MI</th>\n",
       "      <th>tXbz2ZYaRyb2ZsWUBPoYzAmisOhHQrYl</th>\n",
       "      <th>xMd9DzNyUCTLRPVbwWVzf4vq06oqrTT1</th>\n",
       "      <th>ykoe1cCWK134BJmfbNoPEenJOIWdtQOZ</th>\n",
       "    </tr>\n",
       "    <tr>\n",
       "      <th>enrollment_id</th>\n",
       "      <th></th>\n",
       "      <th></th>\n",
       "      <th></th>\n",
       "      <th></th>\n",
       "      <th></th>\n",
       "      <th></th>\n",
       "      <th></th>\n",
       "      <th></th>\n",
       "      <th></th>\n",
       "      <th></th>\n",
       "      <th></th>\n",
       "      <th></th>\n",
       "      <th></th>\n",
       "      <th></th>\n",
       "      <th></th>\n",
       "      <th></th>\n",
       "      <th></th>\n",
       "      <th></th>\n",
       "      <th></th>\n",
       "      <th></th>\n",
       "      <th></th>\n",
       "    </tr>\n",
       "  </thead>\n",
       "  <tbody>\n",
       "    <tr>\n",
       "      <th>2 </th>\n",
       "      <td> 27.588322</td>\n",
       "      <td> 239</td>\n",
       "      <td> 324</td>\n",
       "      <td> 87</td>\n",
       "      <td> 143</td>\n",
       "      <td> 20</td>\n",
       "      <td> 50</td>\n",
       "      <td> 12</td>\n",
       "      <td> 0</td>\n",
       "      <td> 0</td>\n",
       "      <td>...</td>\n",
       "      <td> 0</td>\n",
       "      <td> 0</td>\n",
       "      <td> 0</td>\n",
       "      <td> 0</td>\n",
       "      <td> 0</td>\n",
       "      <td> 0</td>\n",
       "      <td> 0</td>\n",
       "      <td> 0</td>\n",
       "      <td> 0</td>\n",
       "      <td> 0</td>\n",
       "    </tr>\n",
       "    <tr>\n",
       "      <th>8 </th>\n",
       "      <td> 26.552627</td>\n",
       "      <td> 127</td>\n",
       "      <td>   7</td>\n",
       "      <td> 20</td>\n",
       "      <td>  90</td>\n",
       "      <td> 50</td>\n",
       "      <td> 58</td>\n",
       "      <td>  1</td>\n",
       "      <td> 0</td>\n",
       "      <td> 0</td>\n",
       "      <td>...</td>\n",
       "      <td> 0</td>\n",
       "      <td> 0</td>\n",
       "      <td> 0</td>\n",
       "      <td> 0</td>\n",
       "      <td> 0</td>\n",
       "      <td> 0</td>\n",
       "      <td> 0</td>\n",
       "      <td> 0</td>\n",
       "      <td> 0</td>\n",
       "      <td> 0</td>\n",
       "    </tr>\n",
       "    <tr>\n",
       "      <th>10</th>\n",
       "      <td>  8.997975</td>\n",
       "      <td>   0</td>\n",
       "      <td>   0</td>\n",
       "      <td>  2</td>\n",
       "      <td>   0</td>\n",
       "      <td>  0</td>\n",
       "      <td>  0</td>\n",
       "      <td>  0</td>\n",
       "      <td> 0</td>\n",
       "      <td> 0</td>\n",
       "      <td>...</td>\n",
       "      <td> 0</td>\n",
       "      <td> 0</td>\n",
       "      <td> 0</td>\n",
       "      <td> 0</td>\n",
       "      <td> 0</td>\n",
       "      <td> 0</td>\n",
       "      <td> 0</td>\n",
       "      <td> 0</td>\n",
       "      <td> 0</td>\n",
       "      <td> 0</td>\n",
       "    </tr>\n",
       "    <tr>\n",
       "      <th>11</th>\n",
       "      <td> 27.959595</td>\n",
       "      <td> 164</td>\n",
       "      <td>  27</td>\n",
       "      <td> 60</td>\n",
       "      <td>  20</td>\n",
       "      <td> 21</td>\n",
       "      <td>  4</td>\n",
       "      <td>  2</td>\n",
       "      <td> 0</td>\n",
       "      <td> 0</td>\n",
       "      <td>...</td>\n",
       "      <td> 0</td>\n",
       "      <td> 0</td>\n",
       "      <td> 0</td>\n",
       "      <td> 0</td>\n",
       "      <td> 0</td>\n",
       "      <td> 0</td>\n",
       "      <td> 0</td>\n",
       "      <td> 0</td>\n",
       "      <td> 0</td>\n",
       "      <td> 0</td>\n",
       "    </tr>\n",
       "    <tr>\n",
       "      <th>15</th>\n",
       "      <td> 13.934248</td>\n",
       "      <td>  30</td>\n",
       "      <td>   0</td>\n",
       "      <td> 11</td>\n",
       "      <td>   0</td>\n",
       "      <td>  4</td>\n",
       "      <td>  0</td>\n",
       "      <td>  0</td>\n",
       "      <td> 0</td>\n",
       "      <td> 0</td>\n",
       "      <td>...</td>\n",
       "      <td> 0</td>\n",
       "      <td> 0</td>\n",
       "      <td> 0</td>\n",
       "      <td> 0</td>\n",
       "      <td> 0</td>\n",
       "      <td> 0</td>\n",
       "      <td> 0</td>\n",
       "      <td> 0</td>\n",
       "      <td> 0</td>\n",
       "      <td> 0</td>\n",
       "    </tr>\n",
       "  </tbody>\n",
       "</table>\n",
       "<p>5 rows × 47 columns</p>\n",
       "</div>"
      ],
      "text/plain": [
       "                  period  access  discussion  navigate  page_close  problem  \\\n",
       "enrollment_id                                                                 \n",
       "2              27.588322     239         324        87         143       20   \n",
       "8              26.552627     127           7        20          90       50   \n",
       "10              8.997975       0           0         2           0        0   \n",
       "11             27.959595     164          27        60          20       21   \n",
       "15             13.934248      30           0        11           0        4   \n",
       "\n",
       "               video  wiki  1pvLqtotBsKv7QSOsLicJDQMHx3lui6d  \\\n",
       "enrollment_id                                                  \n",
       "2                 50    12                                 0   \n",
       "8                 58     1                                 0   \n",
       "10                 0     0                                 0   \n",
       "11                 4     2                                 0   \n",
       "15                 0     0                                 0   \n",
       "\n",
       "               3VkHkmOtom3jM2wCu94xgzzu1d6Dn7or  \\\n",
       "enrollment_id                                     \n",
       "2                                             0   \n",
       "8                                             0   \n",
       "10                                            0   \n",
       "11                                            0   \n",
       "15                                            0   \n",
       "\n",
       "                             ...                 \\\n",
       "enrollment_id                ...                  \n",
       "2                            ...                  \n",
       "8                            ...                  \n",
       "10                           ...                  \n",
       "11                           ...                  \n",
       "15                           ...                  \n",
       "\n",
       "               bWdj2GDclj5ofokWjzoa5jAwMkxCykd6  \\\n",
       "enrollment_id                                     \n",
       "2                                             0   \n",
       "8                                             0   \n",
       "10                                            0   \n",
       "11                                            0   \n",
       "15                                            0   \n",
       "\n",
       "               fbPkOYLVPtPgIt0MxizjfFJov3JbHyAi  \\\n",
       "enrollment_id                                     \n",
       "2                                             0   \n",
       "8                                             0   \n",
       "10                                            0   \n",
       "11                                            0   \n",
       "15                                            0   \n",
       "\n",
       "               gvEwgd64UX4t3K7ftZwXiMkFuxFUAqQE  \\\n",
       "enrollment_id                                     \n",
       "2                                             0   \n",
       "8                                             0   \n",
       "10                                            0   \n",
       "11                                            0   \n",
       "15                                            0   \n",
       "\n",
       "               mTmmr5zd8l4wXhwiULwjSmSbi9ktcFmV  \\\n",
       "enrollment_id                                     \n",
       "2                                             0   \n",
       "8                                             0   \n",
       "10                                            0   \n",
       "11                                            0   \n",
       "15                                            0   \n",
       "\n",
       "               nSfGxfEtzw5G72fVbfaowxsV46Pg1xIc  \\\n",
       "enrollment_id                                     \n",
       "2                                             0   \n",
       "8                                             0   \n",
       "10                                            0   \n",
       "11                                            0   \n",
       "15                                            0   \n",
       "\n",
       "               q6A6QG7qMpyNcznyT2XaIxnfNGkZRxXl  \\\n",
       "enrollment_id                                     \n",
       "2                                             0   \n",
       "8                                             0   \n",
       "10                                            0   \n",
       "11                                            0   \n",
       "15                                            0   \n",
       "\n",
       "               shM3Yy9vxHn2aqjSYfQXOcwGo0hWh3MI  \\\n",
       "enrollment_id                                     \n",
       "2                                             0   \n",
       "8                                             0   \n",
       "10                                            0   \n",
       "11                                            0   \n",
       "15                                            0   \n",
       "\n",
       "               tXbz2ZYaRyb2ZsWUBPoYzAmisOhHQrYl  \\\n",
       "enrollment_id                                     \n",
       "2                                             0   \n",
       "8                                             0   \n",
       "10                                            0   \n",
       "11                                            0   \n",
       "15                                            0   \n",
       "\n",
       "               xMd9DzNyUCTLRPVbwWVzf4vq06oqrTT1  \\\n",
       "enrollment_id                                     \n",
       "2                                             0   \n",
       "8                                             0   \n",
       "10                                            0   \n",
       "11                                            0   \n",
       "15                                            0   \n",
       "\n",
       "               ykoe1cCWK134BJmfbNoPEenJOIWdtQOZ  \n",
       "enrollment_id                                    \n",
       "2                                             0  \n",
       "8                                             0  \n",
       "10                                            0  \n",
       "11                                            0  \n",
       "15                                            0  \n",
       "\n",
       "[5 rows x 47 columns]"
      ]
     },
     "execution_count": 16,
     "metadata": {},
     "output_type": "execute_result"
    }
   ],
   "source": [
    "X_test.head()"
   ]
  },
  {
   "cell_type": "code",
   "execution_count": 17,
   "metadata": {
    "collapsed": false
   },
   "outputs": [],
   "source": [
    "y_test = clf.predict_proba(X_test)"
   ]
  },
  {
   "cell_type": "code",
   "execution_count": 26,
   "metadata": {
    "collapsed": false
   },
   "outputs": [
    {
     "data": {
      "text/plain": [
       "array([  1.62787968e-04,   8.48508844e-02,   8.80126002e-01, ...,\n",
       "         9.18909102e-01,   9.18836347e-01,   9.11338853e-01])"
      ]
     },
     "execution_count": 26,
     "metadata": {},
     "output_type": "execute_result"
    }
   ],
   "source": [
    "y_test[:, 1]"
   ]
  },
  {
   "cell_type": "code",
   "execution_count": 27,
   "metadata": {
    "collapsed": false
   },
   "outputs": [],
   "source": [
    "test_enroll_df['predicted'] = y_test[:, 1]"
   ]
  },
  {
   "cell_type": "code",
   "execution_count": 28,
   "metadata": {
    "collapsed": false
   },
   "outputs": [],
   "source": [
    "test_enroll_df['predicted'].to_csv('./submit_20150702_01_hagino3000.csv', index=True)"
   ]
  },
  {
   "cell_type": "code",
   "execution_count": null,
   "metadata": {
    "collapsed": true
   },
   "outputs": [],
   "source": []
  }
 ],
 "metadata": {
  "kernelspec": {
   "display_name": "Python 2",
   "language": "python",
   "name": "python2"
  },
  "language_info": {
   "codemirror_mode": {
    "name": "ipython",
    "version": 2
   },
   "file_extension": ".py",
   "mimetype": "text/x-python",
   "name": "python",
   "nbconvert_exporter": "python",
   "pygments_lexer": "ipython2",
   "version": "2.7.9"
  }
 },
 "nbformat": 4,
 "nbformat_minor": 0
}
