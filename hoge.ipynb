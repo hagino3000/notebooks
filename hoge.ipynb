{
 "metadata": {
  "name": "",
  "signature": "sha256:b4110e71e7e05c2ad06d3cf7a059a24042ff960b6e81f1ba062a92d5441ecb83"
 },
 "nbformat": 3,
 "nbformat_minor": 0,
 "worksheets": [
  {
   "cells": [
    {
     "cell_type": "code",
     "collapsed": false,
     "input": [
      "from numpy import array, dot"
     ],
     "language": "python",
     "metadata": {},
     "outputs": [],
     "prompt_number": 16
    },
    {
     "cell_type": "raw",
     "metadata": {},
     "source": [
      "f(n) = f(n-1) + f(n-2) + f(n-3)\n",
      "\n",
      "1: n=1\n",
      "2: n=2\n",
      "4: n=3\n",
      "...."
     ]
    },
    {
     "cell_type": "code",
     "collapsed": false,
     "input": [
      "n = 10\n",
      "buf = [0, 0, 1]\n",
      "for i in xrange(1,1+n):\n",
      "    idx = i + 2\n",
      "    buf.append(buf[idx-1] + buf[idx-2] + buf[idx-3])\n",
      "\n",
      "print buf"
     ],
     "language": "python",
     "metadata": {},
     "outputs": [
      {
       "output_type": "stream",
       "stream": "stdout",
       "text": [
        "[0, 0, 1, 1, 2, 4, 7, 13, 24, 44, 81, 149, 274]\n"
       ]
      }
     ],
     "prompt_number": 17
    },
    {
     "cell_type": "code",
     "collapsed": false,
     "input": [
      "A = array([[0, 0, 1], [1, 0, 1], [0, 1, 1]])\n",
      "reduce(dot, [A] * 10)\n"
     ],
     "language": "python",
     "metadata": {},
     "outputs": [
      {
       "metadata": {},
       "output_type": "pyout",
       "prompt_number": 18,
       "text": [
        "array([[ 44,  81, 149],\n",
        "       [ 68, 125, 230],\n",
        "       [ 81, 149, 274]])"
       ]
      }
     ],
     "prompt_number": 18
    },
    {
     "cell_type": "code",
     "collapsed": false,
     "input": [
      "x = array([0,0,1])\n",
      "x.dot(A) # 0,1,1\n",
      "_.dot(A) # 1,1,2\n",
      "_.dot(A) # 1,2,4\n",
      "_.dot(A) # 2,4,7"
     ],
     "language": "python",
     "metadata": {},
     "outputs": [
      {
       "metadata": {},
       "output_type": "pyout",
       "prompt_number": 23,
       "text": [
        "array([[149, 274, 504],\n",
        "       [230, 423, 778],\n",
        "       [274, 504, 927]])"
       ]
      }
     ],
     "prompt_number": 23
    },
    {
     "cell_type": "code",
     "collapsed": false,
     "input": [
      "B = array([[0,1],[1,1]])\n",
      "y = array([1,1])\n",
      "a = y.dot(B) # 1,2\n",
      "b = a.dot(B) # 2,3\n",
      "c = b.dot(B) # 3,5\n",
      "d = c.dot(B) # 5,8\n",
      "\n",
      "print(a)\n",
      "print(b)\n",
      "print(c)\n",
      "print(d)\n"
     ],
     "language": "python",
     "metadata": {},
     "outputs": [
      {
       "output_type": "stream",
       "stream": "stdout",
       "text": [
        "[1 2]\n",
        "[2 3]\n",
        "[3 5]\n",
        "[5 8]\n"
       ]
      }
     ],
     "prompt_number": 28
    }
   ],
   "metadata": {}
  }
 ]
}