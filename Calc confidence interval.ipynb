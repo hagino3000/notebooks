{
 "cells": [
  {
   "cell_type": "markdown",
   "metadata": {},
   "source": [
    "# ベルヌーイ分布の信頼区間計算手法の比較\n",
    "\n",
    "Author: hagino3000  \n",
    "Date: 2017-02-01\n",
    "\n",
    "## 内容\n",
    "\n",
    "次の3つを比較する、実装はstatsmodelsを使う\n",
    "\n",
    "- 正規近似\n",
    "- Clopper Peason (EXACT法)\n",
    "- Wilson Score Interval\n",
    "\n",
    "## Why\n",
    "\n",
    "ネット広告のクリック率とコンバージョン率の値は正例が少なくゼロに近い値(0.005〜0.1)になる。  \n",
    "この時、二項分布の正規近似では信頼区間の下界がマイナスになってしまい、計算に支障が出る。  \n",
    "平均がゼロ付近にのケースに強い方式を検証したい。"
   ]
  },
  {
   "cell_type": "markdown",
   "metadata": {},
   "source": [
    "## Trial = 100, Success = 3 の確率分布を見る"
   ]
  },
  {
   "cell_type": "code",
   "execution_count": 56,
   "metadata": {
    "collapsed": false
   },
   "outputs": [
    {
     "data": {
      "text/plain": [
       "<matplotlib.text.Text at 0x11a40ef60>"
      ]
     },
     "execution_count": 56,
     "metadata": {},
     "output_type": "execute_result"
    },
    {
     "data": {
      "image/png": "[encoded data removed]",
      "text/plain": [
       "<matplotlib.figure.Figure at 0x11a690a58>"
      ]
     },
     "metadata": {},
     "output_type": "display_data"
    }
   ],
   "source": [
    "import scipy.stats\n",
    "x = np.linspace(0, 0.4, 400)\n",
    "y = scipy.stats.beta.pdf(x, 3, 100)\n",
    "plt.figure(figsize=(14, 3))\n",
    "plt.plot(x, y)\n",
    "plt.xlim(0, 0.4)\n",
    "plt.title('ベータ分布(N=100, success=3)')\n",
    "plt.ylabel('Probability Dencity')\n",
    "plt.xlabel('P(success)')"
   ]
  },
  {
   "cell_type": "markdown",
   "metadata": {},
   "source": [
    "## statsmodelsで95%信頼区間を求める\n",
    "\n",
    "以降 N=100, Success=3 のケースとする"
   ]
  },
  {
   "cell_type": "code",
   "execution_count": 116,
   "metadata": {
    "collapsed": false
   },
   "outputs": [
    {
     "data": {
      "text/plain": [
       "'0.6.1'"
      ]
     },
     "execution_count": 116,
     "metadata": {},
     "output_type": "execute_result"
    }
   ],
   "source": [
    "import statsmodels.stats.proportion\n",
    "statsmodels.__version__"
   ]
  },
  {
   "cell_type": "code",
   "execution_count": 8,
   "metadata": {
    "collapsed": false
   },
   "outputs": [
    {
     "name": "stdout",
     "output_type": "stream",
     "text": [
      "confidence interval for a binomial proportion\n",
      "\n",
      "    Parameters\n",
      "    ----------\n",
      "    count : int or array\n",
      "        number of successes\n",
      "    nobs : int\n",
      "        total number of trials\n",
      "    alpha : float in (0, 1)\n",
      "        significance level, default 0.05\n",
      "    method : string in ['normal']\n",
      "        method to use for confidence interval,\n",
      "        currently available methods :\n",
      "\n",
      "         - `normal` : asymptotic normal approximation\n",
      "         - `agresti_coull` : Agresti-Coull interval\n",
      "         - `beta` : Clopper-Pearson interval based on Beta distribution\n",
      "         - `wilson` : Wilson Score interval\n",
      "         - `jeffrey` : Jeffrey's Bayesian Interval\n",
      "         - `binom_test` : experimental, inversion of binom_test\n",
      "\n",
      "    Returns\n",
      "    -------\n",
      "    ci_low, ci_upp : float\n",
      "        lower and upper confidence level with coverage (approximately) 1-alpha.\n",
      "        Note: Beta has coverage\n",
      "        coverage is only 1-alpha on average for some other methods.)\n",
      "\n",
      "    Notes\n",
      "    -----\n",
      "    Beta, the Clopper-Pearson interval has coverage at least 1-alpha, but is\n",
      "    in general conservative. Most of the other methods have average coverage\n",
      "    equal to 1-alpha, but will have smaller coverage in some cases.\n",
      "\n",
      "    Method \"binom_test\" directly inverts the binomial test in scipy.stats.\n",
      "    which has discrete steps.\n",
      "\n",
      "    TODO: binom_test intervals raise an exception in small samples if one\n",
      "       interval bound is close to zero or one.\n",
      "\n",
      "    References\n",
      "    ----------\n",
      "    http://en.wikipedia.org/wiki/Binomial_proportion_confidence_interval\n",
      "\n",
      "    Brown, Lawrence D.; Cai, T. Tony; DasGupta, Anirban (2001). \"Interval\n",
      "        Estimation for a Binomial Proportion\",\n",
      "        Statistical Science 16 (2): 101–133. doi:10.1214/ss/1009213286.\n",
      "        TODO: Is this the correct one ?\n",
      "\n",
      "    \n"
     ]
    }
   ],
   "source": [
    "print(statsmodels.stats.proportion.proportion_confint.__doc__)"
   ]
  },
  {
   "cell_type": "code",
   "execution_count": 49,
   "metadata": {
    "collapsed": false
   },
   "outputs": [
    {
     "data": {
      "text/plain": [
       "(-0.0034344809563718326, 0.06343448095637183)"
      ]
     },
     "execution_count": 49,
     "metadata": {},
     "output_type": "execute_result"
    }
   ],
   "source": [
    "# 正規分布近似\n",
    "statsmodels.stats.proportion.proportion_confint(3, 100, alpha=0.05, method='normal')"
   ]
  },
  {
   "cell_type": "code",
   "execution_count": 44,
   "metadata": {
    "collapsed": false
   },
   "outputs": [
    {
     "data": {
      "text/plain": [
       "(0.0062299715383063951, 0.085176052974280103)"
      ]
     },
     "execution_count": 44,
     "metadata": {},
     "output_type": "execute_result"
    }
   ],
   "source": [
    "# Clopper Pearson (EXACT法)\n",
    "statsmodels.stats.proportion.proportion_confint(3, 100, alpha=0.05, method='beta')"
   ]
  },
  {
   "cell_type": "code",
   "execution_count": 124,
   "metadata": {
    "collapsed": false
   },
   "outputs": [
    {
     "data": {
      "text/plain": [
       "(0.010254524024038911, 0.084519364290527629)"
      ]
     },
     "execution_count": 124,
     "metadata": {},
     "output_type": "execute_result"
    }
   ],
   "source": [
    "# Wilson Score\n",
    "statsmodels.stats.proportion.proportion_confint(3, 100, alpha=0.05, method='wilson')"
   ]
  },
  {
   "cell_type": "markdown",
   "metadata": {},
   "source": [
    "正規分布近似は負の区間が含まれるため良くない、Clopper-Pearson法とWilson Scoreではずいぶんと差がある  \n",
    "他の設定で試してもClopper-Pearson法は広くでる"
   ]
  },
  {
   "cell_type": "code",
   "execution_count": null,
   "metadata": {
    "collapsed": true
   },
   "outputs": [],
   "source": []
  }
 ],
 "metadata": {
  "kernelspec": {
   "display_name": "Python 3",
   "language": "python",
   "name": "python3"
  },
  "language_info": {
   "codemirror_mode": {
    "name": "ipython",
    "version": 3
   },
   "file_extension": ".py",
   "mimetype": "text/x-python",
   "name": "python",
   "nbconvert_exporter": "python",
   "pygments_lexer": "ipython3",
   "version": "3.5.2"
  }
 },
 "nbformat": 4,
 "nbformat_minor": 0
}
