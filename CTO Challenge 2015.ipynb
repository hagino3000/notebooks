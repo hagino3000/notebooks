{
 "cells": [
  {
   "cell_type": "markdown",
   "metadata": {
    "deletable": true,
    "editable": true
   },
   "source": [
    "# CTO Challenge 2015\n",
    "\n",
    "ピザを買うときに使うクーポンの種類と枚数の最適解を求める\n",
    "\n",
    "- [LEVEL 1](https://gist.github.com/makoga/4b993248de03032036a4)\n",
    "- [LEVEL 2](https://gist.github.com/makoga/7a195de59388df32dc1d)\n",
    "- [LEVEL 3](https://gist.github.com/makoga/3253f69c544b540eab00)"
   ]
  },
  {
   "cell_type": "markdown",
   "metadata": {
    "deletable": true,
    "editable": true
   },
   "source": [
    "## LEVEL 1\n",
    "\n",
    "整数計画問題として解けば良い\n",
    "\n",
    "### 定式化\n",
    "\n",
    "$Variables$\n",
    "- $m$ クーポンの種類 $i = 1,....m$\n",
    "- $\\mathit{CouponPrice}_i$ クーポンの価格\n",
    "- $\\mathit{CouponPosessions}_i$ クーポンの手持ち数\n",
    "- $\\mathit{CouponUse}_i \\geq 0$ クーポンの利用枚数\n",
    "- $\\mathit{TotalPrice}$ 金額\n",
    "\n",
    "$Maximize$  \n",
    "- $\\displaystyle {\\sum_i \\{\\mathit{CouponPrice}_i \\times \\mathit{CouponUse}_i}\\} - \\sum_i\\mathit{CouponUse}_i$\n",
    "\n",
    "$Subject\\ to$\n",
    "\n",
    "- $\\sum_i \\{\\mathit{CouponPrice}_i \\times \\mathit{CouponUse_i}\\} \\leq \\mathit{TotalPrice}$\n",
    "- $\\mathit{CouponUse}_i \\leq \\mathit{CouponPosessions_i}$\n",
    "- $\\mathit{TotalPrice} - 1000 \\geq \\sum_j \\mathit{CouponUse}$"
   ]
  },
  {
   "cell_type": "code",
   "execution_count": 1,
   "metadata": {
    "collapsed": false,
    "deletable": true,
    "editable": true
   },
   "outputs": [],
   "source": [
    "import pulp"
   ]
  },
  {
   "cell_type": "code",
   "execution_count": 137,
   "metadata": {
    "collapsed": false,
    "deletable": true,
    "editable": true
   },
   "outputs": [],
   "source": [
    "def solve_level_1(total_price, coupon_posession):\n",
    "    \"\"\"\n",
    "    Parameters\n",
    "    ==========\n",
    "    total_price : int\n",
    "        注文金額\n",
    "    coupon_posession : array(int)\n",
    "        クーポン毎の所持数\n",
    "        \n",
    "    Returns\n",
    "    =======\n",
    "    coupon_use : array(int)\n",
    "        クーポン毎の使用数\n",
    "    \"\"\"\n",
    "    # クーポン金額\n",
    "    coupon_price = [500, 200, 100]\n",
    "    m = len(coupon_price)\n",
    "\n",
    "    problem = pulp.LpProblem(sense=pulp.LpMaximize)\n",
    "    # 変数\n",
    "    coupon_use = [pulp.LpVariable('CouponUse{0}'.format(i), cat=pulp.LpInteger, lowBound=0) for i in range(m)]\n",
    "    # 問題\n",
    "    problem += pulp.lpDot(coupon_use, coupon_price) - pulp.lpSum(coupon_use)\n",
    "    # 制約条件\n",
    "    problem += pulp.lpDot(coupon_use, coupon_price) <= total_price\n",
    "    problem += total_price - 1000 >= pulp.lpSum(coupon_use)\n",
    "    for i in range(m):\n",
    "        problem += coupon_posession[i] - coupon_use[i] >= 0\n",
    "    \n",
    "    status = problem.solve()\n",
    "    print(pulp.LpStatus[status])\n",
    "    #print(problem)\n",
    "    return [coupon_use[i].value() for i in range(m)]"
   ]
  },
  {
   "cell_type": "code",
   "execution_count": 138,
   "metadata": {
    "collapsed": false,
    "deletable": true,
    "editable": true
   },
   "outputs": [
    {
     "name": "stdout",
     "output_type": "stream",
     "text": [
      "Optimal\n"
     ]
    },
    {
     "data": {
      "text/plain": [
       "[2.0, 1.0, 0.0]"
      ]
     },
     "execution_count": 138,
     "metadata": {},
     "output_type": "execute_result"
    }
   ],
   "source": [
    "solve_level_1(1210, [2, 1, 3])"
   ]
  },
  {
   "cell_type": "code",
   "execution_count": 92,
   "metadata": {
    "collapsed": false,
    "deletable": true,
    "editable": true
   },
   "outputs": [
    {
     "name": "stdout",
     "output_type": "stream",
     "text": [
      "Optimal\n",
      "Optimal\n",
      "Optimal\n",
      "Optimal\n",
      "Optimal\n"
     ]
    }
   ],
   "source": [
    "# テストケース\n",
    "assert solve_level_1(1000, [2, 1, 3]) == [0, 0, 0]\n",
    "assert solve_level_1(1210, [0, 0, 0])  == [0, 0, 0]\n",
    "assert solve_level_1(1210, [2, 1, 3])  == [2, 1, 0]\n",
    "assert solve_level_1(1530, [2, 1, 3])  == [2, 1, 3]\n",
    "# 枚数が一番小さい組み合わせを選択する事の確認\n",
    "assert solve_level_1(1500, [3, 15, 15])  == [3, 0, 0]"
   ]
  },
  {
   "cell_type": "markdown",
   "metadata": {
    "deletable": true,
    "editable": true
   },
   "source": [
    "## LEVEL 2\n",
    "\n",
    "変数の追加 or 変更\n",
    "\n",
    "- $\\mathit{CouponPrice_i} = [500, 200, 100, 300]$\n",
    "- $n$ メニューの種類数 $j = 1,....n$\n",
    "- $\\mathit{MenuPrice_j} = [1000, 1500, 1300, 1800, 400, 500, 600]$ メニューの価格\n",
    "- $\\mathit{IsPizza_j} = [1, 1, 1, 1, 0, 0, 0]$ ピザフラグ\n",
    "- $\\mathit{Order_j} \\geq 0$ 各メニューの注文数\n",
    "- $\\mathit{TotalPrice} = \\sum_j \\{\\mathit{MenuPrice_j} \\times \\mathit{Order_j}\\}$ 金額\n",
    "\n",
    "\n",
    "追加制約\n",
    "- $\\mathit{CouponUse_1} \\leq 2$\n",
    "- $\\mathit{CouponUse_2} \\leq 2$\n",
    "- $\\mathit{CouponUse_3} \\leq 3$\n",
    "- $\\mathit{CouponUse_4} \\leq 1$\n",
    "- $\\mathit{CouponUse_4} \\leq Order \\cdot IsPizza$"
   ]
  },
  {
   "cell_type": "code",
   "execution_count": 73,
   "metadata": {
    "collapsed": true,
    "deletable": true,
    "editable": true
   },
   "outputs": [],
   "source": [
    "def solve_level_2(order, coupon_posession):\n",
    "    \"\"\"\n",
    "    Parameters\n",
    "    ==========\n",
    "    order : array(int)\n",
    "        注文 (メニュー毎の注文数を表現するベクトル)\n",
    "    coupon_posession : array(int)\n",
    "        クーポン所持数\n",
    "        \n",
    "    Returns\n",
    "    =======\n",
    "    coupon_use : array(int)\n",
    "        クーポン毎の使用数\n",
    "    \"\"\"\n",
    "    # クーポン金額\n",
    "    coupon_price = [500, 200, 100, 300]\n",
    "    m = len(coupon_price)\n",
    "    # メニュー価格\n",
    "    menu_price = [1000, 1500, 1300, 1800, 400, 500, 600]\n",
    "    # Pizzaフラグ\n",
    "    is_pizza = [1, 1, 1, 1, 0, 0, 0]\n",
    "    # 支払い金額\n",
    "    total_price = np.dot(menu_price, order)\n",
    "\n",
    "    problem = pulp.LpProblem(sense=pulp.LpMaximize)\n",
    "    # 変数\n",
    "    coupon_use = [pulp.LpVariable('CouponUse{0}'.format(i), cat=pulp.LpInteger, lowBound=0) for i in range(m)]\n",
    "    # 問題\n",
    "    problem += pulp.lpDot(coupon_use, coupon_price) - pulp.lpSum(coupon_use)\n",
    "    # 制約条件\n",
    "    problem += pulp.lpDot(coupon_use, coupon_price) <= total_price\n",
    "    problem += pulp.lpSum(coupon_use) <= (total_price - 1000) \n",
    "    for i in range(m):\n",
    "        problem += coupon_posession[i] - coupon_use[i] >= 0\n",
    "    problem += coupon_use[0] <= 2\n",
    "    problem += coupon_use[1] <= 2\n",
    "    problem += coupon_use[2] <= 3\n",
    "    problem += coupon_use[3] <= 1\n",
    "    problem += coupon_use[3] <= np.dot(order, is_pizza)\n",
    "\n",
    "    status = problem.solve()\n",
    "    print(pulp.LpStatus[status])\n",
    "    #print(problem)\n",
    "    return [coupon_use[i].value() for i in range(m)]"
   ]
  },
  {
   "cell_type": "code",
   "execution_count": 75,
   "metadata": {
    "collapsed": false,
    "deletable": true,
    "editable": true
   },
   "outputs": [
    {
     "name": "stdout",
     "output_type": "stream",
     "text": [
      "Optimal\n"
     ]
    },
    {
     "data": {
      "text/plain": [
       "[2.0, 1.0, 1.0, 0.0]"
      ]
     },
     "execution_count": 75,
     "metadata": {},
     "output_type": "execute_result"
    }
   ],
   "source": [
    "solve_level_2([0, 0, 0, 0, 2, 1, 0], [2, 1, 1, 1])"
   ]
  },
  {
   "cell_type": "code",
   "execution_count": 76,
   "metadata": {
    "collapsed": false,
    "deletable": true,
    "editable": true
   },
   "outputs": [
    {
     "name": "stdout",
     "output_type": "stream",
     "text": [
      "Optimal\n",
      "Optimal\n",
      "Optimal\n",
      "Optimal\n",
      "Optimal\n"
     ]
    }
   ],
   "source": [
    "# テストケース\n",
    "# ジェノベーゼMx1\n",
    "assert solve_level_2([1, 0, 0, 0, 0, 0, 0], [1, 1, 1, 1]) == [0, 0, 0, 0]\n",
    "# マルゲリータMx1\n",
    "assert solve_level_2([0, 0, 1, 0, 0, 0, 0], [0, 0, 0, 0]) == [0, 0, 0, 0]\n",
    "# ポテトフライx1, グリーンサラダx1\n",
    "assert solve_level_2([0, 0, 0, 0, 2, 1, 0], [2, 1, 1, 1]) == [2, 1, 1, 0]\n",
    "# マルゲリータMx1\n",
    "assert solve_level_2([0, 0, 1, 0, 0, 0, 0], [2, 1, 1, 1]) == [2, 0, 0, 1]\n",
    "# ジェノベーゼMx1, マルゲリータMx1\n",
    "assert solve_level_2([1, 0, 1, 0, 0, 0, 0], [3, 3, 4, 2]) == [2, 2, 3, 1]"
   ]
  },
  {
   "cell_type": "markdown",
   "metadata": {
    "deletable": true,
    "editable": true
   },
   "source": [
    "## LEVEL 3\n",
    "\n",
    "- ピザ2セット: ポテトフライが1増える\n",
    "- ピザL2セット: 任意のサイドオーダーを1増やせる\n",
    "\n",
    "欲しい物が満たされる時の支払い金額を最小化する\n",
    "\n",
    "- $Requirements_j$ 必要なメニュー\n",
    "- $Order_j \\geq 0$ 注文するメニュー\n",
    "- $OrderPrice = \\sum_j Order_jMenuPrice_j$ 注文金額\n",
    "- $Payout = \\sum_j Order_jMenuPrice_j - \\sum CouponUse_iCouponPrice_i$ 請求金額\n",
    "- $IsLPizza = [0, 1, 0, 1, 0, 0, 0]$\n",
    "- $IsSide = [0, 0, 0, 0, 1, 1, 1]$\n",
    "- $Poteto = [0, 0, 0, 0, 1, 0, 0]$\n",
    "- $Piza2SetUse \\geq 0$\n",
    "- $Piza2SetItem = [0, 0, 0, 0, Piza2SetUse, 0, 0]$\n",
    "- $PizaL2SetUse \\geq 0$\n",
    "- $PizaL2SetItem = [0, 0, 0, 0, x, y, z]$\n",
    "\n",
    "$Minimize$\n",
    "\n",
    "$Payout + \\sum_j CouponUse$\n",
    "\n",
    "追加制約\n",
    "\n",
    "- $\\displaystyle Piza2SetUse \\leq \\frac{Order_j \\cdot IsPizza_j}{2}$\n",
    "- $\\displaystyle PizaL2SetUse \\leq \\frac{Order_j \\cdot IsLPizza_j}{2}$\n",
    "- $\\displaystyle PizaL2SetUse = \\sum_j PizaL2SetItem$ \n",
    "- $Requirements_j = Order_j + Piza2SetItem + PizaL2SetItem$"
   ]
  },
  {
   "cell_type": "code",
   "execution_count": 127,
   "metadata": {
    "collapsed": false,
    "deletable": true,
    "editable": true
   },
   "outputs": [],
   "source": [
    "def solve_level_3(requirements, coupon_posession):\n",
    "    \"\"\"\n",
    "    Parameters\n",
    "    ==========\n",
    "    requirements : array(int)\n",
    "        欲しいメニュー (メニュー毎の注文数を表現するベクトル)\n",
    "    coupon_posession : array(int)\n",
    "        クーポン所持数\n",
    "        \n",
    "    Returns\n",
    "    =======\n",
    "    coupon_use : array(int)\n",
    "        クーポン毎の使用数\n",
    "    \"\"\"\n",
    "    #######################################################\n",
    "    # 定数\n",
    "    #######################################################\n",
    "    # クーポン金額\n",
    "    coupon_price = [500, 200, 100, 300]\n",
    "    m = len(coupon_price)\n",
    "    # メニュー価格\n",
    "    menu_price = [1000, 1500, 1300, 1800, 400, 500, 600]\n",
    "    n = len(menu_price)\n",
    "    # フラグ\n",
    "    is_pizza = [1, 1, 1, 1, 0, 0, 0]\n",
    "    is_L_pizza = [0, 1, 0, 1, 0, 0, 0]\n",
    "    is_side = [0, 0, 0, 0, 1, 1, 1]\n",
    "    poteto = [0, 0, 0, 0, 1, 0, 0]\n",
    "\n",
    "    #######################################################\n",
    "    # 定式化\n",
    "    #######################################################\n",
    "    problem = pulp.LpProblem()\n",
    "    \n",
    "    # 変数\n",
    "    order = [pulp.LpVariable('Order{0}'.format(j), cat=pulp.LpInteger, lowBound=0) for j in range(n)]\n",
    "    order_price = pulp.lpDot(order, menu_price)\n",
    "    coupon_use = [pulp.LpVariable('CouponUse{0}'.format(i), cat=pulp.LpInteger, lowBound=0) for i in range(m)]\n",
    "    piza2set_use = pulp.LpVariable('Piza2SetUse', cat=pulp.LpInteger, lowBound=0)\n",
    "    pizaL2set_use = pulp.LpVariable('PizaL2SetUse', cat=pulp.LpInteger, lowBound=0)\n",
    "    piza2set_item = [0, 0, 0, 0, piza2set_use, 0, 0]\n",
    "    pizaL2set_item = [0, 0, 0, 0, \n",
    "                      pulp.LpVariable('PizaL2Set1', cat=pulp.LpInteger, lowBound=0),\n",
    "                      pulp.LpVariable('PizaL2Set2', cat=pulp.LpInteger, lowBound=0),\n",
    "                      pulp.LpVariable('PizaL2Set3', cat=pulp.LpInteger, lowBound=0)\n",
    "                     ]\n",
    "    payout = order_price - pulp.lpDot(coupon_use, coupon_price)\n",
    "\n",
    "    # 最小化問題\n",
    "    problem += payout - pulp.lpSum(coupon_use)\n",
    "    \n",
    "    # 制約条件\n",
    "    problem += pulp.lpDot(coupon_use, coupon_price) <= order_price\n",
    "    problem += pulp.lpSum(coupon_use) <= (order_price - 1000) \n",
    "    for i in range(m):\n",
    "        problem += coupon_posession[i] - coupon_use[i] >= 0\n",
    "    problem += coupon_use[0] <= 2\n",
    "    problem += coupon_use[1] <= 2\n",
    "    problem += coupon_use[2] <= 3\n",
    "    problem += coupon_use[3] <= 1\n",
    "    problem += coupon_use[3] <= np.dot(order, is_pizza)\n",
    "    problem += piza2set_use*2 <= pulp.lpDot(order, is_pizza)\n",
    "    problem += pizaL2set_use*2 <= pulp.lpDot(order, is_L_pizza)\n",
    "    problem += pulp.lpSum(pizaL2set_item) == pizaL2set_use\n",
    "    problem += max(pulp.lpSum(coupon_use), 1) + max(piza2set_use + pizaL2set_use, 1) <= 1\n",
    "    for j in range(n):\n",
    "        problem += order[j] + piza2set_item[j] + pizaL2set_item[j] == requirements[j]\n",
    "\n",
    "    status = problem.solve()\n",
    "    print(pulp.LpStatus[status])\n",
    "    #print(problem)\n",
    "    print(\"Order {0}\".format([o.value() for o in order]))\n",
    "    print(\"Order Price {0}\".format(order_price.value()))\n",
    "    print(\"Piza2 Set {0}\".format(piza2set_use.value()))\n",
    "    print(\"PizaL2 Set {0}\".format(pizaL2set_use.value()))\n",
    "    print(\"Coupon Use {0}\".format(sum([coupon_use[i].value() for i in range(m)])))\n",
    "    return [coupon_use[i].value() for i in range(m)]"
   ]
  },
  {
   "cell_type": "code",
   "execution_count": 128,
   "metadata": {
    "collapsed": false,
    "deletable": true,
    "editable": true
   },
   "outputs": [
    {
     "name": "stdout",
     "output_type": "stream",
     "text": [
      "Optimal\n",
      "Order [1.0, 0.0, 1.0, 0.0, 1.0, 0.0, 0.0]\n",
      "Order Price 2700.0\n",
      "Piza2 Set 0.0\n",
      "PizaL2 Set 0.0\n",
      "Coupon Use 1.0\n"
     ]
    }
   ],
   "source": [
    "# テストケース1\n",
    "assert solve_level_3(requirements=[1, 0, 1, 0, 1, 0, 0], coupon_posession=[1, 0, 0, 0]) == [1, 0, 0, 0]"
   ]
  },
  {
   "cell_type": "code",
   "execution_count": 129,
   "metadata": {
    "collapsed": false,
    "deletable": true,
    "editable": true
   },
   "outputs": [
    {
     "name": "stdout",
     "output_type": "stream",
     "text": [
      "Optimal\n",
      "Order [0.0, 1.0, 0.0, 1.0, 0.0, 0.0, 0.0]\n",
      "Order Price 3300.0\n",
      "Piza2 Set 0.0\n",
      "PizaL2 Set 1.0\n",
      "Coupon Use 0.0\n"
     ]
    }
   ],
   "source": [
    "# テストケース2\n",
    "assert solve_level_3(requirements=[0, 1, 0, 1, 0, 0, 1], coupon_posession=[1, 0, 0, 0])  == [0, 0, 0, 0]"
   ]
  },
  {
   "cell_type": "code",
   "execution_count": null,
   "metadata": {
    "collapsed": true,
    "deletable": true,
    "editable": true
   },
   "outputs": [],
   "source": []
  }
 ],
 "metadata": {
  "kernelspec": {
   "display_name": "Python 2",
   "language": "python",
   "name": "python2"
  },
  "language_info": {
   "codemirror_mode": {
    "name": "ipython",
    "version": 2
   },
   "file_extension": ".py",
   "mimetype": "text/x-python",
   "name": "python",
   "nbconvert_exporter": "python",
   "pygments_lexer": "ipython2",
   "version": "2.7.12"
  }
 },
 "nbformat": 4,
 "nbformat_minor": 0
}
