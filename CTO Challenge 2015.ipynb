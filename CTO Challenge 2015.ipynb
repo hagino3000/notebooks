{
 "cells": [
  {
   "cell_type": "markdown",
   "metadata": {},
   "source": [
    "# CTO Challenge 2015\n",
    "\n",
    "- [LEVEL 1](https://gist.github.com/makoga/4b993248de03032036a4)\n",
    "- [LEVEL 2](https://gist.github.com/makoga/7a195de59388df32dc1d)\n",
    "- [LEVEL 3](https://gist.github.com/makoga/3253f69c544b540eab00)"
   ]
  },
  {
   "cell_type": "markdown",
   "metadata": {},
   "source": [
    "## LEVEL 1\n",
    "\n",
    "混合整数計画問題として解けば良い\n",
    "\n",
    "\n",
    "$Variables$\n",
    "- $m$ クーポンの種類 $i = 1,....m$\n",
    "- $CouponPrice_i$ クーポンの価格\n",
    "- $CouponPosessions_i$ クーポンの手持ち数\n",
    "- $CouponUse_i \\geq 0$ クーポンの利用枚数\n",
    "- $TotalPrice$ 支払い金額\n",
    "\n",
    "$Maximize$  \n",
    "- $\\sum_i CouponPrice_iCouponUse_i$\n",
    "\n",
    "$Subject\\ to$\n",
    "\n",
    "- $\\sum_i CouponPrice_iCouponUse_i \\leq TotalPrice$\n",
    "- $CouponUse_i \\leq CouponPosessions_i$\n",
    "- $\\sum_i CouponUse_i \\leq Max(TotalPrice - 1000, 0)$\n",
    "\n",
    "\n",
    "### Parameters\n",
    "\n",
    "- 商品合計金額(int)\n",
    "- クーポン金額(array[int])\n",
    "- クーポン所持数(array[int])\n",
    "\n",
    "### Outputs\n",
    "\n",
    "- クーポン使用数(array[int])"
   ]
  },
  {
   "cell_type": "code",
   "execution_count": 65,
   "metadata": {
    "collapsed": false
   },
   "outputs": [],
   "source": [
    "import pulp"
   ]
  },
  {
   "cell_type": "code",
   "execution_count": 84,
   "metadata": {
    "collapsed": false
   },
   "outputs": [],
   "source": [
    "def solve_level_1(total_price, coupon_price, coupon_posession):\n",
    "    m = len(coupon_price)\n",
    "\n",
    "    if total_price <= 1000:\n",
    "        return [0 for i in range(m)]\n",
    "\n",
    "    # 定式化\n",
    "    problem = pulp.LpProblem(sense=pulp.LpMaximize)\n",
    "    # 変数\n",
    "    total_price = total_price\n",
    "    coupon_price = np.array(coupon_price)\n",
    "    coupon_posession = np.array(coupon_posession)\n",
    "    coupon_use = [pulp.LpVariable('CouponUse{0}'.format(i), cat=pulp.LpInteger, lowBound=0) for i in range(m)]\n",
    "    # 問題\n",
    "    problem += pulp.lpDot(coupon_use, coupon_price) - pulp.lpSum(coupon_use)\n",
    "    # 制約条件\n",
    "    problem += pulp.lpDot(coupon_use, coupon_price) <= total_price\n",
    "    for i in range(m):\n",
    "        problem += coupon_posession[i] - coupon_use[i] >= 0\n",
    "    status = problem.solve()\n",
    "    print(pulp.LpStatus[status])\n",
    "    #print(problem)\n",
    "    return [coupon_use[i].value() for i in range(m)]"
   ]
  },
  {
   "cell_type": "code",
   "execution_count": 85,
   "metadata": {
    "collapsed": false
   },
   "outputs": [
    {
     "name": "stdout",
     "output_type": "stream",
     "text": [
      "Optimal\n"
     ]
    },
    {
     "data": {
      "text/plain": [
       "[2.0, 1.0, 0.0]"
      ]
     },
     "execution_count": 85,
     "metadata": {},
     "output_type": "execute_result"
    }
   ],
   "source": [
    "solve_level_1(1210, coupons, [2, 1, 3])"
   ]
  },
  {
   "cell_type": "code",
   "execution_count": 87,
   "metadata": {
    "collapsed": false
   },
   "outputs": [
    {
     "name": "stdout",
     "output_type": "stream",
     "text": [
      "Optimal\n",
      "Optimal\n",
      "Optimal\n",
      "Optimal\n"
     ]
    }
   ],
   "source": [
    "# クーポン金額\n",
    "coupons = [500, 200, 100]\n",
    "\n",
    "assert solve_level_1(1000, coupons, [2, 1, 3]) == [0, 0, 0]\n",
    "assert solve_level_1(1210, coupons, [0, 0, 0])  == [0, 0, 0]\n",
    "assert solve_level_1(1210, coupons, [2, 1, 3])  == [2, 1, 0]\n",
    "assert solve_level_1(1530, coupons, [2, 1, 3])  == [2, 1, 3]\n",
    "# 枚数が一番小さい組み合わせを選択する事の確認\n",
    "assert solve_level_1(1500, coupons, [3, 15, 15])  == [3, 0, 0]"
   ]
  }
 ],
 "metadata": {
  "kernelspec": {
   "display_name": "Python 2",
   "language": "python",
   "name": "python2"
  },
  "language_info": {
   "codemirror_mode": {
    "name": "ipython",
    "version": 2
   },
   "file_extension": ".py",
   "mimetype": "text/x-python",
   "name": "python",
   "nbconvert_exporter": "python",
   "pygments_lexer": "ipython2",
   "version": "2.7.9"
  }
 },
 "nbformat": 4,
 "nbformat_minor": 0
}
