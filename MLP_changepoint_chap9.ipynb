{
 "cells": [
  {
   "cell_type": "markdown",
   "metadata": {},
   "source": [
    "タイトルスライド\n",
    "\n",
    "部分空間法による変化検知"
   ]
  },
  {
   "cell_type": "markdown",
   "metadata": {},
   "source": [
    "お前だれよ\n",
    "\n",
    "- id:hagino3000\n",
    "- Takashi Nishibayashi\n",
    "- 著書: xxx xxx"
   ]
  },
  {
   "cell_type": "markdown",
   "metadata": {},
   "source": [
    "今日の内容\n",
    "\n",
    "- 扱うデータ：時系列データ\n",
    "- 変化検知"
   ]
  },
  {
   "cell_type": "markdown",
   "metadata": {},
   "source": [
    "変化検知とは\n",
    "\n",
    "- Change Point detection\n",
    "- Change Point problem\n",
    "\n",
    "https://gdsdata.blog.gov.uk/2015/02/20/using-sentiment-scoring-and-changepoint-analysis-to-spot-problems-in-services/\n",
    "from https://gdsdata.blog.gov.uk/2015/02/20/using-sentiment-scoring-and-changepoint-analysis-to-spot-problems-in-services/\n"
   ]
  },
  {
   "cell_type": "markdown",
   "metadata": {},
   "source": [
    "9章の流れ\n",
    "\n",
    "- 累積和法という古典技法を紹介\n",
    "- 近傍法 (部分時系列の導入)\n",
    "- 密度比問題への置き換え\n",
    "- 特異スペクトル変換法\n",
    "- 特異スペクトル変換の高速化"
   ]
  },
  {
   "cell_type": "markdown",
   "metadata": {},
   "source": [
    "## 9.1 累積和法：変化検知の古典技術\n",
    "\n",
    "例：化学プラントの反応器の中での特定の化学物質の濃度を時々刻々監視しているとする。\n",
    "\n",
    "たまたま局所的に濃度が低かったり高かったりするのは避けられない。\n",
    "2章のホテリングの$T^2$法のような「観測1回ごとにひとつひとつ異常度を計算する」タイプの監視技術は不適切かも\n",
    "\n",
    "https://www.flickr.com/photos/rclarkeimages/8174050638/in/photolist-dsj9ty-bxjWUc-bxjXp6-bxjX8p-bxjX2H-zcr6bE-9W9UC3-jqAjqh-sCQm2L-oEgfCj-o8WVpD-opEfi4-oimRmm-o8Fjip-rXDzPj-4REuzj-83man7-byaP89-4QmhA5-DyLQq-8d1vu8-55rzyh-9EPfGb-hmge7h-aHwJN8-ei6r3J-Adje33-avrFeV-9WVQ7c-aHyqMT-avukco-9oNSZv-cs25J9-3VkySp-5E31oK-DyLRL-jSUCak-8zt3aQ-DyLMP-xttceq-xttdNN-hmgdT1-r1HCcn-hJdBf9-cXcu8J-aqTUJk-5j5nf5-ufGJLw-4REt3A-5kNCwN\n",
    "\n",
    "やりたいこと\n",
    "単発で突発的に異常値が得られたというよりは、継続して何らかの異常状態が発生しているかどうかを検知すること、すなわち変化検知。\n",
    "\n",
    "- $\\xi$が正常時には安定して$\\mu$という値を取る、正常時のモデルとして正規分布 $N(\\xi|\\mu, \\sigma^2)$ と考えられる。\n",
    "- 事前知識：正常値から上に$\\nu_+$振れるようなら何かが起こっている\n",
    "\n",
    "$\\xi$の分散に大きな違いがないとすると、ここから次のモデルで表現できる\n",
    "\n",
    "- 正常状態のモデル $N(\\xi | \\mu, \\sigma^2)$\n",
    "- 異常状態のモデル $N(\\xi | \\mu + \\nu_+, \\sigma^2)$\n",
    "\n",
    "変化度の定義 = 単発の異常度を束ねて状態変化を表す指標に仕立てる\n",
    "\n",
    "\n",
    "時刻$t$における単体の異常度 (式9.1は正誤あり)\n",
    "\n",
    "$\\displaystyle\n",
    "\\begin{eqnarray}\n",
    "a(\\xi^{(t)})\n",
    "&\\equiv&\n",
    "ln\\frac{N(\\xi^{(t)}|\\mu + \\nu_+, \\sigma^2)}{N(\\xi^{(t)}| \\mu, \\sigma^2)} \\\\\n",
    "&=&\n",
    "(\\frac{\\nu_+}{\\sigma})\\frac{\\xi^{(t)} - \\mu - (\\nu_+/2)}{\\sigma} \\\\\n",
    "\\end{eqnarray}\n",
    "$\n",
    "\n",
    "時刻$t$における変化度は\n",
    "\n",
    "$\\displaystyle\n",
    "\\begin{eqnarray}\n",
    "a^{(t)}_+\n",
    "&\\equiv&\n",
    "\\Bigl[ a^{(t-1)}_+ + a(\\xi^{(t)}) \\Bigr]_+ \\\\\n",
    "&=& \n",
    "\\Bigl[ \\bigl[ a^{(t-2)}_+ + a(\\xi^{(t-1)}) \\bigr]_+ + a(\\xi^{(t)}) \\Bigr]_+ \\\\\n",
    "&=& \n",
    "\\Bigl[ \\bigl[ [a^{(t-3)}_+ + a(\\xi^{(t-2)}) ]_+ + a(\\xi^{(t-1)}) \\bigr]_+ + a(\\xi^{(t)}) \\Bigr]_+ \n",
    "\\end{eqnarray}\n",
    "$\n",
    "\n"
   ]
  },
  {
   "cell_type": "markdown",
   "metadata": {
    "collapsed": true
   },
   "source": [
    "行列の微分について (PRMLの付録)\n",
    "\n",
    "$\\displaystyle\n",
    "\\frac{d}{d{\\bf x}}({\\bf x}^T{\\bf a}) = \\frac{d}{d{\\bf x}}({\\bf a}^T{\\bf x}) = {\\bf a}$"
   ]
  },
  {
   "cell_type": "markdown",
   "metadata": {
    "collapsed": true
   },
   "source": [
    "固有ベクトルとは\n",
    "\n",
    "$A\\bf{x} = \\lambda\\bf{x}$\n",
    "\n",
    "http://qiita.com/kenmatsu4/items/2a8573e3c878fc2da306"
   ]
  },
  {
   "cell_type": "markdown",
   "metadata": {},
   "source": [
    "心電図データ\n",
    "http://www.ucr.edu/~eamonn/discords/\n",
    "からダウンロードできる"
   ]
  },
  {
   "cell_type": "markdown",
   "metadata": {},
   "source": [
    "参考\n",
    "\n",
    "- http://qiita.com/kokumura/items/e4c17d989aa3c34c6dd0\n",
    "\n",
    "発展形\n",
    "\n",
    "- ChangeFinder (計算コストが線形)"
   ]
  },
  {
   "cell_type": "code",
   "execution_count": null,
   "metadata": {
    "collapsed": true
   },
   "outputs": [],
   "source": []
  }
 ],
 "metadata": {
  "kernelspec": {
   "display_name": "Python 2",
   "language": "python",
   "name": "python2"
  },
  "language_info": {
   "codemirror_mode": {
    "name": "ipython",
    "version": 2
   },
   "file_extension": ".py",
   "mimetype": "text/x-python",
   "name": "python",
   "nbconvert_exporter": "python",
   "pygments_lexer": "ipython2",
   "version": "2.7.9"
  }
 },
 "nbformat": 4,
 "nbformat_minor": 0
}
