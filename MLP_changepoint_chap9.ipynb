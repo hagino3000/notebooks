{
 "cells": [
  {
   "cell_type": "markdown",
   "metadata": {},
   "source": [
    "タイトルスライド\n",
    "\n",
    "部分空間法による変化検知"
   ]
  },
  {
   "cell_type": "markdown",
   "metadata": {},
   "source": [
    "お前だれよ\n",
    "\n",
    "- id:hagino3000\n",
    "- Takashi Nishibayashi\n",
    "- 著書: xxx xxx"
   ]
  },
  {
   "cell_type": "markdown",
   "metadata": {},
   "source": [
    "今日の内容\n",
    "\n",
    "- 扱うデータ：時系列データ\n",
    "- 変化検知"
   ]
  },
  {
   "cell_type": "markdown",
   "metadata": {},
   "source": [
    "変化検知とは\n",
    "\n",
    "- Change Point detection\n",
    "- Change Point problem\n",
    "\n",
    "https://gdsdata.blog.gov.uk/2015/02/20/using-sentiment-scoring-and-changepoint-analysis-to-spot-problems-in-services/\n",
    "from https://gdsdata.blog.gov.uk/2015/02/20/using-sentiment-scoring-and-changepoint-analysis-to-spot-problems-in-services/\n"
   ]
  },
  {
   "cell_type": "markdown",
   "metadata": {},
   "source": [
    "9章の流れ\n",
    "\n",
    "- 累積和法という古典技法を紹介\n",
    "- 近傍法 (部分時系列の導入)\n",
    "- 密度比問題への置き換え\n",
    "- 特異スペクトル変換法\n",
    "- 特異スペクトル変換の高速化"
   ]
  },
  {
   "cell_type": "markdown",
   "metadata": {},
   "source": [
    "## 9.1 累積和法：変化検知の古典技術\n",
    "\n",
    "例：化学プラントの反応器の中での特定の化学物質の濃度を時々刻々監視しているとする。\n",
    "\n",
    "たまたま局所的に濃度が低かったり高かったりするのは避けられない。\n",
    "2章のホテリングの$T^2$法のような「観測1回ごとにひとつひとつ異常度を計算する」タイプの監視技術は不適切かも\n",
    "\n",
    "https://www.flickr.com/photos/rclarkeimages/8174050638/in/photolist-dsj9ty-bxjWUc-bxjXp6-bxjX8p-bxjX2H-zcr6bE-9W9UC3-jqAjqh-sCQm2L-oEgfCj-o8WVpD-opEfi4-oimRmm-o8Fjip-rXDzPj-4REuzj-83man7-byaP89-4QmhA5-DyLQq-8d1vu8-55rzyh-9EPfGb-hmge7h-aHwJN8-ei6r3J-Adje33-avrFeV-9WVQ7c-aHyqMT-avukco-9oNSZv-cs25J9-3VkySp-5E31oK-DyLRL-jSUCak-8zt3aQ-DyLMP-xttceq-xttdNN-hmgdT1-r1HCcn-hJdBf9-cXcu8J-aqTUJk-5j5nf5-ufGJLw-4REt3A-5kNCwN\n",
    "\n",
    "やりたいこと\n",
    "単発で突発的に異常値が得られたというよりは、継続して何らかの異常状態が発生しているかどうかを検知すること、すなわち変化検知。\n",
    "\n",
    "- $\\xi$が正常時には安定して$\\mu$という値を取る、正常時のモデルとして正規分布 $N(\\xi|\\mu, \\sigma^2)$ と考えられる。\n",
    "- 事前知識：正常値から上に$\\nu_+$振れるようなら何かが起こっている\n",
    "\n",
    "$\\xi$の分散に大きな違いがないとすると、ここから次のモデルで表現できる\n",
    "\n",
    "- 正常状態のモデル ${\\mathcal N}(\\xi | \\mu, \\sigma^2)$\n",
    "- 異常状態のモデル ${\\mathcal N}(\\xi | \\mu + \\nu_+, \\sigma^2)$\n",
    "\n",
    "変化度の定義 = 単発の異常度を束ねて状態変化を表す指標に仕立てる\n",
    "\n",
    "式1.2\n",
    "\n",
    "$\\displaystyle\n",
    "a(x') = ln\\frac{p(x'|y = 1, {\\mathcal D})}{p(x'|y = 0, {\\mathcal D})} {\\tag{1.2}}\n",
    "$\n",
    "\n",
    "時刻$t$における単体の異常度 (式9.1は正誤あり)\n",
    "\n",
    "$\n",
    "\\begin{align*}\n",
    "  a(\\xi^{(t)}) \n",
    "  & \\equiv\n",
    "  ln\\frac{{\\mathcal N}(\\xi^{(t)}|\\mu + \\nu_+, \\sigma^2)}{{\\mathcal N}(\\xi^{(t)}| \\mu, \\sigma^2)} {\\tag{9.1}} \\\\\n",
    "  & =\n",
    "  (\\frac{\\nu_+}{\\sigma})\\frac{\\xi^{(t)} - \\mu - (\\nu_+/2)}{\\sigma} {\\tag{9.2}}\n",
    "\\end{align*}\n",
    "$\n",
    "\n",
    "時刻$t$における変化度は\n",
    "\n",
    "$\n",
    "\\begin{align*}\n",
    "a^{(t)}_+\n",
    "&\\equiv\n",
    "\\Bigl[ a^{(t-1)}_+ + a(\\xi^{(t)}) \\Bigr]_+ {\\tag{9.3}} \\\\\n",
    "&=\n",
    "\\Bigl[ \\bigl[ a^{(t-2)}_+ + a(\\xi^{(t-1)}) \\bigr]_+ + a(\\xi^{(t)}) \\Bigr]_+ \\\\\n",
    "&=\n",
    "\\Bigl[ \\bigl[ [a^{(t-3)}_+ + a(\\xi^{(t-2)}) ]_+ + a(\\xi^{(t-1)}) \\bigr]_+ + a(\\xi^{(t)}) \\Bigr]_+ \n",
    "\\end{align*}\n",
    "$\n",
    "\n",
    "時系列\n",
    "\n",
    "${\\mathcal D} = \\{\\xi^{(1)}, \\xi^{(2)},...,\\xi^{(T)}\\}$"
   ]
  },
  {
   "cell_type": "markdown",
   "metadata": {},
   "source": [
    "スライディングウィンドウ  \n",
    "$x^{(1)} \\equiv \\left(\n",
    "    \\begin{array}{c}\n",
    "      \\xi^{(1)} \\\\\n",
    "      \\xi^{(2)} \\\\\n",
    "      \\vdots \\\\\n",
    "      \\xi^{(M)}\n",
    "    \\end{array}\n",
    "  \\right)\n",
    "  ,\n",
    "  x^{(2)} \\equiv \\left(\n",
    "    \\begin{array}{c}\n",
    "      \\xi^{(2)} \\\\\n",
    "      \\xi^{(3)} \\\\\n",
    "      \\vdots \\\\\n",
    "      \\xi^{(M+1)}\n",
    "    \\end{array}\n",
    "  \\right), \\dots {\\tag{9.5}}\n",
    "$"
   ]
  },
  {
   "cell_type": "markdown",
   "metadata": {
    "collapsed": true
   },
   "source": [
    "行列の微分について (PRMLの付録)\n",
    "\n",
    "$\\displaystyle\n",
    "\\frac{d}{d{\\bf x}}({\\bf x}^T{\\bf a}) = \\frac{d}{d{\\bf x}}({\\bf a}^T{\\bf x}) = {\\bf a}$"
   ]
  },
  {
   "cell_type": "markdown",
   "metadata": {
    "collapsed": true
   },
   "source": [
    "固有ベクトルとは\n",
    "\n",
    "$A\\bf{x} = \\lambda\\bf{x}$\n",
    "\n",
    "http://qiita.com/kenmatsu4/items/2a8573e3c878fc2da306"
   ]
  },
  {
   "cell_type": "code",
   "execution_count": 87,
   "metadata": {
    "collapsed": false
   },
   "outputs": [
    {
     "name": "stdout",
     "output_type": "stream",
     "text": [
      "行列A\n",
      "[[1 2]\n",
      " [3 4]]\n",
      "固有値\n",
      "[-0.37228132  5.37228132]\n",
      "固有ベクトル\n",
      "[[-0.82456484 -0.41597356]\n",
      " [ 0.56576746 -0.90937671]]\n"
     ]
    }
   ],
   "source": [
    "A = np.array([[1,2],[3,4]])\n",
    "print(u'行列A\\n%s' % A)\n",
    "eigen_values, eigen_vectors = np.linalg.eig(A)\n",
    "print(u'固有値')\n",
    "print(eigen_values)\n",
    "print(u'固有ベクトル')\n",
    "print eigen_vectors"
   ]
  },
  {
   "cell_type": "markdown",
   "metadata": {},
   "source": [
    "$X{\\bf \\nu}_i = \\sqrt{\\gamma_i}{\\bf u}_i,\\ X^T{\\bf u}_i = \\sqrt{\\gamma_i}{\\bf \\nu}_i {\\tag{9.14}}$\n"
   ]
  },
  {
   "cell_type": "markdown",
   "metadata": {},
   "source": [
    "\\begin{align*}\n",
    "{\\bf U}_r^{(t)} & \\equiv [{\\bf u}^{(t,1)}, {\\bf u}^{(t,2)}, \\dots, {\\bf u}^{(t,r)}] {\\tag{9.18}} \\\\\n",
    "{\\bf Q}_m^{(t)} & \\equiv [{\\bf q}^{(t,1)}, {\\bf q}^{(t,2)}, \\dots, {\\bf q}^{(t,m)}] {\\tag{9.19}}\n",
    "\\end{align*} "
   ]
  },
  {
   "cell_type": "markdown",
   "metadata": {},
   "source": [
    "$\\mathcal{N}\n",
    "$"
   ]
  },
  {
   "cell_type": "markdown",
   "metadata": {},
   "source": [
    "心電図データ\n",
    "http://www.cs.ucr.edu/~eamonn/discords/\n",
    "からダウンロードできる"
   ]
  },
  {
   "cell_type": "markdown",
   "metadata": {},
   "source": [
    "参考\n",
    "\n",
    "- http://qiita.com/kokumura/items/e4c17d989aa3c34c6dd0\n",
    "\n",
    "発展形\n",
    "\n",
    "- ChangeFinder (計算コストが線形)"
   ]
  },
  {
   "cell_type": "code",
   "execution_count": 35,
   "metadata": {
    "collapsed": false
   },
   "outputs": [
    {
     "data": {
      "text/plain": [
       "<matplotlib.text.Text at 0x1069cec10>"
      ]
     },
     "execution_count": 35,
     "metadata": {},
     "output_type": "execute_result"
    },
    {
     "data": {
      "image/png": "[encoded data removed]",
      "text/plain": [
       "<matplotlib.figure.Figure at 0x1068879d0>"
      ]
     },
     "metadata": {},
     "output_type": "display_data"
    }
   ],
   "source": [
    "data = np.random.normal(10, 1, 100)\n",
    "data[50] = 30\n",
    "plt.plot(data)\n",
    "plt.ylim(0, 35)\n",
    "plt.xlabel(u'時刻t')\n",
    "plt.ylabel(u'観測値')"
   ]
  },
  {
   "cell_type": "code",
   "execution_count": 22,
   "metadata": {
    "collapsed": false
   },
   "outputs": [],
   "source": [
    "windows = []\n",
    "for idx in range(len(data)):\n",
    "    if idx == len(data) - 1:\n",
    "        break\n",
    "    windows.append([data[idx], data[idx+1]])\n",
    "windows = np.array(windows)"
   ]
  },
  {
   "cell_type": "code",
   "execution_count": 36,
   "metadata": {
    "collapsed": false
   },
   "outputs": [
    {
     "data": {
      "text/plain": [
       "(5, 35)"
      ]
     },
     "execution_count": 36,
     "metadata": {},
     "output_type": "execute_result"
    },
    {
     "data": {
      "image/png": "[encoded data removed]",
      "text/plain": [
       "<matplotlib.figure.Figure at 0x106649310>"
      ]
     },
     "metadata": {},
     "output_type": "display_data"
    }
   ],
   "source": [
    "plt.plot(windows[:,0], windows[:,1], 'bo')\n",
    "plt.xlim(5, 35)\n",
    "plt.ylim(5, 35)"
   ]
  },
  {
   "cell_type": "code",
   "execution_count": 67,
   "metadata": {
    "collapsed": false
   },
   "outputs": [],
   "source": [
    "data = np.random.normal(10, 0.4, 400)\n",
    "for idx, d in enumerate(data):\n",
    "    if idx >= 100 and idx < 200:\n",
    "        data[idx] = d + (idx-100)/5\n",
    "    elif idx >= 200 and idx < 250:\n",
    "        data[idx] = d + 20\n",
    "    elif idx >= 250 and idx < 350:\n",
    "        data[idx] = d + (350-idx)/5\n",
    "    elif idx >= 300:\n",
    "        pass"
   ]
  },
  {
   "cell_type": "code",
   "execution_count": 68,
   "metadata": {
    "collapsed": false
   },
   "outputs": [
    {
     "data": {
      "text/plain": [
       "<matplotlib.text.Text at 0x1076952d0>"
      ]
     },
     "execution_count": 68,
     "metadata": {},
     "output_type": "execute_result"
    },
    {
     "data": {
      "image/png": "[encoded data removed]",
      "text/plain": [
       "<matplotlib.figure.Figure at 0x10705a5d0>"
      ]
     },
     "metadata": {},
     "output_type": "display_data"
    }
   ],
   "source": [
    "plt.plot(data)\n",
    "plt.ylim(0, 35)\n",
    "plt.xlabel(u'時刻t')\n",
    "plt.ylabel(u'観測値')"
   ]
  },
  {
   "cell_type": "code",
   "execution_count": 69,
   "metadata": {
    "collapsed": true
   },
   "outputs": [],
   "source": [
    "windows = []\n",
    "for idx in range(len(data)):\n",
    "    if idx == len(data) - 1:\n",
    "        break\n",
    "    windows.append([data[idx], data[idx+1]])\n",
    "windows = np.array(windows)"
   ]
  },
  {
   "cell_type": "code",
   "execution_count": 70,
   "metadata": {
    "collapsed": false
   },
   "outputs": [
    {
     "data": {
      "text/plain": [
       "(5, 35)"
      ]
     },
     "execution_count": 70,
     "metadata": {},
     "output_type": "execute_result"
    },
    {
     "data": {
      "image/png": "[encoded data removed]",
      "text/plain": [
       "<matplotlib.figure.Figure at 0x1073a4ad0>"
      ]
     },
     "metadata": {},
     "output_type": "display_data"
    }
   ],
   "source": [
    "plt.plot(windows[:,0], windows[:,1], 'bo')\n",
    "plt.xlim(5, 35)\n",
    "plt.ylim(5, 35)"
   ]
  },
  {
   "cell_type": "markdown",
   "metadata": {},
   "source": [
    "$\\displaystyle\n",
    "a^{(t)} = \\int{dx}\\ p^{(t)}(x)ln\\frac{p^{(t)}(x)}{p\\prime^{(t)}(x)} {\\tag{9.8}}\n",
    "$\n",
    "\n",
    "$\\displaystyle\n",
    "{\\mathcal M}(x|\\mu, \\kappa) = \\frac{\\kappa^{M/2-1}}{(2\\pi)^{M/2}I_{M/2-1}(\\kappa)}exp(\\kappa\\mu^Tx)\n",
    "$\n",
    "\n",
    "$\\displaystyle\n",
    "p^{(t)}({\\bf z}) = {\\mathcal M}({\\bf z}|{\\bf u}^{(t)},\\kappa),\\ \\ p\\prime^{(t)}({\\bf z}) = {\\mathcal M}({\\bf z}|{\\bf q}^{(t)},\\kappa)\n",
    "$\n",
    "\n",
    "$\n",
    "\\begin{align*}\n",
    "a^{(t)} & = \\int{dz}\\  {\\mathcal M}({\\bf z} | {\\bf u}^{(t)}, {\\mathcal \\kappa})\\kappa{\\bf z}^T({\\bf u}^{(t)} - {\\bf q}^{(t)}) \\\\\n",
    "& = \\kappa(1 - {\\bf u}^{(t)T}{\\bf q}^{(t)})  {\\tag{9.9}}\n",
    "\\end{align*}\n",
    "$"
   ]
  },
  {
   "cell_type": "markdown",
   "metadata": {},
   "source": [
    "$\n",
    "\\displaystyle\n",
    "\\frac{d}{d\\nu}\\{{\\bf \\nu}^TX^{T}X{\\bf \\nu} - \\gamma{\\bf \\nu}^T{\\bf \\nu}\\} = 0\n",
    "$\n",
    "\n",
    "$\n",
    "X^{T}X{\\bf \\nu} = \\gamma{\\bf \\nu} {\\tag{9.12}}\n",
    "$"
   ]
  },
  {
   "cell_type": "markdown",
   "metadata": {},
   "source": [
    "$\n",
    "\\begin{align*}\n",
    "a(t) & = 1 - ||{\\bf U}_r^{(t){\\rm T}}{\\bf Q}_m^{(t)}||_2 {\\tag{9.21}} \\\\\n",
    "& = 1 - ({\\bf U}_r^{(t){\\rm T}}{\\bf Q}_m^{(t)}の最大特異値)\n",
    "\\end{align*}\n",
    "$\n"
   ]
  },
  {
   "cell_type": "code",
   "execution_count": null,
   "metadata": {
    "collapsed": true
   },
   "outputs": [],
   "source": []
  },
  {
   "cell_type": "code",
   "execution_count": null,
   "metadata": {
    "collapsed": true
   },
   "outputs": [],
   "source": []
  },
  {
   "cell_type": "code",
   "execution_count": null,
   "metadata": {
    "collapsed": true
   },
   "outputs": [],
   "source": []
  },
  {
   "cell_type": "code",
   "execution_count": null,
   "metadata": {
    "collapsed": true
   },
   "outputs": [],
   "source": []
  },
  {
   "cell_type": "code",
   "execution_count": null,
   "metadata": {
    "collapsed": true
   },
   "outputs": [],
   "source": []
  },
  {
   "cell_type": "code",
   "execution_count": null,
   "metadata": {
    "collapsed": true
   },
   "outputs": [],
   "source": []
  }
 ],
 "metadata": {
  "kernelspec": {
   "display_name": "Python 2",
   "language": "python",
   "name": "python2"
  },
  "language_info": {
   "codemirror_mode": {
    "name": "ipython",
    "version": 2
   },
   "file_extension": ".py",
   "mimetype": "text/x-python",
   "name": "python",
   "nbconvert_exporter": "python",
   "pygments_lexer": "ipython2",
   "version": "2.7.9"
  }
 },
 "nbformat": 4,
 "nbformat_minor": 0
}
