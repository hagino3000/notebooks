{
 "cells": [
  {
   "cell_type": "code",
   "execution_count": 1,
   "metadata": {},
   "outputs": [],
   "source": [
    "import pandas as pd"
   ]
  },
  {
   "cell_type": "code",
   "execution_count": 2,
   "metadata": {},
   "outputs": [
    {
     "name": "stdout",
     "output_type": "stream",
     "text": [
      "{\"title\": \"System and Method for Maskless Direct Write Lithography\", \"lang\": \"en\", \"year\": 2015, \"references\": [\"354c172f-d877-4e60-a7eb-c1b1cf03ce4d\", \"76cf1064-b2b2-4245-940b-4e25dab9d41d\"], \"abstract\": \"A system and method for maskless direct write lithography are disclosed. The method includes receiving a plurality of pixels that represent an integrated circuit (IC) layout; identifying a first subset of the pixels that are suitable for a first compression method; and identifying a second subset of the pixels that are suitable for a second compression method. The method further includes compressing the first and second subset using the first and second compression method respectively, resulting in compressed data. The method further includes delivering the compressed data to a maskless direct writer for manufacturing a substrate. In embodiments, the first compression method uses a run-length encoding and the second compression method uses a dictionary-based encoding. Due to the hybrid compression method, the compressed data can be decompressed with a data rate expansion ratio sufficient for high-volume IC manufacturing.\", \"url\": [\"http://www.freepatentsonline.com/y2016/0211117.html\", \"http://www.google.com/patents/US20160211117\", \"https://www.google.de/patents/US20160211117\"], \"id\": \"0000002e-c2f2-4e25-9341-60d39130ac7a\", \"fos\": [\"Electronic engineering\", \"Computer hardware\", \"Engineering\", \"Engineering drawing\"]}\r\n"
     ]
    }
   ],
   "source": [
    "!head ./data/mag_papers_0.txt -n 1"
   ]
  },
  {
   "cell_type": "code",
   "execution_count": 3,
   "metadata": {},
   "outputs": [
    {
     "name": "stdout",
     "output_type": "stream",
     "text": [
      "1000000 ./data/mag_papers_0.txt\r\n"
     ]
    }
   ],
   "source": [
    "!wc -l ./data/mag_papers_0.txt"
   ]
  },
  {
   "cell_type": "code",
   "execution_count": 4,
   "metadata": {},
   "outputs": [],
   "source": [
    "!head ./data/mag_papers_0.txt -n 20000 > ./data/mag_papers_0_head.txt"
   ]
  },
  {
   "cell_type": "code",
   "execution_count": 5,
   "metadata": {},
   "outputs": [
    {
     "data": {
      "text/plain": [
       "(20000, 19)"
      ]
     },
     "execution_count": 5,
     "metadata": {},
     "output_type": "execute_result"
    }
   ],
   "source": [
    "orig_df = pd.read_json('./data/mag_papers_0_head.txt', lines=True)\n",
    "orig_df.shape"
   ]
  },
  {
   "cell_type": "code",
   "execution_count": 6,
   "metadata": {},
   "outputs": [
    {
     "data": {
      "text/html": [
       "<div>\n",
       "<style scoped>\n",
       "    .dataframe tbody tr th:only-of-type {\n",
       "        vertical-align: middle;\n",
       "    }\n",
       "\n",
       "    .dataframe tbody tr th {\n",
       "        vertical-align: top;\n",
       "    }\n",
       "\n",
       "    .dataframe thead th {\n",
       "        text-align: right;\n",
       "    }\n",
       "</style>\n",
       "<table border=\"1\" class=\"dataframe\">\n",
       "  <thead>\n",
       "    <tr style=\"text-align: right;\">\n",
       "      <th></th>\n",
       "      <th>abstract</th>\n",
       "      <th>authors</th>\n",
       "      <th>doc_type</th>\n",
       "      <th>doi</th>\n",
       "      <th>fos</th>\n",
       "      <th>id</th>\n",
       "      <th>issue</th>\n",
       "      <th>keywords</th>\n",
       "      <th>lang</th>\n",
       "      <th>n_citation</th>\n",
       "      <th>page_end</th>\n",
       "      <th>page_start</th>\n",
       "      <th>publisher</th>\n",
       "      <th>references</th>\n",
       "      <th>title</th>\n",
       "      <th>url</th>\n",
       "      <th>venue</th>\n",
       "      <th>volume</th>\n",
       "      <th>year</th>\n",
       "    </tr>\n",
       "  </thead>\n",
       "  <tbody>\n",
       "    <tr>\n",
       "      <th>0</th>\n",
       "      <td>A system and method for maskless direct write ...</td>\n",
       "      <td>NaN</td>\n",
       "      <td>NaN</td>\n",
       "      <td>NaN</td>\n",
       "      <td>[Electronic engineering, Computer hardware, En...</td>\n",
       "      <td>0000002e-c2f2-4e25-9341-60d39130ac7a</td>\n",
       "      <td>NaN</td>\n",
       "      <td>NaN</td>\n",
       "      <td>en</td>\n",
       "      <td>NaN</td>\n",
       "      <td>NaN</td>\n",
       "      <td>NaN</td>\n",
       "      <td>NaN</td>\n",
       "      <td>[354c172f-d877-4e60-a7eb-c1b1cf03ce4d, 76cf106...</td>\n",
       "      <td>System and Method for Maskless Direct Write Li...</td>\n",
       "      <td>[http://www.freepatentsonline.com/y2016/021111...</td>\n",
       "      <td>NaN</td>\n",
       "      <td>NaN</td>\n",
       "      <td>2015</td>\n",
       "    </tr>\n",
       "    <tr>\n",
       "      <th>1</th>\n",
       "      <td>NaN</td>\n",
       "      <td>[{'name': 'Ahmed M. Alluwaimi'}]</td>\n",
       "      <td>NaN</td>\n",
       "      <td>10.4172/2157-7560.C1.030</td>\n",
       "      <td>[Biology, Virology, Immunology, Microbiology]</td>\n",
       "      <td>0000003d-5ce0-4eed-a56f-bbd3f8d8242b</td>\n",
       "      <td>NaN</td>\n",
       "      <td>[paratuberculosis, of, subspecies, proceedings...</td>\n",
       "      <td>en</td>\n",
       "      <td>NaN</td>\n",
       "      <td>NaN</td>\n",
       "      <td>NaN</td>\n",
       "      <td>OMICS International</td>\n",
       "      <td>NaN</td>\n",
       "      <td>The dilemma of the Mycobacterium avium subspec...</td>\n",
       "      <td>[http://www.omicsonline.org/proceedings/the-di...</td>\n",
       "      <td>NaN</td>\n",
       "      <td>NaN</td>\n",
       "      <td>2016</td>\n",
       "    </tr>\n",
       "    <tr>\n",
       "      <th>2</th>\n",
       "      <td>NaN</td>\n",
       "      <td>[{'name': 'Jovana P. Lekovich', 'org': 'Weill ...</td>\n",
       "      <td>Journal</td>\n",
       "      <td>10.1016/j.fertnstert.2015.07.492</td>\n",
       "      <td>NaN</td>\n",
       "      <td>00000061-0bab-468b-9481-de0c899783f3</td>\n",
       "      <td>3.0</td>\n",
       "      <td>NaN</td>\n",
       "      <td>en</td>\n",
       "      <td>NaN</td>\n",
       "      <td>NaN</td>\n",
       "      <td>NaN</td>\n",
       "      <td>Elsevier</td>\n",
       "      <td>NaN</td>\n",
       "      <td>Should endometriosis be an indication for intr...</td>\n",
       "      <td>[http://www.fertstert.org/article/S0015-0282(1...</td>\n",
       "      <td>Fertility and Sterility</td>\n",
       "      <td>104.0</td>\n",
       "      <td>2015</td>\n",
       "    </tr>\n",
       "    <tr>\n",
       "      <th>3</th>\n",
       "      <td>NaN</td>\n",
       "      <td>[{'name': 'P. M. Voltes'}]</td>\n",
       "      <td>NaN</td>\n",
       "      <td>NaN</td>\n",
       "      <td>[Performance art]</td>\n",
       "      <td>00000081-4562-4882-a29d-5b9cb510ffc3</td>\n",
       "      <td>228.0</td>\n",
       "      <td>[musica, arte]</td>\n",
       "      <td>es</td>\n",
       "      <td>NaN</td>\n",
       "      <td>NaN</td>\n",
       "      <td>6</td>\n",
       "      <td>Editorial Lira</td>\n",
       "      <td>NaN</td>\n",
       "      <td>Radio: Radio San Sebastián</td>\n",
       "      <td>[http://dialnet.unirioja.es/servlet/articulo?c...</td>\n",
       "      <td>NaN</td>\n",
       "      <td>20.0</td>\n",
       "      <td>1950</td>\n",
       "    </tr>\n",
       "    <tr>\n",
       "      <th>4</th>\n",
       "      <td>早期発見と治療成績の向上で担癌患者の生存期間が延びており，それに伴い重複癌を経験する機会も増...</td>\n",
       "      <td>[{'name': '高田和外'}, {'name': 'ほか'}]</td>\n",
       "      <td>NaN</td>\n",
       "      <td>NaN</td>\n",
       "      <td>NaN</td>\n",
       "      <td>00000099-1ee9-4741-908c-02a7bf4857e8</td>\n",
       "      <td>4.0</td>\n",
       "      <td>NaN</td>\n",
       "      <td>ja</td>\n",
       "      <td>NaN</td>\n",
       "      <td>700</td>\n",
       "      <td>697</td>\n",
       "      <td>癌と化学療法社</td>\n",
       "      <td>NaN</td>\n",
       "      <td>異時性6 重複癌の1 例</td>\n",
       "      <td>[http://www.pieronline.jp/content/article/0385...</td>\n",
       "      <td>NaN</td>\n",
       "      <td>38.0</td>\n",
       "      <td>2011</td>\n",
       "    </tr>\n",
       "  </tbody>\n",
       "</table>\n",
       "</div>"
      ],
      "text/plain": [
       "                                            abstract  \\\n",
       "0  A system and method for maskless direct write ...   \n",
       "1                                                NaN   \n",
       "2                                                NaN   \n",
       "3                                                NaN   \n",
       "4  早期発見と治療成績の向上で担癌患者の生存期間が延びており，それに伴い重複癌を経験する機会も増...   \n",
       "\n",
       "                                             authors doc_type  \\\n",
       "0                                                NaN      NaN   \n",
       "1                   [{'name': 'Ahmed M. Alluwaimi'}]      NaN   \n",
       "2  [{'name': 'Jovana P. Lekovich', 'org': 'Weill ...  Journal   \n",
       "3                         [{'name': 'P. M. Voltes'}]      NaN   \n",
       "4                 [{'name': '高田和外'}, {'name': 'ほか'}]      NaN   \n",
       "\n",
       "                                doi  \\\n",
       "0                               NaN   \n",
       "1          10.4172/2157-7560.C1.030   \n",
       "2  10.1016/j.fertnstert.2015.07.492   \n",
       "3                               NaN   \n",
       "4                               NaN   \n",
       "\n",
       "                                                 fos  \\\n",
       "0  [Electronic engineering, Computer hardware, En...   \n",
       "1      [Biology, Virology, Immunology, Microbiology]   \n",
       "2                                                NaN   \n",
       "3                                  [Performance art]   \n",
       "4                                                NaN   \n",
       "\n",
       "                                     id  issue  \\\n",
       "0  0000002e-c2f2-4e25-9341-60d39130ac7a    NaN   \n",
       "1  0000003d-5ce0-4eed-a56f-bbd3f8d8242b    NaN   \n",
       "2  00000061-0bab-468b-9481-de0c899783f3    3.0   \n",
       "3  00000081-4562-4882-a29d-5b9cb510ffc3  228.0   \n",
       "4  00000099-1ee9-4741-908c-02a7bf4857e8    4.0   \n",
       "\n",
       "                                            keywords lang  n_citation  \\\n",
       "0                                                NaN   en         NaN   \n",
       "1  [paratuberculosis, of, subspecies, proceedings...   en         NaN   \n",
       "2                                                NaN   en         NaN   \n",
       "3                                     [musica, arte]   es         NaN   \n",
       "4                                                NaN   ja         NaN   \n",
       "\n",
       "  page_end page_start            publisher  \\\n",
       "0      NaN        NaN                  NaN   \n",
       "1      NaN        NaN  OMICS International   \n",
       "2      NaN        NaN             Elsevier   \n",
       "3      NaN          6       Editorial Lira   \n",
       "4      700        697              癌と化学療法社   \n",
       "\n",
       "                                          references  \\\n",
       "0  [354c172f-d877-4e60-a7eb-c1b1cf03ce4d, 76cf106...   \n",
       "1                                                NaN   \n",
       "2                                                NaN   \n",
       "3                                                NaN   \n",
       "4                                                NaN   \n",
       "\n",
       "                                               title  \\\n",
       "0  System and Method for Maskless Direct Write Li...   \n",
       "1  The dilemma of the Mycobacterium avium subspec...   \n",
       "2  Should endometriosis be an indication for intr...   \n",
       "3                         Radio: Radio San Sebastián   \n",
       "4                                       異時性6 重複癌の1 例   \n",
       "\n",
       "                                                 url                    venue  \\\n",
       "0  [http://www.freepatentsonline.com/y2016/021111...                      NaN   \n",
       "1  [http://www.omicsonline.org/proceedings/the-di...                      NaN   \n",
       "2  [http://www.fertstert.org/article/S0015-0282(1...  Fertility and Sterility   \n",
       "3  [http://dialnet.unirioja.es/servlet/articulo?c...                      NaN   \n",
       "4  [http://www.pieronline.jp/content/article/0385...                      NaN   \n",
       "\n",
       "   volume  year  \n",
       "0     NaN  2015  \n",
       "1     NaN  2016  \n",
       "2   104.0  2015  \n",
       "3    20.0  1950  \n",
       "4    38.0  2011  "
      ]
     },
     "execution_count": 6,
     "metadata": {},
     "output_type": "execute_result"
    }
   ],
   "source": [
    "orig_df.head()"
   ]
  },
  {
   "cell_type": "code",
   "execution_count": 7,
   "metadata": {},
   "outputs": [
    {
     "data": {
      "text/plain": [
       "(10399, 6)"
      ]
     },
     "execution_count": 7,
     "metadata": {},
     "output_type": "execute_result"
    }
   ],
   "source": [
    "model_df = (orig_df.query('lang == \"en\"')\n",
    "            .drop_duplicates(subset='title', keep='first')\n",
    "            .drop(['doc_type', 'doi', 'id', 'issue', 'lang', 'n_citation',\n",
    "                   'page_end', 'page_start', 'publisher', 'references', 'url', 'venue', 'volume'], axis=1)\n",
    "           )\n",
    "model_df.shape"
   ]
  },
  {
   "cell_type": "code",
   "execution_count": 8,
   "metadata": {},
   "outputs": [
    {
     "data": {
      "text/html": [
       "<div>\n",
       "<style scoped>\n",
       "    .dataframe tbody tr th:only-of-type {\n",
       "        vertical-align: middle;\n",
       "    }\n",
       "\n",
       "    .dataframe tbody tr th {\n",
       "        vertical-align: top;\n",
       "    }\n",
       "\n",
       "    .dataframe thead th {\n",
       "        text-align: right;\n",
       "    }\n",
       "</style>\n",
       "<table border=\"1\" class=\"dataframe\">\n",
       "  <thead>\n",
       "    <tr style=\"text-align: right;\">\n",
       "      <th></th>\n",
       "      <th>abstract</th>\n",
       "      <th>authors</th>\n",
       "      <th>fos</th>\n",
       "      <th>keywords</th>\n",
       "      <th>title</th>\n",
       "      <th>year</th>\n",
       "    </tr>\n",
       "  </thead>\n",
       "  <tbody>\n",
       "    <tr>\n",
       "      <th>0</th>\n",
       "      <td>A system and method for maskless direct write ...</td>\n",
       "      <td>NaN</td>\n",
       "      <td>[Electronic engineering, Computer hardware, En...</td>\n",
       "      <td>NaN</td>\n",
       "      <td>System and Method for Maskless Direct Write Li...</td>\n",
       "      <td>2015</td>\n",
       "    </tr>\n",
       "    <tr>\n",
       "      <th>1</th>\n",
       "      <td>NaN</td>\n",
       "      <td>[{'name': 'Ahmed M. Alluwaimi'}]</td>\n",
       "      <td>[Biology, Virology, Immunology, Microbiology]</td>\n",
       "      <td>[paratuberculosis, of, subspecies, proceedings...</td>\n",
       "      <td>The dilemma of the Mycobacterium avium subspec...</td>\n",
       "      <td>2016</td>\n",
       "    </tr>\n",
       "    <tr>\n",
       "      <th>2</th>\n",
       "      <td>NaN</td>\n",
       "      <td>[{'name': 'Jovana P. Lekovich', 'org': 'Weill ...</td>\n",
       "      <td>NaN</td>\n",
       "      <td>NaN</td>\n",
       "      <td>Should endometriosis be an indication for intr...</td>\n",
       "      <td>2015</td>\n",
       "    </tr>\n",
       "    <tr>\n",
       "      <th>5</th>\n",
       "      <td>NaN</td>\n",
       "      <td>[{'name': 'George C. Sponsler'}]</td>\n",
       "      <td>NaN</td>\n",
       "      <td>NaN</td>\n",
       "      <td>Should APS Discuss Public Issues: Direct, pers...</td>\n",
       "      <td>1968</td>\n",
       "    </tr>\n",
       "    <tr>\n",
       "      <th>7</th>\n",
       "      <td>Full textFull text is available as a scanned c...</td>\n",
       "      <td>[{'name': 'M. T. Richards'}]</td>\n",
       "      <td>[Medicine, Pathology, Gynecology, Surgery]</td>\n",
       "      <td>[breast neoplasms, female, middle aged, adoles...</td>\n",
       "      <td>Breast surgery--as an office procedure</td>\n",
       "      <td>1973</td>\n",
       "    </tr>\n",
       "  </tbody>\n",
       "</table>\n",
       "</div>"
      ],
      "text/plain": [
       "                                            abstract  \\\n",
       "0  A system and method for maskless direct write ...   \n",
       "1                                                NaN   \n",
       "2                                                NaN   \n",
       "5                                                NaN   \n",
       "7  Full textFull text is available as a scanned c...   \n",
       "\n",
       "                                             authors  \\\n",
       "0                                                NaN   \n",
       "1                   [{'name': 'Ahmed M. Alluwaimi'}]   \n",
       "2  [{'name': 'Jovana P. Lekovich', 'org': 'Weill ...   \n",
       "5                   [{'name': 'George C. Sponsler'}]   \n",
       "7                       [{'name': 'M. T. Richards'}]   \n",
       "\n",
       "                                                 fos  \\\n",
       "0  [Electronic engineering, Computer hardware, En...   \n",
       "1      [Biology, Virology, Immunology, Microbiology]   \n",
       "2                                                NaN   \n",
       "5                                                NaN   \n",
       "7         [Medicine, Pathology, Gynecology, Surgery]   \n",
       "\n",
       "                                            keywords  \\\n",
       "0                                                NaN   \n",
       "1  [paratuberculosis, of, subspecies, proceedings...   \n",
       "2                                                NaN   \n",
       "5                                                NaN   \n",
       "7  [breast neoplasms, female, middle aged, adoles...   \n",
       "\n",
       "                                               title  year  \n",
       "0  System and Method for Maskless Direct Write Li...  2015  \n",
       "1  The dilemma of the Mycobacterium avium subspec...  2016  \n",
       "2  Should endometriosis be an indication for intr...  2015  \n",
       "5  Should APS Discuss Public Issues: Direct, pers...  1968  \n",
       "7             Breast surgery--as an office procedure  1973  "
      ]
     },
     "execution_count": 8,
     "metadata": {},
     "output_type": "execute_result"
    }
   ],
   "source": [
    "model_df.head()"
   ]
  },
  {
   "cell_type": "code",
   "execution_count": 9,
   "metadata": {},
   "outputs": [],
   "source": [
    "del orig_df"
   ]
  },
  {
   "cell_type": "code",
   "execution_count": 10,
   "metadata": {},
   "outputs": [],
   "source": [
    "def feature_array(x):\n",
    "    df_list = [pd.DataFrame([[1] * len(val)], columns=val, index=[index])\n",
    "                  if isinstance(val, list) else pd.DataFrame(index=[index])\n",
    "                  for val, index in zip(x.values, x.index)]\n",
    "    feature_df = pd.concat(df_list, axis=1, sort=True)\n",
    "    return feature_df.fillna(0)"
   ]
  },
  {
   "cell_type": "code",
   "execution_count": 11,
   "metadata": {},
   "outputs": [
    {
     "data": {
      "text/html": [
       "<div>\n",
       "<style scoped>\n",
       "    .dataframe tbody tr th:only-of-type {\n",
       "        vertical-align: middle;\n",
       "    }\n",
       "\n",
       "    .dataframe tbody tr th {\n",
       "        vertical-align: top;\n",
       "    }\n",
       "\n",
       "    .dataframe thead th {\n",
       "        text-align: right;\n",
       "    }\n",
       "</style>\n",
       "<table border=\"1\" class=\"dataframe\">\n",
       "  <thead>\n",
       "    <tr style=\"text-align: right;\">\n",
       "      <th></th>\n",
       "      <th>1831</th>\n",
       "      <th>1832</th>\n",
       "      <th>1833</th>\n",
       "      <th>1834</th>\n",
       "      <th>1836</th>\n",
       "      <th>1837</th>\n",
       "      <th>1840</th>\n",
       "      <th>1841</th>\n",
       "      <th>1845</th>\n",
       "      <th>1847</th>\n",
       "      <th>...</th>\n",
       "      <th>2008</th>\n",
       "      <th>2009</th>\n",
       "      <th>2010</th>\n",
       "      <th>2011</th>\n",
       "      <th>2012</th>\n",
       "      <th>2013</th>\n",
       "      <th>2014</th>\n",
       "      <th>2015</th>\n",
       "      <th>2016</th>\n",
       "      <th>2017</th>\n",
       "    </tr>\n",
       "  </thead>\n",
       "  <tbody>\n",
       "    <tr>\n",
       "      <th>0</th>\n",
       "      <td>0</td>\n",
       "      <td>0</td>\n",
       "      <td>0</td>\n",
       "      <td>0</td>\n",
       "      <td>0</td>\n",
       "      <td>0</td>\n",
       "      <td>0</td>\n",
       "      <td>0</td>\n",
       "      <td>0</td>\n",
       "      <td>0</td>\n",
       "      <td>...</td>\n",
       "      <td>0</td>\n",
       "      <td>0</td>\n",
       "      <td>0</td>\n",
       "      <td>0</td>\n",
       "      <td>0</td>\n",
       "      <td>0</td>\n",
       "      <td>0</td>\n",
       "      <td>1</td>\n",
       "      <td>0</td>\n",
       "      <td>0</td>\n",
       "    </tr>\n",
       "    <tr>\n",
       "      <th>1</th>\n",
       "      <td>0</td>\n",
       "      <td>0</td>\n",
       "      <td>0</td>\n",
       "      <td>0</td>\n",
       "      <td>0</td>\n",
       "      <td>0</td>\n",
       "      <td>0</td>\n",
       "      <td>0</td>\n",
       "      <td>0</td>\n",
       "      <td>0</td>\n",
       "      <td>...</td>\n",
       "      <td>0</td>\n",
       "      <td>0</td>\n",
       "      <td>0</td>\n",
       "      <td>0</td>\n",
       "      <td>0</td>\n",
       "      <td>0</td>\n",
       "      <td>0</td>\n",
       "      <td>0</td>\n",
       "      <td>1</td>\n",
       "      <td>0</td>\n",
       "    </tr>\n",
       "  </tbody>\n",
       "</table>\n",
       "<p>2 rows × 156 columns</p>\n",
       "</div>"
      ],
      "text/plain": [
       "   1831  1832  1833  1834  1836  1837  1840  1841  1845  1847  ...  2008  \\\n",
       "0     0     0     0     0     0     0     0     0     0     0  ...     0   \n",
       "1     0     0     0     0     0     0     0     0     0     0  ...     0   \n",
       "\n",
       "   2009  2010  2011  2012  2013  2014  2015  2016  2017  \n",
       "0     0     0     0     0     0     0     1     0     0  \n",
       "1     0     0     0     0     0     0     0     1     0  \n",
       "\n",
       "[2 rows x 156 columns]"
      ]
     },
     "execution_count": 11,
     "metadata": {},
     "output_type": "execute_result"
    }
   ],
   "source": [
    "year_features = pd.get_dummies(model_df['year'].astype('category'))\n",
    "year_features.head(2)"
   ]
  },
  {
   "cell_type": "code",
   "execution_count": 12,
   "metadata": {},
   "outputs": [
    {
     "name": "stdout",
     "output_type": "stream",
     "text": [
      "Size of first feature array:  3787893471\n"
     ]
    }
   ],
   "source": [
    "fos_features = feature_array(model_df['fos'])\n",
    "first_features = fos_features.join(year_features).T\n",
    "\n",
    "from sys import getsizeof\n",
    "print('Size of first feature array: ', getsizeof(first_features))"
   ]
  },
  {
   "cell_type": "code",
   "execution_count": 13,
   "metadata": {},
   "outputs": [
    {
     "data": {
      "text/html": [
       "<div>\n",
       "<style scoped>\n",
       "    .dataframe tbody tr th:only-of-type {\n",
       "        vertical-align: middle;\n",
       "    }\n",
       "\n",
       "    .dataframe tbody tr th {\n",
       "        vertical-align: top;\n",
       "    }\n",
       "\n",
       "    .dataframe thead th {\n",
       "        text-align: right;\n",
       "    }\n",
       "</style>\n",
       "<table border=\"1\" class=\"dataframe\">\n",
       "  <thead>\n",
       "    <tr style=\"text-align: right;\">\n",
       "      <th></th>\n",
       "      <th>0</th>\n",
       "      <th>1</th>\n",
       "      <th>2</th>\n",
       "      <th>5</th>\n",
       "      <th>7</th>\n",
       "      <th>8</th>\n",
       "      <th>9</th>\n",
       "      <th>10</th>\n",
       "      <th>11</th>\n",
       "      <th>12</th>\n",
       "      <th>...</th>\n",
       "      <th>19985</th>\n",
       "      <th>19986</th>\n",
       "      <th>19987</th>\n",
       "      <th>19988</th>\n",
       "      <th>19993</th>\n",
       "      <th>19994</th>\n",
       "      <th>19995</th>\n",
       "      <th>19997</th>\n",
       "      <th>19998</th>\n",
       "      <th>19999</th>\n",
       "    </tr>\n",
       "  </thead>\n",
       "  <tbody>\n",
       "    <tr>\n",
       "      <th>Electronic engineering</th>\n",
       "      <td>1.0</td>\n",
       "      <td>0.0</td>\n",
       "      <td>0.0</td>\n",
       "      <td>0.0</td>\n",
       "      <td>0.0</td>\n",
       "      <td>0.0</td>\n",
       "      <td>0.0</td>\n",
       "      <td>0.0</td>\n",
       "      <td>0.0</td>\n",
       "      <td>0.0</td>\n",
       "      <td>...</td>\n",
       "      <td>0.0</td>\n",
       "      <td>0.0</td>\n",
       "      <td>0.0</td>\n",
       "      <td>0.0</td>\n",
       "      <td>0.0</td>\n",
       "      <td>0.0</td>\n",
       "      <td>0.0</td>\n",
       "      <td>0.0</td>\n",
       "      <td>0.0</td>\n",
       "      <td>0.0</td>\n",
       "    </tr>\n",
       "    <tr>\n",
       "      <th>Computer hardware</th>\n",
       "      <td>1.0</td>\n",
       "      <td>0.0</td>\n",
       "      <td>0.0</td>\n",
       "      <td>0.0</td>\n",
       "      <td>0.0</td>\n",
       "      <td>0.0</td>\n",
       "      <td>0.0</td>\n",
       "      <td>0.0</td>\n",
       "      <td>0.0</td>\n",
       "      <td>0.0</td>\n",
       "      <td>...</td>\n",
       "      <td>0.0</td>\n",
       "      <td>0.0</td>\n",
       "      <td>0.0</td>\n",
       "      <td>0.0</td>\n",
       "      <td>0.0</td>\n",
       "      <td>0.0</td>\n",
       "      <td>0.0</td>\n",
       "      <td>0.0</td>\n",
       "      <td>0.0</td>\n",
       "      <td>0.0</td>\n",
       "    </tr>\n",
       "    <tr>\n",
       "      <th>Engineering</th>\n",
       "      <td>1.0</td>\n",
       "      <td>0.0</td>\n",
       "      <td>0.0</td>\n",
       "      <td>0.0</td>\n",
       "      <td>0.0</td>\n",
       "      <td>0.0</td>\n",
       "      <td>0.0</td>\n",
       "      <td>0.0</td>\n",
       "      <td>0.0</td>\n",
       "      <td>0.0</td>\n",
       "      <td>...</td>\n",
       "      <td>0.0</td>\n",
       "      <td>0.0</td>\n",
       "      <td>0.0</td>\n",
       "      <td>0.0</td>\n",
       "      <td>0.0</td>\n",
       "      <td>0.0</td>\n",
       "      <td>0.0</td>\n",
       "      <td>0.0</td>\n",
       "      <td>0.0</td>\n",
       "      <td>0.0</td>\n",
       "    </tr>\n",
       "    <tr>\n",
       "      <th>Engineering drawing</th>\n",
       "      <td>1.0</td>\n",
       "      <td>0.0</td>\n",
       "      <td>0.0</td>\n",
       "      <td>0.0</td>\n",
       "      <td>0.0</td>\n",
       "      <td>0.0</td>\n",
       "      <td>0.0</td>\n",
       "      <td>0.0</td>\n",
       "      <td>0.0</td>\n",
       "      <td>0.0</td>\n",
       "      <td>...</td>\n",
       "      <td>0.0</td>\n",
       "      <td>0.0</td>\n",
       "      <td>0.0</td>\n",
       "      <td>0.0</td>\n",
       "      <td>0.0</td>\n",
       "      <td>0.0</td>\n",
       "      <td>0.0</td>\n",
       "      <td>0.0</td>\n",
       "      <td>0.0</td>\n",
       "      <td>0.0</td>\n",
       "    </tr>\n",
       "    <tr>\n",
       "      <th>Biology</th>\n",
       "      <td>0.0</td>\n",
       "      <td>1.0</td>\n",
       "      <td>0.0</td>\n",
       "      <td>0.0</td>\n",
       "      <td>0.0</td>\n",
       "      <td>0.0</td>\n",
       "      <td>0.0</td>\n",
       "      <td>0.0</td>\n",
       "      <td>0.0</td>\n",
       "      <td>0.0</td>\n",
       "      <td>...</td>\n",
       "      <td>0.0</td>\n",
       "      <td>0.0</td>\n",
       "      <td>0.0</td>\n",
       "      <td>0.0</td>\n",
       "      <td>0.0</td>\n",
       "      <td>0.0</td>\n",
       "      <td>0.0</td>\n",
       "      <td>0.0</td>\n",
       "      <td>0.0</td>\n",
       "      <td>0.0</td>\n",
       "    </tr>\n",
       "  </tbody>\n",
       "</table>\n",
       "<p>5 rows × 10399 columns</p>\n",
       "</div>"
      ],
      "text/plain": [
       "                        0      1      2      5      7      8      9      \\\n",
       "Electronic engineering    1.0    0.0    0.0    0.0    0.0    0.0    0.0   \n",
       "Computer hardware         1.0    0.0    0.0    0.0    0.0    0.0    0.0   \n",
       "Engineering               1.0    0.0    0.0    0.0    0.0    0.0    0.0   \n",
       "Engineering drawing       1.0    0.0    0.0    0.0    0.0    0.0    0.0   \n",
       "Biology                   0.0    1.0    0.0    0.0    0.0    0.0    0.0   \n",
       "\n",
       "                        10     11     12     ...  19985  19986  19987  19988  \\\n",
       "Electronic engineering    0.0    0.0    0.0  ...    0.0    0.0    0.0    0.0   \n",
       "Computer hardware         0.0    0.0    0.0  ...    0.0    0.0    0.0    0.0   \n",
       "Engineering               0.0    0.0    0.0  ...    0.0    0.0    0.0    0.0   \n",
       "Engineering drawing       0.0    0.0    0.0  ...    0.0    0.0    0.0    0.0   \n",
       "Biology                   0.0    0.0    0.0  ...    0.0    0.0    0.0    0.0   \n",
       "\n",
       "                        19993  19994  19995  19997  19998  19999  \n",
       "Electronic engineering    0.0    0.0    0.0    0.0    0.0    0.0  \n",
       "Computer hardware         0.0    0.0    0.0    0.0    0.0    0.0  \n",
       "Engineering               0.0    0.0    0.0    0.0    0.0    0.0  \n",
       "Engineering drawing       0.0    0.0    0.0    0.0    0.0    0.0  \n",
       "Biology                   0.0    0.0    0.0    0.0    0.0    0.0  \n",
       "\n",
       "[5 rows x 10399 columns]"
      ]
     },
     "execution_count": 13,
     "metadata": {},
     "output_type": "execute_result"
    }
   ],
   "source": [
    "first_features.head()"
   ]
  },
  {
   "cell_type": "code",
   "execution_count": 14,
   "metadata": {},
   "outputs": [],
   "source": [
    "from scipy.spatial.distance import cosine\n",
    "\n",
    "def item_collab_filter(features_df):\n",
    "    return pd.DataFrame([[1 - cosine(col_val1, col_val2)\n",
    "                                     for col_val1 in features_df.T.values] for col_val2 in features_df.T.values],\n",
    "                                     index = features_df.columns, columns = features_df.columns)\n"
   ]
  },
  {
   "cell_type": "code",
   "execution_count": 15,
   "metadata": {},
   "outputs": [
    {
     "data": {
      "text/html": [
       "<div>\n",
       "<style scoped>\n",
       "    .dataframe tbody tr th:only-of-type {\n",
       "        vertical-align: middle;\n",
       "    }\n",
       "\n",
       "    .dataframe tbody tr th {\n",
       "        vertical-align: top;\n",
       "    }\n",
       "\n",
       "    .dataframe thead th {\n",
       "        text-align: right;\n",
       "    }\n",
       "</style>\n",
       "<table border=\"1\" class=\"dataframe\">\n",
       "  <thead>\n",
       "    <tr style=\"text-align: right;\">\n",
       "      <th></th>\n",
       "      <th>0</th>\n",
       "      <th>1</th>\n",
       "      <th>2</th>\n",
       "      <th>5</th>\n",
       "    </tr>\n",
       "  </thead>\n",
       "  <tbody>\n",
       "    <tr>\n",
       "      <th>0</th>\n",
       "      <td>1.000000</td>\n",
       "      <td>0.0</td>\n",
       "      <td>0.447214</td>\n",
       "      <td>0.0</td>\n",
       "    </tr>\n",
       "    <tr>\n",
       "      <th>1</th>\n",
       "      <td>0.000000</td>\n",
       "      <td>1.0</td>\n",
       "      <td>0.000000</td>\n",
       "      <td>0.0</td>\n",
       "    </tr>\n",
       "    <tr>\n",
       "      <th>2</th>\n",
       "      <td>0.447214</td>\n",
       "      <td>0.0</td>\n",
       "      <td>1.000000</td>\n",
       "      <td>0.0</td>\n",
       "    </tr>\n",
       "    <tr>\n",
       "      <th>5</th>\n",
       "      <td>0.000000</td>\n",
       "      <td>0.0</td>\n",
       "      <td>0.000000</td>\n",
       "      <td>1.0</td>\n",
       "    </tr>\n",
       "  </tbody>\n",
       "</table>\n",
       "</div>"
      ],
      "text/plain": [
       "          0    1         2    5\n",
       "0  1.000000  0.0  0.447214  0.0\n",
       "1  0.000000  1.0  0.000000  0.0\n",
       "2  0.447214  0.0  1.000000  0.0\n",
       "5  0.000000  0.0  0.000000  1.0"
      ]
     },
     "execution_count": 15,
     "metadata": {},
     "output_type": "execute_result"
    }
   ],
   "source": [
    "item_collab_filter(first_features.loc[:, 0:5])"
   ]
  },
  {
   "cell_type": "code",
   "execution_count": null,
   "metadata": {},
   "outputs": [],
   "source": [
    "first_items = item_collab_filter(first_features.loc[:, 0:1000])\n",
    "first_items.head()"
   ]
  },
  {
   "cell_type": "code",
   "execution_count": null,
   "metadata": {},
   "outputs": [],
   "source": [
    "import seaborn as sns\n",
    "import numpy as np\n",
    "\n",
    "sns.set()\n",
    "ax = sns.heatmap(first_items.fillna(0), \n",
    "                 vmin=0, vmax=1, \n",
    "                 cmap='YlGnBu', \n",
    "                 xticklabels=250, yticklabels=250)\n",
    "ax.tick_params(labelsize=12)"
   ]
  },
  {
   "cell_type": "code",
   "execution_count": 16,
   "metadata": {},
   "outputs": [
    {
     "name": "stdout",
     "output_type": "stream",
     "text": [
      "Year spread: 1831 - 2017\n",
      "Quantile spread:\n",
      " 0.25    1990.0\n",
      "0.50    2005.0\n",
      "0.75    2012.0\n",
      "Name: year, dtype: float64\n"
     ]
    }
   ],
   "source": [
    "year_min = model_df['year'].min()\n",
    "year_max = model_df['year'].max()\n",
    "print('Year spread:', year_min, '-', year_max)\n",
    "print('Quantile spread:\\n', model_df['year'].quantile([0.25, 0.5, 0.75]))"
   ]
  },
  {
   "cell_type": "code",
   "execution_count": 17,
   "metadata": {},
   "outputs": [
    {
     "data": {
      "text/plain": [
       "<matplotlib.axes._subplots.AxesSubplot at 0x7f905f8bcd30>"
      ]
     },
     "execution_count": 17,
     "metadata": {},
     "output_type": "execute_result"
    },
    {
     "data": {
      "image/png": "[encoded data removed]",
      "text/plain": [
       "<Figure size 500x300 with 1 Axes>"
      ]
     },
     "metadata": {},
     "output_type": "display_data"
    }
   ],
   "source": [
    "model_df['year'].hist(bins=year_max - year_min)"
   ]
  },
  {
   "cell_type": "code",
   "execution_count": 18,
   "metadata": {},
   "outputs": [
    {
     "data": {
      "text/plain": [
       "18"
      ]
     },
     "execution_count": 18,
     "metadata": {},
     "output_type": "execute_result"
    }
   ],
   "source": [
    "bins = int(round(year_max - year_min) / 10)\n",
    "bins"
   ]
  },
  {
   "cell_type": "code",
   "execution_count": 19,
   "metadata": {},
   "outputs": [],
   "source": [
    "temp_df = pd.DataFrame(index=model_df.index)\n",
    "temp_df['yearBinned'] = pd.cut(model_df['year'].tolist(), bins, precision=0)"
   ]
  },
  {
   "cell_type": "code",
   "execution_count": 20,
   "metadata": {},
   "outputs": [
    {
     "data": {
      "text/plain": [
       "IntervalIndex([(1831.0, 1841.0], (1841.0, 1852.0], (1852.0, 1862.0], (1862.0, 1872.0], (1872.0, 1883.0] ... (1965.0, 1976.0], (1976.0, 1986.0], (1986.0, 1996.0], (1996.0, 2007.0], (2007.0, 2017.0]],\n",
       "              closed='right',\n",
       "              dtype='interval[float64]')"
      ]
     },
     "execution_count": 20,
     "metadata": {},
     "output_type": "execute_result"
    }
   ],
   "source": [
    "X_yrs = pd.get_dummies(temp_df['yearBinned'])\n",
    "X_yrs.columns.categories"
   ]
  },
  {
   "cell_type": "code",
   "execution_count": 21,
   "metadata": {},
   "outputs": [
    {
     "data": {
      "text/plain": [
       "<matplotlib.axes._subplots.AxesSubplot at 0x7f905f7ea2b0>"
      ]
     },
     "execution_count": 21,
     "metadata": {},
     "output_type": "execute_result"
    },
    {
     "data": {
      "image/png": "[encoded data removed]",
      "text/plain": [
       "<Figure size 500x300 with 1 Axes>"
      ]
     },
     "metadata": {},
     "output_type": "display_data"
    }
   ],
   "source": [
    "X_yrs.sum().plot(kind='bar')"
   ]
  },
  {
   "cell_type": "code",
   "execution_count": 22,
   "metadata": {},
   "outputs": [
    {
     "name": "stdout",
     "output_type": "stream",
     "text": [
      "Our pandas Series, in bytes:  3772086600\n",
      "Our hashed numpy array, in bytes:  112\n"
     ]
    }
   ],
   "source": [
    "X_fos = fos_features.values\n",
    "\n",
    "print('Our pandas Series, in bytes: ', getsizeof(fos_features))\n",
    "print('Our hashed numpy array, in bytes: ', getsizeof(X_fos))"
   ]
  },
  {
   "cell_type": "code",
   "execution_count": 23,
   "metadata": {},
   "outputs": [
    {
     "data": {
      "text/plain": [
       "(10399, 45337)"
      ]
     },
     "execution_count": 23,
     "metadata": {},
     "output_type": "execute_result"
    }
   ],
   "source": [
    "X_fos.shape"
   ]
  },
  {
   "cell_type": "code",
   "execution_count": 24,
   "metadata": {},
   "outputs": [
    {
     "data": {
      "text/plain": [
       "3771675704"
      ]
     },
     "execution_count": 24,
     "metadata": {},
     "output_type": "execute_result"
    }
   ],
   "source": [
    "X_fos.nbytes"
   ]
  },
  {
   "cell_type": "code",
   "execution_count": 43,
   "metadata": {},
   "outputs": [
    {
     "name": "stdout",
     "output_type": "stream",
     "text": [
      "The power of feature engineering saves us, in bytes:  -3773173256\n"
     ]
    }
   ],
   "source": [
    "second_features = np.append(X_fos, X_yrs, axis = 1)\n",
    "\n",
    "print('The power of feature engineering saves us, in bytes: ',\n",
    "         getsizeof(first_features) - getsizeof(second_features))\n",
    "\n",
    "from sklearn.metrics.pairwise import cosine_similarity\n",
    "\n",
    "def piped_collab_filter(features_matrix, index, top_n):\n",
    "    item_similarities = \\\n",
    "        1 - cosine_similarity(features_matrix[index:index+1],\n",
    "                              features_matrix).flatten()\n",
    "    related_indices = \\\n",
    "        [i for i in item_similarities.argsort()[::-1] if i != index]\n",
    "    return [(index, item_similarities[index]) for index in related_indices][0:top_n]"
   ]
  },
  {
   "cell_type": "code",
   "execution_count": 36,
   "metadata": {},
   "outputs": [
    {
     "data": {
      "text/plain": [
       "3785.0176"
      ]
     },
     "execution_count": 36,
     "metadata": {},
     "output_type": "execute_result"
    }
   ],
   "source": [
    "first_features.memory_usage().sum()/1000/1000"
   ]
  },
  {
   "cell_type": "code",
   "execution_count": 37,
   "metadata": {},
   "outputs": [
    {
     "data": {
      "text/plain": [
       "3773.1731600000003"
      ]
     },
     "execution_count": 37,
     "metadata": {},
     "output_type": "execute_result"
    }
   ],
   "source": [
    "second_features.nbytes/1000/1000"
   ]
  },
  {
   "cell_type": "code",
   "execution_count": 35,
   "metadata": {},
   "outputs": [
    {
     "name": "stdout",
     "output_type": "stream",
     "text": [
      "The power of feature engineering saves us, in bytes:  11844440\n"
     ]
    }
   ],
   "source": [
    "print('The power of feature engineering saves us, in bytes: ',\n",
    "         first_features.memory_usage().sum() - second_features.nbytes)\n"
   ]
  },
  {
   "cell_type": "code",
   "execution_count": 44,
   "metadata": {},
   "outputs": [],
   "source": [
    "filled_df = model_df.fillna('None')\n",
    "\n",
    "from sklearn.feature_extraction.text import TfidfVectorizer\n",
    "\n",
    "vectorizer = TfidfVectorizer(sublinear_tf=True, max_df=0.5, stop_words='english')\n",
    "X_abstract = vectorizer.fit_transform(filled_df['abstract'])\n",
    "\n",
    "third_features = np.append(second_features, X_abstract.toarray(), axis = 1)"
   ]
  },
  {
   "cell_type": "code",
   "execution_count": 45,
   "metadata": {},
   "outputs": [
    {
     "data": {
      "text/plain": [
       "[{'None': 0},\n",
       " {'Ahmed M. Alluwaimi': 1},\n",
       " {'Jovana P. Lekovich': 2, 'Weill Cornell Medical College, New York, NY': 2},\n",
       " {'George C. Sponsler': 5},\n",
       " {'M. T. Richards': 7}]"
      ]
     },
     "execution_count": 45,
     "metadata": {},
     "output_type": "execute_result"
    }
   ],
   "source": [
    "authors_list = []\n",
    "\n",
    "for row in filled_df.itertuples():\n",
    "    # それぞれのSeriesインデックスからdict型オブジェクトを作成する\n",
    "    if isinstance(row.authors, str):\n",
    "        y = {'None': row.Index}\n",
    "    if isinstance(row.authors, list):\n",
    "        # これらのキー、値をdict型オブジェクトに追加する\n",
    "        y = dict.fromkeys(row.authors[0].values(), row.Index)\n",
    "    authors_list.append(y)\n",
    "\n",
    "authors_list[0:5]"
   ]
  },
  {
   "cell_type": "code",
   "execution_count": 46,
   "metadata": {},
   "outputs": [],
   "source": [
    "from sklearn.feature_extraction import DictVectorizer\n",
    "v = DictVectorizer(sparse=False)\n",
    "D = authors_list\n",
    "X_authors = v.fit_transform(D)\n",
    "fourth_features = np.append(third_features, X_authors, axis=1)"
   ]
  },
  {
   "cell_type": "code",
   "execution_count": 47,
   "metadata": {},
   "outputs": [
    {
     "data": {
      "text/plain": [
       "10399"
      ]
     },
     "execution_count": 47,
     "metadata": {},
     "output_type": "execute_result"
    }
   ],
   "source": [
    "len(D)"
   ]
  },
  {
   "cell_type": "code",
   "execution_count": 48,
   "metadata": {},
   "outputs": [
    {
     "data": {
      "text/plain": [
       "(10399, 14028)"
      ]
     },
     "execution_count": 48,
     "metadata": {},
     "output_type": "execute_result"
    }
   ],
   "source": [
    "X_authors.shape"
   ]
  },
  {
   "cell_type": "code",
   "execution_count": 49,
   "metadata": {},
   "outputs": [],
   "source": [
    "del second_features\n",
    "del third_features\n",
    "del X_fos"
   ]
  },
  {
   "cell_type": "code",
   "execution_count": null,
   "metadata": {},
   "outputs": [
    {
     "name": "stdout",
     "output_type": "stream",
     "text": [
      "Based on the paper:\n",
      "Paper index =  2\n",
      "Title : Should endometriosis be an indication for intracytoplasmic sperm injection (ICSI) in fresh IVF cycles\n",
      "FOS : nan\n",
      "Year : 2015\n",
      "Abstract : nan\n",
      "Authors : [{'name': 'Jovana P. Lekovich', 'org': 'Weill Cornell Medical College, New York, NY'}, {'name': 'G.D. Palermo', 'org': 'Weill Medical College of Cornell University, New York, NY'}, {'name': 'Nigel Pereira', 'org': 'The Ronald O. Perelman and Claudia Cohen Center, New York, NY'}, {'name': 'Zev Rosenwaks', 'org': 'Weill Cornell Medical College, New York, NY'}] \n",
      "\n"
     ]
    }
   ],
   "source": [
    "def paper_recommender(items_df, paper_ix, top_n):\n",
    "    if paper_ix in model_df.index:\n",
    "        print('Based on the paper:')\n",
    "        print('Paper index = ', model_df.loc[paper_ix].name)\n",
    "        print('Title :', model_df.loc[paper_ix]['title'])\n",
    "        print('FOS :', model_df.loc[paper_ix]['fos'])\n",
    "        print('Year :', model_df.loc[paper_ix]['year'])\n",
    "        print('Abstract :', model_df.loc[paper_ix]['abstract'])\n",
    "        print('Authors :', model_df.loc[paper_ix]['authors'], '\\n')\n",
    "\n",
    "        array_ix = model_df.index.get_loc(paper_ix)\n",
    "        top_results = piped_collab_filter(items_df, array_ix, top_n)\n",
    "        print('\\nTop',top_n,'results: ')\n",
    "\n",
    "        order = 1\n",
    "        for i in range(len(top_results)):\n",
    "            print(order,'. Paper index = ', model_df.iloc[top_results[i][0]].name)\n",
    "            print('Similarity score: ', top_results[i][1])\n",
    "            print('Title :', model_df.iloc[top_results[i][0]]['title'])\n",
    "            print('FOS :', model_df.iloc[top_results[i][0]]['fos'])\n",
    "            print('Year :', model_df.iloc[top_results[i][0]]['year'])\n",
    "            print('Abstract :', model_df.iloc[top_results[i][0]]['abstract'])\n",
    "            print('Authors :', model_df.iloc[top_results[i][0]]['authors'], '\\n')\n",
    "            if order < top_n: order += 1\n",
    "                    \n",
    "    else:\n",
    "        print('Whoops! Choose another paper. Try something from here: \\n', model_df.index[100:200])\n",
    "\n",
    "paper_recommender(fourth_features, 2, 3)"
   ]
  },
  {
   "cell_type": "code",
   "execution_count": null,
   "metadata": {},
   "outputs": [],
   "source": []
  }
 ],
 "metadata": {
  "kernelspec": {
   "display_name": "Python 3",
   "language": "python",
   "name": "python3"
  },
  "language_info": {
   "codemirror_mode": {
    "name": "ipython",
    "version": 3
   },
   "file_extension": ".py",
   "mimetype": "text/x-python",
   "name": "python",
   "nbconvert_exporter": "python",
   "pygments_lexer": "ipython3",
   "version": "3.6.3"
  }
 },
 "nbformat": 4,
 "nbformat_minor": 2
}
