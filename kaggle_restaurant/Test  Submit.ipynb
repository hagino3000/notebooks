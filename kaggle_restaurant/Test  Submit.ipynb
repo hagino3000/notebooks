{
 "cells": [
  {
   "cell_type": "code",
   "execution_count": 33,
   "metadata": {
    "collapsed": true
   },
   "outputs": [],
   "source": [
    "from __future__ import division\n",
    "from sklearn.cross_validation import train_test_split, cross_val_score, KFold\n",
    "from sklearn.linear_model import LogisticRegression\n",
    "from sklearn.linear_model import LinearRegression\n",
    "from sklearn.grid_search import GridSearchCV\n",
    "from sklearn.svm import LinearSVC, SVC\n",
    "from sklearn.metrics import accuracy_score, classification_report, confusion_matrix\n",
    "from sklearn.tree import DecisionTreeClassifier\n",
    "from sklearn.ensemble import RandomForestClassifier\n",
    "from sklearn.preprocessing import StandardScaler, MinMaxScaler\n",
    "from sklearn.feature_extraction import FeatureHasher"
   ]
  },
  {
   "cell_type": "code",
   "execution_count": 108,
   "metadata": {
    "collapsed": false
   },
   "outputs": [],
   "source": [
    "df_train = pd.read_csv('./train.csv')\n",
    "y_train = df_train['revenue']\n",
    "df_train.drop('revenue', axis=1, inplace=True)"
   ]
  },
  {
   "cell_type": "code",
   "execution_count": 76,
   "metadata": {
    "collapsed": false
   },
   "outputs": [
    {
     "data": {
      "text/plain": [
       "30"
      ]
     },
     "execution_count": 76,
     "metadata": {},
     "output_type": "execute_result"
    }
   ],
   "source": [
    "hasher = FeatureHasher(n_features=100, input_type=\"string\")\n",
    "city_hash = hasher.transform(df_train.City)\n",
    "def n_nonzero_columns(X):\n",
    "    \"\"\"Returns the number of non-zero columns in a CSR matrix X.\"\"\"\n",
    "    return len(np.unique(X.nonzero()[1]))\n",
    "n_nonzero_columns(city_hash)"
   ]
  },
  {
   "cell_type": "code",
   "execution_count": 112,
   "metadata": {
    "collapsed": false
   },
   "outputs": [],
   "source": [
    "def extract_feature(df):\n",
    "    \"\"\"\n",
    "    TODO Open Dateの正規化\n",
    "    \"\"\"\n",
    "    df_ret = df.drop(['Id', 'City', 'City Group', 'Type', 'Open Date'], axis=1)\n",
    "    open_date = df['Open Date'].apply(lambda m: int(m[6:] + m[0:2]))\n",
    "    hasher = FeatureHasher(n_features=100, input_type=\"string\")\n",
    "    city_hash = hasher.transform(df.City)\n",
    "    df_city_hash = pd.DataFrame(\n",
    "        data=city_hash.todense(),\n",
    "        index=df.index,\n",
    "        columns=['city_' + str(c) for c in range(city_hash.shape[1])]\n",
    "    )\n",
    "    city_group_bin = pd.get_dummies(df['City Group'])\n",
    "    type_bin = pd.get_dummies(df['Type'])\n",
    "    df_ret = df_ret.join(df_city_hash)\n",
    "    df_ret = df_ret.join(city_group_bin)\n",
    "    df_ret = df_ret.join(type_bin)\n",
    "    df_ret = df_ret.join(open_date)\n",
    "    if 'MB' in df_ret.keys():\n",
    "        df_ret.drop('MB', axis=1, inplace=True)\n",
    "    return df_ret"
   ]
  },
  {
   "cell_type": "code",
   "execution_count": 113,
   "metadata": {
    "collapsed": false
   },
   "outputs": [],
   "source": [
    "X_train = extract_feature(df_train)"
   ]
  },
  {
   "cell_type": "code",
   "execution_count": 114,
   "metadata": {
    "collapsed": false
   },
   "outputs": [],
   "source": [
    "def cross_val(X, y, K, random_state=0, clf=None):\n",
    "    \"\"\"\n",
    "    TODO Leave-one-outためす\n",
    "    \"\"\"\n",
    "    cv = KFold(len(y), K, shuffle=True, random_state=random_state)\n",
    "    mse = cross_val_score(clf, X=X, y=y, cv=cv, n_jobs=1, scoring='mean_squared_error')\n",
    "    rmse = np.sqrt(-1 * mse)\n",
    "    print('Mean Score: {0:.3f} (+/-{1:.3f})'.format(rmse.mean(), rmse.std()))\n",
    "    return rmse"
   ]
  },
  {
   "cell_type": "code",
   "execution_count": 80,
   "metadata": {
    "collapsed": true
   },
   "outputs": [],
   "source": [
    "def grid_search_logi(X_train, y_train):\n",
    "    X_train, X_val, y_train, y_val = train_test_split(X_train, y_train, train_size=0.80, random_state=19)\n",
    "    \n",
    "    test_parameters = [\n",
    "        {'penalty': ['l1'], 'C': [1000]},\n",
    "        {'penalty': ['l2'], 'C': [1, 10, 100, 1000]}\n",
    "\n",
    "    ]\n",
    "    cv = KFold(len(y_train), 20, shuffle=True, random_state=19)\n",
    "    clf = GridSearchCV(\n",
    "        LogisticRegression(),\n",
    "        test_parameters,\n",
    "        cv=cv,\n",
    "        scoring='mean_squared_error',\n",
    "        n_jobs=-1\n",
    "    )\n",
    "    clf.fit(X_train, y_train)\n",
    "    print clf.best_estimator_\n",
    "    \n",
    "    print\"\\n+ トレーニングデータでCVした時の平均スコア:\\n\"\n",
    "    for params, mean_score, all_scores in clf.grid_scores_:\n",
    "        rmse = np.sqrt(-1 * all_scores)\n",
    "        print \"{:.3f} (+/- {:.3f}) for {}\".format(rmse.mean(), rmse.std() / 2, params)\n",
    "\n",
    "    print \"\\n+ テストデータでの識別結果:\\n\"\n",
    "    y_pred = clf.predict(X_val)\n",
    "    print calc_rmse(y_val, y_pred)\n",
    "    return clf"
   ]
  },
  {
   "cell_type": "code",
   "execution_count": 81,
   "metadata": {
    "collapsed": true
   },
   "outputs": [],
   "source": [
    "def grid_search_svc(X_train, y_train):\n",
    "    X_train, X_val, y_train, y_val = train_test_split(X_train, y_train, train_size=0.80, random_state=19)\n",
    "    \n",
    "    test_parameters = [\n",
    "        {'kernel': ['rbf'],    'C': [1000], 'gamma': [1e-3, 1e-4]},\n",
    "        {'kernel': ['linear'], 'C': [1, 10, 100, 1000]}\n",
    "    ]\n",
    "    cv = KFold(len(y_train), 20, shuffle=True, random_state=19)\n",
    "    clf = GridSearchCV(\n",
    "        SVC(C=1),\n",
    "        test_parameters,\n",
    "        cv=cv,\n",
    "        scoring='mean_squared_error',\n",
    "        n_jobs=-1\n",
    "    )\n",
    "    clf.fit(X_train, y_train)\n",
    "    print clf.best_estimator_\n",
    "    \n",
    "    print\"\\n+ トレーニングデータでCVした時の平均スコア:\\n\"\n",
    "    for params, mean_score, all_scores in clf.grid_scores_:\n",
    "        rmse = np.sqrt(-1 * all_scores)\n",
    "        print \"{:.3f} (+/- {:.3f}) for {}\".format(rmse.mean(), rmse.std() / 2, params)\n",
    "\n",
    "    print \"\\n+ テストデータでの識別結果:\\n\"\n",
    "    y_pred = clf.predict(X_val)\n",
    "    print calc_rmse(y_val, y_pred)\n",
    "    return clf"
   ]
  },
  {
   "cell_type": "code",
   "execution_count": 82,
   "metadata": {
    "collapsed": true
   },
   "outputs": [],
   "source": [
    "def calc_rmse(predicted, test):\n",
    "    return np.sqrt(np.sum((predicted - test)**2)/len(predicted))"
   ]
  },
  {
   "cell_type": "code",
   "execution_count": 10,
   "metadata": {
    "collapsed": true
   },
   "outputs": [],
   "source": [
    "def grid_search_random_forest(X_train, y_train):\n",
    "    X_train, X_val, y_train, y_val = train_test_split(X_train, y_train, train_size=0.80, random_state=19)\n",
    "\n",
    "    test_parameters = {\n",
    "        'n_estimators': [100, 1000, 10000],\n",
    "#        'max_depth': [5, 6, 7, 8],\n",
    "#        'min_samples_leaf': [1, 2, 3],\n",
    "#        'max_features': np.rint(np.linspace(sqrtfeat, sqrtfeat+2, 3)).astype(int),\n",
    "#        'min_samples_split': np.rint(np.linspace(X_train.shape[0]*.01, X_train.shape[0]*.05, 3)).astype(int)\n",
    "    }\n",
    "    cv = KFold(len(y_train), 20, shuffle=True, random_state=19)\n",
    "    clf = GridSearchCV(\n",
    "        RandomForestClassifier(oob_score=True, n_estimators=10000, n_jobs=-1),\n",
    "        test_parameters,\n",
    "        cv=cv,\n",
    "        scoring='mean_squared_error',\n",
    "        n_jobs=-1\n",
    "    )\n",
    "    clf.fit(X_train, y_train)\n",
    "    print clf.best_estimator_\n",
    "    \n",
    "    print\"\\n+ トレーニングデータでCVした時の平均スコア:\\n\"\n",
    "    for params, mean_score, all_scores in clf.grid_scores_:\n",
    "        rmse = np.sqrt(-1 * all_scores)\n",
    "        print \"{:.3f} (+/- {:.3f}) for {}\".format(rmse.mean(), rmse.std() / 2, params)\n",
    "\n",
    "    print \"\\n+ テストデータでの識別結果:\\n\"\n",
    "    y_pred = clf.predict(X_val)\n",
    "    print calc_rmse(y_val, y_pred)\n",
    "    return clf"
   ]
  },
  {
   "cell_type": "code",
   "execution_count": 11,
   "metadata": {
    "collapsed": false
   },
   "outputs": [],
   "source": [
    "#best_random_forest_clf = grid_search_random_forest(X_train, y_train)\n",
    "#print \"============================================\"\n",
    "#best_svc_clf = grid_search_svc(X_train, y_train)\n",
    "#print \"============================================\"\n",
    "#best_logistic_clf = grid_search_logi(X_train, y_train)"
   ]
  },
  {
   "cell_type": "code",
   "execution_count": 12,
   "metadata": {
    "collapsed": false
   },
   "outputs": [
    {
     "name": "stdout",
     "output_type": "stream",
     "text": [
      "Logistic Regression\n",
      "Mean Score: 3420556.002 (+/-1447058.116)\n",
      "Random forest\n",
      "Mean Score: 3213026.912 (+/-1659911.946)\n",
      "Random forest Best\n",
      "Mean Score: 3272630.771 (+/-1559315.043)\n"
     ]
    },
    {
     "data": {
      "text/plain": [
       "array([ 5069466.83271694,  2794968.79422682,  1753282.97382453,\n",
       "        4800957.09391391,  1918856.02287371,  5256764.10361441,\n",
       "        3517289.80343251,  1269551.45283527,  2279513.66873588,\n",
       "         868597.9598495 ,  2617921.47582055,  6342910.72941198,\n",
       "        5092976.38704662,  2924595.48113325,  4231564.41111749,\n",
       "        1571435.33261674,  1968512.45069124,  2759480.96006402,\n",
       "        2960548.76548071,  5453420.71523357])"
      ]
     },
     "execution_count": 12,
     "metadata": {},
     "output_type": "execute_result"
    }
   ],
   "source": [
    "print \"Logistic Regression\"\n",
    "cross_val(X_train, y_train, 20, clf=LogisticRegression(penalty='l2', tol=0.01))\n",
    "print \"Random forest\"\n",
    "cross_val(X_train, y_train, 20, clf=RandomForestClassifier())\n",
    "print \"Random forest Best\"\n",
    "cross_val(X_train, y_train, 20, clf=RandomForestClassifier(bootstrap=True, compute_importances=None,\n",
    "            criterion='gini', max_depth=6, max_features=8,\n",
    "            max_leaf_nodes=None, min_density=None, min_samples_leaf=3,\n",
    "            min_samples_split=1, n_estimators=1000, n_jobs=-1,\n",
    "            oob_score=True, random_state=None, verbose=0))"
   ]
  },
  {
   "cell_type": "code",
   "execution_count": 115,
   "metadata": {
    "collapsed": true
   },
   "outputs": [],
   "source": [
    "df_test = pd.read_csv('./test.csv')"
   ]
  },
  {
   "cell_type": "code",
   "execution_count": 116,
   "metadata": {
    "collapsed": false
   },
   "outputs": [],
   "source": [
    "X_test = extract_feature(df_test)"
   ]
  },
  {
   "cell_type": "code",
   "execution_count": 117,
   "metadata": {
    "collapsed": false
   },
   "outputs": [
    {
     "data": {
      "text/plain": [
       "RandomForestClassifier(bootstrap=True, compute_importances=None,\n",
       "            criterion='gini', max_depth=6, max_features=8,\n",
       "            max_leaf_nodes=None, min_density=None, min_samples_leaf=3,\n",
       "            min_samples_split=1, n_estimators=1000, n_jobs=1,\n",
       "            oob_score=True, random_state=None, verbose=0)"
      ]
     },
     "execution_count": 117,
     "metadata": {},
     "output_type": "execute_result"
    }
   ],
   "source": [
    "clf = RandomForestClassifier(bootstrap=True, compute_importances=None,\n",
    "            criterion='gini', max_depth=6, max_features=8,\n",
    "            max_leaf_nodes=None, min_density=None, min_samples_leaf=3,\n",
    "            min_samples_split=1, n_estimators=1000,\n",
    "            oob_score=True, random_state=None, verbose=0)\n",
    "clf.fit(X_train, y_train)"
   ]
  },
  {
   "cell_type": "code",
   "execution_count": 119,
   "metadata": {
    "collapsed": false
   },
   "outputs": [],
   "source": [
    "y_test = clf.predict(X_test)"
   ]
  },
  {
   "cell_type": "code",
   "execution_count": 133,
   "metadata": {
    "collapsed": false
   },
   "outputs": [],
   "source": [
    "df_test['Prediction'] = y_test"
   ]
  },
  {
   "cell_type": "code",
   "execution_count": 134,
   "metadata": {
    "collapsed": false
   },
   "outputs": [],
   "source": [
    "df_submit = df_test[['Id', 'Prediction']]"
   ]
  },
  {
   "cell_type": "code",
   "execution_count": 135,
   "metadata": {
    "collapsed": false
   },
   "outputs": [],
   "source": [
    "df_submit.to_csv('./submit_20150505_01.csv', index=False)"
   ]
  },
  {
   "cell_type": "code",
   "execution_count": null,
   "metadata": {
    "collapsed": true
   },
   "outputs": [],
   "source": []
  }
 ],
 "metadata": {
  "kernelspec": {
   "display_name": "Python 2",
   "language": "python",
   "name": "python2"
  },
  "language_info": {
   "codemirror_mode": {
    "name": "ipython",
    "version": 2
   },
   "file_extension": ".py",
   "mimetype": "text/x-python",
   "name": "python",
   "nbconvert_exporter": "python",
   "pygments_lexer": "ipython2",
   "version": "2.7.9"
  }
 },
 "nbformat": 4,
 "nbformat_minor": 0
}
