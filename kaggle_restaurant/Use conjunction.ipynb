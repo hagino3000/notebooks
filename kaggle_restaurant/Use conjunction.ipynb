{
 "cells": [
  {
   "cell_type": "code",
   "execution_count": 34,
   "metadata": {
    "collapsed": true
   },
   "outputs": [],
   "source": [
    "from __future__ import division\n",
    "from sklearn.cross_validation import train_test_split, cross_val_score, KFold\n",
    "from sklearn.linear_model import LogisticRegression\n",
    "from sklearn.linear_model import LinearRegression\n",
    "from sklearn.grid_search import GridSearchCV\n",
    "from sklearn.svm import LinearSVC, SVC\n",
    "from sklearn.metrics import accuracy_score, classification_report, confusion_matrix\n",
    "from sklearn.tree import DecisionTreeClassifier\n",
    "from sklearn.ensemble import RandomForestClassifier\n",
    "from sklearn.preprocessing import StandardScaler, MinMaxScaler\n",
    "from sklearn.feature_extraction import FeatureHasher"
   ]
  },
  {
   "cell_type": "code",
   "execution_count": 35,
   "metadata": {
    "collapsed": false
   },
   "outputs": [],
   "source": [
    "df_train = pd.read_csv('./train.csv')\n",
    "y_train = df_train['revenue']\n",
    "df_train.drop('revenue', axis=1, inplace=True)"
   ]
  },
  {
   "cell_type": "code",
   "execution_count": 36,
   "metadata": {
    "collapsed": false
   },
   "outputs": [
    {
     "data": {
      "text/plain": [
       "30"
      ]
     },
     "execution_count": 36,
     "metadata": {},
     "output_type": "execute_result"
    }
   ],
   "source": [
    "hasher = FeatureHasher(n_features=100, input_type=\"string\")\n",
    "city_hash = hasher.transform(df_train.City)\n",
    "def n_nonzero_columns(X):\n",
    "    \"\"\"Returns the number of non-zero columns in a CSR matrix X.\"\"\"\n",
    "    return len(np.unique(X.nonzero()[1]))\n",
    "n_nonzero_columns(city_hash)"
   ]
  },
  {
   "cell_type": "code",
   "execution_count": 37,
   "metadata": {
    "collapsed": true
   },
   "outputs": [],
   "source": [
    "import itertools"
   ]
  },
  {
   "cell_type": "code",
   "execution_count": 38,
   "metadata": {
    "collapsed": false
   },
   "outputs": [],
   "source": [
    "def extract_feature(df):\n",
    "    \"\"\"\n",
    "    TODO Open Dateの正規化\n",
    "    \"\"\"\n",
    "    df_ret = df.drop(['Id', 'City', 'City Group', 'Type', 'Open Date'], axis=1)\n",
    "    # Open Dateは年月だけ利用\n",
    "    open_date = df['Open Date'].apply(lambda m: int(m[6:] + m[0:2]))\n",
    "    # Cityはhashing trick\n",
    "    hasher = FeatureHasher(n_features=100, input_type=\"string\")\n",
    "    city_hash = hasher.transform(df.City)\n",
    "    df_city_hash = pd.DataFrame(\n",
    "        data=city_hash.todense(),\n",
    "        index=df.index,\n",
    "        columns=['city_' + str(c) for c in range(city_hash.shape[1])]\n",
    "    )\n",
    "    # City GroupとTypeはdummmy coding\n",
    "    city_group_bin = pd.get_dummies(df['City Group'])\n",
    "    type_bin = pd.get_dummies(df['Type'])\n",
    "    df_ret = df_ret.join(df_city_hash)\n",
    "    df_ret = df_ret.join(city_group_bin)\n",
    "    df_ret = df_ret.join(type_bin)\n",
    "    \n",
    "    # 組みあわせ素性\n",
    "    for comb in itertools.combinations(df_ret.columns, 2):\n",
    "        df_ret[comb[0]+comb[1]] = df_ret[comb[0]] + df_ret[comb[1]]\n",
    "    \n",
    "    df_ret = df_ret.join(open_date)\n",
    "    # MBはテストデータにしか登場しないので消してしまう。\n",
    "    if 'MB' in df_ret.keys():\n",
    "        df_ret.drop('MB', axis=1, inplace=True)\n",
    "    return df_ret"
   ]
  },
  {
   "cell_type": "code",
   "execution_count": 39,
   "metadata": {
    "collapsed": false
   },
   "outputs": [],
   "source": [
    "X_train = extract_feature(df_train)"
   ]
  },
  {
   "cell_type": "code",
   "execution_count": 40,
   "metadata": {
    "collapsed": false
   },
   "outputs": [],
   "source": [
    "def cross_val(X, y, K, random_state=0, clf=None):\n",
    "    \"\"\"\n",
    "    TODO Leave-one-outためす\n",
    "    \"\"\"\n",
    "    cv = KFold(len(y), K, shuffle=True, random_state=random_state)\n",
    "    mse = cross_val_score(clf, X=X, y=y, cv=cv, n_jobs=1, scoring='mean_squared_error')\n",
    "    rmse = np.sqrt(-1 * mse)\n",
    "    print('Mean Score: {0:.3f} (+/-{1:.3f})'.format(rmse.mean(), rmse.std()))\n",
    "    return rmse"
   ]
  },
  {
   "cell_type": "code",
   "execution_count": 41,
   "metadata": {
    "collapsed": true
   },
   "outputs": [],
   "source": [
    "def calc_rmse(predicted, test):\n",
    "    return np.sqrt(np.sum((predicted - test)**2)/len(predicted))"
   ]
  },
  {
   "cell_type": "code",
   "execution_count": 42,
   "metadata": {
    "collapsed": true
   },
   "outputs": [],
   "source": [
    "def grid_search_random_forest(X_train, y_train):\n",
    "    X_train, X_val, y_train, y_val = train_test_split(X_train, y_train, train_size=0.80, random_state=19)\n",
    "\n",
    "    test_parameters = {\n",
    "        'n_estimators': [100, 1000, 10000],\n",
    "        'max_depth': [5, 6, 7, 8],\n",
    "        'min_samples_leaf': [1, 2, 3],\n",
    "        'max_features': np.rint(np.linspace(sqrtfeat, sqrtfeat+2, 3)).astype(int),\n",
    "        'min_samples_split': np.rint(np.linspace(X_train.shape[0]*.01, X_train.shape[0]*.05, 3)).astype(int)\n",
    "    }\n",
    "    cv = KFold(len(y_train), 20, shuffle=True, random_state=19)\n",
    "    clf = GridSearchCV(\n",
    "        RandomForestClassifier(oob_score=True, n_estimators=10000),\n",
    "        test_parameters,\n",
    "        cv=cv,\n",
    "        scoring='mean_squared_error'\n",
    "    )\n",
    "    clf.fit(X_train, y_train)\n",
    "    print clf.best_estimator_\n",
    "    \n",
    "    print\"\\n+ トレーニングデータでCVした時の平均スコア:\\n\"\n",
    "    for params, mean_score, all_scores in clf.grid_scores_:\n",
    "        rmse = np.sqrt(-1 * all_scores)\n",
    "        print \"{:.3f} (+/- {:.3f}) for {}\".format(rmse.mean(), rmse.std() / 2, params)\n",
    "\n",
    "    print \"\\n+ テストデータでの識別結果:\\n\"\n",
    "    y_pred = clf.predict(X_val)\n",
    "    print calc_rmse(y_val, y_pred)\n",
    "    return clf"
   ]
  },
  {
   "cell_type": "code",
   "execution_count": 31,
   "metadata": {
    "collapsed": false
   },
   "outputs": [],
   "source": [
    "best_random_forest_clf = grid_search_random_forest(X_train, y_train)"
   ]
  },
  {
   "cell_type": "code",
   "execution_count": 32,
   "metadata": {
    "collapsed": false
   },
   "outputs": [
    {
     "name": "stdout",
     "output_type": "stream",
     "text": [
      "Logistic Regression\n",
      "Mean Score: 3673957.903 (+/-1545870.490)\n",
      "Random forest\n",
      "Mean Score: 3151772.416 (+/-1510516.690)\n",
      "Random forest Best\n",
      "Mean Score: 3525804.184 (+/-1659868.131)\n"
     ]
    },
    {
     "data": {
      "text/plain": [
       "array([ 2240729.17310335,  2944040.80325441,  1753282.97382453,\n",
       "        5787831.75554688,   947161.65265123,  5240191.50878223,\n",
       "        3525815.60664214,  1227117.01864009,  2338629.71291463,\n",
       "        2811983.46017415,  4430028.14057726,  6378029.03060211,\n",
       "        5908044.86376991,  2855598.40985876,  3857872.38897112,\n",
       "        1400287.07292173,  2263438.33115698,  3927480.82310353,\n",
       "        5225100.23473147,  5453420.71523357])"
      ]
     },
     "execution_count": 32,
     "metadata": {},
     "output_type": "execute_result"
    }
   ],
   "source": [
    "print \"Logistic Regression\"\n",
    "cross_val(X_train, y_train, 20, clf=LogisticRegression(penalty='l2', tol=0.01))\n",
    "print \"Random forest\"\n",
    "cross_val(X_train, y_train, 20, clf=RandomForestClassifier())\n",
    "print \"Random forest Best\"\n",
    "cross_val(X_train, y_train, 20, clf=RandomForestClassifier(bootstrap=True, compute_importances=None,\n",
    "            criterion='gini', max_depth=6, max_features=8,\n",
    "            max_leaf_nodes=None, min_density=None, min_samples_leaf=3,\n",
    "            min_samples_split=1, n_estimators=1000, n_jobs=-1,\n",
    "            oob_score=True, random_state=None, verbose=0))"
   ]
  },
  {
   "cell_type": "code",
   "execution_count": 115,
   "metadata": {
    "collapsed": true
   },
   "outputs": [],
   "source": [
    "df_test = pd.read_csv('./test.csv')"
   ]
  },
  {
   "cell_type": "code",
   "execution_count": 116,
   "metadata": {
    "collapsed": false
   },
   "outputs": [],
   "source": [
    "X_test = extract_feature(df_test)"
   ]
  },
  {
   "cell_type": "code",
   "execution_count": 117,
   "metadata": {
    "collapsed": false
   },
   "outputs": [
    {
     "data": {
      "text/plain": [
       "RandomForestClassifier(bootstrap=True, compute_importances=None,\n",
       "            criterion='gini', max_depth=6, max_features=8,\n",
       "            max_leaf_nodes=None, min_density=None, min_samples_leaf=3,\n",
       "            min_samples_split=1, n_estimators=1000, n_jobs=1,\n",
       "            oob_score=True, random_state=None, verbose=0)"
      ]
     },
     "execution_count": 117,
     "metadata": {},
     "output_type": "execute_result"
    }
   ],
   "source": [
    "clf = RandomForestClassifier(bootstrap=True, compute_importances=None,\n",
    "            criterion='gini', max_depth=6, max_features=8,\n",
    "            max_leaf_nodes=None, min_density=None, min_samples_leaf=3,\n",
    "            min_samples_split=1, n_estimators=1000,\n",
    "            oob_score=True, random_state=None, verbose=0)\n",
    "clf.fit(X_train, y_train)"
   ]
  },
  {
   "cell_type": "code",
   "execution_count": 119,
   "metadata": {
    "collapsed": false
   },
   "outputs": [],
   "source": [
    "y_test = clf.predict(X_test)"
   ]
  },
  {
   "cell_type": "code",
   "execution_count": 133,
   "metadata": {
    "collapsed": false
   },
   "outputs": [],
   "source": [
    "df_test['Prediction'] = y_test"
   ]
  },
  {
   "cell_type": "code",
   "execution_count": 134,
   "metadata": {
    "collapsed": false
   },
   "outputs": [],
   "source": [
    "df_submit = df_test[['Id', 'Prediction']]"
   ]
  },
  {
   "cell_type": "code",
   "execution_count": 135,
   "metadata": {
    "collapsed": false
   },
   "outputs": [],
   "source": [
    "df_submit.to_csv('./submit_20150505_01.csv', index=False)"
   ]
  },
  {
   "cell_type": "code",
   "execution_count": null,
   "metadata": {
    "collapsed": true
   },
   "outputs": [],
   "source": []
  }
 ],
 "metadata": {
  "kernelspec": {
   "display_name": "Python 2",
   "language": "python",
   "name": "python2"
  },
  "language_info": {
   "codemirror_mode": {
    "name": "ipython",
    "version": 2
   },
   "file_extension": ".py",
   "mimetype": "text/x-python",
   "name": "python",
   "nbconvert_exporter": "python",
   "pygments_lexer": "ipython2",
   "version": "2.7.9"
  }
 },
 "nbformat": 4,
 "nbformat_minor": 0
}
