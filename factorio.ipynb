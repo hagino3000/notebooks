{
 "cells": [
  {
   "cell_type": "markdown",
   "metadata": {},
   "source": [
    "# 硫酸製造機のスループット最大時の最小構成を求める\n",
    "\n",
    "一次の混合整数計画問題なのでPuLPで解ける  \n",
    "硫黄は無限にあるとする\n",
    "\n",
    "Author: hagino3000  \n",
    "Date: 2017-12-01"
   ]
  },
  {
   "cell_type": "code",
   "execution_count": 5,
   "metadata": {},
   "outputs": [],
   "source": [
    "import pulp"
   ]
  },
  {
   "cell_type": "code",
   "execution_count": 33,
   "metadata": {},
   "outputs": [],
   "source": [
    "def solve(h2o, machine1_speed, machine2_speed, machine3_speed):\n",
    "    \"\"\"\n",
    "    Parameters\n",
    "    ==========\n",
    "    h2o: int\n",
    "        水の供給量/sec\n",
    "    machine1_speed: int\n",
    "        純水→水素＋酸素の処理能力\n",
    "        H2の生成速度 = machine1_speed/sec\n",
    "        O2の生成速度 = 0.5*machine1_speed/sec\n",
    "    machine2_speed: int\n",
    "        酸素＋硫黄→二酸化硫黄の処理能力\n",
    "        SO2の生成速度 = machine2_speed/sec\n",
    "    machine3_speed\n",
    "        二酸化硫黄＋純水→硫酸の処理能力\n",
    "        H2SO4の生成速度 = machine3_speed/sec\n",
    "    \n",
    "    \"\"\"\n",
    "    problem = pulp.LpProblem(sense=pulp.LpMaximize)\n",
    "    # 変数\n",
    "    x = pulp.LpVariable('Number of Machine1 純水→水素＋酸素', cat=pulp.LpInteger, lowBound=0)\n",
    "    y = pulp.LpVariable('Number of Machine2 酸素＋硫黄→二酸化硫黄', cat=pulp.LpInteger, lowBound=0)\n",
    "    z = pulp.LpVariable('Number of Machine3 二酸化硫黄＋純水→硫酸', cat=pulp.LpInteger, lowBound=0)\n",
    "    r = pulp.LpVariable('H2O Rate to create O2', cat=pulp.LpVariable, lowBound=0, upBound=1)\n",
    "    \n",
    "    h2 = h2o * r\n",
    "    o2 = h2o * r * 0.5\n",
    "    so2 = o2\n",
    "    h2so4 = so2\n",
    "    \n",
    "    # 問題\n",
    "    problem += h2so4 - (x + y + z)\n",
    "    \n",
    "    # 制約 マシンの製造能力以上作れない\n",
    "    problem += h2 <= x * machine1_speed\n",
    "    problem += o2 <= x * machine1_speed * 0.5     \n",
    "    problem += so2 <= y * machine2_speed\n",
    "    problem += h2so4 <= z * machine3_speed\n",
    "    # 制約 硫酸１作るのに純水１必要\n",
    "    problem += h2so4 <= h2o * (1 - r)\n",
    "    \n",
    "    status = problem.solve()\n",
    "    print(pulp.LpStatus[status])\n",
    "    return x.value(), y.value(), z.value(), r.value()"
   ]
  },
  {
   "cell_type": "code",
   "execution_count": 30,
   "metadata": {},
   "outputs": [
    {
     "name": "stdout",
     "output_type": "stream",
     "text": [
      "Optimal\n"
     ]
    },
    {
     "data": {
      "text/plain": [
       "(2.0, 10.0, 20.0, 0.66666667)"
      ]
     },
     "execution_count": 30,
     "metadata": {},
     "output_type": "execute_result"
    }
   ],
   "source": [
    "solve(300, 100, 10, 5)"
   ]
  },
  {
   "cell_type": "code",
   "execution_count": 31,
   "metadata": {},
   "outputs": [
    {
     "name": "stdout",
     "output_type": "stream",
     "text": [
      "Optimal\n"
     ]
    },
    {
     "data": {
      "text/plain": [
       "(20.0, 10.0, 10.0, 0.66666667)"
      ]
     },
     "execution_count": 31,
     "metadata": {},
     "output_type": "execute_result"
    }
   ],
   "source": [
    "solve(300, 10, 10, 10)"
   ]
  },
  {
   "cell_type": "code",
   "execution_count": 32,
   "metadata": {},
   "outputs": [
    {
     "name": "stdout",
     "output_type": "stream",
     "text": [
      "Optimal\n"
     ]
    },
    {
     "data": {
      "text/plain": [
       "(20.0, 5.0, 10.0, 0.66666667)"
      ]
     },
     "execution_count": 32,
     "metadata": {},
     "output_type": "execute_result"
    }
   ],
   "source": [
    "solve(300, 10, 20, 10)"
   ]
  },
  {
   "cell_type": "code",
   "execution_count": null,
   "metadata": {},
   "outputs": [],
   "source": []
  }
 ],
 "metadata": {
  "kernelspec": {
   "display_name": "Python 3",
   "language": "python",
   "name": "python3"
  },
  "language_info": {
   "codemirror_mode": {
    "name": "ipython",
    "version": 3
   },
   "file_extension": ".py",
   "mimetype": "text/x-python",
   "name": "python",
   "nbconvert_exporter": "python",
   "pygments_lexer": "ipython3",
   "version": "3.6.3"
  }
 },
 "nbformat": 4,
 "nbformat_minor": 2
}
