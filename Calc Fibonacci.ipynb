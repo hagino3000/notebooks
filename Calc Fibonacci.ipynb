{
 "metadata": {
  "name": "",
  "signature": "sha256:501c2a82f9b3836f9ff0dcfbb99a68b21da826cceee29ea5d48167dee7fbaa2f"
 },
 "nbformat": 3,
 "nbformat_minor": 0,
 "worksheets": [
  {
   "cells": [
    {
     "cell_type": "code",
     "collapsed": false,
     "input": [
      "from sympy import init_printing\n",
      "init_printing()\n",
      "import sympy as sym"
     ],
     "language": "python",
     "metadata": {},
     "outputs": [],
     "prompt_number": 7
    },
    {
     "cell_type": "markdown",
     "metadata": {},
     "source": [
      "# \u5b9a\u7fa9\n",
      "\n",
      "- f(1) = 1\n",
      "- f(2) = 1\n",
      "- f(n) = f(n-1) + f(n-2)"
     ]
    },
    {
     "cell_type": "code",
     "collapsed": false,
     "input": [
      "import numpy as np\n",
      "def fib(n):\n",
      "    A = np.array([[0,1],[1,1]])\n",
      "    tmp = np.array([0,1])\n",
      "    for i in xrange(1,n):\n",
      "        tmp = tmp.dot(A)\n",
      "    return tmp[1]\n",
      "\n",
      "print(map(fib, range(15)))"
     ],
     "language": "python",
     "metadata": {},
     "outputs": [
      {
       "output_type": "stream",
       "stream": "stdout",
       "text": [
        "[1, 1, 1, 2, 3, 5, 8, 13, 21, 34, 55, 89, 144, 233, 377]\n"
       ]
      }
     ],
     "prompt_number": 8
    },
    {
     "cell_type": "code",
     "collapsed": false,
     "input": [
      "F, Fx1, Fx2, F0, F1 = sym.symbols(\"F(x) F(x-1) F(x-2) F(0) F(1)\")\n",
      "print(sym.Eq(F0, 0))\n",
      "print(sym.Eq(F1, 1))\n",
      "print(sym.Eq(F, sym.Add(Fx1, Fx2)))\n",
      "\n",
      "x = sym.Symbol('x')\n",
      "sym.solve([sym.Eq(F0, 0), sym.Eq(F1, 1), sym.Eq(F, sym.Add(Fx1, Fx2))], [x])\n",
      "print(sym.solve([x], [x]))\n",
      "print(sym.solve([x-1], [x]))\n",
      "print(F.series(x, 0, 5))\n"
     ],
     "language": "python",
     "metadata": {},
     "outputs": [
      {
       "output_type": "stream",
       "stream": "stdout",
       "text": [
        "F(0) == 0\n",
        "F(1) == 1\n",
        "F(x) == F(x-1) + F(x-2)\n",
        "{x: 0}"
       ]
      },
      {
       "output_type": "stream",
       "stream": "stdout",
       "text": [
        "\n",
        "{x: 1}\n",
        "F(x)\n"
       ]
      }
     ],
     "prompt_number": 3
    },
    {
     "cell_type": "code",
     "collapsed": false,
     "input": [
      "from sympy.abc import n\n",
      "fib = sym.Function('fib')\n",
      "f = fib(n) - fib(n-1) - fib(n-2)\n",
      "sym.rsolve(f, fib(n), {fib(0):0, fib(1):1})"
     ],
     "language": "python",
     "metadata": {},
     "outputs": [
      {
       "latex": [
        "$$\\frac{\\sqrt{5}}{5} \\left(\\frac{1}{2} + \\frac{\\sqrt{5}}{2}\\right)^{n} - \\frac{\\sqrt{5}}{5} \\left(- \\frac{\\sqrt{5}}{2} + \\frac{1}{2}\\right)^{n}$$"
       ],
       "metadata": {},
       "output_type": "pyout",
       "png": "[encoded data removed]",
       "prompt_number": 4,
       "text": [
        "                 n                      n\n",
        "      \u239b      ___\u239e          \u239b    ___    \u239e \n",
        "  ___ \u239c1   \u2572\u2571 5 \u239f      ___ \u239c  \u2572\u2571 5    1\u239f \n",
        "\u2572\u2571 5 \u22c5\u239c\u2500 + \u2500\u2500\u2500\u2500\u2500\u239f    \u2572\u2571 5 \u22c5\u239c- \u2500\u2500\u2500\u2500\u2500 + \u2500\u239f \n",
        "      \u239d2     2  \u23a0          \u239d    2     2\u23a0 \n",
        "\u2500\u2500\u2500\u2500\u2500\u2500\u2500\u2500\u2500\u2500\u2500\u2500\u2500\u2500\u2500\u2500\u2500\u2500 - \u2500\u2500\u2500\u2500\u2500\u2500\u2500\u2500\u2500\u2500\u2500\u2500\u2500\u2500\u2500\u2500\u2500\u2500\u2500\u2500\n",
        "        5                     5          "
       ]
      }
     ],
     "prompt_number": 4
    },
    {
     "cell_type": "code",
     "collapsed": false,
     "input": [
      "from sympy.abc import n\n",
      "fib = sym.Function('fib')\n",
      "f = fib(n) - fib(n-1) - fib(n-2)\n",
      "term = sym.rsolve(f, fib(n), {fib(0):0, fib(1):1})\n",
      "print(term)\n",
      "for i in xrange(1,10):\n",
      "    print(term.evalf(subs={n:i}))"
     ],
     "language": "python",
     "metadata": {},
     "outputs": [
      {
       "output_type": "stream",
       "stream": "stdout",
       "text": [
        "sqrt(5)*(1/2 + sqrt(5)/2)**n/5 - sqrt(5)*(-sqrt(5)/2 + 1/2)**n/5\n",
        "1.00000000000000\n",
        "1.00000000000000\n",
        "2.00000000000000\n",
        "3.00000000000000\n",
        "5.00000000000000\n",
        "8.00000000000000\n",
        "13.0000000000000\n",
        "21.0000000000000\n",
        "34.0000000000000\n"
       ]
      }
     ],
     "prompt_number": 5
    }
   ],
   "metadata": {}
  }
 ]
}