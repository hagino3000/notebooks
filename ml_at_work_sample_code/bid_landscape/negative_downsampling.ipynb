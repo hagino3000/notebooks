{
 "cells": [
  {
   "cell_type": "code",
   "execution_count": 1,
   "metadata": {},
   "outputs": [],
   "source": [
    "import numpy as np\n",
    "import pandas as pd"
   ]
  },
  {
   "cell_type": "code",
   "execution_count": 3,
   "metadata": {},
   "outputs": [
    {
     "data": {
      "text/plain": [
       "0.6351851659673592"
      ]
     },
     "execution_count": 3,
     "metadata": {},
     "output_type": "execute_result"
    }
   ],
   "source": [
    "np.random.random()"
   ]
  },
  {
   "cell_type": "code",
   "execution_count": 5,
   "metadata": {},
   "outputs": [
    {
     "name": "stdout",
     "output_type": "stream",
     "text": [
      "progress 200000\n",
      "progress 400000\n",
      "progress 600000\n",
      "progress 800000\n",
      "progress 1000000\n",
      "progress 1200000\n",
      "progress 1400000\n",
      "progress 1600000\n",
      "progress 1800000\n"
     ]
    }
   ],
   "source": [
    "counter = 0\n",
    "\n",
    "size = 2000000\n",
    "\n",
    "click = np.zeros(size, np.int8)\n",
    "market_price = np.zeros(size, np.int16)\n",
    "features = np.zeros([24, size], np.int64)\n",
    "\n",
    "\n",
    "with open('./dataset/train_set') as f:\n",
    "    i = 0\n",
    "    for line in f:\n",
    "        raw = line.rstrip().split('\\t')\n",
    "        #print(raw)\n",
    "        click_i = int(raw[0])\n",
    "        if click_i == 1 or np.random.random() > 0.99:\n",
    "            click[i] = click_i\n",
    "            market_price[i] = int(raw[1])\n",
    "            for idx in range(24):\n",
    "                features[idx, i] = int(raw[idx+2].split(':')[0])\n",
    "\n",
    "            i += 1\n",
    "            if i == size:\n",
    "                break\n",
    "            if i % 200000 == 0:\n",
    "                print('progress', i)"
   ]
  },
  {
   "cell_type": "code",
   "execution_count": 6,
   "metadata": {},
   "outputs": [],
   "source": [
    "raw_df = pd.DataFrame(\n",
    "    features.T,\n",
    "    columns=['feature_'+str(n) for n in range(24)]\n",
    ")\n",
    "raw_df['click'] = click\n",
    "raw_df['market_price'] = market_price"
   ]
  },
  {
   "cell_type": "code",
   "execution_count": 7,
   "metadata": {},
   "outputs": [
    {
     "name": "stdout",
     "output_type": "stream",
     "text": [
      "<class 'pandas.core.frame.DataFrame'>\n",
      "RangeIndex: 2000000 entries, 0 to 1999999\n",
      "Data columns (total 26 columns):\n",
      " #   Column        Dtype\n",
      "---  ------        -----\n",
      " 0   feature_0     int64\n",
      " 1   feature_1     int64\n",
      " 2   feature_2     int64\n",
      " 3   feature_3     int64\n",
      " 4   feature_4     int64\n",
      " 5   feature_5     int64\n",
      " 6   feature_6     int64\n",
      " 7   feature_7     int64\n",
      " 8   feature_8     int64\n",
      " 9   feature_9     int64\n",
      " 10  feature_10    int64\n",
      " 11  feature_11    int64\n",
      " 12  feature_12    int64\n",
      " 13  feature_13    int64\n",
      " 14  feature_14    int64\n",
      " 15  feature_15    int64\n",
      " 16  feature_16    int64\n",
      " 17  feature_17    int64\n",
      " 18  feature_18    int64\n",
      " 19  feature_19    int64\n",
      " 20  feature_20    int64\n",
      " 21  feature_21    int64\n",
      " 22  feature_22    int64\n",
      " 23  feature_23    int64\n",
      " 24  click         int8 \n",
      " 25  market_price  int16\n",
      "dtypes: int16(1), int64(24), int8(1)\n",
      "memory usage: 371.9 MB\n"
     ]
    }
   ],
   "source": [
    "raw_df.info()"
   ]
  },
  {
   "cell_type": "code",
   "execution_count": 8,
   "metadata": {},
   "outputs": [
    {
     "data": {
      "text/plain": [
       "0.100639"
      ]
     },
     "execution_count": 8,
     "metadata": {},
     "output_type": "execute_result"
    }
   ],
   "source": [
    "raw_df['click'].mean()"
   ]
  },
  {
   "cell_type": "code",
   "execution_count": 9,
   "metadata": {},
   "outputs": [],
   "source": [
    "raw_df.to_parquet('./downsampled.parquet')"
   ]
  },
  {
   "cell_type": "code",
   "execution_count": null,
   "metadata": {},
   "outputs": [],
   "source": []
  }
 ],
 "metadata": {
  "environment": {
   "name": "tf2-gpu.2-4.m61",
   "type": "gcloud",
   "uri": "gcr.io/deeplearning-platform-release/tf2-gpu.2-4:m61"
  },
  "kernelspec": {
   "display_name": "Python 3",
   "language": "python",
   "name": "python3"
  },
  "language_info": {
   "codemirror_mode": {
    "name": "ipython",
    "version": 3
   },
   "file_extension": ".py",
   "mimetype": "text/x-python",
   "name": "python",
   "nbconvert_exporter": "python",
   "pygments_lexer": "ipython3",
   "version": "3.7.9"
  }
 },
 "nbformat": 4,
 "nbformat_minor": 4
}
