{
 "cells": [
  {
   "cell_type": "markdown",
   "metadata": {},
   "source": [
    "# Train Market Price Model"
   ]
  },
  {
   "cell_type": "code",
   "execution_count": 1,
   "metadata": {},
   "outputs": [],
   "source": [
    "import pandas as pd\n",
    "import numpy as np\n",
    "import lightgbm as lgb\n",
    "from sklearn.model_selection import train_test_split\n"
   ]
  },
  {
   "cell_type": "code",
   "execution_count": 2,
   "metadata": {},
   "outputs": [],
   "source": [
    "raw_df = pd.read_parquet('./dataset_prep/raw_df.parquet')"
   ]
  },
  {
   "cell_type": "code",
   "execution_count": 3,
   "metadata": {},
   "outputs": [
    {
     "name": "stdout",
     "output_type": "stream",
     "text": [
      "<class 'pandas.core.frame.DataFrame'>\n",
      "RangeIndex: 50000000 entries, 0 to 49999999\n",
      "Data columns (total 26 columns):\n",
      " #   Column        Dtype\n",
      "---  ------        -----\n",
      " 0   feature_0     int64\n",
      " 1   feature_1     int64\n",
      " 2   feature_2     int64\n",
      " 3   feature_3     int64\n",
      " 4   feature_4     int64\n",
      " 5   feature_5     int64\n",
      " 6   feature_6     int64\n",
      " 7   feature_7     int64\n",
      " 8   feature_8     int64\n",
      " 9   feature_9     int64\n",
      " 10  feature_10    int64\n",
      " 11  feature_11    int64\n",
      " 12  feature_12    int64\n",
      " 13  feature_13    int64\n",
      " 14  feature_14    int64\n",
      " 15  feature_15    int64\n",
      " 16  feature_16    int64\n",
      " 17  feature_17    int64\n",
      " 18  feature_18    int64\n",
      " 19  feature_19    int64\n",
      " 20  feature_20    int64\n",
      " 21  feature_21    int64\n",
      " 22  feature_22    int64\n",
      " 23  feature_23    int64\n",
      " 24  click         int8 \n",
      " 25  market_price  int16\n",
      "dtypes: int16(1), int64(24), int8(1)\n",
      "memory usage: 9.1 GB\n"
     ]
    }
   ],
   "source": [
    "raw_df.info()"
   ]
  },
  {
   "cell_type": "code",
   "execution_count": 5,
   "metadata": {},
   "outputs": [],
   "source": [
    "y = raw_df['market_price']\n",
    "X = raw_df.drop(columns=['click', 'market_price'])"
   ]
  },
  {
   "cell_type": "code",
   "execution_count": 6,
   "metadata": {},
   "outputs": [],
   "source": [
    "X_train, X_test, y_train, y_test = train_test_split(X, y, test_size=0.2, shuffle=False)"
   ]
  },
  {
   "cell_type": "code",
   "execution_count": 7,
   "metadata": {},
   "outputs": [],
   "source": [
    "categorical_features = X_train.columns.values.tolist()\n",
    "predictors = categorical_features"
   ]
  },
  {
   "cell_type": "code",
   "execution_count": 8,
   "metadata": {},
   "outputs": [],
   "source": [
    "def fit(X_train, y_train, X_test, y_test, categorical_features, predictors, verbose=True):\n",
    "    params = {\n",
    "        'boosting_type': 'gbdt',\n",
    "        'class_weight': None,\n",
    "        'objective': 'regression',\n",
    "        'learning_rate': 0.1,\n",
    "        'n_estimators': 400,\n",
    "        'max_leaves': 255,\n",
    "        'max_depth': 8,\n",
    "        'min_data_in_leaf': 100,\n",
    "        'max_bin': 250, # max number of bins that feature values will be bucketed in\n",
    "        'subsample_freq': 1, # frequency for bagging\n",
    "        'bagging_fraction': 0.75,\n",
    "        'colsample_bytree': 0.75,\n",
    "        'cat_smooth': 20,\n",
    "        'min_child_weight': 0,\n",
    "        'min_split_gain': 0,\n",
    "        'reg_alpha': 0.02,\n",
    "        'reg_lambda': 0.02,\n",
    "        'n_jobs': -1\n",
    "    }\n",
    "\n",
    "    clf = lgb.LGBMRegressor(**params)    \n",
    "    clf.fit(\n",
    "        X_train,\n",
    "        y_train,\n",
    "        categorical_feature=categorical_features,\n",
    "        feature_name=predictors,\n",
    "        #sample_weight=calc_weight(X_train.index),\n",
    "        eval_set=[(X_test, y_test)],\n",
    "        #eval_metric='mae',\n",
    "        early_stopping_rounds=20,\n",
    "        verbose=verbose\n",
    "    )\n",
    "    return clf"
   ]
  },
  {
   "cell_type": "code",
   "execution_count": 9,
   "metadata": {},
   "outputs": [
    {
     "name": "stderr",
     "output_type": "stream",
     "text": [
      "/opt/conda/lib/python3.7/site-packages/lightgbm/basic.py:1551: UserWarning: Using categorical_feature in Dataset.\n",
      "  warnings.warn('Using categorical_feature in Dataset.')\n",
      "/opt/conda/lib/python3.7/site-packages/lightgbm/basic.py:1555: UserWarning: categorical_feature in Dataset is overridden.\n",
      "New categorical_feature is ['feature_0', 'feature_1', 'feature_10', 'feature_11', 'feature_12', 'feature_13', 'feature_14', 'feature_15', 'feature_16', 'feature_17', 'feature_18', 'feature_19', 'feature_2', 'feature_20', 'feature_21', 'feature_22', 'feature_23', 'feature_3', 'feature_4', 'feature_5', 'feature_6', 'feature_7', 'feature_8', 'feature_9']\n",
      "  'New categorical_feature is {}'.format(sorted(list(categorical_feature))))\n"
     ]
    },
    {
     "name": "stdout",
     "output_type": "stream",
     "text": [
      "[LightGBM] [Warning] num_leaves is set=31, max_leaves=255 will be ignored. Current value: num_leaves=31\n",
      "[LightGBM] [Warning] bagging_fraction is set=0.75, subsample=1.0 will be ignored. Current value: bagging_fraction=0.75\n",
      "[LightGBM] [Warning] min_data_in_leaf is set=100, min_child_samples=20 will be ignored. Current value: min_data_in_leaf=100\n",
      "[LightGBM] [Warning] Accuracy may be bad since you didn't explicitly set num_leaves OR 2^max_depth > num_leaves. (num_leaves=31).\n"
     ]
    },
    {
     "name": "stderr",
     "output_type": "stream",
     "text": [
      "/opt/conda/lib/python3.7/site-packages/lightgbm/basic.py:1286: UserWarning: Overriding the parameters from Reference Dataset.\n",
      "  warnings.warn('Overriding the parameters from Reference Dataset.')\n",
      "/opt/conda/lib/python3.7/site-packages/lightgbm/basic.py:1098: UserWarning: categorical_column in param dict is overridden.\n",
      "  warnings.warn('{} in param dict is overridden.'.format(cat_alias))\n"
     ]
    },
    {
     "name": "stdout",
     "output_type": "stream",
     "text": [
      "[1]\tvalid_0's l1: 94.022\tvalid_0's l2: 22839.1\n",
      "Training until validation scores don't improve for 100 rounds\n",
      "[2]\tvalid_0's l1: 90.3771\tvalid_0's l2: 20190.2\n",
      "[3]\tvalid_0's l1: 86.8633\tvalid_0's l2: 17914.7\n",
      "[4]\tvalid_0's l1: 83.748\tvalid_0's l2: 16061.1\n",
      "[5]\tvalid_0's l1: 81.0155\tvalid_0's l2: 14572.9\n",
      "[6]\tvalid_0's l1: 78.5095\tvalid_0's l2: 13349.9\n",
      "[7]\tvalid_0's l1: 76.0841\tvalid_0's l2: 12287.5\n",
      "[8]\tvalid_0's l1: 73.9221\tvalid_0's l2: 11416.1\n",
      "[9]\tvalid_0's l1: 72.0477\tvalid_0's l2: 10720.2\n",
      "[10]\tvalid_0's l1: 70.2396\tvalid_0's l2: 10120.3\n",
      "[11]\tvalid_0's l1: 68.599\tvalid_0's l2: 9625.36\n",
      "[12]\tvalid_0's l1: 67.1917\tvalid_0's l2: 9225.56\n",
      "[13]\tvalid_0's l1: 65.7709\tvalid_0's l2: 8872.12\n",
      "[14]\tvalid_0's l1: 64.581\tvalid_0's l2: 8576.56\n",
      "[15]\tvalid_0's l1: 63.4148\tvalid_0's l2: 8318.84\n",
      "[16]\tvalid_0's l1: 62.4752\tvalid_0's l2: 8114.1\n",
      "[17]\tvalid_0's l1: 61.6176\tvalid_0's l2: 7941.83\n",
      "[18]\tvalid_0's l1: 60.8196\tvalid_0's l2: 7787.5\n",
      "[19]\tvalid_0's l1: 60.1324\tvalid_0's l2: 7654.83\n",
      "[20]\tvalid_0's l1: 59.4867\tvalid_0's l2: 7544.36\n",
      "[21]\tvalid_0's l1: 58.9119\tvalid_0's l2: 7443.85\n",
      "[22]\tvalid_0's l1: 58.2333\tvalid_0's l2: 7341.8\n",
      "[23]\tvalid_0's l1: 57.7721\tvalid_0's l2: 7263.19\n",
      "[24]\tvalid_0's l1: 57.3022\tvalid_0's l2: 7190.57\n",
      "[25]\tvalid_0's l1: 56.8207\tvalid_0's l2: 7116.9\n",
      "[26]\tvalid_0's l1: 56.3857\tvalid_0's l2: 7054.05\n",
      "[27]\tvalid_0's l1: 55.9818\tvalid_0's l2: 6999.26\n",
      "[28]\tvalid_0's l1: 55.5935\tvalid_0's l2: 6941.89\n",
      "[29]\tvalid_0's l1: 55.2493\tvalid_0's l2: 6896.35\n",
      "[30]\tvalid_0's l1: 54.8912\tvalid_0's l2: 6848.2\n",
      "[31]\tvalid_0's l1: 54.5527\tvalid_0's l2: 6801.57\n",
      "[32]\tvalid_0's l1: 54.2684\tvalid_0's l2: 6753.96\n",
      "[33]\tvalid_0's l1: 53.9878\tvalid_0's l2: 6710.19\n",
      "[34]\tvalid_0's l1: 53.7027\tvalid_0's l2: 6672.4\n",
      "[35]\tvalid_0's l1: 53.4756\tvalid_0's l2: 6636.75\n",
      "[36]\tvalid_0's l1: 53.1938\tvalid_0's l2: 6600.67\n",
      "[37]\tvalid_0's l1: 53.0359\tvalid_0's l2: 6572.05\n",
      "[38]\tvalid_0's l1: 52.8838\tvalid_0's l2: 6545.66\n",
      "[39]\tvalid_0's l1: 52.7396\tvalid_0's l2: 6521.41\n",
      "[40]\tvalid_0's l1: 52.5842\tvalid_0's l2: 6497.1\n",
      "[41]\tvalid_0's l1: 52.4192\tvalid_0's l2: 6475.33\n",
      "[42]\tvalid_0's l1: 52.2534\tvalid_0's l2: 6450.71\n",
      "[43]\tvalid_0's l1: 52.1412\tvalid_0's l2: 6431.64\n",
      "[44]\tvalid_0's l1: 52.0083\tvalid_0's l2: 6411.92\n",
      "[45]\tvalid_0's l1: 51.8346\tvalid_0's l2: 6387.54\n",
      "[46]\tvalid_0's l1: 51.6307\tvalid_0's l2: 6360.01\n",
      "[47]\tvalid_0's l1: 51.5164\tvalid_0's l2: 6342.78\n",
      "[48]\tvalid_0's l1: 51.2214\tvalid_0's l2: 6304.13\n",
      "[49]\tvalid_0's l1: 51.033\tvalid_0's l2: 6282.98\n",
      "[50]\tvalid_0's l1: 50.9164\tvalid_0's l2: 6258.96\n",
      "[51]\tvalid_0's l1: 50.7307\tvalid_0's l2: 6232.45\n",
      "[52]\tvalid_0's l1: 50.6306\tvalid_0's l2: 6217.9\n",
      "[53]\tvalid_0's l1: 50.5505\tvalid_0's l2: 6205.64\n",
      "[54]\tvalid_0's l1: 50.4546\tvalid_0's l2: 6188.9\n",
      "[55]\tvalid_0's l1: 50.2899\tvalid_0's l2: 6171.58\n",
      "[56]\tvalid_0's l1: 50.2149\tvalid_0's l2: 6158.78\n",
      "[57]\tvalid_0's l1: 50.1013\tvalid_0's l2: 6140.07\n",
      "[58]\tvalid_0's l1: 49.937\tvalid_0's l2: 6118.52\n",
      "[59]\tvalid_0's l1: 49.7979\tvalid_0's l2: 6105.51\n",
      "[60]\tvalid_0's l1: 49.6673\tvalid_0's l2: 6090.76\n",
      "[61]\tvalid_0's l1: 49.5283\tvalid_0's l2: 6072.99\n",
      "[62]\tvalid_0's l1: 49.4484\tvalid_0's l2: 6062.1\n",
      "[63]\tvalid_0's l1: 49.3835\tvalid_0's l2: 6050.72\n",
      "[64]\tvalid_0's l1: 49.3241\tvalid_0's l2: 6041.04\n",
      "[65]\tvalid_0's l1: 48.9763\tvalid_0's l2: 5981.56\n",
      "[66]\tvalid_0's l1: 48.8299\tvalid_0's l2: 5966\n",
      "[67]\tvalid_0's l1: 48.769\tvalid_0's l2: 5957.85\n",
      "[68]\tvalid_0's l1: 48.7018\tvalid_0's l2: 5947.27\n",
      "[69]\tvalid_0's l1: 48.5982\tvalid_0's l2: 5932.37\n",
      "[70]\tvalid_0's l1: 48.4575\tvalid_0's l2: 5919.52\n",
      "[71]\tvalid_0's l1: 48.3897\tvalid_0's l2: 5910.53\n",
      "[72]\tvalid_0's l1: 48.3006\tvalid_0's l2: 5899.77\n",
      "[73]\tvalid_0's l1: 48.2353\tvalid_0's l2: 5888.96\n",
      "[74]\tvalid_0's l1: 48.1251\tvalid_0's l2: 5876.13\n",
      "[75]\tvalid_0's l1: 48.0585\tvalid_0's l2: 5868.03\n",
      "[76]\tvalid_0's l1: 48.0043\tvalid_0's l2: 5859.18\n",
      "[77]\tvalid_0's l1: 47.9316\tvalid_0's l2: 5851.05\n",
      "[78]\tvalid_0's l1: 47.8325\tvalid_0's l2: 5839.4\n",
      "[79]\tvalid_0's l1: 47.7866\tvalid_0's l2: 5832.05\n",
      "[80]\tvalid_0's l1: 47.6938\tvalid_0's l2: 5822.8\n",
      "[81]\tvalid_0's l1: 47.6492\tvalid_0's l2: 5815.97\n",
      "[82]\tvalid_0's l1: 47.6022\tvalid_0's l2: 5809.8\n",
      "[83]\tvalid_0's l1: 47.5342\tvalid_0's l2: 5800.1\n",
      "[84]\tvalid_0's l1: 47.4688\tvalid_0's l2: 5792.74\n",
      "[85]\tvalid_0's l1: 47.422\tvalid_0's l2: 5785.15\n",
      "[86]\tvalid_0's l1: 47.3509\tvalid_0's l2: 5773.84\n",
      "[87]\tvalid_0's l1: 47.2945\tvalid_0's l2: 5767.77\n",
      "[88]\tvalid_0's l1: 47.2509\tvalid_0's l2: 5760.5\n",
      "[89]\tvalid_0's l1: 47.1756\tvalid_0's l2: 5751.74\n",
      "[90]\tvalid_0's l1: 47.1001\tvalid_0's l2: 5743.52\n",
      "[91]\tvalid_0's l1: 47.028\tvalid_0's l2: 5733.81\n",
      "[92]\tvalid_0's l1: 46.9054\tvalid_0's l2: 5715.46\n",
      "[93]\tvalid_0's l1: 46.868\tvalid_0's l2: 5710.44\n",
      "[94]\tvalid_0's l1: 46.8151\tvalid_0's l2: 5704.78\n",
      "[95]\tvalid_0's l1: 46.7621\tvalid_0's l2: 5698.57\n",
      "[96]\tvalid_0's l1: 46.6535\tvalid_0's l2: 5684.22\n",
      "[97]\tvalid_0's l1: 46.5108\tvalid_0's l2: 5666.42\n",
      "[98]\tvalid_0's l1: 46.4439\tvalid_0's l2: 5659.12\n",
      "[99]\tvalid_0's l1: 46.408\tvalid_0's l2: 5654.55\n",
      "[100]\tvalid_0's l1: 46.1633\tvalid_0's l2: 5615.65\n",
      "[101]\tvalid_0's l1: 46.1041\tvalid_0's l2: 5607.8\n",
      "[102]\tvalid_0's l1: 46.0413\tvalid_0's l2: 5601.5\n",
      "[103]\tvalid_0's l1: 45.9989\tvalid_0's l2: 5595.68\n",
      "[104]\tvalid_0's l1: 45.9507\tvalid_0's l2: 5589.68\n",
      "[105]\tvalid_0's l1: 45.8894\tvalid_0's l2: 5583.01\n",
      "[106]\tvalid_0's l1: 45.8243\tvalid_0's l2: 5576.48\n",
      "[107]\tvalid_0's l1: 45.6688\tvalid_0's l2: 5558.22\n",
      "[108]\tvalid_0's l1: 45.5591\tvalid_0's l2: 5544.7\n",
      "[109]\tvalid_0's l1: 45.4963\tvalid_0's l2: 5537.93\n",
      "[110]\tvalid_0's l1: 45.4206\tvalid_0's l2: 5531.57\n",
      "[111]\tvalid_0's l1: 45.3912\tvalid_0's l2: 5527.45\n",
      "[112]\tvalid_0's l1: 45.3639\tvalid_0's l2: 5523.28\n",
      "[113]\tvalid_0's l1: 45.2932\tvalid_0's l2: 5516.11\n",
      "[114]\tvalid_0's l1: 45.1887\tvalid_0's l2: 5507.25\n",
      "[115]\tvalid_0's l1: 45.0333\tvalid_0's l2: 5487.26\n",
      "[116]\tvalid_0's l1: 45.0062\tvalid_0's l2: 5483.66\n",
      "[117]\tvalid_0's l1: 44.9777\tvalid_0's l2: 5479.62\n",
      "[118]\tvalid_0's l1: 44.9471\tvalid_0's l2: 5475.66\n",
      "[119]\tvalid_0's l1: 44.9131\tvalid_0's l2: 5470.79\n",
      "[120]\tvalid_0's l1: 44.8787\tvalid_0's l2: 5466.76\n",
      "[121]\tvalid_0's l1: 44.8385\tvalid_0's l2: 5462.67\n",
      "[122]\tvalid_0's l1: 44.8107\tvalid_0's l2: 5459.31\n",
      "[123]\tvalid_0's l1: 44.7754\tvalid_0's l2: 5454.98\n",
      "[124]\tvalid_0's l1: 44.7442\tvalid_0's l2: 5450.85\n",
      "[125]\tvalid_0's l1: 44.7118\tvalid_0's l2: 5447.51\n",
      "[126]\tvalid_0's l1: 44.6103\tvalid_0's l2: 5436.77\n",
      "[127]\tvalid_0's l1: 44.5865\tvalid_0's l2: 5434.02\n",
      "[128]\tvalid_0's l1: 44.5637\tvalid_0's l2: 5431.43\n",
      "[129]\tvalid_0's l1: 44.5366\tvalid_0's l2: 5428.22\n",
      "[130]\tvalid_0's l1: 44.5021\tvalid_0's l2: 5424.86\n",
      "[131]\tvalid_0's l1: 44.4519\tvalid_0's l2: 5419.35\n",
      "[132]\tvalid_0's l1: 44.4127\tvalid_0's l2: 5413.01\n",
      "[133]\tvalid_0's l1: 44.3791\tvalid_0's l2: 5410\n",
      "[134]\tvalid_0's l1: 44.3283\tvalid_0's l2: 5403.09\n",
      "[135]\tvalid_0's l1: 44.294\tvalid_0's l2: 5399.55\n",
      "[136]\tvalid_0's l1: 44.2335\tvalid_0's l2: 5391.02\n",
      "[137]\tvalid_0's l1: 44.1895\tvalid_0's l2: 5386.08\n",
      "[138]\tvalid_0's l1: 44.037\tvalid_0's l2: 5363.15\n",
      "[139]\tvalid_0's l1: 44.0187\tvalid_0's l2: 5360.77\n",
      "[140]\tvalid_0's l1: 43.9468\tvalid_0's l2: 5353.19\n",
      "[141]\tvalid_0's l1: 43.922\tvalid_0's l2: 5350.26\n",
      "[142]\tvalid_0's l1: 43.8984\tvalid_0's l2: 5347.09\n",
      "[143]\tvalid_0's l1: 43.8719\tvalid_0's l2: 5344.12\n",
      "[144]\tvalid_0's l1: 43.7711\tvalid_0's l2: 5330.84\n",
      "[145]\tvalid_0's l1: 43.7266\tvalid_0's l2: 5325.16\n",
      "[146]\tvalid_0's l1: 43.6821\tvalid_0's l2: 5320.36\n",
      "[147]\tvalid_0's l1: 43.6537\tvalid_0's l2: 5317.02\n",
      "[148]\tvalid_0's l1: 43.6095\tvalid_0's l2: 5313.51\n",
      "[149]\tvalid_0's l1: 43.4973\tvalid_0's l2: 5299.76\n",
      "[150]\tvalid_0's l1: 43.4741\tvalid_0's l2: 5297.44\n",
      "[151]\tvalid_0's l1: 43.3946\tvalid_0's l2: 5288.93\n",
      "[152]\tvalid_0's l1: 43.3258\tvalid_0's l2: 5277.42\n",
      "[153]\tvalid_0's l1: 43.2973\tvalid_0's l2: 5274.94\n",
      "[154]\tvalid_0's l1: 43.2364\tvalid_0's l2: 5269.35\n",
      "[155]\tvalid_0's l1: 43.2168\tvalid_0's l2: 5266.79\n",
      "[156]\tvalid_0's l1: 43.1845\tvalid_0's l2: 5262.99\n",
      "[157]\tvalid_0's l1: 43.1677\tvalid_0's l2: 5260.97\n",
      "[158]\tvalid_0's l1: 43.1441\tvalid_0's l2: 5258.22\n",
      "[159]\tvalid_0's l1: 43.1233\tvalid_0's l2: 5255.41\n",
      "[160]\tvalid_0's l1: 43.0995\tvalid_0's l2: 5251.39\n",
      "[161]\tvalid_0's l1: 43.0789\tvalid_0's l2: 5249.42\n",
      "[162]\tvalid_0's l1: 43.0637\tvalid_0's l2: 5247.64\n",
      "[163]\tvalid_0's l1: 43.045\tvalid_0's l2: 5245.55\n",
      "[164]\tvalid_0's l1: 43.0246\tvalid_0's l2: 5243.41\n",
      "[165]\tvalid_0's l1: 43.01\tvalid_0's l2: 5241.55\n",
      "[166]\tvalid_0's l1: 42.9951\tvalid_0's l2: 5239.1\n",
      "[167]\tvalid_0's l1: 42.9799\tvalid_0's l2: 5236.88\n",
      "[168]\tvalid_0's l1: 42.9677\tvalid_0's l2: 5235.25\n",
      "[169]\tvalid_0's l1: 42.9516\tvalid_0's l2: 5232.38\n",
      "[170]\tvalid_0's l1: 42.9258\tvalid_0's l2: 5229.15\n",
      "[171]\tvalid_0's l1: 42.8978\tvalid_0's l2: 5226.45\n",
      "[172]\tvalid_0's l1: 42.8631\tvalid_0's l2: 5222.85\n",
      "[173]\tvalid_0's l1: 42.7926\tvalid_0's l2: 5213.89\n",
      "[174]\tvalid_0's l1: 42.7737\tvalid_0's l2: 5211.97\n",
      "[175]\tvalid_0's l1: 42.7366\tvalid_0's l2: 5207.66\n",
      "[176]\tvalid_0's l1: 42.7143\tvalid_0's l2: 5205.54\n",
      "[177]\tvalid_0's l1: 42.6976\tvalid_0's l2: 5203.83\n",
      "[178]\tvalid_0's l1: 42.6788\tvalid_0's l2: 5201.72\n",
      "[179]\tvalid_0's l1: 42.6504\tvalid_0's l2: 5198.35\n",
      "[180]\tvalid_0's l1: 42.6321\tvalid_0's l2: 5196.63\n",
      "[181]\tvalid_0's l1: 42.5989\tvalid_0's l2: 5193.63\n",
      "[182]\tvalid_0's l1: 42.5896\tvalid_0's l2: 5192.14\n",
      "[183]\tvalid_0's l1: 42.5614\tvalid_0's l2: 5189.08\n",
      "[184]\tvalid_0's l1: 42.5371\tvalid_0's l2: 5185.83\n",
      "[185]\tvalid_0's l1: 42.5154\tvalid_0's l2: 5183.34\n",
      "[186]\tvalid_0's l1: 42.5022\tvalid_0's l2: 5181.72\n",
      "[187]\tvalid_0's l1: 42.4765\tvalid_0's l2: 5179.31\n",
      "[188]\tvalid_0's l1: 42.4599\tvalid_0's l2: 5177.42\n",
      "[189]\tvalid_0's l1: 42.4072\tvalid_0's l2: 5172.4\n",
      "[190]\tvalid_0's l1: 42.3861\tvalid_0's l2: 5170.22\n",
      "[191]\tvalid_0's l1: 42.3667\tvalid_0's l2: 5167.19\n",
      "[192]\tvalid_0's l1: 42.3418\tvalid_0's l2: 5164.58\n",
      "[193]\tvalid_0's l1: 42.3258\tvalid_0's l2: 5162.81\n",
      "[194]\tvalid_0's l1: 42.3074\tvalid_0's l2: 5160.42\n",
      "[195]\tvalid_0's l1: 42.2686\tvalid_0's l2: 5155.64\n",
      "[196]\tvalid_0's l1: 42.2306\tvalid_0's l2: 5151.77\n",
      "[197]\tvalid_0's l1: 42.2082\tvalid_0's l2: 5149.28\n",
      "[198]\tvalid_0's l1: 42.1947\tvalid_0's l2: 5146.81\n",
      "[199]\tvalid_0's l1: 42.1602\tvalid_0's l2: 5143.56\n",
      "[200]\tvalid_0's l1: 42.1421\tvalid_0's l2: 5141.53\n",
      "[201]\tvalid_0's l1: 42.1209\tvalid_0's l2: 5139.62\n",
      "[202]\tvalid_0's l1: 42.0922\tvalid_0's l2: 5136.38\n",
      "[203]\tvalid_0's l1: 42.0626\tvalid_0's l2: 5131.52\n",
      "[204]\tvalid_0's l1: 42.0454\tvalid_0's l2: 5129.31\n",
      "[205]\tvalid_0's l1: 42.0183\tvalid_0's l2: 5126.92\n",
      "[206]\tvalid_0's l1: 41.9811\tvalid_0's l2: 5122.57\n",
      "[207]\tvalid_0's l1: 41.9675\tvalid_0's l2: 5120.84\n",
      "[208]\tvalid_0's l1: 41.951\tvalid_0's l2: 5118.53\n",
      "[209]\tvalid_0's l1: 41.9255\tvalid_0's l2: 5114.37\n",
      "[210]\tvalid_0's l1: 41.9078\tvalid_0's l2: 5112.39\n",
      "[211]\tvalid_0's l1: 41.8871\tvalid_0's l2: 5109.38\n",
      "[212]\tvalid_0's l1: 41.8761\tvalid_0's l2: 5108.28\n",
      "[213]\tvalid_0's l1: 41.8637\tvalid_0's l2: 5107.13\n",
      "[214]\tvalid_0's l1: 41.834\tvalid_0's l2: 5102.85\n",
      "[215]\tvalid_0's l1: 41.8185\tvalid_0's l2: 5100.66\n",
      "[216]\tvalid_0's l1: 41.8073\tvalid_0's l2: 5099.28\n",
      "[217]\tvalid_0's l1: 41.7919\tvalid_0's l2: 5096.95\n",
      "[218]\tvalid_0's l1: 41.7712\tvalid_0's l2: 5094.49\n",
      "[219]\tvalid_0's l1: 41.7407\tvalid_0's l2: 5090.85\n",
      "[220]\tvalid_0's l1: 41.7209\tvalid_0's l2: 5088.24\n",
      "[221]\tvalid_0's l1: 41.706\tvalid_0's l2: 5086.88\n",
      "[222]\tvalid_0's l1: 41.6912\tvalid_0's l2: 5085.48\n",
      "[223]\tvalid_0's l1: 41.6793\tvalid_0's l2: 5084.35\n",
      "[224]\tvalid_0's l1: 41.6602\tvalid_0's l2: 5082.2\n",
      "[225]\tvalid_0's l1: 41.6441\tvalid_0's l2: 5079.15\n",
      "[226]\tvalid_0's l1: 41.6248\tvalid_0's l2: 5077.49\n",
      "[227]\tvalid_0's l1: 41.5811\tvalid_0's l2: 5071.43\n",
      "[228]\tvalid_0's l1: 41.5583\tvalid_0's l2: 5068.84\n",
      "[229]\tvalid_0's l1: 41.4906\tvalid_0's l2: 5057.71\n",
      "[230]\tvalid_0's l1: 41.4619\tvalid_0's l2: 5053.37\n",
      "[231]\tvalid_0's l1: 41.4476\tvalid_0's l2: 5051.5\n",
      "[232]\tvalid_0's l1: 41.4281\tvalid_0's l2: 5048.41\n",
      "[233]\tvalid_0's l1: 41.4137\tvalid_0's l2: 5046.63\n",
      "[234]\tvalid_0's l1: 41.3976\tvalid_0's l2: 5044.22\n",
      "[235]\tvalid_0's l1: 41.3835\tvalid_0's l2: 5042.44\n",
      "[236]\tvalid_0's l1: 41.3661\tvalid_0's l2: 5040.46\n",
      "[237]\tvalid_0's l1: 41.3521\tvalid_0's l2: 5038.36\n",
      "[238]\tvalid_0's l1: 41.337\tvalid_0's l2: 5036.47\n",
      "[239]\tvalid_0's l1: 41.3254\tvalid_0's l2: 5034.8\n",
      "[240]\tvalid_0's l1: 41.3035\tvalid_0's l2: 5031.62\n",
      "[241]\tvalid_0's l1: 41.273\tvalid_0's l2: 5027.74\n",
      "[242]\tvalid_0's l1: 41.2518\tvalid_0's l2: 5025.1\n",
      "[243]\tvalid_0's l1: 41.2196\tvalid_0's l2: 5021.93\n",
      "[244]\tvalid_0's l1: 41.2076\tvalid_0's l2: 5020.42\n",
      "[245]\tvalid_0's l1: 41.1988\tvalid_0's l2: 5019.38\n",
      "[246]\tvalid_0's l1: 41.1905\tvalid_0's l2: 5018.17\n",
      "[247]\tvalid_0's l1: 41.181\tvalid_0's l2: 5017.1\n",
      "[248]\tvalid_0's l1: 41.1729\tvalid_0's l2: 5015.96\n",
      "[249]\tvalid_0's l1: 41.1571\tvalid_0's l2: 5014.18\n",
      "[250]\tvalid_0's l1: 41.1241\tvalid_0's l2: 5010.87\n",
      "[251]\tvalid_0's l1: 41.077\tvalid_0's l2: 5004.17\n",
      "[252]\tvalid_0's l1: 41.0678\tvalid_0's l2: 5002.64\n",
      "[253]\tvalid_0's l1: 41.057\tvalid_0's l2: 5001.55\n",
      "[254]\tvalid_0's l1: 41.0315\tvalid_0's l2: 4998.62\n",
      "[255]\tvalid_0's l1: 41.0197\tvalid_0's l2: 4996.99\n",
      "[256]\tvalid_0's l1: 41.0035\tvalid_0's l2: 4995.05\n",
      "[257]\tvalid_0's l1: 40.991\tvalid_0's l2: 4993.19\n",
      "[258]\tvalid_0's l1: 40.9619\tvalid_0's l2: 4989.05\n",
      "[259]\tvalid_0's l1: 40.934\tvalid_0's l2: 4985.65\n",
      "[260]\tvalid_0's l1: 40.9124\tvalid_0's l2: 4983.45\n",
      "[261]\tvalid_0's l1: 40.9012\tvalid_0's l2: 4981.77\n",
      "[262]\tvalid_0's l1: 40.8856\tvalid_0's l2: 4978.75\n",
      "[263]\tvalid_0's l1: 40.8622\tvalid_0's l2: 4974.46\n",
      "[264]\tvalid_0's l1: 40.8362\tvalid_0's l2: 4971.01\n",
      "[265]\tvalid_0's l1: 40.8249\tvalid_0's l2: 4969.19\n",
      "[266]\tvalid_0's l1: 40.8193\tvalid_0's l2: 4968.43\n",
      "[267]\tvalid_0's l1: 40.8142\tvalid_0's l2: 4967.64\n",
      "[268]\tvalid_0's l1: 40.8039\tvalid_0's l2: 4966.29\n",
      "[269]\tvalid_0's l1: 40.7858\tvalid_0's l2: 4963.87\n",
      "[270]\tvalid_0's l1: 40.7727\tvalid_0's l2: 4962.33\n",
      "[271]\tvalid_0's l1: 40.7593\tvalid_0's l2: 4960.52\n",
      "[272]\tvalid_0's l1: 40.742\tvalid_0's l2: 4958.76\n",
      "[273]\tvalid_0's l1: 40.7267\tvalid_0's l2: 4956.69\n",
      "[274]\tvalid_0's l1: 40.6913\tvalid_0's l2: 4951.41\n",
      "[275]\tvalid_0's l1: 40.6622\tvalid_0's l2: 4947.18\n",
      "[276]\tvalid_0's l1: 40.65\tvalid_0's l2: 4945.49\n",
      "[277]\tvalid_0's l1: 40.6282\tvalid_0's l2: 4942.46\n",
      "[278]\tvalid_0's l1: 40.61\tvalid_0's l2: 4940.25\n",
      "[279]\tvalid_0's l1: 40.5872\tvalid_0's l2: 4937.33\n",
      "[280]\tvalid_0's l1: 40.57\tvalid_0's l2: 4934.32\n",
      "[281]\tvalid_0's l1: 40.5561\tvalid_0's l2: 4931.51\n",
      "[282]\tvalid_0's l1: 40.5477\tvalid_0's l2: 4930.49\n",
      "[283]\tvalid_0's l1: 40.5394\tvalid_0's l2: 4929.58\n",
      "[284]\tvalid_0's l1: 40.5341\tvalid_0's l2: 4928.55\n",
      "[285]\tvalid_0's l1: 40.5142\tvalid_0's l2: 4926.05\n",
      "[286]\tvalid_0's l1: 40.4903\tvalid_0's l2: 4923.58\n",
      "[287]\tvalid_0's l1: 40.4863\tvalid_0's l2: 4922.93\n",
      "[288]\tvalid_0's l1: 40.472\tvalid_0's l2: 4920.61\n",
      "[289]\tvalid_0's l1: 40.4656\tvalid_0's l2: 4919.88\n",
      "[290]\tvalid_0's l1: 40.4396\tvalid_0's l2: 4916.26\n",
      "[291]\tvalid_0's l1: 40.4216\tvalid_0's l2: 4914.39\n",
      "[292]\tvalid_0's l1: 40.4176\tvalid_0's l2: 4913.75\n",
      "[293]\tvalid_0's l1: 40.4095\tvalid_0's l2: 4912.69\n",
      "[294]\tvalid_0's l1: 40.3943\tvalid_0's l2: 4910.06\n",
      "[295]\tvalid_0's l1: 40.3793\tvalid_0's l2: 4908.38\n",
      "[296]\tvalid_0's l1: 40.3646\tvalid_0's l2: 4906.56\n",
      "[297]\tvalid_0's l1: 40.3547\tvalid_0's l2: 4904.17\n",
      "[298]\tvalid_0's l1: 40.3325\tvalid_0's l2: 4900.67\n",
      "[299]\tvalid_0's l1: 40.3213\tvalid_0's l2: 4897.87\n",
      "[300]\tvalid_0's l1: 40.3121\tvalid_0's l2: 4896.47\n",
      "[301]\tvalid_0's l1: 40.2983\tvalid_0's l2: 4894.19\n",
      "[302]\tvalid_0's l1: 40.2935\tvalid_0's l2: 4893.55\n",
      "[303]\tvalid_0's l1: 40.2736\tvalid_0's l2: 4890.59\n",
      "[304]\tvalid_0's l1: 40.2523\tvalid_0's l2: 4885.79\n",
      "[305]\tvalid_0's l1: 40.2427\tvalid_0's l2: 4884.54\n",
      "[306]\tvalid_0's l1: 40.2263\tvalid_0's l2: 4882.15\n",
      "[307]\tvalid_0's l1: 40.2112\tvalid_0's l2: 4880.21\n",
      "[308]\tvalid_0's l1: 40.1741\tvalid_0's l2: 4875.08\n",
      "[309]\tvalid_0's l1: 40.1562\tvalid_0's l2: 4873.8\n",
      "[310]\tvalid_0's l1: 40.1453\tvalid_0's l2: 4872.38\n",
      "[311]\tvalid_0's l1: 40.1365\tvalid_0's l2: 4871.13\n",
      "[312]\tvalid_0's l1: 40.12\tvalid_0's l2: 4868.81\n",
      "[313]\tvalid_0's l1: 40.114\tvalid_0's l2: 4867.52\n",
      "[314]\tvalid_0's l1: 40.0981\tvalid_0's l2: 4865.07\n",
      "[315]\tvalid_0's l1: 40.0894\tvalid_0's l2: 4863.9\n",
      "[316]\tvalid_0's l1: 40.0762\tvalid_0's l2: 4861.96\n",
      "[317]\tvalid_0's l1: 40.0646\tvalid_0's l2: 4860.37\n",
      "[318]\tvalid_0's l1: 40.0515\tvalid_0's l2: 4858.69\n",
      "[319]\tvalid_0's l1: 40.0363\tvalid_0's l2: 4855.94\n",
      "[320]\tvalid_0's l1: 40.0296\tvalid_0's l2: 4854.98\n",
      "[321]\tvalid_0's l1: 40.0209\tvalid_0's l2: 4853.35\n",
      "[322]\tvalid_0's l1: 39.9979\tvalid_0's l2: 4851.09\n",
      "[323]\tvalid_0's l1: 39.9882\tvalid_0's l2: 4849.97\n",
      "[324]\tvalid_0's l1: 39.9732\tvalid_0's l2: 4847.44\n",
      "[325]\tvalid_0's l1: 39.9666\tvalid_0's l2: 4846.5\n",
      "[326]\tvalid_0's l1: 39.9587\tvalid_0's l2: 4845.32\n",
      "[327]\tvalid_0's l1: 39.9474\tvalid_0's l2: 4843.69\n",
      "[328]\tvalid_0's l1: 39.9339\tvalid_0's l2: 4842.03\n",
      "[329]\tvalid_0's l1: 39.9259\tvalid_0's l2: 4841.1\n",
      "[330]\tvalid_0's l1: 39.9111\tvalid_0's l2: 4838.6\n",
      "[331]\tvalid_0's l1: 39.9045\tvalid_0's l2: 4837.29\n",
      "[332]\tvalid_0's l1: 39.8986\tvalid_0's l2: 4836.42\n",
      "[333]\tvalid_0's l1: 39.8928\tvalid_0's l2: 4835.63\n",
      "[334]\tvalid_0's l1: 39.8876\tvalid_0's l2: 4834.75\n",
      "[335]\tvalid_0's l1: 39.882\tvalid_0's l2: 4833.88\n",
      "[336]\tvalid_0's l1: 39.8762\tvalid_0's l2: 4833.11\n",
      "[337]\tvalid_0's l1: 39.8668\tvalid_0's l2: 4831.09\n",
      "[338]\tvalid_0's l1: 39.8592\tvalid_0's l2: 4829.61\n",
      "[339]\tvalid_0's l1: 39.8531\tvalid_0's l2: 4828.87\n",
      "[340]\tvalid_0's l1: 39.8366\tvalid_0's l2: 4826.51\n",
      "[341]\tvalid_0's l1: 39.8314\tvalid_0's l2: 4825.51\n",
      "[342]\tvalid_0's l1: 39.8099\tvalid_0's l2: 4823.27\n",
      "[343]\tvalid_0's l1: 39.8012\tvalid_0's l2: 4821.94\n",
      "[344]\tvalid_0's l1: 39.7889\tvalid_0's l2: 4819.86\n",
      "[345]\tvalid_0's l1: 39.7814\tvalid_0's l2: 4818.74\n",
      "[346]\tvalid_0's l1: 39.7723\tvalid_0's l2: 4817.52\n",
      "[347]\tvalid_0's l1: 39.7617\tvalid_0's l2: 4815.94\n",
      "[348]\tvalid_0's l1: 39.7583\tvalid_0's l2: 4815.49\n",
      "[349]\tvalid_0's l1: 39.748\tvalid_0's l2: 4814.08\n",
      "[350]\tvalid_0's l1: 39.7431\tvalid_0's l2: 4813.58\n",
      "[351]\tvalid_0's l1: 39.7327\tvalid_0's l2: 4812.05\n",
      "[352]\tvalid_0's l1: 39.7243\tvalid_0's l2: 4810.95\n",
      "[353]\tvalid_0's l1: 39.7149\tvalid_0's l2: 4809.49\n",
      "[354]\tvalid_0's l1: 39.7033\tvalid_0's l2: 4807.51\n",
      "[355]\tvalid_0's l1: 39.6922\tvalid_0's l2: 4805.9\n",
      "[356]\tvalid_0's l1: 39.6786\tvalid_0's l2: 4804.25\n",
      "[357]\tvalid_0's l1: 39.6636\tvalid_0's l2: 4802.65\n",
      "[358]\tvalid_0's l1: 39.6493\tvalid_0's l2: 4800.61\n",
      "[359]\tvalid_0's l1: 39.6386\tvalid_0's l2: 4799.23\n",
      "[360]\tvalid_0's l1: 39.6351\tvalid_0's l2: 4798.65\n",
      "[361]\tvalid_0's l1: 39.6264\tvalid_0's l2: 4797.13\n",
      "[362]\tvalid_0's l1: 39.6035\tvalid_0's l2: 4794.02\n",
      "[363]\tvalid_0's l1: 39.5952\tvalid_0's l2: 4792.93\n",
      "[364]\tvalid_0's l1: 39.5891\tvalid_0's l2: 4791.67\n",
      "[365]\tvalid_0's l1: 39.5721\tvalid_0's l2: 4789.44\n",
      "[366]\tvalid_0's l1: 39.5579\tvalid_0's l2: 4786.14\n",
      "[367]\tvalid_0's l1: 39.5466\tvalid_0's l2: 4783.72\n",
      "[368]\tvalid_0's l1: 39.5435\tvalid_0's l2: 4783.33\n",
      "[369]\tvalid_0's l1: 39.5313\tvalid_0's l2: 4780.98\n",
      "[370]\tvalid_0's l1: 39.516\tvalid_0's l2: 4778.43\n",
      "[371]\tvalid_0's l1: 39.5069\tvalid_0's l2: 4777.37\n",
      "[372]\tvalid_0's l1: 39.4962\tvalid_0's l2: 4775.99\n",
      "[373]\tvalid_0's l1: 39.4868\tvalid_0's l2: 4774.4\n",
      "[374]\tvalid_0's l1: 39.4822\tvalid_0's l2: 4773.87\n",
      "[375]\tvalid_0's l1: 39.4725\tvalid_0's l2: 4772.33\n",
      "[376]\tvalid_0's l1: 39.4659\tvalid_0's l2: 4771.37\n",
      "[377]\tvalid_0's l1: 39.4533\tvalid_0's l2: 4769.91\n",
      "[378]\tvalid_0's l1: 39.4489\tvalid_0's l2: 4769.17\n",
      "[379]\tvalid_0's l1: 39.4376\tvalid_0's l2: 4767.43\n",
      "[380]\tvalid_0's l1: 39.4324\tvalid_0's l2: 4766.53\n",
      "[381]\tvalid_0's l1: 39.422\tvalid_0's l2: 4764.67\n",
      "[382]\tvalid_0's l1: 39.4163\tvalid_0's l2: 4763.89\n",
      "[383]\tvalid_0's l1: 39.4073\tvalid_0's l2: 4762.38\n",
      "[384]\tvalid_0's l1: 39.3988\tvalid_0's l2: 4760.82\n",
      "[385]\tvalid_0's l1: 39.3869\tvalid_0's l2: 4759.46\n",
      "[386]\tvalid_0's l1: 39.3802\tvalid_0's l2: 4758.56\n",
      "[387]\tvalid_0's l1: 39.3704\tvalid_0's l2: 4757.01\n",
      "[388]\tvalid_0's l1: 39.3656\tvalid_0's l2: 4756.48\n",
      "[389]\tvalid_0's l1: 39.3595\tvalid_0's l2: 4755.21\n",
      "[390]\tvalid_0's l1: 39.3508\tvalid_0's l2: 4754.23\n",
      "[391]\tvalid_0's l1: 39.3462\tvalid_0's l2: 4753.74\n",
      "[392]\tvalid_0's l1: 39.3428\tvalid_0's l2: 4753.2\n",
      "[393]\tvalid_0's l1: 39.3281\tvalid_0's l2: 4751.24\n",
      "[394]\tvalid_0's l1: 39.3256\tvalid_0's l2: 4750.88\n",
      "[395]\tvalid_0's l1: 39.3205\tvalid_0's l2: 4749.91\n",
      "[396]\tvalid_0's l1: 39.3175\tvalid_0's l2: 4749.49\n",
      "[397]\tvalid_0's l1: 39.3054\tvalid_0's l2: 4748.21\n",
      "[398]\tvalid_0's l1: 39.2994\tvalid_0's l2: 4747.19\n",
      "[399]\tvalid_0's l1: 39.2843\tvalid_0's l2: 4745.33\n",
      "[400]\tvalid_0's l1: 39.2728\tvalid_0's l2: 4743.36\n",
      "Did not meet early stopping. Best iteration is:\n",
      "[400]\tvalid_0's l1: 39.2728\tvalid_0's l2: 4743.36\n"
     ]
    }
   ],
   "source": [
    "clf = fit(X_train, y_train, X_test, y_test, categorical_features, predictors)"
   ]
  },
  {
   "cell_type": "code",
   "execution_count": 10,
   "metadata": {},
   "outputs": [
    {
     "data": {
      "text/plain": [
       "<AxesSubplot:title={'center':'Feature importance gain'}, xlabel='Feature importance', ylabel='Features'>"
      ]
     },
     "execution_count": 10,
     "metadata": {},
     "output_type": "execute_result"
    },
    {
     "data": {
      "image/png": "[encoded data removed]",
      "text/plain": [
       "<Figure size 432x288 with 1 Axes>"
      ]
     },
     "metadata": {
      "needs_background": "light"
     },
     "output_type": "display_data"
    }
   ],
   "source": [
    "lgb.plot_importance(clf, importance_type='gain', title='Feature importance gain')"
   ]
  },
  {
   "cell_type": "code",
   "execution_count": 11,
   "metadata": {},
   "outputs": [
    {
     "data": {
      "text/plain": [
       "99.0541614"
      ]
     },
     "execution_count": 11,
     "metadata": {},
     "output_type": "execute_result"
    }
   ],
   "source": [
    "np.mean(y)"
   ]
  },
  {
   "cell_type": "code",
   "execution_count": 12,
   "metadata": {},
   "outputs": [
    {
     "data": {
      "text/plain": [
       "99.050061825"
      ]
     },
     "execution_count": 12,
     "metadata": {},
     "output_type": "execute_result"
    }
   ],
   "source": [
    "np.mean(y_train)"
   ]
  },
  {
   "cell_type": "code",
   "execution_count": 13,
   "metadata": {},
   "outputs": [
    {
     "data": {
      "text/plain": [
       "99.0705597"
      ]
     },
     "execution_count": 13,
     "metadata": {},
     "output_type": "execute_result"
    }
   ],
   "source": [
    "np.mean(y_test)"
   ]
  },
  {
   "cell_type": "code",
   "execution_count": 14,
   "metadata": {},
   "outputs": [],
   "source": [
    "from sklearn.metrics import mean_absolute_error"
   ]
  },
  {
   "cell_type": "code",
   "execution_count": 15,
   "metadata": {},
   "outputs": [
    {
     "data": {
      "text/plain": [
       "77.72433464"
      ]
     },
     "execution_count": 15,
     "metadata": {},
     "output_type": "execute_result"
    }
   ],
   "source": [
    "mean_absolute_error(y, np.ones(len(y))*np.median(y))"
   ]
  },
  {
   "cell_type": "code",
   "execution_count": 16,
   "metadata": {},
   "outputs": [
    {
     "data": {
      "text/html": [
       "<div>\n",
       "<style scoped>\n",
       "    .dataframe tbody tr th:only-of-type {\n",
       "        vertical-align: middle;\n",
       "    }\n",
       "\n",
       "    .dataframe tbody tr th {\n",
       "        vertical-align: top;\n",
       "    }\n",
       "\n",
       "    .dataframe thead th {\n",
       "        text-align: right;\n",
       "    }\n",
       "</style>\n",
       "<table border=\"1\" class=\"dataframe\">\n",
       "  <thead>\n",
       "    <tr style=\"text-align: right;\">\n",
       "      <th></th>\n",
       "      <th>mean</th>\n",
       "      <th>count</th>\n",
       "      <th>median</th>\n",
       "      <th>std</th>\n",
       "    </tr>\n",
       "    <tr>\n",
       "      <th>feature_13</th>\n",
       "      <th></th>\n",
       "      <th></th>\n",
       "      <th></th>\n",
       "      <th></th>\n",
       "    </tr>\n",
       "  </thead>\n",
       "  <tbody>\n",
       "    <tr>\n",
       "      <th>1625061</th>\n",
       "      <td>112.947891</td>\n",
       "      <td>8743149</td>\n",
       "      <td>44.0</td>\n",
       "      <td>167.847083</td>\n",
       "    </tr>\n",
       "    <tr>\n",
       "      <th>1410710</th>\n",
       "      <td>63.703787</td>\n",
       "      <td>5067642</td>\n",
       "      <td>38.0</td>\n",
       "      <td>85.352246</td>\n",
       "    </tr>\n",
       "    <tr>\n",
       "      <th>1427872</th>\n",
       "      <td>128.267149</td>\n",
       "      <td>1625655</td>\n",
       "      <td>44.0</td>\n",
       "      <td>172.825637</td>\n",
       "    </tr>\n",
       "    <tr>\n",
       "      <th>233106</th>\n",
       "      <td>125.942828</td>\n",
       "      <td>1333161</td>\n",
       "      <td>47.0</td>\n",
       "      <td>177.402347</td>\n",
       "    </tr>\n",
       "    <tr>\n",
       "      <th>178641</th>\n",
       "      <td>92.269981</td>\n",
       "      <td>1102107</td>\n",
       "      <td>48.0</td>\n",
       "      <td>106.798742</td>\n",
       "    </tr>\n",
       "    <tr>\n",
       "      <th>...</th>\n",
       "      <td>...</td>\n",
       "      <td>...</td>\n",
       "      <td>...</td>\n",
       "      <td>...</td>\n",
       "    </tr>\n",
       "    <tr>\n",
       "      <th>1767706</th>\n",
       "      <td>36.426587</td>\n",
       "      <td>504</td>\n",
       "      <td>36.0</td>\n",
       "      <td>25.123602</td>\n",
       "    </tr>\n",
       "    <tr>\n",
       "      <th>1078719</th>\n",
       "      <td>69.808765</td>\n",
       "      <td>502</td>\n",
       "      <td>30.0</td>\n",
       "      <td>100.985282</td>\n",
       "    </tr>\n",
       "    <tr>\n",
       "      <th>11</th>\n",
       "      <td>274.099602</td>\n",
       "      <td>502</td>\n",
       "      <td>156.5</td>\n",
       "      <td>261.219071</td>\n",
       "    </tr>\n",
       "    <tr>\n",
       "      <th>176190</th>\n",
       "      <td>72.418327</td>\n",
       "      <td>502</td>\n",
       "      <td>32.0</td>\n",
       "      <td>97.454899</td>\n",
       "    </tr>\n",
       "    <tr>\n",
       "      <th>1392252</th>\n",
       "      <td>29.284861</td>\n",
       "      <td>502</td>\n",
       "      <td>29.0</td>\n",
       "      <td>10.829127</td>\n",
       "    </tr>\n",
       "  </tbody>\n",
       "</table>\n",
       "<p>1588 rows × 4 columns</p>\n",
       "</div>"
      ],
      "text/plain": [
       "                  mean    count  median         std\n",
       "feature_13                                         \n",
       "1625061     112.947891  8743149    44.0  167.847083\n",
       "1410710      63.703787  5067642    38.0   85.352246\n",
       "1427872     128.267149  1625655    44.0  172.825637\n",
       "233106      125.942828  1333161    47.0  177.402347\n",
       "178641       92.269981  1102107    48.0  106.798742\n",
       "...                ...      ...     ...         ...\n",
       "1767706      36.426587      504    36.0   25.123602\n",
       "1078719      69.808765      502    30.0  100.985282\n",
       "11          274.099602      502   156.5  261.219071\n",
       "176190       72.418327      502    32.0   97.454899\n",
       "1392252      29.284861      502    29.0   10.829127\n",
       "\n",
       "[1588 rows x 4 columns]"
      ]
     },
     "execution_count": 16,
     "metadata": {},
     "output_type": "execute_result"
    }
   ],
   "source": [
    "raw_df.groupby('feature_13')['market_price'].agg([\n",
    "    'mean', 'count', 'median', 'std'\n",
    "]).query('count > 500').sort_values(by='count', ascending=False)"
   ]
  },
  {
   "cell_type": "code",
   "execution_count": 17,
   "metadata": {},
   "outputs": [
    {
     "data": {
      "text/plain": [
       "<AxesSubplot:>"
      ]
     },
     "execution_count": 17,
     "metadata": {},
     "output_type": "execute_result"
    },
    {
     "data": {
      "image/png": "[encoded data removed]",
      "text/plain": [
       "<Figure size 432x288 with 1 Axes>"
      ]
     },
     "metadata": {
      "needs_background": "light"
     },
     "output_type": "display_data"
    }
   ],
   "source": [
    "raw_df.groupby('feature_13')['market_price'].agg([\n",
    "    'mean', 'count', 'median', 'std'\n",
    "]).query('count > 500').sort_values(by='count', ascending=False)[\n",
    "    'median'].hist()"
   ]
  },
  {
   "cell_type": "code",
   "execution_count": 18,
   "metadata": {},
   "outputs": [
    {
     "data": {
      "text/plain": [
       "<AxesSubplot:ylabel='Density'>"
      ]
     },
     "execution_count": 18,
     "metadata": {},
     "output_type": "execute_result"
    },
    {
     "data": {
      "image/png": "[encoded data removed]",
      "text/plain": [
       "<Figure size 432x288 with 1 Axes>"
      ]
     },
     "metadata": {
      "needs_background": "light"
     },
     "output_type": "display_data"
    }
   ],
   "source": [
    "raw_df['market_price'].plot(kind='kde')"
   ]
  },
  {
   "cell_type": "code",
   "execution_count": 19,
   "metadata": {},
   "outputs": [],
   "source": [
    "top10 = raw_df['feature_13'].value_counts()[:10].index.values"
   ]
  },
  {
   "cell_type": "code",
   "execution_count": 20,
   "metadata": {},
   "outputs": [
    {
     "data": {
      "text/plain": [
       "<AxesSubplot:ylabel='Density'>"
      ]
     },
     "execution_count": 20,
     "metadata": {},
     "output_type": "execute_result"
    },
    {
     "data": {
      "image/png": "[encoded data removed]",
      "text/plain": [
       "<Figure size 432x288 with 1 Axes>"
      ]
     },
     "metadata": {
      "needs_background": "light"
     },
     "output_type": "display_data"
    }
   ],
   "source": [
    "raw_df[['feature_13', 'market_price']].query('feature_13 == 1410710')['market_price'].plot(kind='kde')"
   ]
  },
  {
   "cell_type": "code",
   "execution_count": 4,
   "metadata": {},
   "outputs": [],
   "source": [
    "from scipy.stats import gaussian_kde"
   ]
  },
  {
   "cell_type": "code",
   "execution_count": 5,
   "metadata": {},
   "outputs": [],
   "source": [
    "prices = raw_df[['feature_13', 'market_price']].query('feature_13 == 1410710')['market_price']\n",
    "kde = gaussian_kde(prices)"
   ]
  },
  {
   "cell_type": "code",
   "execution_count": 6,
   "metadata": {},
   "outputs": [],
   "source": [
    "x = np.linspace(0, 1000, 1000)\n",
    "actual_pdf = kde.pdf(x)\n",
    "actual_cdf = np.cumsum(actual_pdf)"
   ]
  },
  {
   "cell_type": "code",
   "execution_count": 7,
   "metadata": {},
   "outputs": [],
   "source": [
    "import matplotlib.pyplot as plt\n",
    "import japanize_matplotlib\n",
    "import scipy.stats"
   ]
  },
  {
   "cell_type": "code",
   "execution_count": 8,
   "metadata": {},
   "outputs": [],
   "source": [
    "def gen_dist(mean, median):\n",
    "    mu = np.log(median)\n",
    "    sigma = np.sqrt(2*(np.log(mean) - mu))\n",
    "    print(f'mu: {mu}, sigma: {sigma}')\n",
    "    return scipy.stats.lognorm(sigma, 0, median)"
   ]
  },
  {
   "cell_type": "code",
   "execution_count": 9,
   "metadata": {},
   "outputs": [
    {
     "name": "stdout",
     "output_type": "stream",
     "text": [
      "mu: 3.6375861597263857, sigma: 1.0165213781262663\n"
     ]
    }
   ],
   "source": [
    "approximated_dist = gen_dist(np.mean(prices), np.median(prices))"
   ]
  },
  {
   "cell_type": "code",
   "execution_count": 24,
   "metadata": {},
   "outputs": [
    {
     "data": {
      "image/png": "[encoded data removed]",
      "text/plain": [
       "<Figure size 648x288 with 2 Axes>"
      ]
     },
     "metadata": {
      "needs_background": "light"
     },
     "output_type": "display_data"
    }
   ],
   "source": [
    "fig, axs = plt.subplots(1, 2, figsize=(9, 4))\n",
    "ax1 = axs[0]\n",
    "ax1.plot(x, actual_pdf, label='実績')\n",
    "ax1.set_xlabel('市場価格')\n",
    "ax1.set_ylabel('確率密度')\n",
    "ax1.set_xlim(-20, 700)\n",
    "ax1.grid(True)\n",
    "ax1.set_title('市場価格の分布')\n",
    "ax2 = axs[1]\n",
    "ax2.plot(x, actual_cdf, label='実績')\n",
    "ax2.set_xlabel('入札金額')\n",
    "ax2.set_ylabel('累積分布(勝率)')\n",
    "ax2.set_title('入札金額に対応する勝率')\n",
    "ax2.grid(True)\n",
    "ax2.set_xlim(-20, 700)\n",
    "plt.subplots_adjust(wspace=0.25)\n",
    "fig.savefig(\"./market_price_1.png\", format='png', facecolor='white', transparent=False, dpi=300)"
   ]
  },
  {
   "cell_type": "code",
   "execution_count": 23,
   "metadata": {},
   "outputs": [
    {
     "data": {
      "image/png": "[encoded data removed]",
      "text/plain": [
       "<Figure size 648x288 with 2 Axes>"
      ]
     },
     "metadata": {
      "needs_background": "light"
     },
     "output_type": "display_data"
    }
   ],
   "source": [
    "fig, axs = plt.subplots(1, 2, figsize=(9, 4))\n",
    "ax1 = axs[0]\n",
    "ax1.plot(x, actual_pdf, label='実績')\n",
    "ax1.plot(x, approximated_dist.pdf(x), linestyle='dashed', label='近似')\n",
    "ax1.legend(loc='best')\n",
    "ax1.set_xlabel('市場価格')\n",
    "ax1.set_ylabel('確率密度')\n",
    "ax1.set_xlim(-20, 700)\n",
    "ax1.grid(True)\n",
    "ax1.set_title('市場価格の分布')\n",
    "ax2 = axs[1]\n",
    "ax2.plot(x, actual_cdf, label='実績')\n",
    "ax2.plot(x, approximated_dist.cdf(x), linestyle='dashed', label='推定')\n",
    "ax2.legend(loc='best')\n",
    "ax2.set_xlabel('入札金額')\n",
    "ax2.set_ylabel('累積分布(勝率)')\n",
    "ax2.set_title('入札金額に対応する勝率')\n",
    "ax2.grid(True)\n",
    "ax2.set_xlim(-20, 700)\n",
    "plt.subplots_adjust(wspace=0.25)\n",
    "fig.savefig(\"./market_price_actual.png\", format='png', facecolor='white', transparent=False, dpi=300)"
   ]
  },
  {
   "cell_type": "code",
   "execution_count": 12,
   "metadata": {},
   "outputs": [
    {
     "name": "stdout",
     "output_type": "stream",
     "text": [
      "63.7037872841057\n",
      "38.0\n"
     ]
    }
   ],
   "source": [
    "print(np.mean(prices))\n",
    "print(np.median(prices))"
   ]
  },
  {
   "cell_type": "code",
   "execution_count": 13,
   "metadata": {},
   "outputs": [],
   "source": [
    "v = (400 - x)"
   ]
  },
  {
   "cell_type": "code",
   "execution_count": 14,
   "metadata": {},
   "outputs": [],
   "source": [
    "win_rate = approximated_dist.cdf(x)"
   ]
  },
  {
   "cell_type": "code",
   "execution_count": 15,
   "metadata": {},
   "outputs": [
    {
     "name": "stdout",
     "output_type": "stream",
     "text": [
      "Object `ax2.set_hlines` not found.\n"
     ]
    }
   ],
   "source": [
    "ax2.set_hlines?\n"
   ]
  },
  {
   "cell_type": "code",
   "execution_count": 22,
   "metadata": {},
   "outputs": [
    {
     "data": {
      "image/png": "[encoded data removed]",
      "text/plain": [
       "<Figure size 648x288 with 2 Axes>"
      ]
     },
     "metadata": {
      "needs_background": "light"
     },
     "output_type": "display_data"
    }
   ],
   "source": [
    "fig, axs = plt.subplots(1, 2, figsize=(9, 4))\n",
    "ax1 = axs[0]\n",
    "ax1.plot(x, approximated_dist.cdf(x))\n",
    "ax1.set_xlabel('入札金額')\n",
    "ax1.set_title('入札金額に対応する勝率')\n",
    "ax2.set_xticks([0, 100, 200, 300])\n",
    "ax1.grid(True)\n",
    "ax1.set_ylabel('勝率')\n",
    "ax1.set_xlim(-20, 700)\n",
    "ax2 = axs[1]\n",
    "ax2.plot(x, (400 - x) * approximated_dist.cdf(x))\n",
    "ax2.set_xlabel('入札金額')\n",
    "ax2.set_ylabel('期待効用')\n",
    "ax2.set_title('入札金額に対応する期待効用')\n",
    "ax2.set_yticks([0, 100, 200, 300])\n",
    "ax2.grid(True)\n",
    "ax2.set_xlim(-20, 500)\n",
    "ax2.set_ylim(-100, 400)\n",
    "plt.subplots_adjust(wspace=0.25)\n",
    "fig.savefig(\"./expected_utility.png\", format='png', facecolor='white', transparent=False, dpi=300)"
   ]
  },
  {
   "cell_type": "code",
   "execution_count": 17,
   "metadata": {},
   "outputs": [
    {
     "data": {
      "text/plain": [
       "(-100.0, 300.0)"
      ]
     },
     "execution_count": 17,
     "metadata": {},
     "output_type": "execute_result"
    },
    {
     "data": {
      "image/png": "[encoded data removed]",
      "text/plain": [
       "<Figure size 432x288 with 1 Axes>"
      ]
     },
     "metadata": {
      "needs_background": "light"
     },
     "output_type": "display_data"
    }
   ],
   "source": [
    "plt.plot(x, v*win_rate)\n",
    "plt.xlim(-20, 500)\n",
    "plt.ylim(-100, 300)\n"
   ]
  },
  {
   "cell_type": "code",
   "execution_count": null,
   "metadata": {},
   "outputs": [],
   "source": []
  },
  {
   "cell_type": "code",
   "execution_count": null,
   "metadata": {},
   "outputs": [],
   "source": []
  },
  {
   "cell_type": "code",
   "execution_count": null,
   "metadata": {},
   "outputs": [],
   "source": []
  },
  {
   "cell_type": "code",
   "execution_count": null,
   "metadata": {},
   "outputs": [],
   "source": []
  }
 ],
 "metadata": {
  "environment": {
   "name": "tf2-gpu.2-4.m61",
   "type": "gcloud",
   "uri": "gcr.io/deeplearning-platform-release/tf2-gpu.2-4:m61"
  },
  "kernelspec": {
   "display_name": "Python 3",
   "language": "python",
   "name": "python3"
  },
  "language_info": {
   "codemirror_mode": {
    "name": "ipython",
    "version": 3
   },
   "file_extension": ".py",
   "mimetype": "text/x-python",
   "name": "python",
   "nbconvert_exporter": "python",
   "pygments_lexer": "ipython3",
   "version": "3.7.9"
  }
 },
 "nbformat": 4,
 "nbformat_minor": 4
}
