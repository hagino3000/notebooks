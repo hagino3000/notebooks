{
 "cells": [
  {
   "cell_type": "markdown",
   "metadata": {
    "deletable": true,
    "editable": true
   },
   "source": [
    "# Splatoonのブキの強さ推定\n",
    "\n",
    "Date: 2017-03-10  \n",
    "Author: hagino3000\n",
    "\n",
    "Bradley-Terryモデルでブキの強さを推定する\n",
    "\n",
    "## 素性\n",
    "\n",
    "- チーム間の各ブキの人数の差\n",
    "- エリアバトルに限定する\n"
   ]
  },
  {
   "cell_type": "code",
   "execution_count": 4,
   "metadata": {
    "collapsed": true,
    "deletable": true,
    "editable": true
   },
   "outputs": [],
   "source": [
    "import tqdm"
   ]
  },
  {
   "cell_type": "code",
   "execution_count": 5,
   "metadata": {
    "collapsed": true,
    "deletable": true,
    "editable": true
   },
   "outputs": [],
   "source": [
    "datapath = '/Users/tnishibayashi/dev/workspace/ika-mining/data/battles_20160517.tsv'"
   ]
  },
  {
   "cell_type": "code",
   "execution_count": 6,
   "metadata": {
    "collapsed": false,
    "deletable": true,
    "editable": true
   },
   "outputs": [],
   "source": [
    "df = pd.read_csv(datapath, sep='\\t', index_col='id', usecols=[\n",
    "        'id', 'is_win', 'rule_name',\n",
    "        'friend1_weapon',\n",
    "        'friend2_weapon',\n",
    "        'friend3_weapon',\n",
    "        'friend4_weapon',\n",
    "        'enemy1_weapon',\n",
    "        'enemy2_weapon',\n",
    "        'enemy3_weapon',\n",
    "        'enemy4_weapon',\n",
    "    ])"
   ]
  },
  {
   "cell_type": "code",
   "execution_count": 18,
   "metadata": {
    "collapsed": false,
    "deletable": true,
    "editable": true
   },
   "outputs": [
    {
     "data": {
      "text/html": [
       "<div>\n",
       "<table border=\"1\" class=\"dataframe\">\n",
       "  <thead>\n",
       "    <tr style=\"text-align: right;\">\n",
       "      <th></th>\n",
       "      <th>rule_name</th>\n",
       "      <th>is_win</th>\n",
       "      <th>friend1_weapon</th>\n",
       "      <th>friend2_weapon</th>\n",
       "      <th>friend3_weapon</th>\n",
       "      <th>friend4_weapon</th>\n",
       "      <th>enemy1_weapon</th>\n",
       "      <th>enemy2_weapon</th>\n",
       "      <th>enemy3_weapon</th>\n",
       "      <th>enemy4_weapon</th>\n",
       "    </tr>\n",
       "    <tr>\n",
       "      <th>id</th>\n",
       "      <th></th>\n",
       "      <th></th>\n",
       "      <th></th>\n",
       "      <th></th>\n",
       "      <th></th>\n",
       "      <th></th>\n",
       "      <th></th>\n",
       "      <th></th>\n",
       "      <th></th>\n",
       "      <th></th>\n",
       "    </tr>\n",
       "  </thead>\n",
       "  <tbody>\n",
       "    <tr>\n",
       "      <th>500000</th>\n",
       "      <td>area</td>\n",
       "      <td>0</td>\n",
       "      <td>wakaba</td>\n",
       "      <td>wakaba</td>\n",
       "      <td>52gal</td>\n",
       "      <td>dynamo</td>\n",
       "      <td>barrelspinner_deco</td>\n",
       "      <td>dynamo</td>\n",
       "      <td>rapid</td>\n",
       "      <td>carbon</td>\n",
       "    </tr>\n",
       "    <tr>\n",
       "      <th>500002</th>\n",
       "      <td>area</td>\n",
       "      <td>1</td>\n",
       "      <td>sshooter_collabo</td>\n",
       "      <td>96gal_deco</td>\n",
       "      <td>barrelspinner</td>\n",
       "      <td>dynamo</td>\n",
       "      <td>splatspinner_collabo</td>\n",
       "      <td>wakaba</td>\n",
       "      <td>splatcharger_wakame</td>\n",
       "      <td>wakaba</td>\n",
       "    </tr>\n",
       "    <tr>\n",
       "      <th>500003</th>\n",
       "      <td>area</td>\n",
       "      <td>1</td>\n",
       "      <td>wakaba</td>\n",
       "      <td>hissen</td>\n",
       "      <td>hydra_custom</td>\n",
       "      <td>96gal_deco</td>\n",
       "      <td>octoshooter_replica</td>\n",
       "      <td>jetsweeper_custom</td>\n",
       "      <td>bucketslosher_deco</td>\n",
       "      <td>splatscope</td>\n",
       "    </tr>\n",
       "    <tr>\n",
       "      <th>500007</th>\n",
       "      <td>area</td>\n",
       "      <td>1</td>\n",
       "      <td>sshooter_collabo</td>\n",
       "      <td>wakaba</td>\n",
       "      <td>splatscope</td>\n",
       "      <td>52gal</td>\n",
       "      <td>splatscope</td>\n",
       "      <td>sshooter_collabo</td>\n",
       "      <td>pablo</td>\n",
       "      <td>liter3k_scope</td>\n",
       "    </tr>\n",
       "    <tr>\n",
       "      <th>500008</th>\n",
       "      <td>area</td>\n",
       "      <td>0</td>\n",
       "      <td>wakaba</td>\n",
       "      <td>52gal</td>\n",
       "      <td>sshooter_collabo</td>\n",
       "      <td>sshooter_collabo</td>\n",
       "      <td>96gal</td>\n",
       "      <td>octoshooter_replica</td>\n",
       "      <td>splatscope</td>\n",
       "      <td>octoshooter_replica</td>\n",
       "    </tr>\n",
       "  </tbody>\n",
       "</table>\n",
       "</div>"
      ],
      "text/plain": [
       "       rule_name  is_win    friend1_weapon friend2_weapon    friend3_weapon  \\\n",
       "id                                                                            \n",
       "500000      area       0            wakaba         wakaba             52gal   \n",
       "500002      area       1  sshooter_collabo     96gal_deco     barrelspinner   \n",
       "500003      area       1            wakaba         hissen      hydra_custom   \n",
       "500007      area       1  sshooter_collabo         wakaba        splatscope   \n",
       "500008      area       0            wakaba          52gal  sshooter_collabo   \n",
       "\n",
       "          friend4_weapon         enemy1_weapon        enemy2_weapon  \\\n",
       "id                                                                    \n",
       "500000            dynamo    barrelspinner_deco               dynamo   \n",
       "500002            dynamo  splatspinner_collabo               wakaba   \n",
       "500003        96gal_deco   octoshooter_replica    jetsweeper_custom   \n",
       "500007             52gal            splatscope     sshooter_collabo   \n",
       "500008  sshooter_collabo                 96gal  octoshooter_replica   \n",
       "\n",
       "              enemy3_weapon        enemy4_weapon  \n",
       "id                                                \n",
       "500000                rapid               carbon  \n",
       "500002  splatcharger_wakame               wakaba  \n",
       "500003   bucketslosher_deco           splatscope  \n",
       "500007                pablo        liter3k_scope  \n",
       "500008           splatscope  octoshooter_replica  "
      ]
     },
     "execution_count": 18,
     "metadata": {},
     "output_type": "execute_result"
    }
   ],
   "source": [
    "df.head()"
   ]
  },
  {
   "cell_type": "code",
   "execution_count": 17,
   "metadata": {
    "collapsed": false,
    "deletable": true,
    "editable": true
   },
   "outputs": [
    {
     "data": {
      "text/plain": [
       "rule_name\n",
       "area        144084\n",
       "hoko         63282\n",
       "nawabari    119547\n",
       "yagura       73984\n",
       "Name: is_win, dtype: int64"
      ]
     },
     "execution_count": 17,
     "metadata": {},
     "output_type": "execute_result"
    }
   ],
   "source": [
    "df.groupby('rule_name').count().is_win"
   ]
  },
  {
   "cell_type": "code",
   "execution_count": 21,
   "metadata": {
    "collapsed": true,
    "deletable": true,
    "editable": true
   },
   "outputs": [],
   "source": [
    "# エリアバトルに限定する\n",
    "df = df.query('rule_name == \"area\"')"
   ]
  },
  {
   "cell_type": "code",
   "execution_count": 22,
   "metadata": {
    "collapsed": false,
    "deletable": true,
    "editable": true
   },
   "outputs": [
    {
     "data": {
      "text/html": [
       "<div>\n",
       "<table border=\"1\" class=\"dataframe\">\n",
       "  <thead>\n",
       "    <tr style=\"text-align: right;\">\n",
       "      <th></th>\n",
       "      <th>is_win</th>\n",
       "    </tr>\n",
       "  </thead>\n",
       "  <tbody>\n",
       "    <tr>\n",
       "      <th>count</th>\n",
       "      <td>144084.000000</td>\n",
       "    </tr>\n",
       "    <tr>\n",
       "      <th>mean</th>\n",
       "      <td>0.554593</td>\n",
       "    </tr>\n",
       "    <tr>\n",
       "      <th>std</th>\n",
       "      <td>0.497012</td>\n",
       "    </tr>\n",
       "    <tr>\n",
       "      <th>min</th>\n",
       "      <td>0.000000</td>\n",
       "    </tr>\n",
       "    <tr>\n",
       "      <th>25%</th>\n",
       "      <td>0.000000</td>\n",
       "    </tr>\n",
       "    <tr>\n",
       "      <th>50%</th>\n",
       "      <td>1.000000</td>\n",
       "    </tr>\n",
       "    <tr>\n",
       "      <th>75%</th>\n",
       "      <td>1.000000</td>\n",
       "    </tr>\n",
       "    <tr>\n",
       "      <th>max</th>\n",
       "      <td>1.000000</td>\n",
       "    </tr>\n",
       "  </tbody>\n",
       "</table>\n",
       "</div>"
      ],
      "text/plain": [
       "              is_win\n",
       "count  144084.000000\n",
       "mean        0.554593\n",
       "std         0.497012\n",
       "min         0.000000\n",
       "25%         0.000000\n",
       "50%         1.000000\n",
       "75%         1.000000\n",
       "max         1.000000"
      ]
     },
     "execution_count": 22,
     "metadata": {},
     "output_type": "execute_result"
    }
   ],
   "source": [
    "df.describe()"
   ]
  },
  {
   "cell_type": "markdown",
   "metadata": {
    "deletable": true,
    "editable": true
   },
   "source": [
    "## 前処理\n",
    "\n",
    "対戦毎に、各ブキ使用人数をカウント"
   ]
  },
  {
   "cell_type": "code",
   "execution_count": 27,
   "metadata": {
    "collapsed": true,
    "deletable": true,
    "editable": true
   },
   "outputs": [],
   "source": [
    "buki_names = df.friend2_weapon.unique()"
   ]
  },
  {
   "cell_type": "code",
   "execution_count": 28,
   "metadata": {
    "collapsed": false,
    "deletable": true,
    "editable": true
   },
   "outputs": [
    {
     "data": {
      "text/plain": [
       "array(['wakaba', '96gal_deco', 'hissen', '52gal', 'longblaster_custom',\n",
       "       'liter3k_scope', 'barrelspinner', 'sshooter_collabo', 'prime',\n",
       "       '96gal', 'splatscope_wakame', 'hotblaster_custom', 'rapid',\n",
       "       'liter3k', 'bamboo14mk1', 'splatcharger', 'dualsweeper',\n",
       "       'barrelspinner_deco', 'octoshooter_replica', 'nova_neo', 'nzap85',\n",
       "       'splatscope', 'bold_neo', 'nzap89', 'splatroller_collabo',\n",
       "       'screwslosher', 'splatspinner_collabo', 'jetsweeper_custom',\n",
       "       'promodeler_rg', 'dynamo', 'splatcharger_wakame',\n",
       "       'liter3k_scope_custom', 'carbon', '52gal_deco', 'squiclean_a',\n",
       "       'rapid_deco', 'dualsweeper_custom', 'jetsweeper', 'carbon_deco',\n",
       "       'dynamo_tesla', 'bucketslosher', 'rapid_elite_deco', 'sharp',\n",
       "       'nova', 'sharp_neo', 'promodeler_mg', 'bucketslosher_deco',\n",
       "       'splatroller', 'hokusai', 'hydra_custom', 'heroroller_replica',\n",
       "       'l3reelgun_d', 'hotblaster', 'prime_collabo', 'l3reelgun',\n",
       "       'screwslosher_neo', 'hissen_hue', 'heroshooter_replica', 'sshooter',\n",
       "       'liter3k_custom', 'pablo_hue', 'bold', 'hokusai_hue', 'hydra',\n",
       "       'squiclean_b', 'h3reelgun', 'longblaster', 'herocharger_replica',\n",
       "       'bamboo14mk2', 'pablo', 'rapid_elite', 'momiji', 'h3reelgun_d',\n",
       "       'splatspinner', 'sshooter_wasabi', 'prime_berry', 'squiclean_g',\n",
       "       'splatspinner_repair', 'bucketslosher_soda', 'dynamo_burned',\n",
       "       'bamboo14mk3', 'pablo_permanent'], dtype=object)"
      ]
     },
     "execution_count": 28,
     "metadata": {},
     "output_type": "execute_result"
    }
   ],
   "source": [
    "buki_names"
   ]
  },
  {
   "cell_type": "code",
   "execution_count": 18,
   "metadata": {
    "collapsed": true,
    "deletable": true,
    "editable": true
   },
   "outputs": [],
   "source": [
    "def count_buki(team, buki):\n",
    "    def fn(df):\n",
    "        count = 0\n",
    "        for i in range(1, 5):\n",
    "            count += 1 if df['{0}{1}_weapon'.format(team, i)] == buki else 0\n",
    "        return count\n",
    "    return fn"
   ]
  },
  {
   "cell_type": "code",
   "execution_count": 19,
   "metadata": {
    "collapsed": false,
    "deletable": true,
    "editable": true
   },
   "outputs": [
    {
     "name": "stderr",
     "output_type": "stream",
     "text": [
      "100%|██████████| 82/82 [29:57<00:00, 23.01s/it]\n"
     ]
    }
   ],
   "source": [
    "for buki in tqdm.tqdm(buki_names):\n",
    "    df['friend_{0}_num'.format(buki)] = df.apply(count_buki('friend', buki), axis=1)\n",
    "    df['enemy_{0}_num'.format(buki)] = df.apply(count_buki('enemy', buki), axis=1)\n",
    "    df['{0}_diff'.format(buki)] = df['friend_{0}_num'.format(buki)] - df['enemy_{0}_num'.format(buki)]"
   ]
  },
  {
   "cell_type": "code",
   "execution_count": 37,
   "metadata": {
    "collapsed": true,
    "deletable": true,
    "editable": true
   },
   "outputs": [],
   "source": [
    "#df.to_pickle('./df_buki_area_only.pickle')"
   ]
  },
  {
   "cell_type": "code",
   "execution_count": 24,
   "metadata": {
    "collapsed": true,
    "deletable": true,
    "editable": true
   },
   "outputs": [],
   "source": [
    "df = pd.read_pickle('./df_buki_area_only.pickle')"
   ]
  },
  {
   "cell_type": "code",
   "execution_count": 29,
   "metadata": {
    "collapsed": false,
    "deletable": true,
    "editable": true
   },
   "outputs": [],
   "source": [
    "y_train = df.is_win\n",
    "X_train = df[['{0}_diff'.format(buki) for buki in buki_names]]"
   ]
  },
  {
   "cell_type": "code",
   "execution_count": 30,
   "metadata": {
    "collapsed": false,
    "deletable": true,
    "editable": true
   },
   "outputs": [
    {
     "data": {
      "text/html": [
       "<div>\n",
       "<table border=\"1\" class=\"dataframe\">\n",
       "  <thead>\n",
       "    <tr style=\"text-align: right;\">\n",
       "      <th></th>\n",
       "      <th>wakaba_diff</th>\n",
       "      <th>96gal_deco_diff</th>\n",
       "      <th>hissen_diff</th>\n",
       "      <th>52gal_diff</th>\n",
       "      <th>longblaster_custom_diff</th>\n",
       "      <th>liter3k_scope_diff</th>\n",
       "      <th>barrelspinner_diff</th>\n",
       "      <th>sshooter_collabo_diff</th>\n",
       "      <th>prime_diff</th>\n",
       "      <th>96gal_diff</th>\n",
       "      <th>...</th>\n",
       "      <th>h3reelgun_d_diff</th>\n",
       "      <th>splatspinner_diff</th>\n",
       "      <th>sshooter_wasabi_diff</th>\n",
       "      <th>prime_berry_diff</th>\n",
       "      <th>squiclean_g_diff</th>\n",
       "      <th>splatspinner_repair_diff</th>\n",
       "      <th>bucketslosher_soda_diff</th>\n",
       "      <th>dynamo_burned_diff</th>\n",
       "      <th>bamboo14mk3_diff</th>\n",
       "      <th>pablo_permanent_diff</th>\n",
       "    </tr>\n",
       "    <tr>\n",
       "      <th>id</th>\n",
       "      <th></th>\n",
       "      <th></th>\n",
       "      <th></th>\n",
       "      <th></th>\n",
       "      <th></th>\n",
       "      <th></th>\n",
       "      <th></th>\n",
       "      <th></th>\n",
       "      <th></th>\n",
       "      <th></th>\n",
       "      <th></th>\n",
       "      <th></th>\n",
       "      <th></th>\n",
       "      <th></th>\n",
       "      <th></th>\n",
       "      <th></th>\n",
       "      <th></th>\n",
       "      <th></th>\n",
       "      <th></th>\n",
       "      <th></th>\n",
       "      <th></th>\n",
       "    </tr>\n",
       "  </thead>\n",
       "  <tbody>\n",
       "    <tr>\n",
       "      <th>500000</th>\n",
       "      <td>2</td>\n",
       "      <td>0</td>\n",
       "      <td>0</td>\n",
       "      <td>1</td>\n",
       "      <td>0</td>\n",
       "      <td>0</td>\n",
       "      <td>0</td>\n",
       "      <td>0</td>\n",
       "      <td>0</td>\n",
       "      <td>0</td>\n",
       "      <td>...</td>\n",
       "      <td>0</td>\n",
       "      <td>0</td>\n",
       "      <td>0</td>\n",
       "      <td>0</td>\n",
       "      <td>0</td>\n",
       "      <td>0</td>\n",
       "      <td>0</td>\n",
       "      <td>0</td>\n",
       "      <td>0</td>\n",
       "      <td>0</td>\n",
       "    </tr>\n",
       "    <tr>\n",
       "      <th>500002</th>\n",
       "      <td>-2</td>\n",
       "      <td>1</td>\n",
       "      <td>0</td>\n",
       "      <td>0</td>\n",
       "      <td>0</td>\n",
       "      <td>0</td>\n",
       "      <td>1</td>\n",
       "      <td>1</td>\n",
       "      <td>0</td>\n",
       "      <td>0</td>\n",
       "      <td>...</td>\n",
       "      <td>0</td>\n",
       "      <td>0</td>\n",
       "      <td>0</td>\n",
       "      <td>0</td>\n",
       "      <td>0</td>\n",
       "      <td>0</td>\n",
       "      <td>0</td>\n",
       "      <td>0</td>\n",
       "      <td>0</td>\n",
       "      <td>0</td>\n",
       "    </tr>\n",
       "    <tr>\n",
       "      <th>500003</th>\n",
       "      <td>1</td>\n",
       "      <td>1</td>\n",
       "      <td>1</td>\n",
       "      <td>0</td>\n",
       "      <td>0</td>\n",
       "      <td>0</td>\n",
       "      <td>0</td>\n",
       "      <td>0</td>\n",
       "      <td>0</td>\n",
       "      <td>0</td>\n",
       "      <td>...</td>\n",
       "      <td>0</td>\n",
       "      <td>0</td>\n",
       "      <td>0</td>\n",
       "      <td>0</td>\n",
       "      <td>0</td>\n",
       "      <td>0</td>\n",
       "      <td>0</td>\n",
       "      <td>0</td>\n",
       "      <td>0</td>\n",
       "      <td>0</td>\n",
       "    </tr>\n",
       "    <tr>\n",
       "      <th>500007</th>\n",
       "      <td>1</td>\n",
       "      <td>0</td>\n",
       "      <td>0</td>\n",
       "      <td>1</td>\n",
       "      <td>0</td>\n",
       "      <td>-1</td>\n",
       "      <td>0</td>\n",
       "      <td>0</td>\n",
       "      <td>0</td>\n",
       "      <td>0</td>\n",
       "      <td>...</td>\n",
       "      <td>0</td>\n",
       "      <td>0</td>\n",
       "      <td>0</td>\n",
       "      <td>0</td>\n",
       "      <td>0</td>\n",
       "      <td>0</td>\n",
       "      <td>0</td>\n",
       "      <td>0</td>\n",
       "      <td>0</td>\n",
       "      <td>0</td>\n",
       "    </tr>\n",
       "    <tr>\n",
       "      <th>500008</th>\n",
       "      <td>1</td>\n",
       "      <td>0</td>\n",
       "      <td>0</td>\n",
       "      <td>1</td>\n",
       "      <td>0</td>\n",
       "      <td>0</td>\n",
       "      <td>0</td>\n",
       "      <td>2</td>\n",
       "      <td>0</td>\n",
       "      <td>-1</td>\n",
       "      <td>...</td>\n",
       "      <td>0</td>\n",
       "      <td>0</td>\n",
       "      <td>0</td>\n",
       "      <td>0</td>\n",
       "      <td>0</td>\n",
       "      <td>0</td>\n",
       "      <td>0</td>\n",
       "      <td>0</td>\n",
       "      <td>0</td>\n",
       "      <td>0</td>\n",
       "    </tr>\n",
       "  </tbody>\n",
       "</table>\n",
       "<p>5 rows × 82 columns</p>\n",
       "</div>"
      ],
      "text/plain": [
       "        wakaba_diff  96gal_deco_diff  hissen_diff  52gal_diff  \\\n",
       "id                                                              \n",
       "500000            2                0            0           1   \n",
       "500002           -2                1            0           0   \n",
       "500003            1                1            1           0   \n",
       "500007            1                0            0           1   \n",
       "500008            1                0            0           1   \n",
       "\n",
       "        longblaster_custom_diff  liter3k_scope_diff  barrelspinner_diff  \\\n",
       "id                                                                        \n",
       "500000                        0                   0                   0   \n",
       "500002                        0                   0                   1   \n",
       "500003                        0                   0                   0   \n",
       "500007                        0                  -1                   0   \n",
       "500008                        0                   0                   0   \n",
       "\n",
       "        sshooter_collabo_diff  prime_diff  96gal_diff          ...           \\\n",
       "id                                                             ...            \n",
       "500000                      0           0           0          ...            \n",
       "500002                      1           0           0          ...            \n",
       "500003                      0           0           0          ...            \n",
       "500007                      0           0           0          ...            \n",
       "500008                      2           0          -1          ...            \n",
       "\n",
       "        h3reelgun_d_diff  splatspinner_diff  sshooter_wasabi_diff  \\\n",
       "id                                                                  \n",
       "500000                 0                  0                     0   \n",
       "500002                 0                  0                     0   \n",
       "500003                 0                  0                     0   \n",
       "500007                 0                  0                     0   \n",
       "500008                 0                  0                     0   \n",
       "\n",
       "        prime_berry_diff  squiclean_g_diff  splatspinner_repair_diff  \\\n",
       "id                                                                     \n",
       "500000                 0                 0                         0   \n",
       "500002                 0                 0                         0   \n",
       "500003                 0                 0                         0   \n",
       "500007                 0                 0                         0   \n",
       "500008                 0                 0                         0   \n",
       "\n",
       "        bucketslosher_soda_diff  dynamo_burned_diff  bamboo14mk3_diff  \\\n",
       "id                                                                      \n",
       "500000                        0                   0                 0   \n",
       "500002                        0                   0                 0   \n",
       "500003                        0                   0                 0   \n",
       "500007                        0                   0                 0   \n",
       "500008                        0                   0                 0   \n",
       "\n",
       "        pablo_permanent_diff  \n",
       "id                            \n",
       "500000                     0  \n",
       "500002                     0  \n",
       "500003                     0  \n",
       "500007                     0  \n",
       "500008                     0  \n",
       "\n",
       "[5 rows x 82 columns]"
      ]
     },
     "execution_count": 30,
     "metadata": {},
     "output_type": "execute_result"
    }
   ],
   "source": [
    "X_train.head()"
   ]
  },
  {
   "cell_type": "markdown",
   "metadata": {
    "deletable": true,
    "editable": true
   },
   "source": [
    "## 学習"
   ]
  },
  {
   "cell_type": "code",
   "execution_count": 34,
   "metadata": {
    "collapsed": false,
    "deletable": true,
    "editable": true
   },
   "outputs": [],
   "source": [
    "from sklearn.cross_validation import train_test_split, cross_val_score, KFold\n",
    "from sklearn.linear_model import LogisticRegression"
   ]
  },
  {
   "cell_type": "markdown",
   "metadata": {
    "deletable": true,
    "editable": true
   },
   "source": [
    "ためしに適当なパラメータで"
   ]
  },
  {
   "cell_type": "code",
   "execution_count": 35,
   "metadata": {
    "collapsed": true,
    "deletable": true,
    "editable": true
   },
   "outputs": [],
   "source": [
    "def cross_val(X, y, K, random_state=0, clf=None):\n",
    "    cv = KFold(len(y), K, shuffle=True, random_state=random_state)\n",
    "    scores = cross_val_score(clf, X, y, cv=cv)\n",
    "    print('Mean Score: {0:.3f} (+/-{1:.3f})'.format(scores.mean(), scores.std()*2))\n",
    "    return scores"
   ]
  },
  {
   "cell_type": "code",
   "execution_count": 36,
   "metadata": {
    "collapsed": false,
    "deletable": true,
    "editable": true
   },
   "outputs": [
    {
     "name": "stdout",
     "output_type": "stream",
     "text": [
      "Logistic Regression\n",
      "Mean Score: 0.569 (+/-0.009)\n"
     ]
    },
    {
     "data": {
      "text/plain": [
       "array([ 0.57290582,  0.56249566,  0.56589631,  0.57304462,  0.57003054,\n",
       "        0.57232093,  0.56454747,  0.5742643 ,  0.56343698,  0.57322321])"
      ]
     },
     "execution_count": 36,
     "metadata": {},
     "output_type": "execute_result"
    }
   ],
   "source": [
    "print(\"Logistic Regression\")\n",
    "# 切片項ナシ\n",
    "cross_val(X_train, y_train, 10, clf=LogisticRegression(penalty='l2', fit_intercept=False))"
   ]
  },
  {
   "cell_type": "code",
   "execution_count": 37,
   "metadata": {
    "collapsed": false,
    "deletable": true,
    "editable": true
   },
   "outputs": [
    {
     "name": "stdout",
     "output_type": "stream",
     "text": [
      "Logistic Regression\n",
      "Mean Score: 0.580 (+/-0.009)\n"
     ]
    },
    {
     "data": {
      "text/plain": [
       "array([ 0.5841488 ,  0.5716566 ,  0.57901312,  0.58623083,  0.58189895,\n",
       "        0.58453637,  0.57537479,  0.58058023,  0.57690172,  0.58460577])"
      ]
     },
     "execution_count": 37,
     "metadata": {},
     "output_type": "execute_result"
    }
   ],
   "source": [
    "print(\"Logistic Regression\")\n",
    "# 切片項アリ\n",
    "cross_val(X_train, y_train, 10, clf=LogisticRegression(penalty='l2', fit_intercept=True))"
   ]
  },
  {
   "cell_type": "code",
   "execution_count": 38,
   "metadata": {
    "collapsed": true,
    "deletable": true,
    "editable": true
   },
   "outputs": [],
   "source": [
    "def plot_confusion_matrix(cm):\n",
    "    fig, ax = plt.subplots()\n",
    "    im = ax.imshow(cm, interpolation='nearest', cmap=plt.cm.Blues)\n",
    "    ax.set_title('Confusion Matrix')\n",
    "    fig.colorbar(im)\n",
    "\n",
    "    target_names = ['lose', 'win']\n",
    "\n",
    "    tick_marks = np.arange(len(target_names))\n",
    "    ax.set_xticks(tick_marks)\n",
    "    ax.set_xticklabels(target_names, rotation=45)\n",
    "    ax.set_yticks(tick_marks)\n",
    "    ax.set_yticklabels(target_names)\n",
    "    ax.set_ylabel('True label')\n",
    "    ax.set_xlabel('Predicted label')\n",
    "    fig.tight_layout()"
   ]
  },
  {
   "cell_type": "code",
   "execution_count": 41,
   "metadata": {
    "collapsed": true,
    "deletable": true,
    "editable": true
   },
   "outputs": [],
   "source": [
    "def calc_classifier(X_train, y_train):\n",
    "    X_train, X_val, y_train, y_val = train_test_split(X_train, y_train, train_size=0.90, random_state=13)\n",
    "    print('Num of Training Samples: {}'.format(len(X_train)))\n",
    "    print('Num of Validation Samples: {}'.format(len(X_val)))\n",
    "    clf = LogisticRegression(penalty='l2',  fit_intercept=True).fit(X_train, y_train)\n",
    "    y_train_pred = clf.predict(X_train)\n",
    "    y_val_pred = clf.predict(X_val)\n",
    "    print('Accuracy on Training Set: {:.3f}'.format(accuracy_score(y_train, y_train_pred)))\n",
    "    print('Accuracy on Validation Set: {:.3f}'.format(accuracy_score(y_val, y_val_pred)))\n",
    "    return clf"
   ]
  },
  {
   "cell_type": "code",
   "execution_count": 42,
   "metadata": {
    "collapsed": false,
    "deletable": true,
    "editable": true
   },
   "outputs": [
    {
     "name": "stdout",
     "output_type": "stream",
     "text": [
      "Num of Training Samples: 129675\n",
      "Num of Validation Samples: 14409\n",
      "Accuracy on Training Set: 0.580\n",
      "Accuracy on Validation Set: 0.588\n"
     ]
    }
   ],
   "source": [
    "clf = calc_classifier(X_train, y_train)"
   ]
  },
  {
   "cell_type": "code",
   "execution_count": 43,
   "metadata": {
    "collapsed": false,
    "deletable": true,
    "editable": true
   },
   "outputs": [
    {
     "data": {
      "text/plain": [
       "array([ 0.20306183])"
      ]
     },
     "execution_count": 43,
     "metadata": {},
     "output_type": "execute_result"
    }
   ],
   "source": [
    "clf.intercept_"
   ]
  },
  {
   "cell_type": "code",
   "execution_count": 44,
   "metadata": {
    "collapsed": false,
    "deletable": true,
    "editable": true
   },
   "outputs": [
    {
     "data": {
      "text/plain": [
       "array([[ 0.18018242,  0.25142752,  0.00592982,  0.03783039,  0.24603016,\n",
       "         0.05508258,  0.11093777,  0.14554919,  0.01314596,  0.09819135,\n",
       "         0.10638543,  0.20948723,  0.17261688, -0.2941865 , -0.05508368,\n",
       "        -0.10772989,  0.00418737,  0.23292959,  0.17393033,  0.16643551,\n",
       "        -0.06187636,  0.05629517, -0.02721749,  0.0023595 ,  0.09694812,\n",
       "         0.12409824,  0.31845461,  0.08823171, -0.0568244 ,  0.39630291,\n",
       "        -0.00635362,  0.12740184, -0.03373788, -0.02041767, -0.15994799,\n",
       "         0.18436529, -0.00362864, -0.14791132, -0.07706324,  0.18975996,\n",
       "         0.0206101 , -0.2627034 ,  0.07078551, -0.00653488,  0.01478794,\n",
       "        -0.1378751 ,  0.09493076, -0.12964205,  0.05042128,  0.12509522,\n",
       "        -0.17079448,  0.24331676, -0.24836649,  0.03662587, -0.08372524,\n",
       "         0.0293295 , -0.13055083, -0.00711717, -0.06226956, -0.07387833,\n",
       "        -0.10098862, -0.14831846, -0.16860983, -0.32409888, -0.12319601,\n",
       "        -0.03680876, -0.33043251, -0.0762858 , -0.1820957 , -0.18578209,\n",
       "        -0.16346695, -0.31473479, -0.15781817,  0.11290623,  0.07534586,\n",
       "         0.0635775 , -0.05164777,  0.036979  , -0.04041205,  0.15467796,\n",
       "        -0.10587336, -0.04788038]])"
      ]
     },
     "execution_count": 44,
     "metadata": {},
     "output_type": "execute_result"
    }
   ],
   "source": [
    "# ブキ毎のweight (= 強さ)\n",
    "clf.coef_"
   ]
  },
  {
   "cell_type": "code",
   "execution_count": 45,
   "metadata": {
    "collapsed": true,
    "deletable": true,
    "editable": true
   },
   "outputs": [],
   "source": [
    "buki_result_df = pd.DataFrame({'buki':buki_names, 'weight':clf.coef_[0]})"
   ]
  },
  {
   "cell_type": "code",
   "execution_count": 47,
   "metadata": {
    "collapsed": false,
    "deletable": true,
    "editable": true
   },
   "outputs": [
    {
     "data": {
      "text/html": [
       "<div>\n",
       "<table border=\"1\" class=\"dataframe\">\n",
       "  <thead>\n",
       "    <tr style=\"text-align: right;\">\n",
       "      <th></th>\n",
       "      <th>buki</th>\n",
       "      <th>weight</th>\n",
       "    </tr>\n",
       "  </thead>\n",
       "  <tbody>\n",
       "    <tr>\n",
       "      <th>66</th>\n",
       "      <td>longblaster</td>\n",
       "      <td>-0.330433</td>\n",
       "    </tr>\n",
       "    <tr>\n",
       "      <th>63</th>\n",
       "      <td>hydra</td>\n",
       "      <td>-0.324099</td>\n",
       "    </tr>\n",
       "    <tr>\n",
       "      <th>71</th>\n",
       "      <td>momiji</td>\n",
       "      <td>-0.314735</td>\n",
       "    </tr>\n",
       "    <tr>\n",
       "      <th>13</th>\n",
       "      <td>liter3k</td>\n",
       "      <td>-0.294187</td>\n",
       "    </tr>\n",
       "    <tr>\n",
       "      <th>41</th>\n",
       "      <td>rapid_elite_deco</td>\n",
       "      <td>-0.262703</td>\n",
       "    </tr>\n",
       "  </tbody>\n",
       "</table>\n",
       "</div>"
      ],
      "text/plain": [
       "                buki    weight\n",
       "66       longblaster -0.330433\n",
       "63             hydra -0.324099\n",
       "71            momiji -0.314735\n",
       "13           liter3k -0.294187\n",
       "41  rapid_elite_deco -0.262703"
      ]
     },
     "execution_count": 47,
     "metadata": {},
     "output_type": "execute_result"
    }
   ],
   "source": [
    "# 弱いブキ\n",
    "buki_result_df.sort_values(by='weight').head()"
   ]
  },
  {
   "cell_type": "code",
   "execution_count": 48,
   "metadata": {
    "collapsed": false,
    "deletable": true,
    "editable": true
   },
   "outputs": [
    {
     "data": {
      "text/html": [
       "<div>\n",
       "<table border=\"1\" class=\"dataframe\">\n",
       "  <thead>\n",
       "    <tr style=\"text-align: right;\">\n",
       "      <th></th>\n",
       "      <th>buki</th>\n",
       "      <th>weight</th>\n",
       "    </tr>\n",
       "  </thead>\n",
       "  <tbody>\n",
       "    <tr>\n",
       "      <th>51</th>\n",
       "      <td>l3reelgun_d</td>\n",
       "      <td>0.243317</td>\n",
       "    </tr>\n",
       "    <tr>\n",
       "      <th>4</th>\n",
       "      <td>longblaster_custom</td>\n",
       "      <td>0.246030</td>\n",
       "    </tr>\n",
       "    <tr>\n",
       "      <th>1</th>\n",
       "      <td>96gal_deco</td>\n",
       "      <td>0.251428</td>\n",
       "    </tr>\n",
       "    <tr>\n",
       "      <th>26</th>\n",
       "      <td>splatspinner_collabo</td>\n",
       "      <td>0.318455</td>\n",
       "    </tr>\n",
       "    <tr>\n",
       "      <th>29</th>\n",
       "      <td>dynamo</td>\n",
       "      <td>0.396303</td>\n",
       "    </tr>\n",
       "  </tbody>\n",
       "</table>\n",
       "</div>"
      ],
      "text/plain": [
       "                    buki    weight\n",
       "51           l3reelgun_d  0.243317\n",
       "4     longblaster_custom  0.246030\n",
       "1             96gal_deco  0.251428\n",
       "26  splatspinner_collabo  0.318455\n",
       "29                dynamo  0.396303"
      ]
     },
     "execution_count": 48,
     "metadata": {},
     "output_type": "execute_result"
    }
   ],
   "source": [
    "# 強いブキ\n",
    "buki_result_df.sort_values(by='weight').tail()"
   ]
  },
  {
   "cell_type": "code",
   "execution_count": null,
   "metadata": {
    "collapsed": true,
    "deletable": true,
    "editable": true
   },
   "outputs": [],
   "source": []
  }
 ],
 "metadata": {
  "kernelspec": {
   "display_name": "Python 3",
   "language": "python",
   "name": "python3"
  },
  "language_info": {
   "codemirror_mode": {
    "name": "ipython",
    "version": 3
   },
   "file_extension": ".py",
   "mimetype": "text/x-python",
   "name": "python",
   "nbconvert_exporter": "python",
   "pygments_lexer": "ipython3",
   "version": "3.6.0"
  }
 },
 "nbformat": 4,
 "nbformat_minor": 0
}
